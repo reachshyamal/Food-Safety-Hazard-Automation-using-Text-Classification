{
 "cells": [
  {
   "cell_type": "code",
   "execution_count": 89,
   "metadata": {
    "collapsed": true
   },
   "outputs": [],
   "source": [
    "#importing python packages\n",
    "import matplotlib.pyplot as plt\n",
    "import os\n",
    "import nltk\n",
    "import string\n",
    "from nltk.tokenize import word_tokenize,sent_tokenize\n",
    "from nltk.tokenize import RegexpTokenizer\n",
    "import re\n",
    "import numpy as np\n",
    "import pandas as pd\n",
    "from sklearn.feature_extraction.text import TfidfVectorizer\n",
    "from sklearn.feature_extraction.text import CountVectorizer\n",
    "from nltk.stem.porter import PorterStemmer\n",
    "import seaborn as sn"
   ]
  },
  {
   "cell_type": "code",
   "execution_count": 2,
   "metadata": {
    "collapsed": true
   },
   "outputs": [],
   "source": [
    "#setting directory\n",
    "os.chdir('C:\\\\Users\\\\574977\\\\PycharmProjects\\\\pepsico\\\\RPA_work')"
   ]
  },
  {
   "cell_type": "code",
   "execution_count": 6,
   "metadata": {
    "collapsed": true
   },
   "outputs": [],
   "source": [
    "#basic preprocessing\n",
    "exclude = set(string.punctuation) \n",
    "wpt = nltk.WordPunctTokenizer()\n",
    "stop_words = nltk.corpus.stopwords.words('english')\n",
    "newStopWords = ['from']\n",
    "stop_words.extend(newStopWords)\n",
    "table = str.maketrans('', '', string.punctuation)\n",
    "\n",
    "porter = PorterStemmer()\n",
    "\n",
    "def normalize_document(doc):\n",
    "    # tokenize document\n",
    "    tokens = doc.split()\n",
    "    # remove punctuation from each word\n",
    "    tokens = [w.translate(table) for w in tokens]\n",
    "    # convert to lower case\n",
    "    lower_tokens = [w.lower() for w in tokens]\n",
    "    #remove spaces\n",
    "    stripped = [w.strip() for w in lower_tokens]\n",
    "    # remove remaining tokens that are not alphabetic\n",
    "    words = [word for word in stripped if word.isalpha()]\n",
    "    # filter stopwords out of document\n",
    "    filtered_tokens = [token for token in words if token not in stop_words]\n",
    "    # re-create document from filtered tokens\n",
    "    doc = ' '.join(filtered_tokens)\n",
    "    return doc\n",
    "\n",
    "normalize_corpus = np.vectorize(normalize_document)"
   ]
  },
  {
   "cell_type": "code",
   "execution_count": 17,
   "metadata": {
    "collapsed": true
   },
   "outputs": [],
   "source": [
    "#data\n",
    "fsha_data = pd.read_excel('FSHA - RPA.xlsx')"
   ]
  },
  {
   "cell_type": "code",
   "execution_count": 18,
   "metadata": {},
   "outputs": [
    {
     "data": {
      "text/html": [
       "<div>\n",
       "<style scoped>\n",
       "    .dataframe tbody tr th:only-of-type {\n",
       "        vertical-align: middle;\n",
       "    }\n",
       "\n",
       "    .dataframe tbody tr th {\n",
       "        vertical-align: top;\n",
       "    }\n",
       "\n",
       "    .dataframe thead th {\n",
       "        text-align: right;\n",
       "    }\n",
       "</style>\n",
       "<table border=\"1\" class=\"dataframe\">\n",
       "  <thead>\n",
       "    <tr style=\"text-align: right;\">\n",
       "      <th></th>\n",
       "      <th>File Name</th>\n",
       "      <th>projName</th>\n",
       "      <th>accolNumber</th>\n",
       "      <th>PDA_projName</th>\n",
       "      <th>projType</th>\n",
       "      <th>projDesc</th>\n",
       "      <th>formulaNumber</th>\n",
       "      <th>owner</th>\n",
       "      <th>sector</th>\n",
       "      <th>center</th>\n",
       "      <th>...</th>\n",
       "      <th>Row6_Nuts</th>\n",
       "      <th>Row6_Peanuts</th>\n",
       "      <th>Row6_Soya</th>\n",
       "      <th>Row6_Celery</th>\n",
       "      <th>Row6_Lupin</th>\n",
       "      <th>Row6_Molluscs</th>\n",
       "      <th>Row6_Mustard</th>\n",
       "      <th>Row6_Sesame Seeds</th>\n",
       "      <th>Row6_Sulphites</th>\n",
       "      <th>Allergens_to_be_labeled (concatenated value from the rows)</th>\n",
       "    </tr>\n",
       "  </thead>\n",
       "  <tbody>\n",
       "    <tr>\n",
       "      <th>0</th>\n",
       "      <td>#46565 FSHA 5.4.1Star Project G3 v2 + FS input...</td>\n",
       "      <td>S-T3-Star-• POL Star Puff (Chrupki) quality –POL</td>\n",
       "      <td>46565</td>\n",
       "      <td>1SKU Star Puffs Onion\\n2 SKU Star Puffs Cheese...</td>\n",
       "      <td>Brand Refresh</td>\n",
       "      <td>Star Puffs Cheese &amp; STar Hyper Cheese\\nSeasoni...</td>\n",
       "      <td>NaN</td>\n",
       "      <td>Weronika Baranowska</td>\n",
       "      <td>ESSA</td>\n",
       "      <td>Warsaw</td>\n",
       "      <td>...</td>\n",
       "      <td>NaN</td>\n",
       "      <td>NaN</td>\n",
       "      <td>NaN</td>\n",
       "      <td>NaN</td>\n",
       "      <td>NaN</td>\n",
       "      <td>NaN</td>\n",
       "      <td>NaN</td>\n",
       "      <td>NaN</td>\n",
       "      <td>NaN</td>\n",
       "      <td>NaN</td>\n",
       "    </tr>\n",
       "    <tr>\n",
       "      <th>1</th>\n",
       "      <td>36559-FSHA-in process (Phase 1 Indian pellet l...</td>\n",
       "      <td>Simba Shapes Next Gen</td>\n",
       "      <td>36559</td>\n",
       "      <td>Simba Shapes - Playz, Simba Shapes Twistz</td>\n",
       "      <td>Breakthrough - South Africa &amp; Nigeria</td>\n",
       "      <td>Purchase an existing Pellet spec used by Pepsi...</td>\n",
       "      <td>unknown</td>\n",
       "      <td>Dina Atoyan (+7(495)9370550 (*63402) )</td>\n",
       "      <td>ESSA</td>\n",
       "      <td>Beaumont Park / Johannesburg</td>\n",
       "      <td>...</td>\n",
       "      <td>NaN</td>\n",
       "      <td>NaN</td>\n",
       "      <td>NaN</td>\n",
       "      <td>NaN</td>\n",
       "      <td>NaN</td>\n",
       "      <td>NaN</td>\n",
       "      <td>NaN</td>\n",
       "      <td>NaN</td>\n",
       "      <td>NaN</td>\n",
       "      <td>NaN</td>\n",
       "    </tr>\n",
       "    <tr>\n",
       "      <th>2</th>\n",
       "      <td>36559-FSHA-in process (Phase 2 Next Gen Launch...</td>\n",
       "      <td>Simba Shapes Next Gen</td>\n",
       "      <td>36559</td>\n",
       "      <td>Simba Shapes - Playz</td>\n",
       "      <td>Breakthrough - South Africa &amp; Nigeria</td>\n",
       "      <td>Commission a new pellet line in Prospecton, So...</td>\n",
       "      <td>unknown</td>\n",
       "      <td>Dina Atoyan (+7(495)9370550 (*63402) )</td>\n",
       "      <td>ESSA</td>\n",
       "      <td>Beaumont Park / Johannesburg</td>\n",
       "      <td>...</td>\n",
       "      <td>NaN</td>\n",
       "      <td>NaN</td>\n",
       "      <td>NaN</td>\n",
       "      <td>NaN</td>\n",
       "      <td>NaN</td>\n",
       "      <td>NaN</td>\n",
       "      <td>NaN</td>\n",
       "      <td>NaN</td>\n",
       "      <td>NaN</td>\n",
       "      <td>NaN</td>\n",
       "    </tr>\n",
       "    <tr>\n",
       "      <th>3</th>\n",
       "      <td>36559-FSHA-in process (Phase 2 Next Gen Launch...</td>\n",
       "      <td>Simba Shapes Next Gen</td>\n",
       "      <td>36559</td>\n",
       "      <td>Simba Shapes Twistz</td>\n",
       "      <td>Breakthrough - South Africa &amp; Nigeria</td>\n",
       "      <td>Commission a new pellet line in Prospecton, So...</td>\n",
       "      <td>unknown</td>\n",
       "      <td>Dina Atoyan (+7(495)9370550 (*63402) )</td>\n",
       "      <td>ESSA</td>\n",
       "      <td>Beaumont Park / Johannesburg</td>\n",
       "      <td>...</td>\n",
       "      <td>NaN</td>\n",
       "      <td>NaN</td>\n",
       "      <td>NaN</td>\n",
       "      <td>NaN</td>\n",
       "      <td>NaN</td>\n",
       "      <td>NaN</td>\n",
       "      <td>NaN</td>\n",
       "      <td>NaN</td>\n",
       "      <td>NaN</td>\n",
       "      <td>NaN</td>\n",
       "    </tr>\n",
       "    <tr>\n",
       "      <th>4</th>\n",
       "      <td>Accolade Blend Flex project FSHA 5.4.1 + FS in...</td>\n",
       "      <td>Oil BlendFlex - HOSO</td>\n",
       "      <td>#44720</td>\n",
       "      <td>Lays and Simba Ruffles</td>\n",
       "      <td>Business continuation &amp;/or Productivity</td>\n",
       "      <td>Validate a new oil blend for Lays and Simba to...</td>\n",
       "      <td>Lays and Simba Ruffles</td>\n",
       "      <td>Lizel Laubscher</td>\n",
       "      <td>ESSA</td>\n",
       "      <td>SSA</td>\n",
       "      <td>...</td>\n",
       "      <td>NaN</td>\n",
       "      <td>NaN</td>\n",
       "      <td>NaN</td>\n",
       "      <td>NaN</td>\n",
       "      <td>NaN</td>\n",
       "      <td>NaN</td>\n",
       "      <td>NaN</td>\n",
       "      <td>NaN</td>\n",
       "      <td>NaN</td>\n",
       "      <td>NaN</td>\n",
       "    </tr>\n",
       "  </tbody>\n",
       "</table>\n",
       "<p>5 rows × 130 columns</p>\n",
       "</div>"
      ],
      "text/plain": [
       "                                           File Name  \\\n",
       "0  #46565 FSHA 5.4.1Star Project G3 v2 + FS input...   \n",
       "1  36559-FSHA-in process (Phase 1 Indian pellet l...   \n",
       "2  36559-FSHA-in process (Phase 2 Next Gen Launch...   \n",
       "3  36559-FSHA-in process (Phase 2 Next Gen Launch...   \n",
       "4  Accolade Blend Flex project FSHA 5.4.1 + FS in...   \n",
       "\n",
       "                                            projName accolNumber  \\\n",
       "0  S-T3-Star-• POL Star Puff (Chrupki) quality –POL        46565   \n",
       "1                              Simba Shapes Next Gen       36559   \n",
       "2                              Simba Shapes Next Gen       36559   \n",
       "3                              Simba Shapes Next Gen       36559   \n",
       "4                               Oil BlendFlex - HOSO      #44720   \n",
       "\n",
       "                                        PDA_projName  \\\n",
       "0  1SKU Star Puffs Onion\\n2 SKU Star Puffs Cheese...   \n",
       "1          Simba Shapes - Playz, Simba Shapes Twistz   \n",
       "2                               Simba Shapes - Playz   \n",
       "3                                Simba Shapes Twistz   \n",
       "4                             Lays and Simba Ruffles   \n",
       "\n",
       "                                  projType  \\\n",
       "0                            Brand Refresh   \n",
       "1    Breakthrough - South Africa & Nigeria   \n",
       "2    Breakthrough - South Africa & Nigeria   \n",
       "3    Breakthrough - South Africa & Nigeria   \n",
       "4  Business continuation &/or Productivity   \n",
       "\n",
       "                                            projDesc           formulaNumber  \\\n",
       "0  Star Puffs Cheese & STar Hyper Cheese\\nSeasoni...                     NaN   \n",
       "1  Purchase an existing Pellet spec used by Pepsi...                 unknown   \n",
       "2  Commission a new pellet line in Prospecton, So...                 unknown   \n",
       "3  Commission a new pellet line in Prospecton, So...                 unknown   \n",
       "4  Validate a new oil blend for Lays and Simba to...  Lays and Simba Ruffles   \n",
       "\n",
       "                                    owner sector  \\\n",
       "0                     Weronika Baranowska   ESSA   \n",
       "1  Dina Atoyan (+7(495)9370550 (*63402) )   ESSA   \n",
       "2  Dina Atoyan (+7(495)9370550 (*63402) )   ESSA   \n",
       "3  Dina Atoyan (+7(495)9370550 (*63402) )   ESSA   \n",
       "4                         Lizel Laubscher   ESSA   \n",
       "\n",
       "                         center  \\\n",
       "0                        Warsaw   \n",
       "1  Beaumont Park / Johannesburg   \n",
       "2  Beaumont Park / Johannesburg   \n",
       "3  Beaumont Park / Johannesburg   \n",
       "4                           SSA   \n",
       "\n",
       "                             ...                             Row6_Nuts  \\\n",
       "0                            ...                                   NaN   \n",
       "1                            ...                                   NaN   \n",
       "2                            ...                                   NaN   \n",
       "3                            ...                                   NaN   \n",
       "4                            ...                                   NaN   \n",
       "\n",
       "  Row6_Peanuts Row6_Soya Row6_Celery Row6_Lupin Row6_Molluscs Row6_Mustard  \\\n",
       "0          NaN       NaN         NaN        NaN           NaN          NaN   \n",
       "1          NaN       NaN         NaN        NaN           NaN          NaN   \n",
       "2          NaN       NaN         NaN        NaN           NaN          NaN   \n",
       "3          NaN       NaN         NaN        NaN           NaN          NaN   \n",
       "4          NaN       NaN         NaN        NaN           NaN          NaN   \n",
       "\n",
       "  Row6_Sesame Seeds Row6_Sulphites  \\\n",
       "0               NaN            NaN   \n",
       "1               NaN            NaN   \n",
       "2               NaN            NaN   \n",
       "3               NaN            NaN   \n",
       "4               NaN            NaN   \n",
       "\n",
       "  Allergens_to_be_labeled (concatenated value from the rows)  \n",
       "0                                                NaN          \n",
       "1                                                NaN          \n",
       "2                                                NaN          \n",
       "3                                                NaN          \n",
       "4                                                NaN          \n",
       "\n",
       "[5 rows x 130 columns]"
      ]
     },
     "execution_count": 18,
     "metadata": {},
     "output_type": "execute_result"
    }
   ],
   "source": [
    "fsha_data.head()"
   ]
  },
  {
   "cell_type": "code",
   "execution_count": 19,
   "metadata": {},
   "outputs": [
    {
     "data": {
      "text/plain": [
       "array(['File Name', ' projName', 'accolNumber', 'PDA_projName',\n",
       "       'projType', 'projDesc', 'formulaNumber', 'owner', 'sector',\n",
       "       'center', 'Current TSG Stage', 'FSAssessors', 'FSDate', 'WHTD',\n",
       "       'manufacSite', 'PlantTrial', 'packMaterial', 'CPD-ProdName',\n",
       "       'CPD-ProdName-Desc', 'procPlat', 'intrinsicProd', 'preservatives',\n",
       "       'pH', 'waterActivity', 'packaging', 'otherFSA', 'allergens',\n",
       "       'prodStorageDist', 'shelfLife', 'TCG', 'foodSafetyProdClaims',\n",
       "       'cookedOrHeated', 'specificStorage', 'labelingInstructions ',\n",
       "       'mishandled', 'targetMarket', 'fastTrack', 'baseProduct',\n",
       "       'prodModifications', 'newIngredient', 'approvedPackage',\n",
       "       'potentialMicrobial', 'crossContactAllergens', 'chokeHazard',\n",
       "       'operationalAllergen', 'Row1_Gluten', 'Row1_Crustaceans',\n",
       "       'Row1_Eggs', 'Row1_Fish', 'Row1_Milk', 'Row1_Nuts', 'Row1_Peanuts',\n",
       "       'Row1_Soya', 'Row1_Celery', 'Row1_Lupin', 'Row1_Molluscs',\n",
       "       'Row1_Mustard', 'Row1_Sesame Seeds', 'Row1_Sulphites',\n",
       "       'Row2_Gluten', 'Row2_Crustaceans', 'Row2_Eggs', 'Row2_Fish',\n",
       "       'Row2_Milk', 'Row2_Nuts', 'Row2_Peanuts', 'Row2_Soya',\n",
       "       'Row2_Celery', 'Row2_Lupin', 'Row2_Molluscs', 'Row2_Mustard',\n",
       "       'Row2_Sesame Seeds', 'Row2_Sulphites', 'Row3_Gluten',\n",
       "       'Row3_Crustaceans', 'Row3_Eggs', 'Row3_Fish', 'Row3_Milk',\n",
       "       'Row3_Nuts', 'Row3_Peanuts', 'Row3_Soya', 'Row3_Celery',\n",
       "       'Row3_Lupin', 'Row3_Molluscs', 'Row3_Mustard', 'Row3_Sesame Seeds',\n",
       "       'Row3_Sulphites', 'Row4_Gluten', 'Row4_Crustaceans', 'Row4_Eggs',\n",
       "       'Row4_Fish', 'Row4_Milk', 'Row4_Nuts', 'Row4_Peanuts', 'Row4_Soya',\n",
       "       'Row4_Celery', 'Row4_Lupin', 'Row4_Molluscs', 'Row4_Mustard',\n",
       "       'Row4_Sesame Seeds', 'Row4_Sulphites', 'Row5_Gluten',\n",
       "       'Row5_Crustaceans', 'Row5_Eggs', 'Row5_Fish', 'Row5_Milk',\n",
       "       'Row5_Nuts', 'Row5_Peanuts', 'Row5_Soya', 'Row5_Celery',\n",
       "       'Row5_Lupin', 'Row5_Molluscs', 'Row5_Mustard', 'Row5_Sesame Seeds',\n",
       "       'Row5_Sulphites', 'Row6_Gluten', 'Row6_Crustaceans', 'Row6_Eggs',\n",
       "       'Row6_Fish', 'Row6_Milk', 'Row6_Nuts', 'Row6_Peanuts', 'Row6_Soya',\n",
       "       'Row6_Celery', 'Row6_Lupin', 'Row6_Molluscs', 'Row6_Mustard',\n",
       "       'Row6_Sesame Seeds', 'Row6_Sulphites',\n",
       "       'Allergens_to_be_labeled (concatenated value from the rows)'],\n",
       "      dtype=object)"
      ]
     },
     "execution_count": 19,
     "metadata": {},
     "output_type": "execute_result"
    }
   ],
   "source": [
    "fsha_data.columns.values"
   ]
  },
  {
   "cell_type": "code",
   "execution_count": 20,
   "metadata": {},
   "outputs": [
    {
     "data": {
      "text/plain": [
       "0     Allergens in seasonings:\\nCQ69 Vegetable Blend...\n",
       "1     Inherent:\\nCheddar Playz: Cereals containing G...\n",
       "2     Pellets Inherent:\\nCereals containing Gluten -...\n",
       "3     Pellets Inherent:\\nCereals containing Gluten -...\n",
       "4     Standard allergen management for Seasoning. Th...\n",
       "5     Inherent\\n\\nParmesan Cheese & Roasted Garlic B...\n",
       "6     Inherent - Wheat, Gluten, Sulphites, Soya, Mil...\n",
       "7     All current suppliers to PepsiCo have cross co...\n",
       "8     One of below seasonings will be chosen, allerg...\n",
       "9     Base allergens: None\\nTop seasoning: Milk\\n\\nC...\n",
       "10    Base allergens: None\\nTop seasoning: Milk, Glu...\n",
       "11                                         Wheat Gluten\n",
       "12                                   milk, Soya, Barley\n",
       "Name: allergens, dtype: object"
      ]
     },
     "execution_count": 20,
     "metadata": {},
     "output_type": "execute_result"
    }
   ],
   "source": [
    "fsha_data['allergens']"
   ]
  },
  {
   "cell_type": "code",
   "execution_count": 23,
   "metadata": {},
   "outputs": [
    {
     "data": {
      "text/plain": [
       "0     0\n",
       "1     0\n",
       "2     0\n",
       "3     0\n",
       "4     0\n",
       "5     0\n",
       "6     0\n",
       "7     1\n",
       "8     0\n",
       "9     1\n",
       "10    0\n",
       "11    0\n",
       "12    0\n",
       "Name: potentialMicrobial, dtype: int64"
      ]
     },
     "execution_count": 23,
     "metadata": {},
     "output_type": "execute_result"
    }
   ],
   "source": [
    "#yes /no tag\n",
    "fsha_data['potentialMicrobial']=fsha_data['potentialMicrobial'].apply(lambda x:1 if x == 'Yes' else 0)        \n",
    "fsha_data['potentialMicrobial']"
   ]
  },
  {
   "cell_type": "code",
   "execution_count": 28,
   "metadata": {},
   "outputs": [
    {
     "data": {
      "text/plain": [
       "'allergens seasonings vegetable blend mccormick milk lactose cheese symrise milk lactose product may contain peanut existing allergens manufacturing plant celery cereals containing gluten wheat barley oats milk mustard peanuts soya existing allergens production line celery cereals containing gluten wheat barley milk mustard peanuts soya'"
      ]
     },
     "execution_count": 28,
     "metadata": {},
     "output_type": "execute_result"
    }
   ],
   "source": [
    "norm_allergens = normalize_corpus(fsha_data['allergens'])\n",
    "norm_allergens[0]"
   ]
  },
  {
   "cell_type": "code",
   "execution_count": 52,
   "metadata": {
    "collapsed": true
   },
   "outputs": [],
   "source": [
    "df=pd.DataFrame(columns=['Allergy','potentialMicrobial'])\n",
    "df['Allergy']=norm_allergens\n",
    "df['potentialMicrobial']=fsha_data['potentialMicrobial']\n",
    "#df=df([norm_allergens,fsha_data['potentialMicrobial']])"
   ]
  },
  {
   "cell_type": "code",
   "execution_count": 58,
   "metadata": {},
   "outputs": [
    {
     "data": {
      "text/html": [
       "<div>\n",
       "<style scoped>\n",
       "    .dataframe tbody tr th:only-of-type {\n",
       "        vertical-align: middle;\n",
       "    }\n",
       "\n",
       "    .dataframe tbody tr th {\n",
       "        vertical-align: top;\n",
       "    }\n",
       "\n",
       "    .dataframe thead th {\n",
       "        text-align: right;\n",
       "    }\n",
       "</style>\n",
       "<table border=\"1\" class=\"dataframe\">\n",
       "  <thead>\n",
       "    <tr style=\"text-align: right;\">\n",
       "      <th></th>\n",
       "      <th>Allergy</th>\n",
       "      <th>potentialMicrobial</th>\n",
       "    </tr>\n",
       "  </thead>\n",
       "  <tbody>\n",
       "    <tr>\n",
       "      <th>7</th>\n",
       "      <td>current suppliers pepsico cross contaminated m...</td>\n",
       "      <td>1</td>\n",
       "    </tr>\n",
       "    <tr>\n",
       "      <th>9</th>\n",
       "      <td>base allergens none top seasoning milk crossco...</td>\n",
       "      <td>1</td>\n",
       "    </tr>\n",
       "  </tbody>\n",
       "</table>\n",
       "</div>"
      ],
      "text/plain": [
       "                                             Allergy  potentialMicrobial\n",
       "7  current suppliers pepsico cross contaminated m...                   1\n",
       "9  base allergens none top seasoning milk crossco...                   1"
      ]
     },
     "execution_count": 58,
     "metadata": {},
     "output_type": "execute_result"
    }
   ],
   "source": [
    "df[df.potentialMicrobial==1]"
   ]
  },
  {
   "cell_type": "code",
   "execution_count": 144,
   "metadata": {},
   "outputs": [
    {
     "name": "stdout",
     "output_type": "stream",
     "text": [
      "['aligned', 'changed', 'contaminated', 'cross', 'crosscontact', 'current', 'ensure', 'film', 'future', 'gluten', 'grits', 'lead', 'maize', 'milk', 'none', 'peanuts', 'pepsico', 'products', 'project', 'regulatory', 'ruth', 'seasoning', 'soya', 'suadiye', 'suppliers', 'tarsus', 'top', 'trial', 'using', 'warning']\n"
     ]
    }
   ],
   "source": [
    "#considering count vectorizer for potentialMicrobial==1\n",
    "vectorizer_1 = CountVectorizer(max_features=30)\n",
    "X = vectorizer_1.fit_transform(df[df.potentialMicrobial==1].Allergy)\n",
    "A=vectorizer_1.get_feature_names()\n",
    "print(A)"
   ]
  },
  {
   "cell_type": "code",
   "execution_count": 142,
   "metadata": {},
   "outputs": [
    {
     "name": "stdout",
     "output_type": "stream",
     "text": [
      "['allergens', 'barley', 'bbq', 'celery', 'cereals', 'cheese', 'contact', 'contain', 'containing', 'cross', 'crosscontact', 'existing', 'fusions', 'gluten', 'inherent', 'lactose', 'line', 'may', 'milk', 'mustard', 'none', 'peanut', 'peanuts', 'plant', 'playz', 'soya', 'sulphites', 'tomato', 'twistz', 'wheat']\n"
     ]
    }
   ],
   "source": [
    "#considering count vectorizer for potentialMicrobial==1\n",
    "vectorizer_0 = CountVectorizer(max_features=30)\n",
    "Y = vectorizer_0.fit_transform(df[df.potentialMicrobial==0].Allergy)\n",
    "B=vectorizer_0.get_feature_names()\n",
    "print(B)"
   ]
  },
  {
   "cell_type": "code",
   "execution_count": 143,
   "metadata": {},
   "outputs": [
    {
     "data": {
      "text/plain": [
       "['crosscontact', 'milk', 'peanuts', 'cross', 'none', 'soya', 'gluten']"
      ]
     },
     "execution_count": 143,
     "metadata": {},
     "output_type": "execute_result"
    }
   ],
   "source": [
    "#intersection\n",
    "list(set(A) & set(B))"
   ]
  },
  {
   "cell_type": "code",
   "execution_count": 146,
   "metadata": {},
   "outputs": [
    {
     "data": {
      "image/png": "[encoded data removed]",
      "text/plain": [
       "<Figure size 432x288 with 1 Axes>"
      ]
     },
     "metadata": {},
     "output_type": "display_data"
    }
   ],
   "source": [
    "#venn diagram plot\n",
    "from matplotlib import pyplot as plt\n",
    "import numpy as np\n",
    "from matplotlib_venn import venn2, venn2_circles\n",
    "set1 = set(A)\n",
    "set2 = set(B)\n",
    "venn2([set1, set2], ('Allergen_1', 'Allergen_0'))\n",
    "plt.title(\"Sample Venn diagram\")\n",
    "plt.show()"
   ]
  }
 ],
 "metadata": {
  "kernelspec": {
   "display_name": "Python 3",
   "language": "python",
   "name": "python3"
  },
  "language_info": {
   "codemirror_mode": {
    "name": "ipython",
    "version": 3
   },
   "file_extension": ".py",
   "mimetype": "text/x-python",
   "name": "python",
   "nbconvert_exporter": "python",
   "pygments_lexer": "ipython3",
   "version": "3.6.2"
  }
 },
 "nbformat": 4,
 "nbformat_minor": 2
}
