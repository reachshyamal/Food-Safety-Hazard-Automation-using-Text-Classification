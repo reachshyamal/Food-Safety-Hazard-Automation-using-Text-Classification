{
 "cells": [
  {
   "cell_type": "markdown",
   "metadata": {},
   "source": [
    "# This notebook reads text data from data extract created from FSHA Forms and runs predictive Models to predict the value 'Are there any inherent or cross contact allergens or intolerants?' , based on the Input Data\n",
    "# It does vectorization of each Column and concatenates these Vectors to create a final Feature Vector and fits multiple ML Models, including Deep Learning model"
   ]
  },
  {
   "cell_type": "code",
   "execution_count": 1,
   "metadata": {},
   "outputs": [
    {
     "name": "stderr",
     "output_type": "stream",
     "text": [
      "C:\\ProgramData\\Anaconda3\\lib\\site-packages\\sklearn\\ensemble\\weight_boosting.py:29: DeprecationWarning: numpy.core.umath_tests is an internal NumPy module and should not be imported. It will be removed in a future NumPy release.\n",
      "  from numpy.core.umath_tests import inner1d\n",
      "C:\\ProgramData\\Anaconda3\\lib\\site-packages\\h5py\\__init__.py:34: FutureWarning: Conversion of the second argument of issubdtype from `float` to `np.floating` is deprecated. In future, it will be treated as `np.float64 == np.dtype(float).type`.\n",
      "  from ._conv import register_converters as _register_converters\n"
     ]
    }
   ],
   "source": [
    "#import all necessary modules\n",
    "from __future__ import print_function\n",
    "import logging\n",
    "from optparse import OptionParser\n",
    "import sys\n",
    "from time import time\n",
    "import matplotlib.pyplot as plt\n",
    "import os\n",
    "import nltk\n",
    "import string\n",
    "from nltk.stem.porter import PorterStemmer\n",
    "from nltk.tokenize import word_tokenize,sent_tokenize\n",
    "from nltk.tokenize import RegexpTokenizer\n",
    "import re\n",
    "import numpy as np\n",
    "from numpy import array\n",
    "from numpy import argmax\n",
    "from scipy import signal\n",
    "import random\n",
    "import string\n",
    "import pandas as pd\n",
    "from sklearn.model_selection import train_test_split \n",
    "from sklearn.pipeline import Pipeline\n",
    "from sklearn.feature_extraction.text import TfidfVectorizer\n",
    "from sklearn.feature_selection import SelectKBest, chi2\n",
    "from sklearn.preprocessing import LabelEncoder\n",
    "from sklearn.preprocessing import OneHotEncoder\n",
    "from sklearn.feature_selection import f_classif\n",
    "import matplotlib.pyplot as plt\n",
    "from sklearn.pipeline import Pipeline\n",
    "from sklearn.feature_extraction.text import CountVectorizer\n",
    "from sklearn.preprocessing import StandardScaler\n",
    "from sklearn.metrics import classification_report, confusion_matrix  \n",
    "from sklearn.linear_model import LogisticRegression\n",
    "from sklearn.linear_model import PassiveAggressiveClassifier\n",
    "from sklearn.svm import SVC \n",
    "from sklearn import svm\n",
    "from sklearn.svm import LinearSVC\n",
    "from sklearn.naive_bayes import MultinomialNB,BernoulliNB\n",
    "from sklearn.neighbors import KNeighborsClassifier\n",
    "from sklearn.neighbors import NearestCentroid\n",
    "from sklearn.linear_model import RidgeClassifier\n",
    "from sklearn.linear_model import SGDClassifier\n",
    "from sklearn import tree\n",
    "from sklearn.ensemble import RandomForestClassifier\n",
    "from sklearn import linear_model\n",
    "from sklearn.ensemble import AdaBoostClassifier\n",
    "from sklearn.linear_model import Perceptron\n",
    "from sklearn.neural_network import MLPClassifier\n",
    "from sklearn.utils.extmath import density\n",
    "from sklearn.decomposition import PCA\n",
    "from sklearn import metrics\n",
    "import tensorflow as tf\n",
    "from tensorflow.python.keras import models\n",
    "from tensorflow.python.keras import initializers\n",
    "from tensorflow.python.keras import regularizers\n",
    "from tensorflow.python.keras.layers import Dense\n",
    "from tensorflow.python.keras.layers import Dropout\n",
    "import warnings\n",
    "warnings.simplefilter('ignore')"
   ]
  },
  {
   "cell_type": "code",
   "execution_count": 51,
   "metadata": {},
   "outputs": [
    {
     "data": {
      "text/plain": [
       "'1.14.0'"
      ]
     },
     "execution_count": 51,
     "metadata": {},
     "output_type": "execute_result"
    }
   ],
   "source": [
    "tf.__version__"
   ]
  },
  {
   "cell_type": "code",
   "execution_count": 2,
   "metadata": {},
   "outputs": [
    {
     "name": "stdout",
     "output_type": "stream",
     "text": [
      "0.19.0\n"
     ]
    }
   ],
   "source": [
    "import sklearn\n",
    "print(sklearn.__version__)"
   ]
  },
  {
   "cell_type": "markdown",
   "metadata": {},
   "source": [
    "## File name and other important parameters like ngram_range set"
   ]
  },
  {
   "cell_type": "code",
   "execution_count": 107,
   "metadata": {
    "collapsed": true
   },
   "outputs": [],
   "source": [
    "#These parameters will be input from command line\n",
    "ngram_range_inp=(1,2)\n",
    "filename = \"C:/Pepsico/FSHA RPA - 23 July 2019.xlsm\""
   ]
  },
  {
   "cell_type": "code",
   "execution_count": 108,
   "metadata": {
    "collapsed": true
   },
   "outputs": [],
   "source": [
    "filename1 = \"C:/Pepsico/MLextracts_allergen 08 26.xlsm\""
   ]
  },
  {
   "cell_type": "markdown",
   "metadata": {},
   "source": [
    "# Define reusable modular method for Text Normalization (removal of stopwords, changing to lower case, removal of punctuation etc) "
   ]
  },
  {
   "cell_type": "code",
   "execution_count": 5,
   "metadata": {
    "collapsed": true
   },
   "outputs": [],
   "source": [
    "exclude = set(string.punctuation) \n",
    "wpt = nltk.WordPunctTokenizer()\n",
    "stop_words = nltk.corpus.stopwords.words('english')\n",
    "newStopWords = ['from','dtype','object']\n",
    "stop_words.extend(newStopWords)\n",
    "table = str.maketrans('', '', string.punctuation)\n",
    "\n",
    "porter = PorterStemmer()\n",
    "\n",
    "def normalize_document(doc):\n",
    "    # tokenize document\n",
    "    tokens = doc.split()\n",
    "    # remove punctuation from each word\n",
    "    tokens = [w.translate(table) for w in tokens]\n",
    "    # convert to lower case\n",
    "    lower_tokens = [w.lower() for w in tokens]\n",
    "    #remove spaces\n",
    "    stripped = [w.strip() for w in lower_tokens]\n",
    "    # remove remaining tokens that are not alphabetic\n",
    "    words = [word for word in stripped if word.isalpha()]\n",
    "    # filter stopwords out of document\n",
    "    filtered_tokens = [token for token in words if token not in stop_words]\n",
    "    # re-create document from filtered tokens\n",
    "    doc = ' '.join(filtered_tokens)\n",
    "    return doc\n",
    "\n",
    "#normalize_corpus = np.vectorize(normalize_document)"
   ]
  },
  {
   "cell_type": "code",
   "execution_count": 6,
   "metadata": {
    "collapsed": true
   },
   "outputs": [],
   "source": [
    "import pandas as pd\n",
    "import numpy as np\n",
    "import nltk\n",
    "from nltk.tokenize.toktok import ToktokTokenizer\n",
    "import re\n",
    "from bs4 import BeautifulSoup\n",
    "import unicodedata\n",
    "\n",
    "tokenizer = ToktokTokenizer()\n",
    "stopword_list = nltk.corpus.stopwords.words('english')\n",
    "stopword_list.remove('no')\n",
    "stopword_list.remove('not')\n",
    "def strip_html_tags(text):\n",
    "    soup = BeautifulSoup(text, \"html.parser\")\n",
    "    stripped_text = soup.get_text()\n",
    "    return stripped_text\n",
    "def remove_accented_chars(text):\n",
    "    text = unicodedata.normalize('NFKD', text).encode('ascii', 'ignore').decode('utf-8', 'ignore')\n",
    "    return text\n",
    "\n",
    "def remove_special_characters(text):\n",
    "    text = re.sub('[^a-zA-z0-9\\s]', '', text)\n",
    "    return text\n",
    "\n",
    "def remove_stopwords(text, is_lower_case=False):\n",
    "    tokens = tokenizer.tokenize(text)\n",
    "    tokens = [token.strip() for token in tokens]\n",
    "    if is_lower_case:\n",
    "        filtered_tokens = [token for token in tokens if token not in stopword_list]\n",
    "    else:\n",
    "        filtered_tokens = [token for token in tokens if token.lower() not in stopword_list]\n",
    "    filtered_text = ' '.join(filtered_tokens)    \n",
    "    return filtered_text\n",
    "def normalize_corpus(corpus, html_stripping=True, contraction_expansion=True,\n",
    "                     accented_char_removal=True, text_lower_case=True, \n",
    "                     text_lemmatization=True, special_char_removal=True, \n",
    "                     stopword_removal=True):\n",
    "    \n",
    "    normalized_corpus = []\n",
    "    # normalize each document in the corpus\n",
    "    #corpus = str(corpus)\n",
    "    for doc in corpus:\n",
    "        # strip HTML\n",
    "        if html_stripping:\n",
    "            doc = strip_html_tags(doc)\n",
    "        # remove accented characters\n",
    "        if accented_char_removal:\n",
    "            doc = remove_accented_chars(doc)\n",
    "\n",
    "        # lowercase the text    \n",
    "        if text_lower_case:\n",
    "            doc = doc.lower()\n",
    "        # remove extra newlines\n",
    "        doc = re.sub(r'[\\r|\\n|\\r\\n]+', ' ',doc)\n",
    "        # insert spaces between special characters to isolate them    \n",
    "        special_char_pattern = re.compile(r'([{.(-)!}])')\n",
    "        doc = special_char_pattern.sub(\" \\\\1 \", doc)\n",
    "        # remove special characters    \n",
    "        if special_char_removal:\n",
    "            doc = remove_special_characters(doc)  \n",
    "        # remove extra whitespace\n",
    "        doc = re.sub(' +', ' ', doc)\n",
    "        # remove stopwords\n",
    "        if stopword_removal:\n",
    "            doc = remove_stopwords(doc, is_lower_case=text_lower_case)\n",
    "            \n",
    "        normalized_corpus.append(doc)\n",
    "        \n",
    "    return normalized_corpus"
   ]
  },
  {
   "cell_type": "code",
   "execution_count": 7,
   "metadata": {
    "collapsed": true
   },
   "outputs": [],
   "source": [
    "def clean_doc(corpus):\n",
    "    normalized_corpus = []\n",
    "    # normalize each document in the corpus\n",
    "    #corpus = str(corpus)\n",
    "    for doc in corpus:\n",
    "\t# split into tokens by white space\n",
    "        doc=str(doc)\n",
    "        doc = doc.replace('\\n',' ')\n",
    "        tokens = doc.split()\n",
    "        # prepare regex for char filtering\n",
    "        re_punc = re.compile('[%s]' % re.escape(string.punctuation))\n",
    "        # remove punctuation from each word\n",
    "        tokens = [re_punc.sub('', w) for w in tokens]\n",
    "        # remove remaining tokens that are not alphabetic\n",
    "        tokens = [word for word in tokens if word.isalpha()]\n",
    "        # filter out stop words\n",
    "        tokens = [w for w in tokens if not w in stop_words]\n",
    "        # filter out short tokens\n",
    "        tokens = [word for word in tokens if len(word) > 1]\n",
    "        # remove nn from each word\n",
    "        tokens = [re.sub('nn',' ',word) for word in tokens]\n",
    "        tokens = ' '.join(tokens)\n",
    "        normalized_corpus.append(tokens)\n",
    "    return normalized_corpus"
   ]
  },
  {
   "cell_type": "markdown",
   "metadata": {},
   "source": [
    "# Read the data extract file (tabular format with Input data(X) and target(Y))"
   ]
  },
  {
   "cell_type": "code",
   "execution_count": 109,
   "metadata": {
    "collapsed": true
   },
   "outputs": [],
   "source": [
    "fsha_data = pd.read_excel(filename)"
   ]
  },
  {
   "cell_type": "code",
   "execution_count": 110,
   "metadata": {},
   "outputs": [
    {
     "data": {
      "text/plain": [
       "167"
      ]
     },
     "execution_count": 110,
     "metadata": {},
     "output_type": "execute_result"
    }
   ],
   "source": [
    "len(fsha_data)"
   ]
  },
  {
   "cell_type": "code",
   "execution_count": 111,
   "metadata": {
    "collapsed": true
   },
   "outputs": [],
   "source": [
    "fsha_data = fsha_data[(fsha_data['crossContactAllergens']=='Yes')]"
   ]
  },
  {
   "cell_type": "code",
   "execution_count": 112,
   "metadata": {},
   "outputs": [
    {
     "data": {
      "text/plain": [
       "161"
      ]
     },
     "execution_count": 112,
     "metadata": {},
     "output_type": "execute_result"
    }
   ],
   "source": [
    "len(fsha_data)"
   ]
  },
  {
   "cell_type": "code",
   "execution_count": 113,
   "metadata": {},
   "outputs": [],
   "source": [
    "fsha_data_no = pd.read_excel(filename1)"
   ]
  },
  {
   "cell_type": "code",
   "execution_count": 114,
   "metadata": {},
   "outputs": [
    {
     "data": {
      "text/plain": [
       "25"
      ]
     },
     "execution_count": 114,
     "metadata": {},
     "output_type": "execute_result"
    }
   ],
   "source": [
    "len(fsha_data_no)"
   ]
  },
  {
   "cell_type": "code",
   "execution_count": 115,
   "metadata": {
    "collapsed": true
   },
   "outputs": [],
   "source": [
    "fsha_data = pd.concat([fsha_data,fsha_data_no])"
   ]
  },
  {
   "cell_type": "code",
   "execution_count": 116,
   "metadata": {},
   "outputs": [
    {
     "data": {
      "text/plain": [
       "186"
      ]
     },
     "execution_count": 116,
     "metadata": {},
     "output_type": "execute_result"
    }
   ],
   "source": [
    "len(fsha_data)"
   ]
  },
  {
   "cell_type": "code",
   "execution_count": 117,
   "metadata": {},
   "outputs": [
    {
     "data": {
      "text/html": [
       "<div>\n",
       "<style>\n",
       "    .dataframe thead tr:only-child th {\n",
       "        text-align: right;\n",
       "    }\n",
       "\n",
       "    .dataframe thead th {\n",
       "        text-align: left;\n",
       "    }\n",
       "\n",
       "    .dataframe tbody tr th {\n",
       "        vertical-align: top;\n",
       "    }\n",
       "</style>\n",
       "<table border=\"1\" class=\"dataframe\">\n",
       "  <thead>\n",
       "    <tr style=\"text-align: right;\">\n",
       "      <th></th>\n",
       "      <th>CPD-ProdName</th>\n",
       "      <th>CPD-ProdName-Desc</th>\n",
       "      <th>Current TSG Stage</th>\n",
       "      <th>FSAssessors</th>\n",
       "      <th>FSDate</th>\n",
       "      <th>File Name</th>\n",
       "      <th>PDA_projName</th>\n",
       "      <th>PlantTrial</th>\n",
       "      <th>TCG</th>\n",
       "      <th>Table1_Row1_Celery</th>\n",
       "      <th>...</th>\n",
       "      <th>prodModifications</th>\n",
       "      <th>prodStorageDist</th>\n",
       "      <th>projDesc</th>\n",
       "      <th>projName</th>\n",
       "      <th>projType</th>\n",
       "      <th>sector</th>\n",
       "      <th>shelfLife</th>\n",
       "      <th>specificStorage</th>\n",
       "      <th>targetMarket</th>\n",
       "      <th>waterActivity</th>\n",
       "    </tr>\n",
       "  </thead>\n",
       "  <tbody>\n",
       "    <tr>\n",
       "      <th>0</th>\n",
       "      <td>1SKU Star Puffs Onion\\n2 SKU Star Puffs Cheese...</td>\n",
       "      <td>Extruded and baked corn base product, flavoure...</td>\n",
       "      <td>G3</td>\n",
       "      <td>Helen Booden</td>\n",
       "      <td>21/11/2017</td>\n",
       "      <td>#46565 FSHA 5.4.1Star Project G3 v2 + FS input...</td>\n",
       "      <td>1SKU Star Puffs Onion\\n2 SKU Star Puffs Cheese...</td>\n",
       "      <td>Tomaszow plant, trial conducted on 02/11/2017</td>\n",
       "      <td>Families and Adults, value conscious consumers</td>\n",
       "      <td>0</td>\n",
       "      <td>...</td>\n",
       "      <td>No</td>\n",
       "      <td>Store in a dry, cool and away from sun place.</td>\n",
       "      <td>Star Puffs Cheese &amp; STar Hyper Cheese\\nSeasoni...</td>\n",
       "      <td>S-T3-Star-• POL Star Puff (Chrupki) quality –POL</td>\n",
       "      <td>Brand Refresh</td>\n",
       "      <td>ESSA</td>\n",
       "      <td>26 weeks</td>\n",
       "      <td>No</td>\n",
       "      <td>People with allergies to milk, lactose, peanuts.</td>\n",
       "      <td>low moisture food</td>\n",
       "    </tr>\n",
       "    <tr>\n",
       "      <th>1</th>\n",
       "      <td>Hrusteam</td>\n",
       "      <td>Crispy Bread</td>\n",
       "      <td>Gate 3, 4</td>\n",
       "      <td>Fedor Kholodov</td>\n",
       "      <td>2019-06-14 00:00:00</td>\n",
       "      <td>#53697 FSHA HT Baguette 4 Cheese UA 2.07.19.xlsm</td>\n",
       "      <td>Hrusteam Baguette</td>\n",
       "      <td>Nikolaev</td>\n",
       "      <td>Adults</td>\n",
       "      <td>0</td>\n",
       "      <td>...</td>\n",
       "      <td>No</td>\n",
       "      <td>Keep at temperature 25 °C, &lt;75% humidity</td>\n",
       "      <td>Launch new seasoning 4 Cheese NL-502-352-9 on ...</td>\n",
       "      <td>HT Baguette Four Cheese Flavor</td>\n",
       "      <td>Refresh</td>\n",
       "      <td>ESSA</td>\n",
       "      <td>140 days</td>\n",
       "      <td>Keep at temperature 25 °C, &lt;75% humidity</td>\n",
       "      <td>No</td>\n",
       "      <td>low water activity</td>\n",
       "    </tr>\n",
       "    <tr>\n",
       "      <th>2</th>\n",
       "      <td>Lay's Red Caviar</td>\n",
       "      <td>Potato chips</td>\n",
       "      <td>Development + Scale-up</td>\n",
       "      <td>Helen Booden</td>\n",
       "      <td>2019-06-27 00:00:00</td>\n",
       "      <td>#57686 FSHA 5.4.1 Red Caviar  Azov.xlsm</td>\n",
       "      <td>Lay's Red Caviar</td>\n",
       "      <td>Azov, Russia</td>\n",
       "      <td>18-45 y.o. males 50%/females 50%</td>\n",
       "      <td>0</td>\n",
       "      <td>...</td>\n",
       "      <td>No</td>\n",
       "      <td>air temperature is not higher than 25 ˚С and r...</td>\n",
       "      <td>Idea is to launch I&amp;O flavour under New Year p...</td>\n",
       "      <td>Lay's Caviar IO 2019 RUS Asov</td>\n",
       "      <td>Refresh</td>\n",
       "      <td>ESSA</td>\n",
       "      <td>20+1 week</td>\n",
       "      <td>store the product for no more than 24 hours at...</td>\n",
       "      <td>people with allergy to ingredients in the prod...</td>\n",
       "      <td>Low water activity</td>\n",
       "    </tr>\n",
       "    <tr>\n",
       "      <th>3</th>\n",
       "      <td>Lay's Red Caviar</td>\n",
       "      <td>Potato chips</td>\n",
       "      <td>Development + Scale-up</td>\n",
       "      <td>Helen Booden</td>\n",
       "      <td>2019-06-27 00:00:00</td>\n",
       "      <td>#57686 FSHA 5.4.1 Red Caviar Kashira.xlsm</td>\n",
       "      <td>Lay's Red Caviar</td>\n",
       "      <td>Kashira, Russia</td>\n",
       "      <td>18-45 y.o. males 50%/females 50%</td>\n",
       "      <td>0</td>\n",
       "      <td>...</td>\n",
       "      <td>No</td>\n",
       "      <td>air temperature is not higher than 25 ˚С and r...</td>\n",
       "      <td>Idea is to launch I&amp;O flavour under New Year p...</td>\n",
       "      <td>Lay's Caviar IO 2019 RUS Kashira</td>\n",
       "      <td>Refresh</td>\n",
       "      <td>ESSA</td>\n",
       "      <td>20+1 week</td>\n",
       "      <td>store the product for no more than 24 hours at...</td>\n",
       "      <td>people with allergy to ingredients in the prod...</td>\n",
       "      <td>Low water activity</td>\n",
       "    </tr>\n",
       "    <tr>\n",
       "      <th>4</th>\n",
       "      <td>Cheetos Palomitos</td>\n",
       "      <td>Extruded product with \"popcorn\" shape with cre...</td>\n",
       "      <td>G3 4 Combined</td>\n",
       "      <td>Helen Booden</td>\n",
       "      <td>2018-11-28 00:00:00</td>\n",
       "      <td>53354-FSHA-In Process 13.12.18.xlsm</td>\n",
       "      <td>Cheetos Palomito</td>\n",
       "      <td>Burgos, Spain</td>\n",
       "      <td>Kids and families</td>\n",
       "      <td>0</td>\n",
       "      <td>...</td>\n",
       "      <td>No</td>\n",
       "      <td>Product to be sold in Iberia, storage in ambie...</td>\n",
       "      <td>Re Launch of Cheetos Palomitos, Soft Extruded ...</td>\n",
       "      <td>Soft and Mild Iberia 2019</td>\n",
       "      <td>Re Launch</td>\n",
       "      <td>ESSA</td>\n",
       "      <td>Flavour/color loss powered by clear film windo...</td>\n",
       "      <td>Ensure the bag is closed and consumed after 2 ...</td>\n",
       "      <td>Kids from  4-10</td>\n",
       "      <td>Low water activity</td>\n",
       "    </tr>\n",
       "  </tbody>\n",
       "</table>\n",
       "<p>5 rows × 138 columns</p>\n",
       "</div>"
      ],
      "text/plain": [
       "                                        CPD-ProdName  \\\n",
       "0  1SKU Star Puffs Onion\\n2 SKU Star Puffs Cheese...   \n",
       "1                                           Hrusteam   \n",
       "2                                   Lay's Red Caviar   \n",
       "3                                   Lay's Red Caviar   \n",
       "4                                  Cheetos Palomitos   \n",
       "\n",
       "                                   CPD-ProdName-Desc       Current TSG Stage  \\\n",
       "0  Extruded and baked corn base product, flavoure...                      G3   \n",
       "1                                       Crispy Bread               Gate 3, 4   \n",
       "2                                       Potato chips  Development + Scale-up   \n",
       "3                                       Potato chips  Development + Scale-up   \n",
       "4  Extruded product with \"popcorn\" shape with cre...           G3 4 Combined   \n",
       "\n",
       "      FSAssessors               FSDate  \\\n",
       "0    Helen Booden           21/11/2017   \n",
       "1  Fedor Kholodov  2019-06-14 00:00:00   \n",
       "2  Helen Booden    2019-06-27 00:00:00   \n",
       "3  Helen Booden    2019-06-27 00:00:00   \n",
       "4    Helen Booden  2018-11-28 00:00:00   \n",
       "\n",
       "                                           File Name  \\\n",
       "0  #46565 FSHA 5.4.1Star Project G3 v2 + FS input...   \n",
       "1   #53697 FSHA HT Baguette 4 Cheese UA 2.07.19.xlsm   \n",
       "2            #57686 FSHA 5.4.1 Red Caviar  Azov.xlsm   \n",
       "3          #57686 FSHA 5.4.1 Red Caviar Kashira.xlsm   \n",
       "4                53354-FSHA-In Process 13.12.18.xlsm   \n",
       "\n",
       "                                        PDA_projName  \\\n",
       "0  1SKU Star Puffs Onion\\n2 SKU Star Puffs Cheese...   \n",
       "1                                  Hrusteam Baguette   \n",
       "2                                  Lay's Red Caviar    \n",
       "3                                  Lay's Red Caviar    \n",
       "4                                   Cheetos Palomito   \n",
       "\n",
       "                                      PlantTrial  \\\n",
       "0  Tomaszow plant, trial conducted on 02/11/2017   \n",
       "1                                       Nikolaev   \n",
       "2                                   Azov, Russia   \n",
       "3                               Kashira, Russia    \n",
       "4                                  Burgos, Spain   \n",
       "\n",
       "                                              TCG Table1_Row1_Celery  \\\n",
       "0  Families and Adults, value conscious consumers                  0   \n",
       "1                                          Adults                  0   \n",
       "2                18-45 y.o. males 50%/females 50%                  0   \n",
       "3                18-45 y.o. males 50%/females 50%                  0   \n",
       "4                               Kids and families                  0   \n",
       "\n",
       "          ...         prodModifications  \\\n",
       "0         ...                        No   \n",
       "1         ...                        No   \n",
       "2         ...                        No   \n",
       "3         ...                        No   \n",
       "4         ...                        No   \n",
       "\n",
       "                                     prodStorageDist  \\\n",
       "0      Store in a dry, cool and away from sun place.   \n",
       "1           Keep at temperature 25 °C, <75% humidity   \n",
       "2  air temperature is not higher than 25 ˚С and r...   \n",
       "3  air temperature is not higher than 25 ˚С and r...   \n",
       "4  Product to be sold in Iberia, storage in ambie...   \n",
       "\n",
       "                                            projDesc  \\\n",
       "0  Star Puffs Cheese & STar Hyper Cheese\\nSeasoni...   \n",
       "1  Launch new seasoning 4 Cheese NL-502-352-9 on ...   \n",
       "2  Idea is to launch I&O flavour under New Year p...   \n",
       "3  Idea is to launch I&O flavour under New Year p...   \n",
       "4  Re Launch of Cheetos Palomitos, Soft Extruded ...   \n",
       "\n",
       "                                            projName       projType sector  \\\n",
       "0  S-T3-Star-• POL Star Puff (Chrupki) quality –POL   Brand Refresh   ESSA   \n",
       "1                     HT Baguette Four Cheese Flavor        Refresh   ESSA   \n",
       "2                      Lay's Caviar IO 2019 RUS Asov        Refresh   ESSA   \n",
       "3                   Lay's Caviar IO 2019 RUS Kashira        Refresh   ESSA   \n",
       "4                          Soft and Mild Iberia 2019      Re Launch   ESSA   \n",
       "\n",
       "                                           shelfLife  \\\n",
       "0                                           26 weeks   \n",
       "1                                           140 days   \n",
       "2                                          20+1 week   \n",
       "3                                          20+1 week   \n",
       "4  Flavour/color loss powered by clear film windo...   \n",
       "\n",
       "                                     specificStorage  \\\n",
       "0                                                 No   \n",
       "1           Keep at temperature 25 °C, <75% humidity   \n",
       "2  store the product for no more than 24 hours at...   \n",
       "3  store the product for no more than 24 hours at...   \n",
       "4  Ensure the bag is closed and consumed after 2 ...   \n",
       "\n",
       "                                        targetMarket       waterActivity  \n",
       "0   People with allergies to milk, lactose, peanuts.   low moisture food  \n",
       "1                                                 No  low water activity  \n",
       "2  people with allergy to ingredients in the prod...  Low water activity  \n",
       "3  people with allergy to ingredients in the prod...  Low water activity  \n",
       "4                                    Kids from  4-10  Low water activity  \n",
       "\n",
       "[5 rows x 138 columns]"
      ]
     },
     "execution_count": 117,
     "metadata": {},
     "output_type": "execute_result"
    }
   ],
   "source": [
    "fsha_data.head()"
   ]
  },
  {
   "cell_type": "markdown",
   "metadata": {},
   "source": [
    "# Based on Analysis select the Features (X)"
   ]
  },
  {
   "cell_type": "code",
   "execution_count": 118,
   "metadata": {
    "collapsed": true
   },
   "outputs": [],
   "source": [
    "#selecting set of columns as Features\n",
    "features_df=fsha_data[['allergens','allergensLabeledIMAF']]"
   ]
  },
  {
   "cell_type": "markdown",
   "metadata": {},
   "source": [
    "# Replace missing values in features with NA"
   ]
  },
  {
   "cell_type": "code",
   "execution_count": 119,
   "metadata": {
    "collapsed": true
   },
   "outputs": [],
   "source": [
    "features_df.fillna('NA', inplace=True)"
   ]
  },
  {
   "cell_type": "code",
   "execution_count": 120,
   "metadata": {
    "collapsed": true
   },
   "outputs": [],
   "source": [
    "train_df = features_df"
   ]
  },
  {
   "cell_type": "markdown",
   "metadata": {},
   "source": [
    "# Define reusable code to Vectorize Text column (ex: Allergens) using TF-IDF Vectorizer, after doing Text data normalization"
   ]
  },
  {
   "cell_type": "code",
   "execution_count": 22,
   "metadata": {
    "collapsed": true
   },
   "outputs": [],
   "source": [
    "# Vectorization of text data using TF-IDF Vectorizer\n",
    "\n",
    "# Range (inclusive) of n-gram sizes for tokenizing text.\n",
    "#NGRAM_RANGE \n",
    "\n",
    "# Limit on the number of features. We use the top 20K features.\n",
    "#TOP_K = 20000\n",
    "\n",
    "# Whether text should be split into word or character n-grams.\n",
    "# One of 'word', 'char'.\n",
    "TOKEN_MODE = 'word'\n",
    "\n",
    "# Minimum document/corpus frequency below which a token will be discarded.\n",
    "MIN_DOCUMENT_FREQUENCY = 2\n",
    "\n",
    "# Limit on the length of text sequences. Sequences longer than this\n",
    "# will be truncated.\n",
    "MAX_SEQUENCE_LENGTH = 500\n",
    "\n",
    "\n",
    "def ngram_vectorize(train_texts, train_labels,ngram_range):\n",
    "    \"\"\"Vectorizes texts as ngram vectors.\n",
    "\n",
    "    1 text = 1 tf-idf vector the length of vocabulary of uni-grams + bi-grams.\n",
    "\n",
    "    # Arguments\n",
    "        train_texts: list, training text strings.\n",
    "        train_labels: np.ndarray, training labels.\n",
    "        val_texts: list, validation text strings.\n",
    "\n",
    "    # Returns\n",
    "        x_train, x_val: vectorized training and validation texts\n",
    "    \"\"\"\n",
    "    # Create keyword arguments to pass to the 'tf-idf' vectorizer.\n",
    "    kwargs = {\n",
    "            'ngram_range': ngram_range,  # Use 1-grams + 2-grams.\n",
    "            'dtype': 'int32',\n",
    "            'strip_accents': 'unicode',\n",
    "            'decode_error': 'replace',\n",
    "            'analyzer': TOKEN_MODE,  # Split text into word tokens.\n",
    "            'min_df': MIN_DOCUMENT_FREQUENCY,\n",
    "    }\n",
    "    vectorizer = TfidfVectorizer(**kwargs)\n",
    "\n",
    "    # Learn vocabulary from training texts and vectorize training texts.\n",
    "    x_train = vectorizer.fit_transform(train_texts)\n",
    "\n",
    "    x_train = x_train.astype('float32')\n",
    "    return x_train"
   ]
  },
  {
   "cell_type": "code",
   "execution_count": 23,
   "metadata": {},
   "outputs": [
    {
     "data": {
      "text/plain": [
       "Index(['allergens', 'allergensLabeledIMAF'], dtype='object')"
      ]
     },
     "execution_count": 23,
     "metadata": {},
     "output_type": "execute_result"
    }
   ],
   "source": [
    "train_df.columns"
   ]
  },
  {
   "cell_type": "markdown",
   "metadata": {},
   "source": [
    "# Normalize each column , by cleaning the text"
   ]
  },
  {
   "cell_type": "code",
   "execution_count": 121,
   "metadata": {
    "collapsed": true
   },
   "outputs": [],
   "source": [
    "train_df['norm_allergens'] = normalize_corpus(train_df['allergens'])\n",
    "train_df['norm_allergens_M']=normalize_corpus(train_df['allergensLabeledIMAF'])"
   ]
  },
  {
   "cell_type": "code",
   "execution_count": 122,
   "metadata": {
    "collapsed": true
   },
   "outputs": [],
   "source": [
    "train_df = train_df.drop(['allergens',\n",
    "'allergensLabeledIMAF'],axis = 1)"
   ]
  },
  {
   "cell_type": "code",
   "execution_count": 26,
   "metadata": {},
   "outputs": [
    {
     "data": {
      "text/plain": [
       "Index(['norm_allergens', 'norm_allergens_M'], dtype='object')"
      ]
     },
     "execution_count": 26,
     "metadata": {},
     "output_type": "execute_result"
    }
   ],
   "source": [
    "train_df.columns"
   ]
  },
  {
   "cell_type": "code",
   "execution_count": 123,
   "metadata": {},
   "outputs": [
    {
     "name": "stdout",
     "output_type": "stream",
     "text": [
      "0    allergens seasonings cq69 vegetable blend mcco...\n",
      "1    no new allergen line seasonings 4 cheese conta...\n",
      "2    inherent milk lactose wheat gluten fish compon...\n",
      "3    inherent inherent milk lactose wheat gluten fi...\n",
      "4                                       milk seasoning\n",
      "Name: norm_allergens, dtype: object\n"
     ]
    }
   ],
   "source": [
    "print(train_df['norm_allergens'][:5])"
   ]
  },
  {
   "cell_type": "code",
   "execution_count": 28,
   "metadata": {},
   "outputs": [
    {
     "data": {
      "text/plain": [
       "Index(['norm_allergens', 'norm_allergens_M'], dtype='object')"
      ]
     },
     "execution_count": 28,
     "metadata": {},
     "output_type": "execute_result"
    }
   ],
   "source": [
    "train_df.columns"
   ]
  },
  {
   "cell_type": "markdown",
   "metadata": {},
   "source": [
    "# Binarize the target (1/0 for Yes/No)"
   ]
  },
  {
   "cell_type": "code",
   "execution_count": 124,
   "metadata": {
    "collapsed": true
   },
   "outputs": [],
   "source": [
    "import statistics \n",
    "\n",
    "def impute_target(fsha_data,targetName):\n",
    "    train_y=[]\n",
    "    for i in range (len(fsha_data)):\n",
    "        if fsha_data[targetName].values[i]=='Yes':\n",
    "            train_y.append(1)\n",
    "        elif fsha_data[targetName].values[i]=='No':\n",
    "            train_y.append(0)\n",
    "        else:\n",
    "            train_y.append(-1)\n",
    "               \n",
    "    mode_y = statistics.mode(train_y)\n",
    "\n",
    "    for i in range (len(fsha_data)):\n",
    "        if train_y[i]==-1:\n",
    "            train_y[i] = mode_y\n",
    "            \n",
    "    return train_y"
   ]
  },
  {
   "cell_type": "markdown",
   "metadata": {},
   "source": [
    "# Target (Yes/No choice) in PDAF are converted to binary values"
   ]
  },
  {
   "cell_type": "code",
   "execution_count": 125,
   "metadata": {},
   "outputs": [],
   "source": [
    "train_y_crosscontact = impute_target(fsha_data,\"crossContactAllergens\")"
   ]
  },
  {
   "cell_type": "code",
   "execution_count": 126,
   "metadata": {
    "collapsed": true
   },
   "outputs": [],
   "source": [
    "train_df['target']=train_y_crosscontact"
   ]
  },
  {
   "cell_type": "code",
   "execution_count": 127,
   "metadata": {},
   "outputs": [
    {
     "data": {
      "text/plain": [
       "1    161\n",
       "0     25\n",
       "Name: target, dtype: int64"
      ]
     },
     "execution_count": 127,
     "metadata": {},
     "output_type": "execute_result"
    }
   ],
   "source": [
    "train_df['target'].value_counts()"
   ]
  },
  {
   "cell_type": "code",
   "execution_count": 128,
   "metadata": {
    "collapsed": true
   },
   "outputs": [],
   "source": [
    "y = train_df['target']\n",
    "train_df = train_df.drop('target',axis=1)"
   ]
  },
  {
   "cell_type": "markdown",
   "metadata": {},
   "source": [
    "# Perform n-gram vectorization and PCA on text data, columnwise, and concatenate with categorical one-hot encoded data"
   ]
  },
  {
   "cell_type": "code",
   "execution_count": 129,
   "metadata": {
    "collapsed": true
   },
   "outputs": [],
   "source": [
    "def preprocess_text(train_df,y):    \n",
    "    train_labels = y\n",
    "    x_ngram_allergens = ngram_vectorize(train_df['norm_allergens'], train_labels,n_gram_range).toarray()\n",
    "    x_ngram_allergens_m = ngram_vectorize(train_df['norm_allergens_M'], train_labels,n_gram_range).toarray()\n",
    "    train_df = train_df.drop(['norm_allergens','norm_allergens_M'],axis=1)\n",
    "    pca = PCA(n_components=n_components,svd_solver=svd_solver,whiten=whiten, random_state=42)\n",
    "    \n",
    "    scaler = StandardScaler()\n",
    "    x_ngram_allergens = scaler.fit_transform(x_ngram_allergens)\n",
    "    x_pca_allergens = pca.fit_transform(x_ngram_allergens)\n",
    "    x_pca_allergens_m = pca.fit_transform(x_ngram_allergens_m)\n",
    "    print(x_pca_allergens.shape)\n",
    "    print(x_pca_allergens_m.shape)\n",
    "    x_train = np.concatenate((train_df,x_pca_allergens,x_pca_allergens_m),axis=1)\n",
    "    print(x_train.shape)\n",
    "    return x_train  "
   ]
  },
  {
   "cell_type": "code",
   "execution_count": 130,
   "metadata": {},
   "outputs": [
    {
     "name": "stdout",
     "output_type": "stream",
     "text": [
      "(186, 6)\n",
      "(186, 6)\n",
      "(186, 12)\n"
     ]
    }
   ],
   "source": [
    "n_gram_range = (1,2)\n",
    "n_components = 6\n",
    "whiten = False\n",
    "random_state = 42\n",
    "svd_solver=\"full\"\n",
    "X_features = preprocess_text(train_df,y)"
   ]
  },
  {
   "cell_type": "code",
   "execution_count": 131,
   "metadata": {},
   "outputs": [
    {
     "data": {
      "text/plain": [
       "(186,)"
      ]
     },
     "execution_count": 131,
     "metadata": {},
     "output_type": "execute_result"
    }
   ],
   "source": [
    "y.shape"
   ]
  },
  {
   "cell_type": "markdown",
   "metadata": {},
   "source": [
    "# Perform train test split"
   ]
  },
  {
   "cell_type": "code",
   "execution_count": 132,
   "metadata": {},
   "outputs": [],
   "source": [
    "X_train, X_test, y_train, y_test = train_test_split(X_features, y, test_size=.2, random_state=42,stratify = y)"
   ]
  },
  {
   "cell_type": "code",
   "execution_count": 133,
   "metadata": {},
   "outputs": [
    {
     "name": "stdout",
     "output_type": "stream",
     "text": [
      "(148, 12)\n",
      "(38, 12)\n"
     ]
    }
   ],
   "source": [
    "print(X_train.shape)\n",
    "print(X_test.shape)"
   ]
  },
  {
   "cell_type": "code",
   "execution_count": 134,
   "metadata": {},
   "outputs": [
    {
     "name": "stdout",
     "output_type": "stream",
     "text": [
      "(148,)\n",
      "(38,)\n"
     ]
    }
   ],
   "source": [
    "print(y_train.shape)\n",
    "print(y_test.shape)"
   ]
  },
  {
   "cell_type": "code",
   "execution_count": 135,
   "metadata": {
    "collapsed": true
   },
   "outputs": [],
   "source": [
    "X_train = pd.DataFrame(X_train)\n",
    "y_train = pd.DataFrame(y_train)"
   ]
  },
  {
   "cell_type": "code",
   "execution_count": 136,
   "metadata": {},
   "outputs": [
    {
     "name": "stdout",
     "output_type": "stream",
     "text": [
      "(148, 1)\n",
      "(38,)\n"
     ]
    }
   ],
   "source": [
    "print(y_train.shape)\n",
    "print(y_test.shape)"
   ]
  },
  {
   "cell_type": "code",
   "execution_count": 103,
   "metadata": {
    "collapsed": true
   },
   "outputs": [],
   "source": [
    "#X_train.columns = ['PCA_allergens_1','PCA_allergens_2','PCA_allergens_3','PCA_allergens_4','PCA_allergens_5','PCA_allergens_6','PCA_allergens_M_1','PCA_allergens_M_2','PCA_allergens_M_3','PCA_allergens_M_4','PCA_allergens_M_5','PCA_allergens_M_6']"
   ]
  },
  {
   "cell_type": "code",
   "execution_count": 137,
   "metadata": {},
   "outputs": [
    {
     "data": {
      "text/html": [
       "<div>\n",
       "<style>\n",
       "    .dataframe thead tr:only-child th {\n",
       "        text-align: right;\n",
       "    }\n",
       "\n",
       "    .dataframe thead th {\n",
       "        text-align: left;\n",
       "    }\n",
       "\n",
       "    .dataframe tbody tr th {\n",
       "        vertical-align: top;\n",
       "    }\n",
       "</style>\n",
       "<table border=\"1\" class=\"dataframe\">\n",
       "  <thead>\n",
       "    <tr style=\"text-align: right;\">\n",
       "      <th></th>\n",
       "      <th>0</th>\n",
       "      <th>1</th>\n",
       "      <th>2</th>\n",
       "      <th>3</th>\n",
       "      <th>4</th>\n",
       "      <th>5</th>\n",
       "      <th>6</th>\n",
       "      <th>7</th>\n",
       "      <th>8</th>\n",
       "      <th>9</th>\n",
       "      <th>10</th>\n",
       "      <th>11</th>\n",
       "    </tr>\n",
       "  </thead>\n",
       "  <tbody>\n",
       "    <tr>\n",
       "      <th>0</th>\n",
       "      <td>-1.063359</td>\n",
       "      <td>-0.761251</td>\n",
       "      <td>1.219966</td>\n",
       "      <td>-3.132982</td>\n",
       "      <td>-0.692752</td>\n",
       "      <td>-0.731330</td>\n",
       "      <td>-0.345584</td>\n",
       "      <td>0.523623</td>\n",
       "      <td>-0.090160</td>\n",
       "      <td>0.110570</td>\n",
       "      <td>0.378534</td>\n",
       "      <td>0.178573</td>\n",
       "    </tr>\n",
       "    <tr>\n",
       "      <th>1</th>\n",
       "      <td>-0.708054</td>\n",
       "      <td>-0.539718</td>\n",
       "      <td>0.849014</td>\n",
       "      <td>-2.032207</td>\n",
       "      <td>-0.356134</td>\n",
       "      <td>-0.422655</td>\n",
       "      <td>0.871861</td>\n",
       "      <td>0.098730</td>\n",
       "      <td>-0.075012</td>\n",
       "      <td>-0.071571</td>\n",
       "      <td>0.028658</td>\n",
       "      <td>0.016796</td>\n",
       "    </tr>\n",
       "    <tr>\n",
       "      <th>2</th>\n",
       "      <td>-1.063359</td>\n",
       "      <td>-0.761251</td>\n",
       "      <td>1.219966</td>\n",
       "      <td>-3.132982</td>\n",
       "      <td>-0.692752</td>\n",
       "      <td>-0.731330</td>\n",
       "      <td>-0.345605</td>\n",
       "      <td>0.714078</td>\n",
       "      <td>-0.169255</td>\n",
       "      <td>-0.219275</td>\n",
       "      <td>-0.180971</td>\n",
       "      <td>-0.065780</td>\n",
       "    </tr>\n",
       "    <tr>\n",
       "      <th>3</th>\n",
       "      <td>-0.816994</td>\n",
       "      <td>-0.627993</td>\n",
       "      <td>0.867184</td>\n",
       "      <td>-2.071126</td>\n",
       "      <td>-0.364395</td>\n",
       "      <td>-0.375057</td>\n",
       "      <td>-0.321695</td>\n",
       "      <td>0.599411</td>\n",
       "      <td>-0.057585</td>\n",
       "      <td>-0.154217</td>\n",
       "      <td>-0.010265</td>\n",
       "      <td>0.013953</td>\n",
       "    </tr>\n",
       "    <tr>\n",
       "      <th>4</th>\n",
       "      <td>-1.063359</td>\n",
       "      <td>-0.761251</td>\n",
       "      <td>1.219966</td>\n",
       "      <td>-3.132982</td>\n",
       "      <td>-0.692752</td>\n",
       "      <td>-0.731330</td>\n",
       "      <td>-0.345584</td>\n",
       "      <td>0.523623</td>\n",
       "      <td>-0.090160</td>\n",
       "      <td>0.110570</td>\n",
       "      <td>0.378534</td>\n",
       "      <td>0.178573</td>\n",
       "    </tr>\n",
       "  </tbody>\n",
       "</table>\n",
       "</div>"
      ],
      "text/plain": [
       "         0         1         2         3         4         5         6   \\\n",
       "0 -1.063359 -0.761251  1.219966 -3.132982 -0.692752 -0.731330 -0.345584   \n",
       "1 -0.708054 -0.539718  0.849014 -2.032207 -0.356134 -0.422655  0.871861   \n",
       "2 -1.063359 -0.761251  1.219966 -3.132982 -0.692752 -0.731330 -0.345605   \n",
       "3 -0.816994 -0.627993  0.867184 -2.071126 -0.364395 -0.375057 -0.321695   \n",
       "4 -1.063359 -0.761251  1.219966 -3.132982 -0.692752 -0.731330 -0.345584   \n",
       "\n",
       "         7         8         9         10        11  \n",
       "0  0.523623 -0.090160  0.110570  0.378534  0.178573  \n",
       "1  0.098730 -0.075012 -0.071571  0.028658  0.016796  \n",
       "2  0.714078 -0.169255 -0.219275 -0.180971 -0.065780  \n",
       "3  0.599411 -0.057585 -0.154217 -0.010265  0.013953  \n",
       "4  0.523623 -0.090160  0.110570  0.378534  0.178573  "
      ]
     },
     "execution_count": 137,
     "metadata": {},
     "output_type": "execute_result"
    }
   ],
   "source": [
    "X_train.head()"
   ]
  },
  {
   "cell_type": "code",
   "execution_count": 138,
   "metadata": {},
   "outputs": [
    {
     "name": "stdout",
     "output_type": "stream",
     "text": [
      "(148, 12)\n",
      "(148, 1)\n"
     ]
    }
   ],
   "source": [
    "print(X_train.shape)\n",
    "print(y_train.shape)"
   ]
  },
  {
   "cell_type": "code",
   "execution_count": 94,
   "metadata": {},
   "outputs": [],
   "source": [
    "#y_train=y_train.reindex()"
   ]
  },
  {
   "cell_type": "code",
   "execution_count": 140,
   "metadata": {
    "collapsed": true
   },
   "outputs": [],
   "source": [
    "X_train.reset_index(drop=True, inplace=True)\n",
    "y_train.reset_index(drop=True, inplace=True)"
   ]
  },
  {
   "cell_type": "markdown",
   "metadata": {},
   "source": [
    "# Upsample the crossContact Allergens data, since the data is highly imbalanced"
   ]
  },
  {
   "cell_type": "code",
   "execution_count": 142,
   "metadata": {},
   "outputs": [],
   "source": [
    "from sklearn.utils import resample\n",
    "\n",
    "# concatenate our training data back together\n",
    "X = pd.concat([X_train, y_train], axis=1)\n",
    "\n",
    "# separate minority and majority classes\n",
    "not_crosscontact = X[X.target==0]\n",
    "crosscontact = X[X.target==1]"
   ]
  },
  {
   "cell_type": "code",
   "execution_count": 143,
   "metadata": {},
   "outputs": [
    {
     "name": "stdout",
     "output_type": "stream",
     "text": [
      "20\n",
      "128\n"
     ]
    }
   ],
   "source": [
    "print(len(not_crosscontact))\n",
    "print(len(crosscontact))"
   ]
  },
  {
   "cell_type": "code",
   "execution_count": 144,
   "metadata": {
    "collapsed": true
   },
   "outputs": [],
   "source": [
    "# upsample minority\n",
    "not_crosscontact_upsampled = resample(not_crosscontact,\n",
    "                          replace=True, # sample with replacement\n",
    "                          n_samples=len(crosscontact), # match number in majority class\n",
    "                          random_state=27) # reproducible results\n",
    "\n",
    "# combine majority and upsampled minority\n",
    "upsampled = pd.concat([not_crosscontact_upsampled, crosscontact])"
   ]
  },
  {
   "cell_type": "code",
   "execution_count": 145,
   "metadata": {},
   "outputs": [
    {
     "data": {
      "text/plain": [
       "1    128\n",
       "0    128\n",
       "Name: target, dtype: int64"
      ]
     },
     "execution_count": 145,
     "metadata": {},
     "output_type": "execute_result"
    }
   ],
   "source": [
    "upsampled.target.value_counts()"
   ]
  },
  {
   "cell_type": "code",
   "execution_count": 146,
   "metadata": {
    "collapsed": true
   },
   "outputs": [],
   "source": [
    "y_train = upsampled.target\n",
    "X_train = upsampled.drop('target', axis=1)"
   ]
  },
  {
   "cell_type": "code",
   "execution_count": 147,
   "metadata": {},
   "outputs": [
    {
     "data": {
      "text/plain": [
       "(256, 12)"
      ]
     },
     "execution_count": 147,
     "metadata": {},
     "output_type": "execute_result"
    }
   ],
   "source": [
    "X_train.shape"
   ]
  },
  {
   "cell_type": "code",
   "execution_count": 148,
   "metadata": {},
   "outputs": [
    {
     "data": {
      "text/plain": [
       "(array([], dtype=int64), array([], dtype=int64))"
      ]
     },
     "execution_count": 148,
     "metadata": {},
     "output_type": "execute_result"
    }
   ],
   "source": [
    "np.where(np.isnan(X_train))"
   ]
  },
  {
   "cell_type": "code",
   "execution_count": 45,
   "metadata": {
    "collapsed": true
   },
   "outputs": [],
   "source": [
    "#X_train.fillna( method ='ffill', inplace = True)"
   ]
  },
  {
   "cell_type": "code",
   "execution_count": 66,
   "metadata": {},
   "outputs": [
    {
     "data": {
      "text/plain": [
       "array([[ 1.00000000e+00, -1.84272087e+00, -2.17765045e+00,\n",
       "        -6.14216375e+00,  4.64258194e+00,  6.52999640e-01,\n",
       "        -7.03193963e-01, -2.33874857e-01, -4.25589055e-01,\n",
       "         2.58688152e-01, -1.54416010e-01,  5.38953878e-02,\n",
       "         3.03312153e-01],\n",
       "       [ 0.00000000e+00, -5.93456984e-01,  2.60833836e+00,\n",
       "        -3.97599488e-01, -1.09739792e+00, -3.18637222e-01,\n",
       "        -5.92807949e-01,  8.71861219e-01,  9.87301841e-02,\n",
       "        -7.50119984e-02, -7.15710744e-02,  2.86580473e-02,\n",
       "         1.67962704e-02],\n",
       "       [ 1.00000000e+00, -9.88465488e-01, -8.74559760e-01,\n",
       "         1.00940681e+00, -3.12565446e+00, -6.96031153e-01,\n",
       "        -9.40767229e-01, -1.38077810e-01, -1.53309628e-01,\n",
       "         6.84808850e-01, -3.33513990e-02,  1.06597893e-01,\n",
       "         2.31391951e-01],\n",
       "       [ 1.00000000e+00, -4.72384453e-01, -6.53306723e-01,\n",
       "         7.30744660e-01, -2.04508185e+00, -3.84878755e-01,\n",
       "        -4.07642365e-01, -1.25170410e-01, -1.20091736e-01,\n",
       "         5.93169212e-01, -4.11974592e-03,  1.30633727e-01,\n",
       "         1.82225034e-01],\n",
       "       [ 0.00000000e+00, -7.08054423e-01, -5.39717555e-01,\n",
       "         8.49013567e-01, -2.03220725e+00, -3.56134057e-01,\n",
       "        -4.22655463e-01,  8.71861219e-01,  9.87301841e-02,\n",
       "        -7.50119984e-02, -7.15710744e-02,  2.86580473e-02,\n",
       "         1.67962704e-02]])"
      ]
     },
     "execution_count": 66,
     "metadata": {},
     "output_type": "execute_result"
    }
   ],
   "source": [
    "X_test[:5]"
   ]
  },
  {
   "cell_type": "markdown",
   "metadata": {},
   "source": [
    "# Define method to evaluate Machine Learning models with the X and y vectors created above, and check the effectiveness of each. Also store the results in array to be plotted in graph for visualization"
   ]
  },
  {
   "cell_type": "code",
   "execution_count": 149,
   "metadata": {
    "collapsed": true
   },
   "outputs": [],
   "source": [
    "from datetime import datetime\n",
    "import time\n",
    "def benchmark(clf):\n",
    "    print('_' * 80)\n",
    "    print(\"Training: \")\n",
    "    print(len(X_train))\n",
    "    \n",
    "    clf_descr = str(clf).split('(')[0]\n",
    "    print(\"model name:\"+clf_descr)\n",
    "  \n",
    "    a = datetime.now()\n",
    "    \n",
    "    if clf_descr.__contains__('tensorflow'):\n",
    "        history = clf.fit(\n",
    "            X_train,\n",
    "            y_train,\n",
    "            epochs=epochs,\n",
    "            callbacks=callbacks,\n",
    "            validation_data=(X_test, y_test),\n",
    "            verbose=2, \n",
    "            batch_size=batch_size)\n",
    "    else:\n",
    "        clf.fit(X_train, y_train)\n",
    "    \n",
    "    b = datetime.now()\n",
    "    c = a-b\n",
    "    train_time = c.microseconds\n",
    "    print(\"train time: %0.3fs\" % train_time)\n",
    "\n",
    "    pred = clf.predict(X_test)\n",
    "\n",
    "    pred_train = clf.predict(X_train)\n",
    " \n",
    "    if clf_descr.__contains__('tensorflow'):\n",
    "        for i in range (len(pred)):\n",
    "            if (pred[i]>=0.3):\n",
    "                pred[i]=1\n",
    "            else:\n",
    "                pred[i]=0\n",
    "        for i in range (len(pred_train)):        \n",
    "            if (pred_train[i]>=0.3):\n",
    "                pred_train[i]=1\n",
    "            else:\n",
    "                pred_train[i]=0\n",
    "    \n",
    "    f1_score = metrics.f1_score(y_test, pred)\n",
    "    print(\"f1_score:   %0.3f\" % f1_score )\n",
    "    \n",
    "    f1_score_train = metrics.f1_score(y_train, pred_train)\n",
    "    print(\"f1_score_train:   %0.3f\" % f1_score_train )\n",
    "    \n",
    "    print(\"classification report:\")\n",
    "    print(classification_report(y_test, pred))\n",
    "    \n",
    "    print(\"confusion matrix:\")\n",
    "    print(metrics.confusion_matrix(y_test, pred))\n",
    "\n",
    "    if hasattr(clf, 'coef_'):\n",
    "        print(\"dimensionality: %d\" % clf.coef_.shape[1])\n",
    "        print(\"density: %f\" % density(clf.coef_))\n",
    "\n",
    "    \n",
    "    return clf_descr,f1_score_train,f1_score,train_time"
   ]
  },
  {
   "cell_type": "code",
   "execution_count": 62,
   "metadata": {},
   "outputs": [
    {
     "data": {
      "text/html": [
       "<div>\n",
       "<style>\n",
       "    .dataframe thead tr:only-child th {\n",
       "        text-align: right;\n",
       "    }\n",
       "\n",
       "    .dataframe thead th {\n",
       "        text-align: left;\n",
       "    }\n",
       "\n",
       "    .dataframe tbody tr th {\n",
       "        vertical-align: top;\n",
       "    }\n",
       "</style>\n",
       "<table border=\"1\" class=\"dataframe\">\n",
       "  <thead>\n",
       "    <tr style=\"text-align: right;\">\n",
       "      <th></th>\n",
       "      <th>PCA_allergens_1</th>\n",
       "      <th>PCA_allergens_2</th>\n",
       "      <th>PCA_allergens_3</th>\n",
       "      <th>PCA_allergens_4</th>\n",
       "      <th>PCA_allergens_5</th>\n",
       "      <th>PCA_allergens_6</th>\n",
       "      <th>PCA_allergens_M_1</th>\n",
       "      <th>PCA_allergens_M_2</th>\n",
       "      <th>PCA_allergens_M_3</th>\n",
       "      <th>PCA_allergens_M_4</th>\n",
       "      <th>PCA_allergens_M_5</th>\n",
       "      <th>PCA_allergens_M_6</th>\n",
       "    </tr>\n",
       "  </thead>\n",
       "  <tbody>\n",
       "    <tr>\n",
       "      <th>141</th>\n",
       "      <td>-0.906566</td>\n",
       "      <td>-0.562936</td>\n",
       "      <td>0.392057</td>\n",
       "      <td>-1.792469</td>\n",
       "      <td>-0.426372</td>\n",
       "      <td>-0.521436</td>\n",
       "      <td>0.871861</td>\n",
       "      <td>0.098730</td>\n",
       "      <td>-0.075012</td>\n",
       "      <td>-0.071571</td>\n",
       "      <td>0.028658</td>\n",
       "      <td>0.016796</td>\n",
       "    </tr>\n",
       "    <tr>\n",
       "      <th>52</th>\n",
       "      <td>-0.613620</td>\n",
       "      <td>-0.562833</td>\n",
       "      <td>0.758440</td>\n",
       "      <td>-1.924815</td>\n",
       "      <td>-0.345908</td>\n",
       "      <td>-0.396229</td>\n",
       "      <td>0.871861</td>\n",
       "      <td>0.098730</td>\n",
       "      <td>-0.075012</td>\n",
       "      <td>-0.071571</td>\n",
       "      <td>0.028658</td>\n",
       "      <td>0.016796</td>\n",
       "    </tr>\n",
       "    <tr>\n",
       "      <th>113</th>\n",
       "      <td>-0.715634</td>\n",
       "      <td>-0.537288</td>\n",
       "      <td>0.838570</td>\n",
       "      <td>-1.983404</td>\n",
       "      <td>-0.348180</td>\n",
       "      <td>-0.398949</td>\n",
       "      <td>-0.004419</td>\n",
       "      <td>-0.004944</td>\n",
       "      <td>0.070982</td>\n",
       "      <td>0.158787</td>\n",
       "      <td>-0.124206</td>\n",
       "      <td>-0.034652</td>\n",
       "    </tr>\n",
       "    <tr>\n",
       "      <th>33</th>\n",
       "      <td>-0.613620</td>\n",
       "      <td>-0.562833</td>\n",
       "      <td>0.758440</td>\n",
       "      <td>-1.924815</td>\n",
       "      <td>-0.345908</td>\n",
       "      <td>-0.396229</td>\n",
       "      <td>0.871861</td>\n",
       "      <td>0.098730</td>\n",
       "      <td>-0.075012</td>\n",
       "      <td>-0.071571</td>\n",
       "      <td>0.028658</td>\n",
       "      <td>0.016796</td>\n",
       "    </tr>\n",
       "    <tr>\n",
       "      <th>98</th>\n",
       "      <td>-0.708054</td>\n",
       "      <td>-0.539718</td>\n",
       "      <td>0.849014</td>\n",
       "      <td>-2.032207</td>\n",
       "      <td>-0.356134</td>\n",
       "      <td>-0.422655</td>\n",
       "      <td>-0.018777</td>\n",
       "      <td>-0.000279</td>\n",
       "      <td>0.089227</td>\n",
       "      <td>0.259083</td>\n",
       "      <td>-0.155822</td>\n",
       "      <td>-0.196758</td>\n",
       "    </tr>\n",
       "  </tbody>\n",
       "</table>\n",
       "</div>"
      ],
      "text/plain": [
       "     PCA_allergens_1  PCA_allergens_2  PCA_allergens_3  PCA_allergens_4  \\\n",
       "141        -0.906566        -0.562936         0.392057        -1.792469   \n",
       "52         -0.613620        -0.562833         0.758440        -1.924815   \n",
       "113        -0.715634        -0.537288         0.838570        -1.983404   \n",
       "33         -0.613620        -0.562833         0.758440        -1.924815   \n",
       "98         -0.708054        -0.539718         0.849014        -2.032207   \n",
       "\n",
       "     PCA_allergens_5  PCA_allergens_6  PCA_allergens_M_1  PCA_allergens_M_2  \\\n",
       "141        -0.426372        -0.521436           0.871861           0.098730   \n",
       "52         -0.345908        -0.396229           0.871861           0.098730   \n",
       "113        -0.348180        -0.398949          -0.004419          -0.004944   \n",
       "33         -0.345908        -0.396229           0.871861           0.098730   \n",
       "98         -0.356134        -0.422655          -0.018777          -0.000279   \n",
       "\n",
       "     PCA_allergens_M_3  PCA_allergens_M_4  PCA_allergens_M_5  \\\n",
       "141          -0.075012          -0.071571           0.028658   \n",
       "52           -0.075012          -0.071571           0.028658   \n",
       "113           0.070982           0.158787          -0.124206   \n",
       "33           -0.075012          -0.071571           0.028658   \n",
       "98            0.089227           0.259083          -0.155822   \n",
       "\n",
       "     PCA_allergens_M_6  \n",
       "141           0.016796  \n",
       "52            0.016796  \n",
       "113          -0.034652  \n",
       "33            0.016796  \n",
       "98           -0.196758  "
      ]
     },
     "execution_count": 62,
     "metadata": {},
     "output_type": "execute_result"
    }
   ],
   "source": [
    "X_train[:5]"
   ]
  },
  {
   "cell_type": "markdown",
   "metadata": {},
   "source": [
    "# Evaluate Machine Learning Models from a List (using the reusable method defined above). Store the results (Accuracy score - train, accuracy score - test, and training time) in a List for data visualization"
   ]
  },
  {
   "cell_type": "code",
   "execution_count": 150,
   "metadata": {},
   "outputs": [
    {
     "name": "stdout",
     "output_type": "stream",
     "text": [
      "________________________________________________________________________________\n",
      "Training: \n",
      "256\n",
      "model name:Pipeline\n",
      "train time: 0.000s\n",
      "f1_score:   0.952\n",
      "f1_score_train:   0.915\n",
      "classification report:\n",
      "             precision    recall  f1-score   support\n",
      "\n",
      "          0       0.62      1.00      0.77         5\n",
      "          1       1.00      0.91      0.95        33\n",
      "\n",
      "avg / total       0.95      0.92      0.93        38\n",
      "\n",
      "confusion matrix:\n",
      "[[ 5  0]\n",
      " [ 3 30]]\n",
      "================================================================================\n",
      "Ridge Classifier\n",
      "________________________________________________________________________________\n",
      "Training: \n",
      "256\n",
      "model name:RidgeClassifier\n",
      "train time: 0.000s\n",
      "f1_score:   0.952\n",
      "f1_score_train:   0.915\n",
      "classification report:\n",
      "             precision    recall  f1-score   support\n",
      "\n",
      "          0       0.62      1.00      0.77         5\n",
      "          1       1.00      0.91      0.95        33\n",
      "\n",
      "avg / total       0.95      0.92      0.93        38\n",
      "\n",
      "confusion matrix:\n",
      "[[ 5  0]\n",
      " [ 3 30]]\n",
      "dimensionality: 12\n",
      "density: 1.000000\n",
      "________________________________________________________________________________\n",
      "Training: \n",
      "256\n",
      "model name:Pipeline\n",
      "train time: 984373.000s\n",
      "f1_score:   0.935\n",
      "f1_score_train:   0.847\n",
      "classification report:\n",
      "             precision    recall  f1-score   support\n",
      "\n",
      "          0       0.56      1.00      0.71         5\n",
      "          1       1.00      0.88      0.94        33\n",
      "\n",
      "avg / total       0.94      0.89      0.91        38\n",
      "\n",
      "confusion matrix:\n",
      "[[ 5  0]\n",
      " [ 4 29]]\n",
      "================================================================================\n",
      "Perceptron\n",
      "________________________________________________________________________________\n",
      "Training: \n",
      "256\n",
      "model name:Perceptron\n",
      "train time: 0.000s\n",
      "f1_score:   0.935\n",
      "f1_score_train:   0.847\n",
      "classification report:\n",
      "             precision    recall  f1-score   support\n",
      "\n",
      "          0       0.56      1.00      0.71         5\n",
      "          1       1.00      0.88      0.94        33\n",
      "\n",
      "avg / total       0.94      0.89      0.91        38\n",
      "\n",
      "confusion matrix:\n",
      "[[ 5  0]\n",
      " [ 4 29]]\n",
      "dimensionality: 12\n",
      "density: 1.000000\n",
      "________________________________________________________________________________\n",
      "Training: \n",
      "256\n",
      "model name:Pipeline\n",
      "train time: 996997.000s\n",
      "f1_score:   0.935\n",
      "f1_score_train:   0.933\n",
      "classification report:\n",
      "             precision    recall  f1-score   support\n",
      "\n",
      "          0       0.56      1.00      0.71         5\n",
      "          1       1.00      0.88      0.94        33\n",
      "\n",
      "avg / total       0.94      0.89      0.91        38\n",
      "\n",
      "confusion matrix:\n",
      "[[ 5  0]\n",
      " [ 4 29]]\n",
      "================================================================================\n",
      "Passive-Aggressive\n",
      "________________________________________________________________________________\n",
      "Training: \n",
      "256\n",
      "model name:PassiveAggressiveClassifier\n",
      "train time: 0.000s\n",
      "f1_score:   0.806\n",
      "f1_score_train:   0.581\n",
      "classification report:\n",
      "             precision    recall  f1-score   support\n",
      "\n",
      "          0       0.11      0.20      0.14         5\n",
      "          1       0.86      0.76      0.81        33\n",
      "\n",
      "avg / total       0.76      0.68      0.72        38\n",
      "\n",
      "confusion matrix:\n",
      "[[ 1  4]\n",
      " [ 8 25]]\n",
      "dimensionality: 12\n",
      "density: 1.000000\n",
      "________________________________________________________________________________\n",
      "Training: \n",
      "256\n",
      "model name:Pipeline\n",
      "train time: 0.000s\n",
      "f1_score:   0.918\n",
      "f1_score_train:   0.947\n",
      "classification report:\n",
      "             precision    recall  f1-score   support\n",
      "\n",
      "          0       0.50      1.00      0.67         5\n",
      "          1       1.00      0.85      0.92        33\n",
      "\n",
      "avg / total       0.93      0.87      0.88        38\n",
      "\n",
      "confusion matrix:\n",
      "[[ 5  0]\n",
      " [ 5 28]]\n",
      "================================================================================\n",
      "kNN\n",
      "________________________________________________________________________________\n",
      "Training: \n",
      "256\n",
      "model name:KNeighborsClassifier\n",
      "train time: 0.000s\n",
      "f1_score:   0.918\n",
      "f1_score_train:   0.947\n",
      "classification report:\n",
      "             precision    recall  f1-score   support\n",
      "\n",
      "          0       0.50      1.00      0.67         5\n",
      "          1       1.00      0.85      0.92        33\n",
      "\n",
      "avg / total       0.93      0.87      0.88        38\n",
      "\n",
      "confusion matrix:\n",
      "[[ 5  0]\n",
      " [ 5 28]]\n",
      "________________________________________________________________________________\n",
      "Training: \n",
      "256\n",
      "model name:Pipeline\n",
      "train time: 665353.000s\n",
      "f1_score:   1.000\n",
      "f1_score_train:   1.000\n",
      "classification report:\n",
      "             precision    recall  f1-score   support\n",
      "\n",
      "          0       1.00      1.00      1.00         5\n",
      "          1       1.00      1.00      1.00        33\n",
      "\n",
      "avg / total       1.00      1.00      1.00        38\n",
      "\n",
      "confusion matrix:\n",
      "[[ 5  0]\n",
      " [ 0 33]]\n",
      "================================================================================\n",
      "Random forest\n",
      "________________________________________________________________________________\n",
      "Training: \n",
      "256\n",
      "model name:RandomForestClassifier\n",
      "train time: 699385.000s\n",
      "f1_score:   1.000\n",
      "f1_score_train:   1.000\n",
      "classification report:\n",
      "             precision    recall  f1-score   support\n",
      "\n",
      "          0       1.00      1.00      1.00         5\n",
      "          1       1.00      1.00      1.00        33\n",
      "\n",
      "avg / total       1.00      1.00      1.00        38\n",
      "\n",
      "confusion matrix:\n",
      "[[ 5  0]\n",
      " [ 0 33]]\n",
      "================================================================================\n",
      "L2 penalty\n",
      "________________________________________________________________________________\n",
      "Training: \n",
      "256\n",
      "model name:LinearSVC\n",
      "train time: 0.000s\n",
      "f1_score:   0.918\n",
      "f1_score_train:   0.951\n",
      "classification report:\n",
      "             precision    recall  f1-score   support\n",
      "\n",
      "          0       0.50      1.00      0.67         5\n",
      "          1       1.00      0.85      0.92        33\n",
      "\n",
      "avg / total       0.93      0.87      0.88        38\n",
      "\n",
      "confusion matrix:\n",
      "[[ 5  0]\n",
      " [ 5 28]]\n",
      "dimensionality: 12\n",
      "density: 1.000000\n",
      "________________________________________________________________________________\n",
      "Training: \n",
      "256\n",
      "model name:SGDClassifier\n",
      "train time: 0.000s\n",
      "f1_score:   0.900\n",
      "f1_score_train:   0.882\n",
      "classification report:\n",
      "             precision    recall  f1-score   support\n",
      "\n",
      "          0       0.45      1.00      0.62         5\n",
      "          1       1.00      0.82      0.90        33\n",
      "\n",
      "avg / total       0.93      0.84      0.86        38\n",
      "\n",
      "confusion matrix:\n",
      "[[ 5  0]\n",
      " [ 6 27]]\n",
      "dimensionality: 12\n",
      "density: 1.000000\n",
      "================================================================================\n",
      "L1 penalty\n",
      "________________________________________________________________________________\n",
      "Training: \n",
      "256\n",
      "model name:LinearSVC\n",
      "train time: 0.000s\n",
      "f1_score:   0.918\n",
      "f1_score_train:   0.951\n",
      "classification report:\n",
      "             precision    recall  f1-score   support\n",
      "\n",
      "          0       0.50      1.00      0.67         5\n",
      "          1       1.00      0.85      0.92        33\n",
      "\n",
      "avg / total       0.93      0.87      0.88        38\n",
      "\n",
      "confusion matrix:\n",
      "[[ 5  0]\n",
      " [ 5 28]]\n",
      "dimensionality: 12\n",
      "density: 1.000000\n",
      "________________________________________________________________________________\n",
      "Training: \n",
      "256\n",
      "model name:SGDClassifier\n",
      "train time: 0.000s\n",
      "f1_score:   0.954\n",
      "f1_score_train:   0.855\n",
      "classification report:\n",
      "             precision    recall  f1-score   support\n",
      "\n",
      "          0       0.67      0.80      0.73         5\n",
      "          1       0.97      0.94      0.95        33\n",
      "\n",
      "avg / total       0.93      0.92      0.92        38\n",
      "\n",
      "confusion matrix:\n",
      "[[ 4  1]\n",
      " [ 2 31]]\n",
      "dimensionality: 12\n",
      "density: 0.916667\n",
      "================================================================================\n",
      "Elastic-Net penalty\n",
      "________________________________________________________________________________\n",
      "Training: \n",
      "256\n",
      "model name:SGDClassifier\n",
      "train time: 0.000s\n",
      "f1_score:   0.954\n",
      "f1_score_train:   0.859\n",
      "classification report:\n",
      "             precision    recall  f1-score   support\n",
      "\n",
      "          0       0.67      0.80      0.73         5\n",
      "          1       0.97      0.94      0.95        33\n",
      "\n",
      "avg / total       0.93      0.92      0.92        38\n",
      "\n",
      "confusion matrix:\n",
      "[[ 4  1]\n",
      " [ 2 31]]\n",
      "dimensionality: 12\n",
      "density: 1.000000\n",
      "================================================================================\n",
      "NearestCentroid (aka Rocchio classifier)\n",
      "________________________________________________________________________________\n",
      "Training: \n",
      "256\n",
      "model name:NearestCentroid\n",
      "train time: 0.000s\n",
      "f1_score:   0.533\n",
      "f1_score_train:   0.506\n",
      "classification report:\n",
      "             precision    recall  f1-score   support\n",
      "\n",
      "          0       0.19      1.00      0.32         5\n",
      "          1       1.00      0.36      0.53        33\n",
      "\n",
      "avg / total       0.89      0.45      0.51        38\n",
      "\n",
      "confusion matrix:\n",
      "[[ 5  0]\n",
      " [21 12]]\n"
     ]
    }
   ],
   "source": [
    "\n",
    "selector = SelectKBest(f_classif, k='all')\n",
    "results = []\n",
    "model_name = []\n",
    "\n",
    "for clf, name in (\n",
    "        (RidgeClassifier(tol=1e-2, solver=\"lsqr\"), \"Ridge Classifier\"),\n",
    "        (Perceptron(n_iter=50), \"Perceptron\"),\n",
    "        (PassiveAggressiveClassifier(n_iter=50), \"Passive-Aggressive\"),\n",
    "        (KNeighborsClassifier(n_neighbors=5), \"kNN\"),\n",
    "        (RandomForestClassifier(n_estimators=100), \"Random forest\")):\n",
    "    selector_clf = benchmark(Pipeline([('selector', selector),('classifier', clf)]))\n",
    "    print('=' * 80)\n",
    "    print(name)\n",
    "    results.append(benchmark(clf))\n",
    "    model_name.append(name)\n",
    "    #model.append(clf)\n",
    "    \n",
    "for penalty in [\"l2\", \"l1\"]:\n",
    "    print('=' * 80)\n",
    "    print(\"%s penalty\" % penalty.upper())\n",
    "    # Train Liblinear model\n",
    "    results.append(benchmark(LinearSVC(loss='l2', penalty=penalty,dual=False, tol=1e-3)))\n",
    "    model_name.append(\"LinearSVC\"+\" \"+penalty)\n",
    "\n",
    "    # Train SGD model\n",
    "    results.append(benchmark(SGDClassifier(alpha=.0001, n_iter=50,penalty=penalty)))\n",
    "    model_name.append(\"SGDClassifier\"+\" \"+penalty)\n",
    "\n",
    "\n",
    "# Train SGD with Elastic Net penalty\n",
    "print('=' * 80)\n",
    "print(\"Elastic-Net penalty\")\n",
    "results.append(benchmark(SGDClassifier(alpha=.0001, n_iter=50,penalty=\"elasticnet\")))\n",
    "model_name.append(\"SGD with Elastic Net penalty\")\n",
    "\n",
    "\n",
    "# Train NearestCentroid without threshold\n",
    "print('=' * 80)\n",
    "print(\"NearestCentroid (aka Rocchio classifier)\")\n",
    "results.append(benchmark(NearestCentroid()))\n",
    "model_name.append(\"NearestCentroid (aka Rocchio classifier)\")\n"
   ]
  },
  {
   "cell_type": "markdown",
   "metadata": {},
   "source": [
    "# Define Neural Network model"
   ]
  },
  {
   "cell_type": "code",
   "execution_count": 151,
   "metadata": {
    "collapsed": true
   },
   "outputs": [],
   "source": [
    "def mlp_model(layers, units, dropout_rate, input_shape):\n",
    "    \"\"\"Creates an instance of a multi-layer perceptron model.\n",
    "\n",
    "    # Arguments\n",
    "        layers: int, number of `Dense` layers in the model.\n",
    "        units: int, output dimension of the layers.\n",
    "        dropout_rate: float, percentage of input to drop at Dropout layers.\n",
    "        input_shape: tuple, shape of input to the model.\n",
    "\n",
    "    # Returns\n",
    "        An MLP model instance.\n",
    "    \"\"\"\n",
    "    model = models.Sequential()\n",
    "    model.add(Dropout(rate=dropout_rate, input_shape=input_shape))\n",
    "\n",
    "    for _ in range(layers-1):\n",
    "        model.add(Dense(units=units, activation='relu'))\n",
    "        model.add(Dropout(rate=dropout_rate))\n",
    "\n",
    "    model.add(Dense(units=1, activation='sigmoid'))\n",
    "    return model"
   ]
  },
  {
   "cell_type": "markdown",
   "metadata": {},
   "source": [
    "# Compile Model"
   ]
  },
  {
   "cell_type": "code",
   "execution_count": 152,
   "metadata": {},
   "outputs": [
    {
     "name": "stderr",
     "output_type": "stream",
     "text": [
      "WARNING: Logging before flag parsing goes to stderr.\n",
      "W0827 10:39:33.239121  4372 deprecation.py:506] From C:\\Users\\09263248\\AppData\\Roaming\\Python\\Python36\\site-packages\\tensorflow\\python\\ops\\init_ops.py:1251: calling VarianceScaling.__init__ (from tensorflow.python.ops.init_ops) with dtype is deprecated and will be removed in a future version.\n",
      "Instructions for updating:\n",
      "Call initializer instance with the dtype argument instead of passing it to the constructor\n",
      "W0827 10:39:33.476752  4372 deprecation.py:323] From C:\\Users\\09263248\\AppData\\Roaming\\Python\\Python36\\site-packages\\tensorflow\\python\\ops\\nn_impl.py:180: add_dispatch_support.<locals>.wrapper (from tensorflow.python.ops.array_ops) is deprecated and will be removed in a future version.\n",
      "Instructions for updating:\n",
      "Use tf.where in 2.0, which has the same broadcast rule as np.where\n"
     ]
    },
    {
     "name": "stdout",
     "output_type": "stream",
     "text": [
      "Model: \"sequential\"\n",
      "_________________________________________________________________\n",
      "Layer (type)                 Output Shape              Param #   \n",
      "=================================================================\n",
      "dropout (Dropout)            (None, 12)                0         \n",
      "_________________________________________________________________\n",
      "dense (Dense)                (None, 64)                832       \n",
      "_________________________________________________________________\n",
      "dropout_1 (Dropout)          (None, 64)                0         \n",
      "_________________________________________________________________\n",
      "dense_1 (Dense)              (None, 1)                 65        \n",
      "=================================================================\n",
      "Total params: 897\n",
      "Trainable params: 897\n",
      "Non-trainable params: 0\n",
      "_________________________________________________________________\n"
     ]
    }
   ],
   "source": [
    "learning_rate=1e-3\n",
    "epochs=100\n",
    "batch_size=128\n",
    "layers=2\n",
    "units=64\n",
    "dropout_rate=0.2\n",
    "model = mlp_model(layers=layers,units=units,dropout_rate=dropout_rate,input_shape=X_train.shape[1:])\n",
    "optimizer = tf.keras.optimizers.Adam(lr=learning_rate)\n",
    "model.compile(optimizer=optimizer, loss='binary_crossentropy', metrics=['acc'])\n",
    "callbacks = [tf.keras.callbacks.EarlyStopping(monitor='val_loss', patience=3)]\n",
    "model.summary()"
   ]
  },
  {
   "cell_type": "markdown",
   "metadata": {},
   "source": [
    "# Train model and store results in array"
   ]
  },
  {
   "cell_type": "code",
   "execution_count": 153,
   "metadata": {},
   "outputs": [
    {
     "name": "stdout",
     "output_type": "stream",
     "text": [
      "================================================================================\n",
      "Keras Dense Neural Network\n",
      "________________________________________________________________________________\n",
      "Training: \n",
      "256\n",
      "model name:<tensorflow.python.keras.engine.sequential.Sequential object at 0x0000019982197F98>\n",
      "Train on 256 samples, validate on 38 samples\n",
      "Epoch 1/100\n",
      "256/256 - 0s - loss: 0.8341 - acc: 0.6133 - val_loss: 0.7798 - val_acc: 0.3947\n",
      "Epoch 2/100\n",
      "256/256 - 0s - loss: 0.7762 - acc: 0.6016 - val_loss: 0.7379 - val_acc: 0.3947\n",
      "Epoch 3/100\n",
      "256/256 - 0s - loss: 0.7637 - acc: 0.6367 - val_loss: 0.6970 - val_acc: 0.4737\n",
      "Epoch 4/100\n",
      "256/256 - 0s - loss: 0.7279 - acc: 0.5898 - val_loss: 0.6635 - val_acc: 0.4737\n",
      "Epoch 5/100\n",
      "256/256 - 0s - loss: 0.7842 - acc: 0.6094 - val_loss: 0.6362 - val_acc: 0.4737\n",
      "Epoch 6/100\n",
      "256/256 - 0s - loss: 0.7533 - acc: 0.6172 - val_loss: 0.6125 - val_acc: 0.4737\n",
      "Epoch 7/100\n",
      "256/256 - 0s - loss: 0.6630 - acc: 0.6406 - val_loss: 0.5927 - val_acc: 0.5000\n",
      "Epoch 8/100\n",
      "256/256 - 0s - loss: 0.7087 - acc: 0.6094 - val_loss: 0.5741 - val_acc: 0.5000\n",
      "Epoch 9/100\n",
      "256/256 - 0s - loss: 0.6110 - acc: 0.6797 - val_loss: 0.5584 - val_acc: 0.5263\n",
      "Epoch 10/100\n",
      "256/256 - 0s - loss: 0.6116 - acc: 0.6797 - val_loss: 0.5445 - val_acc: 0.5263\n",
      "Epoch 11/100\n",
      "256/256 - 0s - loss: 0.6220 - acc: 0.6406 - val_loss: 0.5314 - val_acc: 0.5526\n",
      "Epoch 12/100\n",
      "256/256 - 0s - loss: 0.6188 - acc: 0.6914 - val_loss: 0.5194 - val_acc: 0.5526\n",
      "Epoch 13/100\n",
      "256/256 - 0s - loss: 0.6037 - acc: 0.6680 - val_loss: 0.5082 - val_acc: 0.6316\n",
      "Epoch 14/100\n",
      "256/256 - 0s - loss: 0.5819 - acc: 0.7148 - val_loss: 0.4986 - val_acc: 0.6316\n",
      "Epoch 15/100\n",
      "256/256 - 0s - loss: 0.6095 - acc: 0.6836 - val_loss: 0.4900 - val_acc: 0.7368\n",
      "Epoch 16/100\n",
      "256/256 - 0s - loss: 0.5927 - acc: 0.6992 - val_loss: 0.4820 - val_acc: 0.7368\n",
      "Epoch 17/100\n",
      "256/256 - 0s - loss: 0.5689 - acc: 0.7188 - val_loss: 0.4744 - val_acc: 0.7368\n",
      "Epoch 18/100\n",
      "256/256 - 0s - loss: 0.5845 - acc: 0.6641 - val_loss: 0.4676 - val_acc: 0.7368\n",
      "Epoch 19/100\n",
      "256/256 - 0s - loss: 0.5880 - acc: 0.6602 - val_loss: 0.4609 - val_acc: 0.7895\n",
      "Epoch 20/100\n",
      "256/256 - 0s - loss: 0.5672 - acc: 0.7344 - val_loss: 0.4562 - val_acc: 0.7895\n",
      "Epoch 21/100\n",
      "256/256 - 0s - loss: 0.5489 - acc: 0.7500 - val_loss: 0.4522 - val_acc: 0.7895\n",
      "Epoch 22/100\n",
      "256/256 - 0s - loss: 0.5588 - acc: 0.7930 - val_loss: 0.4479 - val_acc: 0.7895\n",
      "Epoch 23/100\n",
      "256/256 - 0s - loss: 0.5872 - acc: 0.7773 - val_loss: 0.4433 - val_acc: 0.7895\n",
      "Epoch 24/100\n",
      "256/256 - 0s - loss: 0.5527 - acc: 0.7539 - val_loss: 0.4390 - val_acc: 0.7895\n",
      "Epoch 25/100\n",
      "256/256 - 0s - loss: 0.5565 - acc: 0.7266 - val_loss: 0.4354 - val_acc: 0.7895\n",
      "Epoch 26/100\n",
      "256/256 - 0s - loss: 0.5517 - acc: 0.7188 - val_loss: 0.4316 - val_acc: 0.8684\n",
      "Epoch 27/100\n",
      "256/256 - 0s - loss: 0.5408 - acc: 0.7617 - val_loss: 0.4282 - val_acc: 0.8684\n",
      "Epoch 28/100\n",
      "256/256 - 0s - loss: 0.5448 - acc: 0.7695 - val_loss: 0.4253 - val_acc: 0.8684\n",
      "Epoch 29/100\n",
      "256/256 - 0s - loss: 0.5307 - acc: 0.7773 - val_loss: 0.4231 - val_acc: 0.8947\n",
      "Epoch 30/100\n",
      "256/256 - 0s - loss: 0.5302 - acc: 0.7656 - val_loss: 0.4208 - val_acc: 0.8947\n",
      "Epoch 31/100\n",
      "256/256 - 0s - loss: 0.5377 - acc: 0.7812 - val_loss: 0.4192 - val_acc: 0.9211\n",
      "Epoch 32/100\n",
      "256/256 - 0s - loss: 0.5343 - acc: 0.7969 - val_loss: 0.4171 - val_acc: 0.9211\n",
      "Epoch 33/100\n",
      "256/256 - 0s - loss: 0.5223 - acc: 0.7812 - val_loss: 0.4143 - val_acc: 0.9211\n",
      "Epoch 34/100\n",
      "256/256 - 0s - loss: 0.5169 - acc: 0.8164 - val_loss: 0.4116 - val_acc: 0.9211\n",
      "Epoch 35/100\n",
      "256/256 - 0s - loss: 0.5089 - acc: 0.8281 - val_loss: 0.4093 - val_acc: 0.9211\n",
      "Epoch 36/100\n",
      "256/256 - 0s - loss: 0.5113 - acc: 0.8203 - val_loss: 0.4065 - val_acc: 0.9211\n",
      "Epoch 37/100\n",
      "256/256 - 0s - loss: 0.5107 - acc: 0.7891 - val_loss: 0.4031 - val_acc: 0.9211\n",
      "Epoch 38/100\n",
      "256/256 - 0s - loss: 0.4951 - acc: 0.8438 - val_loss: 0.4005 - val_acc: 0.9211\n",
      "Epoch 39/100\n",
      "256/256 - 0s - loss: 0.5005 - acc: 0.8477 - val_loss: 0.3977 - val_acc: 0.9211\n",
      "Epoch 40/100\n",
      "256/256 - 0s - loss: 0.5111 - acc: 0.7969 - val_loss: 0.3948 - val_acc: 0.9211\n",
      "Epoch 41/100\n",
      "256/256 - 0s - loss: 0.4825 - acc: 0.8398 - val_loss: 0.3922 - val_acc: 0.9211\n",
      "Epoch 42/100\n",
      "256/256 - 0s - loss: 0.4964 - acc: 0.7969 - val_loss: 0.3893 - val_acc: 0.9211\n",
      "Epoch 43/100\n",
      "256/256 - 0s - loss: 0.4806 - acc: 0.8125 - val_loss: 0.3868 - val_acc: 0.9211\n",
      "Epoch 44/100\n",
      "256/256 - 0s - loss: 0.4862 - acc: 0.8281 - val_loss: 0.3836 - val_acc: 0.9211\n",
      "Epoch 45/100\n",
      "256/256 - 0s - loss: 0.4989 - acc: 0.8008 - val_loss: 0.3807 - val_acc: 0.9211\n",
      "Epoch 46/100\n",
      "256/256 - 0s - loss: 0.4857 - acc: 0.8672 - val_loss: 0.3777 - val_acc: 0.9211\n",
      "Epoch 47/100\n",
      "256/256 - 0s - loss: 0.4954 - acc: 0.8086 - val_loss: 0.3741 - val_acc: 0.9211\n",
      "Epoch 48/100\n",
      "256/256 - 0s - loss: 0.4658 - acc: 0.8555 - val_loss: 0.3707 - val_acc: 0.9211\n",
      "Epoch 49/100\n",
      "256/256 - 0s - loss: 0.4773 - acc: 0.8242 - val_loss: 0.3677 - val_acc: 0.9211\n",
      "Epoch 50/100\n",
      "256/256 - 0s - loss: 0.4672 - acc: 0.8516 - val_loss: 0.3646 - val_acc: 0.9211\n",
      "Epoch 51/100\n",
      "256/256 - 0s - loss: 0.4734 - acc: 0.8125 - val_loss: 0.3611 - val_acc: 0.9211\n",
      "Epoch 52/100\n",
      "256/256 - 0s - loss: 0.4744 - acc: 0.8555 - val_loss: 0.3589 - val_acc: 0.9211\n",
      "Epoch 53/100\n",
      "256/256 - 0s - loss: 0.4508 - acc: 0.8281 - val_loss: 0.3566 - val_acc: 0.9211\n",
      "Epoch 54/100\n",
      "256/256 - 0s - loss: 0.4313 - acc: 0.8828 - val_loss: 0.3538 - val_acc: 0.9211\n",
      "Epoch 55/100\n",
      "256/256 - 0s - loss: 0.4556 - acc: 0.8203 - val_loss: 0.3520 - val_acc: 0.9211\n",
      "Epoch 56/100\n",
      "256/256 - 0s - loss: 0.4489 - acc: 0.8633 - val_loss: 0.3494 - val_acc: 0.9211\n",
      "Epoch 57/100\n",
      "256/256 - 0s - loss: 0.4542 - acc: 0.8242 - val_loss: 0.3473 - val_acc: 0.8947\n",
      "Epoch 58/100\n",
      "256/256 - 0s - loss: 0.4390 - acc: 0.8555 - val_loss: 0.3451 - val_acc: 0.8947\n",
      "Epoch 59/100\n",
      "256/256 - 0s - loss: 0.4441 - acc: 0.8359 - val_loss: 0.3423 - val_acc: 0.8947\n",
      "Epoch 60/100\n",
      "256/256 - 0s - loss: 0.4248 - acc: 0.8359 - val_loss: 0.3392 - val_acc: 0.8947\n",
      "Epoch 61/100\n",
      "256/256 - 0s - loss: 0.4484 - acc: 0.8125 - val_loss: 0.3358 - val_acc: 0.8947\n",
      "Epoch 62/100\n",
      "256/256 - 0s - loss: 0.4350 - acc: 0.8555 - val_loss: 0.3333 - val_acc: 0.8947\n",
      "Epoch 63/100\n",
      "256/256 - 0s - loss: 0.4235 - acc: 0.8672 - val_loss: 0.3316 - val_acc: 0.8947\n",
      "Epoch 64/100\n",
      "256/256 - 0s - loss: 0.4375 - acc: 0.8359 - val_loss: 0.3294 - val_acc: 0.8947\n",
      "Epoch 65/100\n",
      "256/256 - 0s - loss: 0.4336 - acc: 0.8594 - val_loss: 0.3270 - val_acc: 0.8947\n",
      "Epoch 66/100\n",
      "256/256 - 0s - loss: 0.4149 - acc: 0.8438 - val_loss: 0.3252 - val_acc: 0.8947\n",
      "Epoch 67/100\n",
      "256/256 - 0s - loss: 0.4126 - acc: 0.8438 - val_loss: 0.3222 - val_acc: 0.8947\n",
      "Epoch 68/100\n",
      "256/256 - 0s - loss: 0.4100 - acc: 0.8633 - val_loss: 0.3186 - val_acc: 0.8947\n",
      "Epoch 69/100\n",
      "256/256 - 0s - loss: 0.4122 - acc: 0.8516 - val_loss: 0.3156 - val_acc: 0.8947\n",
      "Epoch 70/100\n",
      "256/256 - 0s - loss: 0.4136 - acc: 0.8633 - val_loss: 0.3136 - val_acc: 0.8947\n",
      "Epoch 71/100\n",
      "256/256 - 0s - loss: 0.4019 - acc: 0.8711 - val_loss: 0.3116 - val_acc: 0.8947\n",
      "Epoch 72/100\n",
      "256/256 - 0s - loss: 0.3938 - acc: 0.8398 - val_loss: 0.3098 - val_acc: 0.8947\n",
      "Epoch 73/100\n",
      "256/256 - 0s - loss: 0.4077 - acc: 0.8711 - val_loss: 0.3075 - val_acc: 0.8947\n",
      "Epoch 74/100\n",
      "256/256 - 0s - loss: 0.4051 - acc: 0.8477 - val_loss: 0.3052 - val_acc: 0.8947\n",
      "Epoch 75/100\n",
      "256/256 - 0s - loss: 0.3966 - acc: 0.8867 - val_loss: 0.3027 - val_acc: 0.8947\n",
      "Epoch 76/100\n",
      "256/256 - 0s - loss: 0.4151 - acc: 0.8633 - val_loss: 0.3012 - val_acc: 0.8947\n",
      "Epoch 77/100\n",
      "256/256 - 0s - loss: 0.3996 - acc: 0.8672 - val_loss: 0.3001 - val_acc: 0.8947\n",
      "Epoch 78/100\n",
      "256/256 - 0s - loss: 0.3901 - acc: 0.8867 - val_loss: 0.2992 - val_acc: 0.8947\n",
      "Epoch 79/100\n",
      "256/256 - 0s - loss: 0.4008 - acc: 0.8594 - val_loss: 0.2979 - val_acc: 0.8947\n",
      "Epoch 80/100\n",
      "256/256 - 0s - loss: 0.4021 - acc: 0.8438 - val_loss: 0.2963 - val_acc: 0.8947\n",
      "Epoch 81/100\n",
      "256/256 - 0s - loss: 0.3925 - acc: 0.8867 - val_loss: 0.2952 - val_acc: 0.8947\n",
      "Epoch 82/100\n",
      "256/256 - 0s - loss: 0.4037 - acc: 0.8398 - val_loss: 0.2929 - val_acc: 0.8947\n",
      "Epoch 83/100\n",
      "256/256 - 0s - loss: 0.3786 - acc: 0.8711 - val_loss: 0.2908 - val_acc: 0.8947\n",
      "Epoch 84/100\n",
      "256/256 - 0s - loss: 0.3779 - acc: 0.8633 - val_loss: 0.2885 - val_acc: 0.8947\n",
      "Epoch 85/100\n",
      "256/256 - 0s - loss: 0.3966 - acc: 0.8398 - val_loss: 0.2862 - val_acc: 0.8947\n",
      "Epoch 86/100\n",
      "256/256 - 0s - loss: 0.3732 - acc: 0.8906 - val_loss: 0.2840 - val_acc: 0.8947\n"
     ]
    },
    {
     "name": "stdout",
     "output_type": "stream",
     "text": [
      "Epoch 87/100\n",
      "256/256 - 0s - loss: 0.3681 - acc: 0.8867 - val_loss: 0.2811 - val_acc: 0.8947\n",
      "Epoch 88/100\n",
      "256/256 - 0s - loss: 0.3798 - acc: 0.8555 - val_loss: 0.2779 - val_acc: 0.8947\n",
      "Epoch 89/100\n",
      "256/256 - 0s - loss: 0.3884 - acc: 0.8516 - val_loss: 0.2755 - val_acc: 0.8947\n",
      "Epoch 90/100\n",
      "256/256 - 0s - loss: 0.3709 - acc: 0.8672 - val_loss: 0.2737 - val_acc: 0.8947\n",
      "Epoch 91/100\n",
      "256/256 - 0s - loss: 0.3688 - acc: 0.8867 - val_loss: 0.2712 - val_acc: 0.8947\n",
      "Epoch 92/100\n",
      "256/256 - 0s - loss: 0.3582 - acc: 0.8789 - val_loss: 0.2688 - val_acc: 0.8947\n",
      "Epoch 93/100\n",
      "256/256 - 0s - loss: 0.3702 - acc: 0.8711 - val_loss: 0.2669 - val_acc: 0.8947\n",
      "Epoch 94/100\n",
      "256/256 - 0s - loss: 0.3753 - acc: 0.8672 - val_loss: 0.2649 - val_acc: 0.8947\n",
      "Epoch 95/100\n",
      "256/256 - 0s - loss: 0.3892 - acc: 0.8398 - val_loss: 0.2633 - val_acc: 0.8947\n",
      "Epoch 96/100\n",
      "256/256 - 0s - loss: 0.3728 - acc: 0.8438 - val_loss: 0.2629 - val_acc: 0.8947\n",
      "Epoch 97/100\n",
      "256/256 - 0s - loss: 0.3523 - acc: 0.8828 - val_loss: 0.2616 - val_acc: 0.8947\n",
      "Epoch 98/100\n",
      "256/256 - 0s - loss: 0.3522 - acc: 0.8750 - val_loss: 0.2601 - val_acc: 0.8947\n",
      "Epoch 99/100\n",
      "256/256 - 0s - loss: 0.3452 - acc: 0.8711 - val_loss: 0.2584 - val_acc: 0.8947\n",
      "Epoch 100/100\n",
      "256/256 - 0s - loss: 0.3624 - acc: 0.8750 - val_loss: 0.2563 - val_acc: 0.8947\n",
      "train time: 379380.000s\n",
      "f1_score:   0.985\n",
      "f1_score_train:   0.844\n",
      "classification report:\n",
      "             precision    recall  f1-score   support\n",
      "\n",
      "          0       0.83      1.00      0.91         5\n",
      "          1       1.00      0.97      0.98        33\n",
      "\n",
      "avg / total       0.98      0.97      0.97        38\n",
      "\n",
      "confusion matrix:\n",
      "[[ 5  0]\n",
      " [ 1 32]]\n"
     ]
    }
   ],
   "source": [
    "print('=' * 80)\n",
    "print(\"Keras Dense Neural Network\")\n",
    "results.append(benchmark(model))\n",
    "model_name.append(\"Keras Dense Neural Network\")"
   ]
  },
  {
   "cell_type": "markdown",
   "metadata": {},
   "source": [
    "# Visualize the results from multiple Machine Learning Models (accuracy - train, accuracy - test, training time)"
   ]
  },
  {
   "cell_type": "code",
   "execution_count": 154,
   "metadata": {},
   "outputs": [
    {
     "data": {
      "image/png": "[encoded data removed]",
      "text/plain": [
       "<matplotlib.figure.Figure at 0x19986355828>"
      ]
     },
     "metadata": {},
     "output_type": "display_data"
    }
   ],
   "source": [
    "indices = np.arange(len(results))\n",
    "\n",
    "results = [[x[i] for x in results] for i in range(4)]\n",
    "\n",
    "clf_names, f1_score_train, f1_score_test, training_time = results\n",
    "\n",
    "training_time = np.array(training_time) / np.max(training_time)\n",
    "\n",
    "plt.figure(figsize=(12, 8))\n",
    "plt.title(\"Score\")\n",
    "plt.barh(indices, f1_score_train, .2, label=\"f1_score_train\", color='r')\n",
    "plt.barh(indices+0.3, f1_score_test, .2, label=\"f1_score_test\", color='b')\n",
    "plt.barh(indices + .6, training_time, .2, label=\"training time\", color='g')\n",
    "plt.yticks(())\n",
    "plt.legend(loc='best')\n",
    "plt.subplots_adjust(left=.25)\n",
    "plt.subplots_adjust(top=.95)\n",
    "plt.subplots_adjust(bottom=.05)\n",
    "\n",
    "for i, c in zip(indices, model_name):\n",
    "    plt.text(-.3, i, c)\n",
    "\n",
    "plt.show()"
   ]
  },
  {
   "cell_type": "markdown",
   "metadata": {},
   "source": [
    "# The above results show the Precision and Accuracy of the 'No' cases is maximum with RandomForestClassifier and kNN Classifier, after taking 6 components in PCA, with StandardScaler."
   ]
  }
 ],
 "metadata": {
  "kernelspec": {
   "display_name": "Python 3",
   "language": "python",
   "name": "python3"
  },
  "language_info": {
   "codemirror_mode": {
    "name": "ipython",
    "version": 3
   },
   "file_extension": ".py",
   "mimetype": "text/x-python",
   "name": "python",
   "nbconvert_exporter": "python",
   "pygments_lexer": "ipython3",
   "version": "3.6.2"
  }
 },
 "nbformat": 4,
 "nbformat_minor": 2
}
