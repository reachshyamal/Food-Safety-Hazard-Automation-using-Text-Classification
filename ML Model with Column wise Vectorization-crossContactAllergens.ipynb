{
 "cells": [
  {
   "cell_type": "markdown",
   "metadata": {},
   "source": [
    "# This notebook reads text data from data extract created from FSHA Forms and runs predictive Models to predict the value 'Are there any inherent or cross contact allergens or intolerants?' , based on the Input Data\n",
    "# It does vectorization of each Column and concatenates these Vectors to create a final Feature Vector and fits the best ML Model found from benchmarking study"
   ]
  },
  {
   "cell_type": "code",
   "execution_count": 1,
   "metadata": {},
   "outputs": [
    {
     "name": "stderr",
     "output_type": "stream",
     "text": [
      "C:\\ProgramData\\Anaconda3\\lib\\site-packages\\sklearn\\ensemble\\weight_boosting.py:29: DeprecationWarning: numpy.core.umath_tests is an internal NumPy module and should not be imported. It will be removed in a future NumPy release.\n",
      "  from numpy.core.umath_tests import inner1d\n",
      "C:\\ProgramData\\Anaconda3\\lib\\site-packages\\h5py\\__init__.py:34: FutureWarning: Conversion of the second argument of issubdtype from `float` to `np.floating` is deprecated. In future, it will be treated as `np.float64 == np.dtype(float).type`.\n",
      "  from ._conv import register_converters as _register_converters\n"
     ]
    }
   ],
   "source": [
    "#import all necessary modules\n",
    "from __future__ import print_function\n",
    "import logging\n",
    "from optparse import OptionParser\n",
    "import sys\n",
    "from time import time\n",
    "import matplotlib.pyplot as plt\n",
    "import os\n",
    "import nltk\n",
    "import string\n",
    "from nltk.stem.porter import PorterStemmer\n",
    "from nltk.tokenize import word_tokenize,sent_tokenize\n",
    "from nltk.tokenize import RegexpTokenizer\n",
    "import re\n",
    "import numpy as np\n",
    "from numpy import array\n",
    "from numpy import argmax\n",
    "from scipy import signal\n",
    "import random\n",
    "import string\n",
    "import pandas as pd\n",
    "from sklearn.model_selection import train_test_split \n",
    "from sklearn.pipeline import Pipeline\n",
    "from sklearn.feature_extraction.text import TfidfVectorizer\n",
    "from sklearn.feature_selection import SelectKBest, chi2\n",
    "from sklearn.preprocessing import LabelEncoder\n",
    "from sklearn.preprocessing import OneHotEncoder\n",
    "from sklearn.feature_selection import f_classif\n",
    "import matplotlib.pyplot as plt\n",
    "from sklearn.pipeline import Pipeline\n",
    "from sklearn.feature_extraction.text import CountVectorizer\n",
    "from sklearn.preprocessing import StandardScaler\n",
    "from sklearn.metrics import classification_report, confusion_matrix  \n",
    "from sklearn.linear_model import LogisticRegression\n",
    "from sklearn.linear_model import PassiveAggressiveClassifier\n",
    "from sklearn.svm import SVC \n",
    "from sklearn import svm\n",
    "from sklearn.svm import LinearSVC\n",
    "from sklearn.naive_bayes import MultinomialNB,BernoulliNB\n",
    "from sklearn.neighbors import KNeighborsClassifier\n",
    "from sklearn.neighbors import NearestCentroid\n",
    "from sklearn.linear_model import RidgeClassifier\n",
    "from sklearn.linear_model import SGDClassifier\n",
    "from sklearn import tree\n",
    "from sklearn.ensemble import RandomForestClassifier\n",
    "from sklearn import linear_model\n",
    "from sklearn.ensemble import AdaBoostClassifier\n",
    "from sklearn.linear_model import Perceptron\n",
    "from sklearn.neural_network import MLPClassifier\n",
    "from sklearn.utils.extmath import density\n",
    "from sklearn.decomposition import PCA\n",
    "from sklearn import metrics\n",
    "import tensorflow as tf\n",
    "from tensorflow.python.keras import models\n",
    "from tensorflow.python.keras import initializers\n",
    "from tensorflow.python.keras import regularizers\n",
    "from tensorflow.python.keras.layers import Dense\n",
    "from tensorflow.python.keras.layers import Dropout\n",
    "import warnings\n",
    "warnings.simplefilter('ignore')"
   ]
  },
  {
   "cell_type": "code",
   "execution_count": 2,
   "metadata": {},
   "outputs": [
    {
     "data": {
      "text/plain": [
       "'1.14.0'"
      ]
     },
     "execution_count": 2,
     "metadata": {},
     "output_type": "execute_result"
    }
   ],
   "source": [
    "tf.__version__"
   ]
  },
  {
   "cell_type": "code",
   "execution_count": 3,
   "metadata": {},
   "outputs": [
    {
     "name": "stdout",
     "output_type": "stream",
     "text": [
      "0.19.0\n"
     ]
    }
   ],
   "source": [
    "import sklearn\n",
    "print(sklearn.__version__)"
   ]
  },
  {
   "cell_type": "markdown",
   "metadata": {},
   "source": [
    "## File name and other important parameters like ngram_range set"
   ]
  },
  {
   "cell_type": "code",
   "execution_count": 92,
   "metadata": {
    "collapsed": true
   },
   "outputs": [],
   "source": [
    "ngram_range_inp=(1,2)\n",
    "#File extract with all Yes values for the crossContactAllergens choice\n",
    "filename = \"C:/Pepsico/FSHA RPA - 25 July 2019 - 209Files.xlsm\""
   ]
  },
  {
   "cell_type": "code",
   "execution_count": 93,
   "metadata": {
    "collapsed": true
   },
   "outputs": [],
   "source": [
    "#File extract with all No values for the crossContactAllergens choice\n",
    "filename1 = \"C:/Pepsico/MLextracts_allergen 08 26.xlsm\""
   ]
  },
  {
   "cell_type": "markdown",
   "metadata": {},
   "source": [
    "# Define reusable modular method for Text Normalization (removal of stopwords, changing to lower case, removal of punctuation etc) "
   ]
  },
  {
   "cell_type": "code",
   "execution_count": 7,
   "metadata": {
    "collapsed": true
   },
   "outputs": [],
   "source": [
    "import pandas as pd\n",
    "import numpy as np\n",
    "import nltk\n",
    "from nltk.tokenize.toktok import ToktokTokenizer\n",
    "import re\n",
    "from bs4 import BeautifulSoup\n",
    "import unicodedata\n",
    "\n",
    "tokenizer = ToktokTokenizer()\n",
    "stopword_list = nltk.corpus.stopwords.words('english')\n",
    "stopword_list.remove('no')\n",
    "stopword_list.remove('not')\n",
    "def strip_html_tags(text):\n",
    "    soup = BeautifulSoup(text, \"html.parser\")\n",
    "    stripped_text = soup.get_text()\n",
    "    return stripped_text\n",
    "def remove_accented_chars(text):\n",
    "    text = unicodedata.normalize('NFKD', text).encode('ascii', 'ignore').decode('utf-8', 'ignore')\n",
    "    return text\n",
    "\n",
    "def remove_special_characters(text):\n",
    "    text = re.sub('[^a-zA-z0-9\\s]', '', text)\n",
    "    return text\n",
    "\n",
    "def remove_stopwords(text, is_lower_case=False):\n",
    "    tokens = tokenizer.tokenize(text)\n",
    "    tokens = [token.strip() for token in tokens]\n",
    "    if is_lower_case:\n",
    "        filtered_tokens = [token for token in tokens if token not in stopword_list]\n",
    "    else:\n",
    "        filtered_tokens = [token for token in tokens if token.lower() not in stopword_list]\n",
    "    filtered_text = ' '.join(filtered_tokens)    \n",
    "    return filtered_text\n",
    "def normalize_corpus(corpus, html_stripping=True, contraction_expansion=True,\n",
    "                     accented_char_removal=True, text_lower_case=True, \n",
    "                     text_lemmatization=True, special_char_removal=True, \n",
    "                     stopword_removal=True):\n",
    "    \n",
    "    normalized_corpus = []\n",
    "    # normalize each document in the corpus\n",
    "    for doc in corpus:\n",
    "        # strip HTML\n",
    "        if html_stripping:\n",
    "            doc = strip_html_tags(doc)\n",
    "        # remove accented characters\n",
    "        if accented_char_removal:\n",
    "            doc = remove_accented_chars(doc)\n",
    "\n",
    "        # lowercase the text    \n",
    "        if text_lower_case:\n",
    "            doc = doc.lower()\n",
    "        # remove extra newlines\n",
    "        doc = re.sub(r'[\\r|\\n|\\r\\n]+', ' ',doc)\n",
    "        # insert spaces between special characters to isolate them    \n",
    "        special_char_pattern = re.compile(r'([{.(-)!}])')\n",
    "        doc = special_char_pattern.sub(\" \\\\1 \", doc)\n",
    "        # remove special characters    \n",
    "        if special_char_removal:\n",
    "            doc = remove_special_characters(doc)  \n",
    "        # remove extra whitespace\n",
    "        doc = re.sub(' +', ' ', doc)\n",
    "        # remove stopwords\n",
    "        if stopword_removal:\n",
    "            doc = remove_stopwords(doc, is_lower_case=text_lower_case)\n",
    "            \n",
    "        normalized_corpus.append(doc)\n",
    "        \n",
    "    return normalized_corpus"
   ]
  },
  {
   "cell_type": "markdown",
   "metadata": {},
   "source": [
    "# Read the data extract file (tabular format with Input data(X) and target(Y))"
   ]
  },
  {
   "cell_type": "code",
   "execution_count": 94,
   "metadata": {
    "collapsed": true
   },
   "outputs": [],
   "source": [
    "fsha_data = pd.read_excel(filename)"
   ]
  },
  {
   "cell_type": "code",
   "execution_count": 95,
   "metadata": {},
   "outputs": [
    {
     "data": {
      "text/plain": [
       "209"
      ]
     },
     "execution_count": 95,
     "metadata": {},
     "output_type": "execute_result"
    }
   ],
   "source": [
    "len(fsha_data)"
   ]
  },
  {
   "cell_type": "code",
   "execution_count": 96,
   "metadata": {
    "collapsed": true
   },
   "outputs": [],
   "source": [
    "#Take only Yes choices from first file (there are data entry errors for No choices)\n",
    "fsha_data = fsha_data[(fsha_data['crossContactAllergens']=='Yes')]"
   ]
  },
  {
   "cell_type": "code",
   "execution_count": 97,
   "metadata": {},
   "outputs": [
    {
     "data": {
      "text/plain": [
       "203"
      ]
     },
     "execution_count": 97,
     "metadata": {},
     "output_type": "execute_result"
    }
   ],
   "source": [
    "len(fsha_data)"
   ]
  },
  {
   "cell_type": "code",
   "execution_count": 98,
   "metadata": {
    "collapsed": true
   },
   "outputs": [],
   "source": [
    "fsha_data_no = pd.read_excel(filename1)"
   ]
  },
  {
   "cell_type": "code",
   "execution_count": 99,
   "metadata": {},
   "outputs": [
    {
     "data": {
      "text/plain": [
       "25"
      ]
     },
     "execution_count": 99,
     "metadata": {},
     "output_type": "execute_result"
    }
   ],
   "source": [
    "len(fsha_data_no)"
   ]
  },
  {
   "cell_type": "code",
   "execution_count": 100,
   "metadata": {
    "collapsed": true
   },
   "outputs": [],
   "source": [
    "#Concatenate Yes and No values\n",
    "fsha_data = pd.concat([fsha_data,fsha_data_no])"
   ]
  },
  {
   "cell_type": "code",
   "execution_count": 101,
   "metadata": {},
   "outputs": [
    {
     "data": {
      "text/plain": [
       "228"
      ]
     },
     "execution_count": 101,
     "metadata": {},
     "output_type": "execute_result"
    }
   ],
   "source": [
    "len(fsha_data)"
   ]
  },
  {
   "cell_type": "code",
   "execution_count": 102,
   "metadata": {},
   "outputs": [
    {
     "data": {
      "text/plain": [
       "Yes    203\n",
       "No      25\n",
       "Name: crossContactAllergens, dtype: int64"
      ]
     },
     "execution_count": 102,
     "metadata": {},
     "output_type": "execute_result"
    }
   ],
   "source": [
    "fsha_data.crossContactAllergens.value_counts()"
   ]
  },
  {
   "cell_type": "code",
   "execution_count": 16,
   "metadata": {},
   "outputs": [
    {
     "data": {
      "text/html": [
       "<div>\n",
       "<style>\n",
       "    .dataframe thead tr:only-child th {\n",
       "        text-align: right;\n",
       "    }\n",
       "\n",
       "    .dataframe thead th {\n",
       "        text-align: left;\n",
       "    }\n",
       "\n",
       "    .dataframe tbody tr th {\n",
       "        vertical-align: top;\n",
       "    }\n",
       "</style>\n",
       "<table border=\"1\" class=\"dataframe\">\n",
       "  <thead>\n",
       "    <tr style=\"text-align: right;\">\n",
       "      <th></th>\n",
       "      <th>CPD-ProdName</th>\n",
       "      <th>CPD-ProdName-Desc</th>\n",
       "      <th>Current TSG Stage</th>\n",
       "      <th>FSAssessors</th>\n",
       "      <th>FSDate</th>\n",
       "      <th>File Name</th>\n",
       "      <th>PDA_projName</th>\n",
       "      <th>PlantTrial</th>\n",
       "      <th>TCG</th>\n",
       "      <th>Table1_Row1_Celery</th>\n",
       "      <th>...</th>\n",
       "      <th>prodModifications</th>\n",
       "      <th>prodStorageDist</th>\n",
       "      <th>projDesc</th>\n",
       "      <th>projName</th>\n",
       "      <th>projType</th>\n",
       "      <th>sector</th>\n",
       "      <th>shelfLife</th>\n",
       "      <th>specificStorage</th>\n",
       "      <th>targetMarket</th>\n",
       "      <th>waterActivity</th>\n",
       "    </tr>\n",
       "  </thead>\n",
       "  <tbody>\n",
       "    <tr>\n",
       "      <th>0</th>\n",
       "      <td>1SKU Star Puffs Onion\\n2 SKU Star Puffs Cheese...</td>\n",
       "      <td>Extruded and baked corn base product, flavoure...</td>\n",
       "      <td>G3</td>\n",
       "      <td>Helen Booden</td>\n",
       "      <td>21/11/2017</td>\n",
       "      <td>#46565 FSHA 5.4.1Star Project G3 v2 + FS input...</td>\n",
       "      <td>1SKU Star Puffs Onion\\n2 SKU Star Puffs Cheese...</td>\n",
       "      <td>Tomaszow plant, trial conducted on 02/11/2017</td>\n",
       "      <td>Families and Adults, value conscious consumers</td>\n",
       "      <td>0</td>\n",
       "      <td>...</td>\n",
       "      <td>No</td>\n",
       "      <td>Store in a dry, cool and away from sun place.</td>\n",
       "      <td>Star Puffs Cheese &amp; STar Hyper Cheese\\nSeasoni...</td>\n",
       "      <td>S-T3-Star-• POL Star Puff (Chrupki) quality –POL</td>\n",
       "      <td>Brand Refresh</td>\n",
       "      <td>ESSA</td>\n",
       "      <td>26 weeks</td>\n",
       "      <td>No</td>\n",
       "      <td>People with allergies to milk, lactose, peanuts.</td>\n",
       "      <td>low moisture food</td>\n",
       "    </tr>\n",
       "    <tr>\n",
       "      <th>1</th>\n",
       "      <td>Hrusteam</td>\n",
       "      <td>Crispy Bread</td>\n",
       "      <td>Gate 3, 4</td>\n",
       "      <td>Fedor Kholodov</td>\n",
       "      <td>2019-06-14 00:00:00</td>\n",
       "      <td>#53697 FSHA HT Baguette 4 Cheese UA 2.07.19.xlsm</td>\n",
       "      <td>Hrusteam Baguette</td>\n",
       "      <td>Nikolaev</td>\n",
       "      <td>Adults</td>\n",
       "      <td>0</td>\n",
       "      <td>...</td>\n",
       "      <td>No</td>\n",
       "      <td>Keep at temperature 25 °C, &lt;75% humidity</td>\n",
       "      <td>Launch new seasoning 4 Cheese NL-502-352-9 on ...</td>\n",
       "      <td>HT Baguette Four Cheese Flavor</td>\n",
       "      <td>Refresh</td>\n",
       "      <td>ESSA</td>\n",
       "      <td>140 days</td>\n",
       "      <td>Keep at temperature 25 °C, &lt;75% humidity</td>\n",
       "      <td>No</td>\n",
       "      <td>low water activity</td>\n",
       "    </tr>\n",
       "    <tr>\n",
       "      <th>2</th>\n",
       "      <td>Lay's Red Caviar</td>\n",
       "      <td>Potato chips</td>\n",
       "      <td>Development + Scale-up</td>\n",
       "      <td>Helen Booden</td>\n",
       "      <td>2019-06-27 00:00:00</td>\n",
       "      <td>#57686 FSHA 5.4.1 Red Caviar  Azov.xlsm</td>\n",
       "      <td>Lay's Red Caviar</td>\n",
       "      <td>Azov, Russia</td>\n",
       "      <td>18-45 y.o. males 50%/females 50%</td>\n",
       "      <td>0</td>\n",
       "      <td>...</td>\n",
       "      <td>No</td>\n",
       "      <td>air temperature is not higher than 25 ˚С and r...</td>\n",
       "      <td>Idea is to launch I&amp;O flavour under New Year p...</td>\n",
       "      <td>Lay's Caviar IO 2019 RUS Asov</td>\n",
       "      <td>Refresh</td>\n",
       "      <td>ESSA</td>\n",
       "      <td>20+1 week</td>\n",
       "      <td>store the product for no more than 24 hours at...</td>\n",
       "      <td>people with allergy to ingredients in the prod...</td>\n",
       "      <td>Low water activity</td>\n",
       "    </tr>\n",
       "    <tr>\n",
       "      <th>3</th>\n",
       "      <td>Lay's Red Caviar</td>\n",
       "      <td>Potato chips</td>\n",
       "      <td>Development + Scale-up</td>\n",
       "      <td>Helen Booden</td>\n",
       "      <td>2019-06-27 00:00:00</td>\n",
       "      <td>#57686 FSHA 5.4.1 Red Caviar Kashira.xlsm</td>\n",
       "      <td>Lay's Red Caviar</td>\n",
       "      <td>Kashira, Russia</td>\n",
       "      <td>18-45 y.o. males 50%/females 50%</td>\n",
       "      <td>0</td>\n",
       "      <td>...</td>\n",
       "      <td>No</td>\n",
       "      <td>air temperature is not higher than 25 ˚С and r...</td>\n",
       "      <td>Idea is to launch I&amp;O flavour under New Year p...</td>\n",
       "      <td>Lay's Caviar IO 2019 RUS Kashira</td>\n",
       "      <td>Refresh</td>\n",
       "      <td>ESSA</td>\n",
       "      <td>20+1 week</td>\n",
       "      <td>store the product for no more than 24 hours at...</td>\n",
       "      <td>people with allergy to ingredients in the prod...</td>\n",
       "      <td>Low water activity</td>\n",
       "    </tr>\n",
       "    <tr>\n",
       "      <th>4</th>\n",
       "      <td>Cheetos Palomitos</td>\n",
       "      <td>Extruded product with \"popcorn\" shape with cre...</td>\n",
       "      <td>G3 4 Combined</td>\n",
       "      <td>Helen Booden</td>\n",
       "      <td>2018-11-28 00:00:00</td>\n",
       "      <td>53354-FSHA-In Process 13.12.18.xlsm</td>\n",
       "      <td>Cheetos Palomito</td>\n",
       "      <td>Burgos, Spain</td>\n",
       "      <td>Kids and families</td>\n",
       "      <td>0</td>\n",
       "      <td>...</td>\n",
       "      <td>No</td>\n",
       "      <td>Product to be sold in Iberia, storage in ambie...</td>\n",
       "      <td>Re Launch of Cheetos Palomitos, Soft Extruded ...</td>\n",
       "      <td>Soft and Mild Iberia 2019</td>\n",
       "      <td>Re Launch</td>\n",
       "      <td>ESSA</td>\n",
       "      <td>Flavour/color loss powered by clear film windo...</td>\n",
       "      <td>Ensure the bag is closed and consumed after 2 ...</td>\n",
       "      <td>Kids from  4-10</td>\n",
       "      <td>Low water activity</td>\n",
       "    </tr>\n",
       "  </tbody>\n",
       "</table>\n",
       "<p>5 rows × 138 columns</p>\n",
       "</div>"
      ],
      "text/plain": [
       "                                        CPD-ProdName  \\\n",
       "0  1SKU Star Puffs Onion\\n2 SKU Star Puffs Cheese...   \n",
       "1                                           Hrusteam   \n",
       "2                                   Lay's Red Caviar   \n",
       "3                                   Lay's Red Caviar   \n",
       "4                                  Cheetos Palomitos   \n",
       "\n",
       "                                   CPD-ProdName-Desc       Current TSG Stage  \\\n",
       "0  Extruded and baked corn base product, flavoure...                      G3   \n",
       "1                                       Crispy Bread               Gate 3, 4   \n",
       "2                                       Potato chips  Development + Scale-up   \n",
       "3                                       Potato chips  Development + Scale-up   \n",
       "4  Extruded product with \"popcorn\" shape with cre...           G3 4 Combined   \n",
       "\n",
       "      FSAssessors               FSDate  \\\n",
       "0    Helen Booden           21/11/2017   \n",
       "1  Fedor Kholodov  2019-06-14 00:00:00   \n",
       "2  Helen Booden    2019-06-27 00:00:00   \n",
       "3  Helen Booden    2019-06-27 00:00:00   \n",
       "4    Helen Booden  2018-11-28 00:00:00   \n",
       "\n",
       "                                           File Name  \\\n",
       "0  #46565 FSHA 5.4.1Star Project G3 v2 + FS input...   \n",
       "1   #53697 FSHA HT Baguette 4 Cheese UA 2.07.19.xlsm   \n",
       "2            #57686 FSHA 5.4.1 Red Caviar  Azov.xlsm   \n",
       "3          #57686 FSHA 5.4.1 Red Caviar Kashira.xlsm   \n",
       "4                53354-FSHA-In Process 13.12.18.xlsm   \n",
       "\n",
       "                                        PDA_projName  \\\n",
       "0  1SKU Star Puffs Onion\\n2 SKU Star Puffs Cheese...   \n",
       "1                                  Hrusteam Baguette   \n",
       "2                                  Lay's Red Caviar    \n",
       "3                                  Lay's Red Caviar    \n",
       "4                                   Cheetos Palomito   \n",
       "\n",
       "                                      PlantTrial  \\\n",
       "0  Tomaszow plant, trial conducted on 02/11/2017   \n",
       "1                                       Nikolaev   \n",
       "2                                   Azov, Russia   \n",
       "3                               Kashira, Russia    \n",
       "4                                  Burgos, Spain   \n",
       "\n",
       "                                              TCG Table1_Row1_Celery  \\\n",
       "0  Families and Adults, value conscious consumers                  0   \n",
       "1                                          Adults                  0   \n",
       "2                18-45 y.o. males 50%/females 50%                  0   \n",
       "3                18-45 y.o. males 50%/females 50%                  0   \n",
       "4                               Kids and families                  0   \n",
       "\n",
       "          ...         prodModifications  \\\n",
       "0         ...                        No   \n",
       "1         ...                        No   \n",
       "2         ...                        No   \n",
       "3         ...                        No   \n",
       "4         ...                        No   \n",
       "\n",
       "                                     prodStorageDist  \\\n",
       "0      Store in a dry, cool and away from sun place.   \n",
       "1           Keep at temperature 25 °C, <75% humidity   \n",
       "2  air temperature is not higher than 25 ˚С and r...   \n",
       "3  air temperature is not higher than 25 ˚С and r...   \n",
       "4  Product to be sold in Iberia, storage in ambie...   \n",
       "\n",
       "                                            projDesc  \\\n",
       "0  Star Puffs Cheese & STar Hyper Cheese\\nSeasoni...   \n",
       "1  Launch new seasoning 4 Cheese NL-502-352-9 on ...   \n",
       "2  Idea is to launch I&O flavour under New Year p...   \n",
       "3  Idea is to launch I&O flavour under New Year p...   \n",
       "4  Re Launch of Cheetos Palomitos, Soft Extruded ...   \n",
       "\n",
       "                                            projName       projType sector  \\\n",
       "0  S-T3-Star-• POL Star Puff (Chrupki) quality –POL   Brand Refresh   ESSA   \n",
       "1                     HT Baguette Four Cheese Flavor        Refresh   ESSA   \n",
       "2                      Lay's Caviar IO 2019 RUS Asov        Refresh   ESSA   \n",
       "3                   Lay's Caviar IO 2019 RUS Kashira        Refresh   ESSA   \n",
       "4                          Soft and Mild Iberia 2019      Re Launch   ESSA   \n",
       "\n",
       "                                           shelfLife  \\\n",
       "0                                           26 weeks   \n",
       "1                                           140 days   \n",
       "2                                          20+1 week   \n",
       "3                                          20+1 week   \n",
       "4  Flavour/color loss powered by clear film windo...   \n",
       "\n",
       "                                     specificStorage  \\\n",
       "0                                                 No   \n",
       "1           Keep at temperature 25 °C, <75% humidity   \n",
       "2  store the product for no more than 24 hours at...   \n",
       "3  store the product for no more than 24 hours at...   \n",
       "4  Ensure the bag is closed and consumed after 2 ...   \n",
       "\n",
       "                                        targetMarket       waterActivity  \n",
       "0   People with allergies to milk, lactose, peanuts.   low moisture food  \n",
       "1                                                 No  low water activity  \n",
       "2  people with allergy to ingredients in the prod...  Low water activity  \n",
       "3  people with allergy to ingredients in the prod...  Low water activity  \n",
       "4                                    Kids from  4-10  Low water activity  \n",
       "\n",
       "[5 rows x 138 columns]"
      ]
     },
     "execution_count": 16,
     "metadata": {},
     "output_type": "execute_result"
    }
   ],
   "source": [
    "fsha_data.head()"
   ]
  },
  {
   "cell_type": "markdown",
   "metadata": {},
   "source": [
    "# Based on Analysis select the Features (X)"
   ]
  },
  {
   "cell_type": "code",
   "execution_count": 103,
   "metadata": {
    "collapsed": true
   },
   "outputs": [],
   "source": [
    "#selecting set of columns as Features\n",
    "features_df=fsha_data[['allergens','allergensLabeledIMAF']]"
   ]
  },
  {
   "cell_type": "markdown",
   "metadata": {},
   "source": [
    "# Replace missing values in features with NA"
   ]
  },
  {
   "cell_type": "code",
   "execution_count": 104,
   "metadata": {
    "collapsed": true
   },
   "outputs": [],
   "source": [
    "features_df.fillna('NA', inplace=True)"
   ]
  },
  {
   "cell_type": "code",
   "execution_count": 105,
   "metadata": {
    "collapsed": true
   },
   "outputs": [],
   "source": [
    "train_df = features_df"
   ]
  },
  {
   "cell_type": "markdown",
   "metadata": {},
   "source": [
    "# Define reusable code to Vectorize Text column (ex: Allergens) using TF-IDF Vectorizer, after doing Text data normalization"
   ]
  },
  {
   "cell_type": "code",
   "execution_count": 106,
   "metadata": {
    "collapsed": true
   },
   "outputs": [],
   "source": [
    "# Vectorization of text data using TF-IDF Vectorizer\n",
    "\n",
    "\n",
    "# Whether text should be split into word or character n-grams.\n",
    "# One of 'word', 'char'.\n",
    "TOKEN_MODE = 'word'\n",
    "\n",
    "# Minimum document/corpus frequency below which a token will be discarded.\n",
    "MIN_DOCUMENT_FREQUENCY = 2\n",
    "\n",
    "# Limit on the length of text sequences. Sequences longer than this\n",
    "# will be truncated.\n",
    "MAX_SEQUENCE_LENGTH = 500\n",
    "\n",
    "\n",
    "def ngram_vectorize(train_texts, train_labels,ngram_range):\n",
    "    \"\"\"Vectorizes texts as ngram vectors.\n",
    "\n",
    "    1 text = 1 tf-idf vector the length of vocabulary of uni-grams + bi-grams.\n",
    "\n",
    "    # Arguments\n",
    "        train_texts: list, training text strings.\n",
    "        train_labels: np.ndarray, training labels.\n",
    "        val_texts: list, validation text strings.\n",
    "\n",
    "    # Returns\n",
    "        x_train, x_val: vectorized training and validation texts\n",
    "    \"\"\"\n",
    "    # Create keyword arguments to pass to the 'tf-idf' vectorizer.\n",
    "    kwargs = {\n",
    "            'ngram_range': ngram_range,  # Use 1-grams + 2-grams.\n",
    "            'dtype': 'int32',\n",
    "            'strip_accents': 'unicode',\n",
    "            'decode_error': 'replace',\n",
    "            'analyzer': TOKEN_MODE,  # Split text into word tokens.\n",
    "            'min_df': MIN_DOCUMENT_FREQUENCY,\n",
    "    }\n",
    "    vectorizer = TfidfVectorizer(**kwargs)\n",
    "\n",
    "    # Learn vocabulary from training texts and vectorize training texts.\n",
    "    x_train = vectorizer.fit_transform(train_texts)\n",
    "\n",
    "    x_train = x_train.astype('float32')\n",
    "    return x_train"
   ]
  },
  {
   "cell_type": "markdown",
   "metadata": {},
   "source": [
    "# Normalize each column , by cleaning the text"
   ]
  },
  {
   "cell_type": "code",
   "execution_count": 107,
   "metadata": {
    "collapsed": true
   },
   "outputs": [],
   "source": [
    "train_df['norm_allergens'] = normalize_corpus(train_df['allergens'])\n",
    "train_df['norm_allergens_M']=normalize_corpus(train_df['allergensLabeledIMAF'])"
   ]
  },
  {
   "cell_type": "code",
   "execution_count": 108,
   "metadata": {
    "collapsed": true
   },
   "outputs": [],
   "source": [
    "train_df = train_df.drop(['allergens',\n",
    "'allergensLabeledIMAF'],axis = 1)"
   ]
  },
  {
   "cell_type": "code",
   "execution_count": 109,
   "metadata": {},
   "outputs": [
    {
     "name": "stdout",
     "output_type": "stream",
     "text": [
      "['allergens seasonings cq69 vegetable blend mccormick milk lactose 2763030 cheese symrise milk lactose product may contain peanut existing allergens manufacturing plant celery cereals containing gluten wheat barley oats milk mustard peanuts soya existing allergens production line celery cereals containing gluten wheat barley milk mustard peanuts soya'\n",
      " 'no new allergen line seasonings 4 cheese contains milk allergen line already'\n",
      " 'inherent milk lactose wheat gluten fish components present seasoning allergenic protein content confirmed givaudan 0 ppm crosscontact line soya crustacean fish crosscontact within plant soya crustacean mustard fish'\n",
      " 'inherent inherent milk lactose wheat gluten fish components present seasoning allergenic protein content confirmed givaudan 0 ppm cross contact line soya crustaceans fish sulphites 10 ppm crosscontact within plant soya crustacean mustard fish'\n",
      " 'milk seasoning']\n"
     ]
    }
   ],
   "source": [
    "#Check the first five values\n",
    "print(train_df['norm_allergens'][:5].values)"
   ]
  },
  {
   "cell_type": "markdown",
   "metadata": {},
   "source": [
    "# Binarize the target (1/0 for Yes/No)"
   ]
  },
  {
   "cell_type": "code",
   "execution_count": 110,
   "metadata": {
    "collapsed": true
   },
   "outputs": [],
   "source": [
    "import statistics \n",
    "\n",
    "def impute_target(fsha_data,targetName):\n",
    "    train_y=[]\n",
    "    for i in range (len(fsha_data)):\n",
    "        if fsha_data[targetName].values[i]=='Yes':\n",
    "            train_y.append(1)\n",
    "        elif fsha_data[targetName].values[i]=='No':\n",
    "            train_y.append(0)\n",
    "        else:\n",
    "            train_y.append(-1)\n",
    "               \n",
    "    mode_y = statistics.mode(train_y)\n",
    "\n",
    "    for i in range (len(fsha_data)):\n",
    "        if train_y[i]==-1:\n",
    "            train_y[i] = mode_y\n",
    "            \n",
    "    return train_y"
   ]
  },
  {
   "cell_type": "markdown",
   "metadata": {},
   "source": [
    "# Target (Yes/No choice) in PDAF are converted to binary values"
   ]
  },
  {
   "cell_type": "code",
   "execution_count": 111,
   "metadata": {
    "collapsed": true
   },
   "outputs": [],
   "source": [
    "train_y_crosscontact = impute_target(fsha_data,\"crossContactAllergens\")"
   ]
  },
  {
   "cell_type": "code",
   "execution_count": 112,
   "metadata": {
    "collapsed": true
   },
   "outputs": [],
   "source": [
    "train_df['target']=train_y_crosscontact"
   ]
  },
  {
   "cell_type": "code",
   "execution_count": 113,
   "metadata": {},
   "outputs": [
    {
     "data": {
      "text/plain": [
       "1    203\n",
       "0     25\n",
       "Name: target, dtype: int64"
      ]
     },
     "execution_count": 113,
     "metadata": {},
     "output_type": "execute_result"
    }
   ],
   "source": [
    "train_df['target'].value_counts()"
   ]
  },
  {
   "cell_type": "code",
   "execution_count": 114,
   "metadata": {
    "collapsed": true
   },
   "outputs": [],
   "source": [
    "y = train_df['target']\n",
    "train_df = train_df.drop('target',axis=1)"
   ]
  },
  {
   "cell_type": "markdown",
   "metadata": {},
   "source": [
    "# Perform n-gram vectorization and PCA on text data, columnwise (6 components per column)"
   ]
  },
  {
   "cell_type": "code",
   "execution_count": 115,
   "metadata": {},
   "outputs": [],
   "source": [
    "def preprocess_text(train_df,y):    \n",
    "    train_labels = y\n",
    "    x_ngram_allergens = ngram_vectorize(train_df['norm_allergens'], train_labels,n_gram_range).toarray()\n",
    "    x_ngram_allergens_m = ngram_vectorize(train_df['norm_allergens_M'], train_labels,n_gram_range).toarray()\n",
    "    train_df = train_df.drop(['norm_allergens','norm_allergens_M'],axis=1)\n",
    "    pca = PCA(n_components=n_components,svd_solver=svd_solver,whiten=whiten, random_state=42)\n",
    "    \n",
    "    scaler = StandardScaler()\n",
    "    x_ngram_allergens = scaler.fit_transform(x_ngram_allergens)\n",
    "    x_pca_allergens = pca.fit_transform(x_ngram_allergens)\n",
    "    x_pca_allergens_m = pca.fit_transform(x_ngram_allergens_m)\n",
    "    print(x_pca_allergens.shape)\n",
    "    print(x_pca_allergens_m.shape)\n",
    "    x_train = np.concatenate((train_df,x_pca_allergens,x_pca_allergens_m),axis=1)\n",
    "    print(x_train.shape)\n",
    "    return x_train  "
   ]
  },
  {
   "cell_type": "code",
   "execution_count": 116,
   "metadata": {},
   "outputs": [
    {
     "name": "stdout",
     "output_type": "stream",
     "text": [
      "(228, 6)\n",
      "(228, 6)\n",
      "(228, 12)\n"
     ]
    }
   ],
   "source": [
    "n_gram_range = (1,2)\n",
    "n_components = 6\n",
    "whiten = False\n",
    "random_state = 42\n",
    "svd_solver=\"full\"\n",
    "X_features = preprocess_text(train_df,y)"
   ]
  },
  {
   "cell_type": "markdown",
   "metadata": {},
   "source": [
    "# Perform train test split"
   ]
  },
  {
   "cell_type": "code",
   "execution_count": 117,
   "metadata": {
    "collapsed": true
   },
   "outputs": [],
   "source": [
    "X_train, X_test, y_train, y_test = train_test_split(X_features, y, test_size=.2, random_state=42,stratify = y)"
   ]
  },
  {
   "cell_type": "code",
   "execution_count": 118,
   "metadata": {},
   "outputs": [
    {
     "name": "stdout",
     "output_type": "stream",
     "text": [
      "(182, 12)\n",
      "(46, 12)\n"
     ]
    }
   ],
   "source": [
    "print(X_train.shape)\n",
    "print(X_test.shape)"
   ]
  },
  {
   "cell_type": "code",
   "execution_count": 119,
   "metadata": {},
   "outputs": [
    {
     "data": {
      "text/plain": [
       "1    162\n",
       "0     20\n",
       "Name: target, dtype: int64"
      ]
     },
     "execution_count": 119,
     "metadata": {},
     "output_type": "execute_result"
    }
   ],
   "source": [
    "y_train.value_counts()"
   ]
  },
  {
   "cell_type": "code",
   "execution_count": 120,
   "metadata": {},
   "outputs": [
    {
     "data": {
      "text/plain": [
       "1    41\n",
       "0     5\n",
       "Name: target, dtype: int64"
      ]
     },
     "execution_count": 120,
     "metadata": {},
     "output_type": "execute_result"
    }
   ],
   "source": [
    "y_test.value_counts()"
   ]
  },
  {
   "cell_type": "code",
   "execution_count": 121,
   "metadata": {},
   "outputs": [
    {
     "name": "stdout",
     "output_type": "stream",
     "text": [
      "(182,)\n",
      "(46,)\n"
     ]
    }
   ],
   "source": [
    "print(y_train.shape)\n",
    "print(y_test.shape)"
   ]
  },
  {
   "cell_type": "code",
   "execution_count": 122,
   "metadata": {
    "collapsed": true
   },
   "outputs": [],
   "source": [
    "X_train = pd.DataFrame(X_train)\n",
    "y_train = pd.DataFrame(y_train)"
   ]
  },
  {
   "cell_type": "code",
   "execution_count": 123,
   "metadata": {},
   "outputs": [
    {
     "data": {
      "text/html": [
       "<div>\n",
       "<style>\n",
       "    .dataframe thead tr:only-child th {\n",
       "        text-align: right;\n",
       "    }\n",
       "\n",
       "    .dataframe thead th {\n",
       "        text-align: left;\n",
       "    }\n",
       "\n",
       "    .dataframe tbody tr th {\n",
       "        vertical-align: top;\n",
       "    }\n",
       "</style>\n",
       "<table border=\"1\" class=\"dataframe\">\n",
       "  <thead>\n",
       "    <tr style=\"text-align: right;\">\n",
       "      <th></th>\n",
       "      <th>0</th>\n",
       "      <th>1</th>\n",
       "      <th>2</th>\n",
       "      <th>3</th>\n",
       "      <th>4</th>\n",
       "      <th>5</th>\n",
       "      <th>6</th>\n",
       "      <th>7</th>\n",
       "      <th>8</th>\n",
       "      <th>9</th>\n",
       "      <th>10</th>\n",
       "      <th>11</th>\n",
       "    </tr>\n",
       "  </thead>\n",
       "  <tbody>\n",
       "    <tr>\n",
       "      <th>0</th>\n",
       "      <td>23.280781</td>\n",
       "      <td>0.943038</td>\n",
       "      <td>-0.133607</td>\n",
       "      <td>-1.436739</td>\n",
       "      <td>1.147123</td>\n",
       "      <td>0.139349</td>\n",
       "      <td>-0.179183</td>\n",
       "      <td>-0.080840</td>\n",
       "      <td>0.781292</td>\n",
       "      <td>-0.252277</td>\n",
       "      <td>-0.060461</td>\n",
       "      <td>-0.083667</td>\n",
       "    </tr>\n",
       "    <tr>\n",
       "      <th>1</th>\n",
       "      <td>-3.058216</td>\n",
       "      <td>-2.054968</td>\n",
       "      <td>-5.357750</td>\n",
       "      <td>-7.029886</td>\n",
       "      <td>4.058612</td>\n",
       "      <td>-0.351588</td>\n",
       "      <td>0.844273</td>\n",
       "      <td>-0.305720</td>\n",
       "      <td>-0.109000</td>\n",
       "      <td>-0.103360</td>\n",
       "      <td>0.022037</td>\n",
       "      <td>0.000735</td>\n",
       "    </tr>\n",
       "    <tr>\n",
       "      <th>2</th>\n",
       "      <td>-3.358520</td>\n",
       "      <td>-2.507519</td>\n",
       "      <td>-6.681118</td>\n",
       "      <td>-9.027010</td>\n",
       "      <td>5.589139</td>\n",
       "      <td>-0.245854</td>\n",
       "      <td>-0.086876</td>\n",
       "      <td>-0.048442</td>\n",
       "      <td>0.480233</td>\n",
       "      <td>-0.041026</td>\n",
       "      <td>-0.073397</td>\n",
       "      <td>-0.010238</td>\n",
       "    </tr>\n",
       "    <tr>\n",
       "      <th>3</th>\n",
       "      <td>-1.223943</td>\n",
       "      <td>-0.954232</td>\n",
       "      <td>0.350749</td>\n",
       "      <td>1.231507</td>\n",
       "      <td>-2.173202</td>\n",
       "      <td>-0.478846</td>\n",
       "      <td>0.292937</td>\n",
       "      <td>-0.210237</td>\n",
       "      <td>0.473404</td>\n",
       "      <td>-0.233947</td>\n",
       "      <td>-0.012838</td>\n",
       "      <td>-0.081482</td>\n",
       "    </tr>\n",
       "    <tr>\n",
       "      <th>4</th>\n",
       "      <td>-2.889852</td>\n",
       "      <td>-2.008468</td>\n",
       "      <td>-4.947517</td>\n",
       "      <td>-6.166815</td>\n",
       "      <td>4.429495</td>\n",
       "      <td>0.631869</td>\n",
       "      <td>0.007941</td>\n",
       "      <td>0.033363</td>\n",
       "      <td>0.227800</td>\n",
       "      <td>0.600520</td>\n",
       "      <td>0.571507</td>\n",
       "      <td>-0.082300</td>\n",
       "    </tr>\n",
       "  </tbody>\n",
       "</table>\n",
       "</div>"
      ],
      "text/plain": [
       "          0         1         2         3         4         5         6   \\\n",
       "0  23.280781  0.943038 -0.133607 -1.436739  1.147123  0.139349 -0.179183   \n",
       "1  -3.058216 -2.054968 -5.357750 -7.029886  4.058612 -0.351588  0.844273   \n",
       "2  -3.358520 -2.507519 -6.681118 -9.027010  5.589139 -0.245854 -0.086876   \n",
       "3  -1.223943 -0.954232  0.350749  1.231507 -2.173202 -0.478846  0.292937   \n",
       "4  -2.889852 -2.008468 -4.947517 -6.166815  4.429495  0.631869  0.007941   \n",
       "\n",
       "         7         8         9         10        11  \n",
       "0 -0.080840  0.781292 -0.252277 -0.060461 -0.083667  \n",
       "1 -0.305720 -0.109000 -0.103360  0.022037  0.000735  \n",
       "2 -0.048442  0.480233 -0.041026 -0.073397 -0.010238  \n",
       "3 -0.210237  0.473404 -0.233947 -0.012838 -0.081482  \n",
       "4  0.033363  0.227800  0.600520  0.571507 -0.082300  "
      ]
     },
     "execution_count": 123,
     "metadata": {},
     "output_type": "execute_result"
    }
   ],
   "source": [
    "X_train.head()"
   ]
  },
  {
   "cell_type": "code",
   "execution_count": 124,
   "metadata": {
    "collapsed": true
   },
   "outputs": [],
   "source": [
    "X_train.reset_index(drop=True, inplace=True)\n",
    "y_train.reset_index(drop=True, inplace=True)"
   ]
  },
  {
   "cell_type": "markdown",
   "metadata": {},
   "source": [
    "# Upsample the crossContact Allergens = 'No' data, since the data is imbalanced"
   ]
  },
  {
   "cell_type": "code",
   "execution_count": 125,
   "metadata": {
    "collapsed": true
   },
   "outputs": [],
   "source": [
    "from sklearn.utils import resample\n",
    "\n",
    "# concatenate our training data back together\n",
    "X = pd.concat([X_train, y_train], axis=1)\n",
    "\n",
    "# separate minority and majority classes\n",
    "not_crosscontact = X[X.target==0]\n",
    "crosscontact = X[X.target==1]"
   ]
  },
  {
   "cell_type": "code",
   "execution_count": 126,
   "metadata": {},
   "outputs": [
    {
     "name": "stdout",
     "output_type": "stream",
     "text": [
      "20\n",
      "162\n"
     ]
    }
   ],
   "source": [
    "print(len(not_crosscontact))\n",
    "print(len(crosscontact))"
   ]
  },
  {
   "cell_type": "code",
   "execution_count": 127,
   "metadata": {
    "collapsed": true
   },
   "outputs": [],
   "source": [
    "# upsample minority\n",
    "not_crosscontact_upsampled = resample(not_crosscontact,\n",
    "                          replace=True, # sample with replacement\n",
    "                          n_samples=len(crosscontact), # match number in majority class\n",
    "                          random_state=27) # reproducible results\n",
    "\n",
    "# combine majority and upsampled minority\n",
    "upsampled = pd.concat([not_crosscontact_upsampled, crosscontact])"
   ]
  },
  {
   "cell_type": "code",
   "execution_count": 128,
   "metadata": {},
   "outputs": [
    {
     "data": {
      "text/plain": [
       "1    162\n",
       "0    162\n",
       "Name: target, dtype: int64"
      ]
     },
     "execution_count": 128,
     "metadata": {},
     "output_type": "execute_result"
    }
   ],
   "source": [
    "upsampled.target.value_counts()"
   ]
  },
  {
   "cell_type": "code",
   "execution_count": 129,
   "metadata": {
    "collapsed": true
   },
   "outputs": [],
   "source": [
    "y_train = upsampled.target\n",
    "X_train = upsampled.drop('target', axis=1)"
   ]
  },
  {
   "cell_type": "code",
   "execution_count": 130,
   "metadata": {},
   "outputs": [
    {
     "data": {
      "text/plain": [
       "(324, 12)"
      ]
     },
     "execution_count": 130,
     "metadata": {},
     "output_type": "execute_result"
    }
   ],
   "source": [
    "X_train.shape"
   ]
  },
  {
   "cell_type": "markdown",
   "metadata": {},
   "source": [
    "# Fit the RandomForestClassifier since the benchmarking study shows this model giving best results"
   ]
  },
  {
   "cell_type": "code",
   "execution_count": 131,
   "metadata": {},
   "outputs": [
    {
     "name": "stdout",
     "output_type": "stream",
     "text": [
      "f1_score:   1.000\n",
      "f1_score_train:   1.000\n",
      "classification report:\n",
      "             precision    recall  f1-score   support\n",
      "\n",
      "          0       1.00      1.00      1.00         5\n",
      "          1       1.00      1.00      1.00        41\n",
      "\n",
      "avg / total       1.00      1.00      1.00        46\n",
      "\n",
      "confusion matrix:\n",
      "[[ 5  0]\n",
      " [ 0 41]]\n"
     ]
    }
   ],
   "source": [
    "\n",
    "selector = SelectKBest(f_classif, k='all')\n",
    "selector_clf = Pipeline([('selector', selector),('classifier', RandomForestClassifier(n_estimators=100))])\n",
    "selector_clf.fit(X_train, y_train)\n",
    "pred = selector_clf.predict(X_test)\n",
    "pred_train = selector_clf.predict(X_train)\n",
    "\n",
    "f1_score = metrics.f1_score(y_test, pred)\n",
    "print(\"f1_score:   %0.3f\" % f1_score )\n",
    "    \n",
    "f1_score_train = metrics.f1_score(y_train, pred_train)\n",
    "print(\"f1_score_train:   %0.3f\" % f1_score_train )\n",
    "    \n",
    "print(\"classification report:\")\n",
    "print(classification_report(y_test, pred))\n",
    "    \n",
    "print(\"confusion matrix:\")\n",
    "print(metrics.confusion_matrix(y_test, pred))\n",
    "y_pred = pred"
   ]
  },
  {
   "cell_type": "markdown",
   "metadata": {},
   "source": [
    "# Let us plot the Confusion Matrix for crossContactAllergens"
   ]
  },
  {
   "cell_type": "code",
   "execution_count": 132,
   "metadata": {},
   "outputs": [
    {
     "data": {
      "image/png": "[encoded data removed]",
      "text/plain": [
       "<matplotlib.figure.Figure at 0x2556d915550>"
      ]
     },
     "metadata": {},
     "output_type": "display_data"
    }
   ],
   "source": [
    "from sklearn.metrics import confusion_matrix\n",
    "def plot_confusion_matrix(y_true, y_pred, classes,\n",
    "                          normalize=False,\n",
    "                          title=None,\n",
    "                          cmap=plt.cm.Blues):\n",
    "    \"\"\"\n",
    "    This function prints and plots the confusion matrix.\n",
    "    Normalization can be applied by setting `normalize=True`.\n",
    "    \"\"\"\n",
    "    if not title:\n",
    "        if normalize:\n",
    "            title = 'Normalized confusion matrix'\n",
    "        else:\n",
    "            title = 'Confusion matrix, without normalization'\n",
    "\n",
    "    # Compute confusion matrix\n",
    "    cm = confusion_matrix(y_true, y_pred)\n",
    "    # Only use the labels that appear in the data\n",
    "    #classes = classes[unique_labels(y_true, y_pred)]\n",
    "    if normalize:\n",
    "        cm = cm.astype('float') / cm.sum(axis=1)[:, np.newaxis]\n",
    "        #print(\"Normalized confusion matrix\")\n",
    "   # else:\n",
    "        #print('Confusion matrix, without normalization')\n",
    "\n",
    "    #print(cm)\n",
    "\n",
    "    fig, ax = plt.subplots()\n",
    "    im = ax.imshow(cm, interpolation='nearest', cmap=cmap)\n",
    "    ax.figure.colorbar(im, ax=ax)\n",
    "    # We want to show all ticks...\n",
    "    ax.set(xticks=np.arange(cm.shape[1]),\n",
    "           yticks=np.arange(cm.shape[0]),\n",
    "           # ... and label them with the respective list entries\n",
    "           xticklabels=classes, yticklabels=classes,\n",
    "           title=title,\n",
    "           ylabel='True label',\n",
    "           xlabel='Predicted label')\n",
    "\n",
    "    # Rotate the tick labels and set their alignment.\n",
    "    plt.setp(ax.get_xticklabels(), rotation=45, ha=\"right\",\n",
    "             rotation_mode=\"anchor\")\n",
    "\n",
    "    # Loop over data dimensions and create text annotations.\n",
    "    fmt = '.2f' if normalize else 'd'\n",
    "    thresh = cm.max() / 2.\n",
    "    for i in range(cm.shape[0]):\n",
    "        for j in range(cm.shape[1]):\n",
    "            ax.text(j, i, format(cm[i, j], fmt),\n",
    "                    ha=\"center\", va=\"center\",\n",
    "                    color=\"white\" if cm[i, j] > thresh else \"black\")\n",
    "    fig.tight_layout()\n",
    "    return ax\n",
    "\n",
    "\n",
    "np.set_printoptions(precision=2)\n",
    "\n",
    "class_names=['No','Yes']\n",
    "# Plot non-normalized confusion matrix\n",
    "plot_confusion_matrix(y_test, y_pred, classes=class_names,\n",
    "                      title='Confusion matrix, without normalization')\n",
    "\n",
    "# Plot normalized confusion matrix\n",
    "#plot_confusion_matrix(y_test, y_pred, classes=class_names, normalize=True,\n",
    "#                      title='Normalized confusion matrix')\n",
    "\n",
    "plt.show()"
   ]
  },
  {
   "cell_type": "markdown",
   "metadata": {},
   "source": [
    "# The above results show the Precision and Accuracy of the 'No' cases is maximum with RandomForestClassifier , after taking 6 components in PCA, with StandardScaler."
   ]
  },
  {
   "cell_type": "code",
   "execution_count": 54,
   "metadata": {
    "collapsed": true
   },
   "outputs": [],
   "source": [
    "from sklearn.model_selection import cross_validate\n",
    "cv_results = cross_validate(selector_clf.fit(X_train, y_train), X_train, y_train,cv=5)"
   ]
  },
  {
   "cell_type": "code",
   "execution_count": 55,
   "metadata": {},
   "outputs": [
    {
     "name": "stdout",
     "output_type": "stream",
     "text": [
      "[0.98076923 0.98076923 1.         0.98       0.98      ]\n"
     ]
    }
   ],
   "source": [
    "print(cv_results['test_score'].round(2))"
   ]
  }
 ],
 "metadata": {
  "kernelspec": {
   "display_name": "Python 3",
   "language": "python",
   "name": "python3"
  },
  "language_info": {
   "codemirror_mode": {
    "name": "ipython",
    "version": 3
   },
   "file_extension": ".py",
   "mimetype": "text/x-python",
   "name": "python",
   "nbconvert_exporter": "python",
   "pygments_lexer": "ipython3",
   "version": "3.6.2"
  }
 },
 "nbformat": 4,
 "nbformat_minor": 2
}
