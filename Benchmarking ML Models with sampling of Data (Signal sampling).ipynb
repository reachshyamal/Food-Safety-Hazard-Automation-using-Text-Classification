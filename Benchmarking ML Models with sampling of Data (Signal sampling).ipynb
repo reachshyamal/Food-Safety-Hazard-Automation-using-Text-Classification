{
 "cells": [
  {
   "cell_type": "code",
   "execution_count": 2,
   "metadata": {},
   "outputs": [],
   "source": [
    "#import all necessary modules\n",
    "from __future__ import print_function\n",
    "import logging\n",
    "from optparse import OptionParser\n",
    "import sys\n",
    "from time import time\n",
    "import matplotlib.pyplot as plt\n",
    "import os\n",
    "import nltk\n",
    "import string\n",
    "from nltk.stem.porter import PorterStemmer\n",
    "from nltk.tokenize import word_tokenize,sent_tokenize\n",
    "from nltk.tokenize import RegexpTokenizer\n",
    "import re\n",
    "import numpy as np\n",
    "from numpy import array\n",
    "from numpy import argmax\n",
    "import string\n",
    "import pandas as pd\n",
    "from sklearn.model_selection import train_test_split \n",
    "from sklearn.pipeline import Pipeline\n",
    "from sklearn.feature_extraction.text import TfidfVectorizer\n",
    "from sklearn.feature_selection import SelectKBest, chi2\n",
    "from sklearn.preprocessing import LabelEncoder\n",
    "from sklearn.preprocessing import OneHotEncoder\n",
    "from sklearn.feature_selection import f_classif\n",
    "import matplotlib.pyplot as plt\n",
    "from sklearn.pipeline import Pipeline\n",
    "from sklearn.feature_extraction.text import CountVectorizer\n",
    "from sklearn.preprocessing import StandardScaler\n",
    "from sklearn.metrics import classification_report, confusion_matrix  \n",
    "from sklearn.linear_model import LogisticRegression\n",
    "from sklearn.linear_model import PassiveAggressiveClassifier\n",
    "from sklearn.svm import SVC \n",
    "from sklearn import svm\n",
    "from sklearn.svm import LinearSVC\n",
    "from sklearn.naive_bayes import MultinomialNB,BernoulliNB\n",
    "from sklearn.neighbors import KNeighborsClassifier\n",
    "from sklearn.neighbors import NearestCentroid\n",
    "from sklearn.linear_model import RidgeClassifier\n",
    "from sklearn.linear_model import SGDClassifier\n",
    "from sklearn import tree\n",
    "from sklearn.ensemble import RandomForestClassifier\n",
    "from sklearn import linear_model\n",
    "from sklearn.ensemble import AdaBoostClassifier\n",
    "from sklearn.linear_model import Perceptron\n",
    "from sklearn.neural_network import MLPClassifier\n",
    "from sklearn.utils.extmath import density\n",
    "from sklearn.decomposition import PCA\n",
    "from sklearn import metrics\n",
    "import warnings\n",
    "warnings.simplefilter('ignore')"
   ]
  },
  {
   "cell_type": "code",
   "execution_count": 3,
   "metadata": {
    "collapsed": true
   },
   "outputs": [],
   "source": [
    "#These parameters will be input from command line\n",
    "ngram_range_inp=(1,2)\n",
    "filename = \"D:/Pepsico/generic_PDAF_Turgay_updated.xlsx\"\n",
    "#n_components = 0"
   ]
  },
  {
   "cell_type": "markdown",
   "metadata": {},
   "source": [
    "# Text Normalization"
   ]
  },
  {
   "cell_type": "code",
   "execution_count": 4,
   "metadata": {
    "collapsed": true
   },
   "outputs": [],
   "source": [
    "exclude = set(string.punctuation) \n",
    "wpt = nltk.WordPunctTokenizer()\n",
    "stop_words = nltk.corpus.stopwords.words('english')\n",
    "newStopWords = ['from']\n",
    "stop_words.extend(newStopWords)\n",
    "table = str.maketrans('', '', string.punctuation)\n",
    "\n",
    "porter = PorterStemmer()\n",
    "\n",
    "def normalize_document(doc):\n",
    "    # tokenize document\n",
    "    tokens = doc.split()\n",
    "    # remove punctuation from each word\n",
    "    tokens = [w.translate(table) for w in tokens]\n",
    "    # convert to lower case\n",
    "    lower_tokens = [w.lower() for w in tokens]\n",
    "    #remove spaces\n",
    "    stripped = [w.strip() for w in lower_tokens]\n",
    "    # remove remaining tokens that are not alphabetic\n",
    "    words = [word for word in stripped if word.isalpha()]\n",
    "    # filter stopwords out of document\n",
    "    filtered_tokens = [token for token in words if token not in stop_words]\n",
    "    # re-create document from filtered tokens\n",
    "    doc = ' '.join(filtered_tokens)\n",
    "    return doc\n",
    "\n",
    "normalize_corpus = np.vectorize(normalize_document)"
   ]
  },
  {
   "cell_type": "code",
   "execution_count": 5,
   "metadata": {
    "collapsed": true
   },
   "outputs": [],
   "source": [
    "fsha_data = pd.read_excel(filename)"
   ]
  },
  {
   "cell_type": "code",
   "execution_count": 6,
   "metadata": {},
   "outputs": [
    {
     "data": {
      "text/plain": [
       "Index(['projName', 'accolNumber', 'PDA_projName', 'projType', ' projDesc',\n",
       "       'formulaNumber', 'owner', ' sector', 'Unnamed: 8', 'Unnamed: 9',\n",
       "       ' center', ' cur_tsgStage', 'WHTD', ' manufacSite', ' plantTrail',\n",
       "       'packMaterial', 'prodName', ' CPD-prodNameDesc', ' procPlat',\n",
       "       ' intrinsicProd', 'preservatives', ' pH', 'waterActivity', 'packaging',\n",
       "       ' otherFSA', 'allergens', 'prod_storageDist', ' shelfLife', ' TCG',\n",
       "       'foodSafety_prodClaims', 'cookedOrHeated', 'specificStorage',\n",
       "       ' labelingInstructions ', 'mishandled', ' targetMarket', ' fastTrack',\n",
       "       'baseProduct', 'prodModifications', ' newIngredient',\n",
       "       ' approvedPackage', 'potentialMicrobial', ' cross_contactAllergens',\n",
       "       'chokeHazard', 'operationalAllergen', 'Unnamed: 44', 'Unnamed: 45'],\n",
       "      dtype='object')"
      ]
     },
     "execution_count": 6,
     "metadata": {},
     "output_type": "execute_result"
    }
   ],
   "source": [
    "fsha_data.columns"
   ]
  },
  {
   "cell_type": "markdown",
   "metadata": {},
   "source": [
    "# Data Standardization"
   ]
  },
  {
   "cell_type": "code",
   "execution_count": 12,
   "metadata": {},
   "outputs": [
    {
     "name": "stdout",
     "output_type": "stream",
     "text": [
      "{'none', 'None', 'n/a ', 'Allergen suffers. Made in a factory that handles many allergens', 'No claims made ', 'claim 1 \"from corn\"\\nclaim 2 \"not fried\"\\nclaim 3 \"no preservatives\"', '50% less fat comparing to fried potato chips', 'No preservatives'}\n"
     ]
    }
   ],
   "source": [
    "#selecting set of columns for labelling\n",
    "data2=fsha_data[['preservatives', ' pH', 'waterActivity', 'packaging',' otherFSA',\n",
    "            'prod_storageDist', 'foodSafety_prodClaims',' targetMarket','allergens',' newIngredient']]\n",
    "\n",
    "    #ph value label\n",
    "data2['PH_label']=data2[' pH'].apply(lambda x:re.findall(r'[0-9]+', str(x)) if bool(re.search(r'\\d', str(x))) else [0])\n",
    "\n",
    "#'prod_storageDist'column label\n",
    "def prod_storageDist(x):\n",
    "    x=str(x.lower())\n",
    "    if x.__contains__('sun'):\n",
    "            return 'Keep away from sun'\n",
    "    elif x.__contains__('ambient')  :\n",
    "              return 'ambient'\n",
    "    elif x.__contains__('rte'):\n",
    "        return 'RTE'\n",
    "    else:\n",
    "        return 'NA'\n",
    "data2['prod_storageDist_label']=data2['prod_storageDist'].apply(lambda x:prod_storageDist(x))                                                              \n",
    "\n",
    "#water activity\n",
    "\n",
    "def water_activity(x):\n",
    "    x=str(x)\n",
    "    x=x.lower()\n",
    "    if x.__contains__('low'):\n",
    "        return 'low'\n",
    "    elif x.__contains__('max'):\n",
    "        return 'max'\n",
    "    elif x==str(np.nan):\n",
    "        return 'NA'\n",
    "    else:\n",
    "        return(x)\n",
    "data2['waterActivity_label']=data2['waterActivity'].apply(lambda x:water_activity(x))                                                              \n",
    " \n",
    "#packaging'\n",
    "\n",
    "def packaging(x):\n",
    "    x=str(x)\n",
    "    x=x.lower()\n",
    "    if x.__contains__('no') and x.__contains__('nitrogen'):\n",
    "        return 'no nitrogen'\n",
    "    elif x.__contains__('not') and x.__contains__('n2'):\n",
    "        return 'no nitrogen'\n",
    "    elif x.__contains__('nitrogen') and not x.__contains__('no'):\n",
    "        return 'nitrogen'\n",
    "    elif x.__contains__('atmosphere'):\n",
    "        return 'atmosphere'\n",
    "    elif x==str(np.nan):\n",
    "        return 'NA'\n",
    "    else:\n",
    "        return(x)\n",
    "    \n",
    "data2['packaging_label']=data2['packaging'].apply(lambda x: packaging(x))  \n",
    "  \n",
    "#'preservatives'\n",
    "\n",
    "def preservatives(x):\n",
    "    x=str(x)\n",
    "    x=x.lower()\n",
    "    if x.__contains__('sodium'):\n",
    "        return 'Not used as preservatives'\n",
    "    elif x.__contains__('not') and x.__contains__('seasoning'):\n",
    "        return 'No Seasoning'\n",
    "    elif bool(re.search('topping|seasoning',x)):\n",
    "        return 'Used in seasoning'\n",
    "    else:\n",
    "        return ('NA')\n",
    "    \n",
    "data2['preservatives_label']=data2['preservatives'].apply(lambda x:preservatives(x))\n",
    "\n",
    "#' otherFSA', \n",
    "\n",
    "def otherFSA(x):\n",
    "    x=str(x)\n",
    "    x=x.lower()\n",
    "    if bool(re.search('moisture',x)):\n",
    "        return 'Moisture'\n",
    "    else:\n",
    "        return 'NA'\n",
    "data2['otherFSA_label']=data2[' otherFSA'].apply(lambda x:otherFSA(x))\n",
    "\n",
    "\n",
    "print(set(data2['foodSafety_prodClaims']))\n",
    "def foodsafety_prodclaims(x):\n",
    "    x=str(x)\n",
    "    x=x.lower()\n",
    "    if bool(re.search('^claim',x)):\n",
    "        return 'Claims Made'\n",
    "    elif x.__contains__('no claims'):\n",
    "        return 'No Claims Made'\n",
    "    elif x.__contains__('allergen'):\n",
    "        return 'Allergen'\n",
    "    elif bool(re.search('none|n/a',x)):\n",
    "        return 'NA'\n",
    "    else:\n",
    "        return(x)\n",
    "\n",
    "data2['foodSafety_prodClaims_label']=data2['foodSafety_prodClaims'].apply(lambda x:foodsafety_prodclaims(x))  \n",
    "\n",
    "#' targetMarket'\n",
    "\n",
    "def targetMarket(x):\n",
    "    x=str(x)\n",
    "    x=x.lower()\n",
    "    if (x.__contains__('choking') or x.__contains__('choke')) and x.__contains__('children'):\n",
    "        return 'Choking hazard for children'\n",
    "    elif x.__contains__('allerg'):\n",
    "        return 'Allergy'\n",
    "    elif x.__contains__('no') and x.__contains__('change'):\n",
    "        return 'no'\n",
    "    else:\n",
    "        return(x)\n",
    "data2['targetMarket_label']=data2[' targetMarket'].apply(lambda x:targetMarket(x))\n",
    "\n"
   ]
  },
  {
   "cell_type": "code",
   "execution_count": 13,
   "metadata": {},
   "outputs": [
    {
     "data": {
      "text/plain": [
       "Index(['preservatives', ' pH', 'waterActivity', 'packaging', ' otherFSA',\n",
       "       'prod_storageDist', 'foodSafety_prodClaims', ' targetMarket',\n",
       "       'allergens', ' newIngredient', 'PH_label', 'prod_storageDist_label',\n",
       "       'waterActivity_label', 'packaging_label', 'preservatives_label',\n",
       "       'otherFSA_label', 'foodSafety_prodClaims_label', 'targetMarket_label'],\n",
       "      dtype='object')"
      ]
     },
     "execution_count": 13,
     "metadata": {},
     "output_type": "execute_result"
    }
   ],
   "source": [
    "data2.columns"
   ]
  },
  {
   "cell_type": "code",
   "execution_count": 14,
   "metadata": {
    "collapsed": true
   },
   "outputs": [],
   "source": [
    "data2=data2.drop(['preservatives', ' pH', 'waterActivity', 'packaging',' otherFSA','prod_storageDist','foodSafety_prodClaims',' targetMarket'],axis=1)\n"
   ]
  },
  {
   "cell_type": "code",
   "execution_count": 15,
   "metadata": {
    "collapsed": true
   },
   "outputs": [],
   "source": [
    "train_df = data2"
   ]
  },
  {
   "cell_type": "code",
   "execution_count": 16,
   "metadata": {},
   "outputs": [
    {
     "data": {
      "text/html": [
       "<div>\n",
       "<style>\n",
       "    .dataframe thead tr:only-child th {\n",
       "        text-align: right;\n",
       "    }\n",
       "\n",
       "    .dataframe thead th {\n",
       "        text-align: left;\n",
       "    }\n",
       "\n",
       "    .dataframe tbody tr th {\n",
       "        vertical-align: top;\n",
       "    }\n",
       "</style>\n",
       "<table border=\"1\" class=\"dataframe\">\n",
       "  <thead>\n",
       "    <tr style=\"text-align: right;\">\n",
       "      <th></th>\n",
       "      <th>allergens</th>\n",
       "      <th>newIngredient</th>\n",
       "      <th>PH_label</th>\n",
       "      <th>prod_storageDist_label</th>\n",
       "      <th>waterActivity_label</th>\n",
       "      <th>packaging_label</th>\n",
       "      <th>preservatives_label</th>\n",
       "      <th>otherFSA_label</th>\n",
       "      <th>foodSafety_prodClaims_label</th>\n",
       "      <th>targetMarket_label</th>\n",
       "    </tr>\n",
       "  </thead>\n",
       "  <tbody>\n",
       "    <tr>\n",
       "      <th>0</th>\n",
       "      <td>Base allergens: None\\nTop seasoning: Milk\\nCro...</td>\n",
       "      <td>Yes</td>\n",
       "      <td>[0]</td>\n",
       "      <td>ambient</td>\n",
       "      <td>low</td>\n",
       "      <td>NA</td>\n",
       "      <td>Not used as preservatives</td>\n",
       "      <td>NA</td>\n",
       "      <td>no preservatives</td>\n",
       "      <td>no</td>\n",
       "    </tr>\n",
       "    <tr>\n",
       "      <th>1</th>\n",
       "      <td>Base allergens: None\\nTop seasoning: Milk, Glu...</td>\n",
       "      <td>Yes</td>\n",
       "      <td>[0]</td>\n",
       "      <td>ambient</td>\n",
       "      <td>low</td>\n",
       "      <td>NA</td>\n",
       "      <td>NA</td>\n",
       "      <td>NA</td>\n",
       "      <td>no preservatives</td>\n",
       "      <td>no</td>\n",
       "    </tr>\n",
       "    <tr>\n",
       "      <th>2</th>\n",
       "      <td>Wheat Gluten</td>\n",
       "      <td>No</td>\n",
       "      <td>[0]</td>\n",
       "      <td>ambient</td>\n",
       "      <td>NA</td>\n",
       "      <td>no nitrogen</td>\n",
       "      <td>NA</td>\n",
       "      <td>NA</td>\n",
       "      <td>No Claims Made</td>\n",
       "      <td>Choking hazard for children</td>\n",
       "    </tr>\n",
       "    <tr>\n",
       "      <th>3</th>\n",
       "      <td>milk, Soya, Barley</td>\n",
       "      <td>No</td>\n",
       "      <td>[3]</td>\n",
       "      <td>NA</td>\n",
       "      <td>max</td>\n",
       "      <td>atmosphere</td>\n",
       "      <td>No Seasoning</td>\n",
       "      <td>NA</td>\n",
       "      <td>NA</td>\n",
       "      <td>no</td>\n",
       "    </tr>\n",
       "    <tr>\n",
       "      <th>4</th>\n",
       "      <td>Inherent:\\nCheddar Playz: Cereals containing G...</td>\n",
       "      <td>Yes</td>\n",
       "      <td>[0]</td>\n",
       "      <td>ambient</td>\n",
       "      <td>pellet (&lt;0.6), finished product (&lt;0.15)</td>\n",
       "      <td>nitrogen</td>\n",
       "      <td>NA</td>\n",
       "      <td>Moisture</td>\n",
       "      <td>NA</td>\n",
       "      <td>Choking hazard for children</td>\n",
       "    </tr>\n",
       "  </tbody>\n",
       "</table>\n",
       "</div>"
      ],
      "text/plain": [
       "                                           allergens  newIngredient PH_label  \\\n",
       "0  Base allergens: None\\nTop seasoning: Milk\\nCro...            Yes      [0]   \n",
       "1  Base allergens: None\\nTop seasoning: Milk, Glu...            Yes      [0]   \n",
       "2                                       Wheat Gluten             No      [0]   \n",
       "3                                 milk, Soya, Barley             No      [3]   \n",
       "4  Inherent:\\nCheddar Playz: Cereals containing G...            Yes      [0]   \n",
       "\n",
       "  prod_storageDist_label                      waterActivity_label  \\\n",
       "0                ambient                                      low   \n",
       "1                ambient                                      low   \n",
       "2                ambient                                       NA   \n",
       "3                     NA                                      max   \n",
       "4                ambient  pellet (<0.6), finished product (<0.15)   \n",
       "\n",
       "  packaging_label        preservatives_label otherFSA_label  \\\n",
       "0              NA  Not used as preservatives             NA   \n",
       "1              NA                         NA             NA   \n",
       "2     no nitrogen                         NA             NA   \n",
       "3      atmosphere               No Seasoning             NA   \n",
       "4        nitrogen                         NA       Moisture   \n",
       "\n",
       "  foodSafety_prodClaims_label           targetMarket_label  \n",
       "0            no preservatives                           no  \n",
       "1            no preservatives                           no  \n",
       "2              No Claims Made  Choking hazard for children  \n",
       "3                          NA                           no  \n",
       "4                          NA  Choking hazard for children  "
      ]
     },
     "execution_count": 16,
     "metadata": {},
     "output_type": "execute_result"
    }
   ],
   "source": [
    "train_df.head()"
   ]
  },
  {
   "cell_type": "code",
   "execution_count": 17,
   "metadata": {
    "collapsed": true
   },
   "outputs": [],
   "source": [
    "def categorical_encode(data):\n",
    "    values = array(data)\n",
    "    print(values)\n",
    "    # integer encode\n",
    "    label_encoder = LabelEncoder()\n",
    "    integer_encoded = label_encoder.fit_transform(values)\n",
    "    print(integer_encoded)\n",
    "    #return integer_encoded\n",
    "    \n",
    "    # binary encode\n",
    "    onehot_encoder = OneHotEncoder(sparse=False)\n",
    "    integer_encoded = integer_encoded.reshape(len(integer_encoded), 1)\n",
    "    onehot_encoded = onehot_encoder.fit_transform(integer_encoded)\n",
    "    print(onehot_encoded)\n",
    "    return onehot_encoded\n",
    "    "
   ]
  },
  {
   "cell_type": "code",
   "execution_count": 18,
   "metadata": {
    "collapsed": true
   },
   "outputs": [],
   "source": [
    "whiten = False\n",
    "random_state = 42\n",
    "svd_solver=\"full\""
   ]
  },
  {
   "cell_type": "code",
   "execution_count": 19,
   "metadata": {
    "collapsed": true
   },
   "outputs": [],
   "source": [
    "# Vectorization of text data using TF-IDF Vectorizer\n",
    "\n",
    "# Range (inclusive) of n-gram sizes for tokenizing text.\n",
    "#NGRAM_RANGE = ngram_range_inp\n",
    "\n",
    "# Limit on the number of features. We use the top 20K features.\n",
    "#TOP_K = 20000\n",
    "\n",
    "# Whether text should be split into word or character n-grams.\n",
    "# One of 'word', 'char'.\n",
    "TOKEN_MODE = 'word'\n",
    "\n",
    "# Minimum document/corpus frequency below which a token will be discarded.\n",
    "MIN_DOCUMENT_FREQUENCY = 2\n",
    "\n",
    "# Limit on the length of text sequences. Sequences longer than this\n",
    "# will be truncated.\n",
    "MAX_SEQUENCE_LENGTH = 500\n",
    "\n",
    "\n",
    "def ngram_vectorize(train_texts, train_labels,ngram_range):\n",
    "    \"\"\"Vectorizes texts as ngram vectors.\n",
    "\n",
    "    1 text = 1 tf-idf vector the length of vocabulary of uni-grams + bi-grams.\n",
    "\n",
    "    # Arguments\n",
    "        train_texts: list, training text strings.\n",
    "        train_labels: np.ndarray, training labels.\n",
    "        val_texts: list, validation text strings.\n",
    "\n",
    "    # Returns\n",
    "        x_train, x_val: vectorized training and validation texts\n",
    "    \"\"\"\n",
    "    # Create keyword arguments to pass to the 'tf-idf' vectorizer.\n",
    "    kwargs = {\n",
    "            'ngram_range': ngram_range,  # Use 1-grams + 2-grams.\n",
    "            'dtype': 'int32',\n",
    "            'strip_accents': 'unicode',\n",
    "            'decode_error': 'replace',\n",
    "            'analyzer': TOKEN_MODE,  # Split text into word tokens.\n",
    "            'min_df': MIN_DOCUMENT_FREQUENCY,\n",
    "    }\n",
    "    vectorizer = TfidfVectorizer(**kwargs)\n",
    "\n",
    "    # Learn vocabulary from training texts and vectorize training texts.\n",
    "    x_train = vectorizer.fit_transform(train_texts)\n",
    "\n",
    "    # Vectorize validation texts.\n",
    "    #x_val = vectorizer.transform(val_texts)\n",
    "\n",
    "    # Select top 'k' of the vectorized features.\n",
    "    #selector = SelectKBest(f_classif, k=min(TOP_K, x_train.shape[1]))\n",
    "    #selector.fit(x_train, train_labels)\n",
    "    #x_train = selector.transform(x_train)\n",
    "    #x_val = selector.transform(x_val)\n",
    "\n",
    "    x_train = x_train.astype('float32')\n",
    "    #x_val = x_val.astype('float32')\n",
    "    return x_train"
   ]
  },
  {
   "cell_type": "code",
   "execution_count": 20,
   "metadata": {},
   "outputs": [
    {
     "name": "stdout",
     "output_type": "stream",
     "text": [
      "['Not used as preservatives' 'NA' 'NA' 'No Seasoning' 'NA' 'NA' 'NA' 'NA'\n",
      " 'Not used as preservatives' 'Used in seasoning']\n",
      "[2 0 0 1 0 0 0 0 2 3]\n",
      "[[0. 0. 1. 0.]\n",
      " [1. 0. 0. 0.]\n",
      " [1. 0. 0. 0.]\n",
      " [0. 1. 0. 0.]\n",
      " [1. 0. 0. 0.]\n",
      " [1. 0. 0. 0.]\n",
      " [1. 0. 0. 0.]\n",
      " [1. 0. 0. 0.]\n",
      " [0. 0. 1. 0.]\n",
      " [0. 0. 0. 1.]]\n"
     ]
    }
   ],
   "source": [
    "train_df['preservatives_label'] = categorical_encode(train_df['preservatives_label'])"
   ]
  },
  {
   "cell_type": "markdown",
   "metadata": {},
   "source": [
    "# Text normalization"
   ]
  },
  {
   "cell_type": "code",
   "execution_count": 496,
   "metadata": {
    "collapsed": true
   },
   "outputs": [],
   "source": [
    "def preprocess_text(train_df,y,n_comp,n_gram_range):\n",
    "    train_df['preservatives_label'] = train_df['preservatives_label'].astype('category').cat.codes\n",
    "    train_df['prod_storageDist_label'] = train_df['prod_storageDist_label'].astype('category').cat.codes\n",
    "    train_df['waterActivity_label'] = train_df['waterActivity_label'].astype('category').cat.codes\n",
    "    train_df['packaging_label'] = train_df['packaging_label'].astype('category').cat.codes\n",
    "    train_df['otherFSA_label'] = train_df['otherFSA_label'].astype('category').cat.codes\n",
    "    train_df['prod_storageDist_label'] = train_df['prod_storageDist_label'].astype('category').cat.codes\n",
    "    train_df['foodSafety_prodClaims_label'] = train_df['foodSafety_prodClaims_label'].astype('category').cat.codes\n",
    "    train_df['targetMarket_label'] = train_df['targetMarket_label'].astype('category').cat.codes\n",
    "    train_df[' newIngradient'] = train_df[' newIngradient'].astype('category').cat.codes\n",
    "    #train_df['PH_label'] = str(train_df['PH_label'][0]).astype('category').cat.codes\n",
    "    norm_allergens = normalize_corpus(train_df['allergens'])\n",
    "    train_df = train_df.drop(['allergens'],axis=1)\n",
    "    train_labels = y\n",
    "    x_train = ngram_vectorize(norm_allergens, train_labels,n_gram_range)\n",
    "    x_train=x_train.toarray()\n",
    "    if (n_comp > 0):\n",
    "        pca = PCA(n_components=n_comp,svd_solver=svd_solver,whiten=whiten, random_state=42)\n",
    "        x_pca = pca.fit_transform(x_train)\n",
    "        x_train = np.concatenate((train_df,x_pca),axis=1)\n",
    "    return x_train"
   ]
  },
  {
   "cell_type": "code",
   "execution_count": 497,
   "metadata": {
    "collapsed": true
   },
   "outputs": [],
   "source": [
    "train_y=[]\n",
    "for i in range (len(fsha_data)):\n",
    "    if fsha_data[\"potentialMicrobial\"][i] =='Yes':\n",
    "        train_y.append(1)\n",
    "    else:\n",
    "        train_y.append(0)"
   ]
  },
  {
   "cell_type": "code",
   "execution_count": 498,
   "metadata": {
    "collapsed": true
   },
   "outputs": [],
   "source": [
    "y = train_y\n",
    "train_df.columns\n",
    "train_df=train_df.drop(['PH_label'],axis=1)"
   ]
  },
  {
   "cell_type": "code",
   "execution_count": 570,
   "metadata": {},
   "outputs": [
    {
     "data": {
      "text/plain": [
       "(10, 11)"
      ]
     },
     "execution_count": 570,
     "metadata": {},
     "output_type": "execute_result"
    }
   ],
   "source": [
    "n_components=3\n",
    "x_train = preprocess_text(train_df,y,n_components,ngram_range_inp)\n",
    "x_train.shape"
   ]
  },
  {
   "cell_type": "code",
   "execution_count": 538,
   "metadata": {
    "collapsed": true
   },
   "outputs": [],
   "source": [
    "#x_train[0]"
   ]
  },
  {
   "cell_type": "code",
   "execution_count": 539,
   "metadata": {
    "collapsed": true
   },
   "outputs": [],
   "source": [
    "#train_y"
   ]
  },
  {
   "cell_type": "code",
   "execution_count": 571,
   "metadata": {
    "collapsed": true
   },
   "outputs": [],
   "source": [
    "from datetime import datetime\n",
    "import time\n",
    "def benchmark(clf):\n",
    "    print('_' * 80)\n",
    "    print(\"Training: \")\n",
    "    print(clf)\n",
    "    print(len(X_train))\n",
    "    a = datetime.now()\n",
    "    #a = int(round(time.time() * 1000))\n",
    "    clf.fit(X_train, y_train)\n",
    "    #b = int(round(time.time() * 1000))\n",
    "    b = datetime.now()\n",
    "    c = a-b\n",
    "    train_time = c.microseconds\n",
    "    print(\"train time: %0.3fs\" % train_time)\n",
    "\n",
    "    #t0 = time()\n",
    "    pred = clf.predict(X_test)\n",
    "    #test_time = time() - t0\n",
    "    #print(\"test time:  %0.3fs\" % test_time)\n",
    "\n",
    "    #accuracy = metrics.accuracy_score(y_test, pred)\n",
    "    #print(\"accuracy:   %0.3f\" % accuracy)\n",
    "    \n",
    "    pred_train = clf.predict(X_train)\n",
    "    \n",
    "    f1_score = metrics.f1_score(y_test, pred)\n",
    "    print(\"f1_score:   %0.3f\" % f1_score )\n",
    "    \n",
    "    f1_score_train = metrics.f1_score(y_train, pred_train)\n",
    "    print(\"f1_score_train:   %0.3f\" % f1_score_train )\n",
    "    \n",
    "    \n",
    "    print(\"classification report:\")\n",
    "    print(classification_report(y_test, pred))\n",
    "    \n",
    "    print(\"confusion matrix:\")\n",
    "    print(metrics.confusion_matrix(y_test, pred))\n",
    "\n",
    "    if hasattr(clf, 'coef_'):\n",
    "        print(\"dimensionality: %d\" % clf.coef_.shape[1])\n",
    "        print(\"density: %f\" % density(clf.coef_))\n",
    "\n",
    "    clf_descr = str(clf).split('(')[0]\n",
    "    return clf_descr,f1_score_train,f1_score,train_time\n",
    "#accuracy,"
   ]
  },
  {
   "cell_type": "code",
   "execution_count": 572,
   "metadata": {
    "collapsed": true
   },
   "outputs": [],
   "source": [
    "X, y = x_train,y"
   ]
  },
  {
   "cell_type": "code",
   "execution_count": 573,
   "metadata": {
    "collapsed": true
   },
   "outputs": [],
   "source": [
    "K = pd.DataFrame(X)"
   ]
  },
  {
   "cell_type": "code",
   "execution_count": 574,
   "metadata": {},
   "outputs": [
    {
     "data": {
      "text/plain": [
       "(10, 11)"
      ]
     },
     "execution_count": 574,
     "metadata": {},
     "output_type": "execute_result"
    }
   ],
   "source": [
    "K.shape"
   ]
  },
  {
   "cell_type": "markdown",
   "metadata": {},
   "source": [
    "# Change the sample size from here"
   ]
  },
  {
   "cell_type": "code",
   "execution_count": 575,
   "metadata": {
    "collapsed": true
   },
   "outputs": [],
   "source": [
    "from scipy import signal\n",
    "import random\n",
    "def generate_samples(sampleSize):\n",
    "    for i in range(len(list(K))):\n",
    "        x = K.iloc[:,i]\n",
    "        if i == 0:\n",
    "            f = pd.Series(signal.resample(x, sampleSize))\n",
    "        else:\n",
    "            f = pd.concat([f, pd.Series(signal.resample(x,sampleSize))],axis=1)\n",
    "    f.columns = list(X)\n",
    "\n",
    "\n",
    "    y=[]\n",
    "    for i in range(0,sampleSize):\n",
    "        y.append(random.choices([0,1]))\n",
    "        \n",
    "    return f,y\n"
   ]
  },
  {
   "cell_type": "code",
   "execution_count": 594,
   "metadata": {},
   "outputs": [
    {
     "data": {
      "text/plain": [
       "(2000, 11)"
      ]
     },
     "execution_count": 594,
     "metadata": {},
     "output_type": "execute_result"
    }
   ],
   "source": [
    "X,y = generate_samples(2000)\n",
    "X.shape"
   ]
  },
  {
   "cell_type": "code",
   "execution_count": 595,
   "metadata": {},
   "outputs": [
    {
     "name": "stdout",
     "output_type": "stream",
     "text": [
      "(1800, 11)\n",
      "(200, 11)\n",
      "________________________________________________________________________________\n",
      "Training: \n",
      "Pipeline(memory=None,\n",
      "     steps=[('selector', SelectKBest(k='all', score_func=<function f_classif at 0x0000000011999C80>)), ('classifier', RidgeClassifier(alpha=1.0, class_weight=None, copy_X=True, fit_intercept=True,\n",
      "        max_iter=None, normalize=False, random_state=None, solver='lsqr',\n",
      "        tol=0.01))])\n",
      "1800\n",
      "train time: 996000.000s\n",
      "f1_score:   0.492\n",
      "f1_score_train:   0.494\n",
      "classification report:\n",
      "             precision    recall  f1-score   support\n",
      "\n",
      "          0       0.49      0.59      0.54        95\n",
      "          1       0.55      0.45      0.49       105\n",
      "\n",
      "avg / total       0.52      0.52      0.51       200\n",
      "\n",
      "confusion matrix:\n",
      "[[56 39]\n",
      " [58 47]]\n",
      "================================================================================\n",
      "Ridge Classifier\n",
      "________________________________________________________________________________\n",
      "Training: \n",
      "RidgeClassifier(alpha=1.0, class_weight=None, copy_X=True, fit_intercept=True,\n",
      "        max_iter=None, normalize=False, random_state=None, solver='lsqr',\n",
      "        tol=0.01)\n",
      "1800\n",
      "train time: 997000.000s\n",
      "f1_score:   0.492\n",
      "f1_score_train:   0.494\n",
      "classification report:\n",
      "             precision    recall  f1-score   support\n",
      "\n",
      "          0       0.49      0.59      0.54        95\n",
      "          1       0.55      0.45      0.49       105\n",
      "\n",
      "avg / total       0.52      0.52      0.51       200\n",
      "\n",
      "confusion matrix:\n",
      "[[56 39]\n",
      " [58 47]]\n",
      "dimensionality: 11\n",
      "density: 1.000000\n",
      "________________________________________________________________________________\n",
      "Training: \n",
      "Pipeline(memory=None,\n",
      "     steps=[('selector', SelectKBest(k='all', score_func=<function f_classif at 0x0000000011999C80>)), ('classifier', Perceptron(alpha=0.0001, class_weight=None, eta0=1.0, fit_intercept=True,\n",
      "      max_iter=50, n_iter=None, n_jobs=1, penalty=None, random_state=0,\n",
      "      shuffle=True, tol=None, verbose=0, warm_start=False))])\n",
      "1800\n",
      "train time: 966800.000s\n",
      "f1_score:   0.553\n",
      "f1_score_train:   0.537\n",
      "classification report:\n",
      "             precision    recall  f1-score   support\n",
      "\n",
      "          0       0.45      0.37      0.41        95\n",
      "          1       0.51      0.60      0.55       105\n",
      "\n",
      "avg / total       0.48      0.49      0.48       200\n",
      "\n",
      "confusion matrix:\n",
      "[[35 60]\n",
      " [42 63]]\n",
      "================================================================================\n",
      "Perceptron\n",
      "________________________________________________________________________________\n",
      "Training: \n",
      "Perceptron(alpha=0.0001, class_weight=None, eta0=1.0, fit_intercept=True,\n",
      "      max_iter=50, n_iter=None, n_jobs=1, penalty=None, random_state=0,\n",
      "      shuffle=True, tol=None, verbose=0, warm_start=False)\n",
      "1800\n",
      "train time: 984401.000s\n",
      "f1_score:   0.553\n",
      "f1_score_train:   0.537\n",
      "classification report:\n",
      "             precision    recall  f1-score   support\n",
      "\n",
      "          0       0.45      0.37      0.41        95\n",
      "          1       0.51      0.60      0.55       105\n",
      "\n",
      "avg / total       0.48      0.49      0.48       200\n",
      "\n",
      "confusion matrix:\n",
      "[[35 60]\n",
      " [42 63]]\n",
      "dimensionality: 11\n",
      "density: 1.000000\n",
      "________________________________________________________________________________\n",
      "Training: \n",
      "Pipeline(memory=None,\n",
      "     steps=[('selector', SelectKBest(k='all', score_func=<function f_classif at 0x0000000011999C80>)), ('classifier', PassiveAggressiveClassifier(C=1.0, average=False, class_weight=None,\n",
      "              fit_intercept=True, loss='hinge', max_iter=50, n_iter=None,\n",
      "              n_jobs=1, random_state=None, shuffle=True, tol=None,\n",
      "              verbose=0, warm_start=False))])\n",
      "1800\n",
      "train time: 984400.000s\n",
      "f1_score:   0.335\n",
      "f1_score_train:   0.342\n",
      "classification report:\n",
      "             precision    recall  f1-score   support\n",
      "\n",
      "          0       0.47      0.75      0.58        95\n",
      "          1       0.52      0.25      0.34       105\n",
      "\n",
      "avg / total       0.50      0.48      0.45       200\n",
      "\n",
      "confusion matrix:\n",
      "[[71 24]\n",
      " [79 26]]\n",
      "================================================================================\n",
      "Passive-Aggressive\n",
      "________________________________________________________________________________\n",
      "Training: \n",
      "PassiveAggressiveClassifier(C=1.0, average=False, class_weight=None,\n",
      "              fit_intercept=True, loss='hinge', max_iter=50, n_iter=None,\n",
      "              n_jobs=1, random_state=None, shuffle=True, tol=None,\n",
      "              verbose=0, warm_start=False)\n",
      "1800\n",
      "train time: 0.000s\n",
      "f1_score:   0.465\n",
      "f1_score_train:   0.499\n",
      "classification report:\n",
      "             precision    recall  f1-score   support\n",
      "\n",
      "          0       0.44      0.47      0.45        95\n",
      "          1       0.48      0.45      0.47       105\n",
      "\n",
      "avg / total       0.46      0.46      0.46       200\n",
      "\n",
      "confusion matrix:\n",
      "[[45 50]\n",
      " [58 47]]\n",
      "dimensionality: 11\n",
      "density: 1.000000\n",
      "________________________________________________________________________________\n",
      "Training: \n",
      "Pipeline(memory=None,\n",
      "     steps=[('selector', SelectKBest(k='all', score_func=<function f_classif at 0x0000000011999C80>)), ('classifier', KNeighborsClassifier(algorithm='auto', leaf_size=30, metric='minkowski',\n",
      "           metric_params=None, n_jobs=1, n_neighbors=5, p=2,\n",
      "           weights='uniform'))])\n",
      "1800\n",
      "train time: 0.000s\n",
      "f1_score:   0.558\n",
      "f1_score_train:   0.691\n",
      "classification report:\n",
      "             precision    recall  f1-score   support\n",
      "\n",
      "          0       0.54      0.61      0.57        95\n",
      "          1       0.60      0.52      0.56       105\n",
      "\n",
      "avg / total       0.57      0.56      0.56       200\n",
      "\n",
      "confusion matrix:\n",
      "[[58 37]\n",
      " [50 55]]\n",
      "================================================================================\n",
      "kNN\n",
      "________________________________________________________________________________\n",
      "Training: \n",
      "KNeighborsClassifier(algorithm='auto', leaf_size=30, metric='minkowski',\n",
      "           metric_params=None, n_jobs=1, n_neighbors=5, p=2,\n",
      "           weights='uniform')\n",
      "1800\n",
      "train time: 0.000s\n",
      "f1_score:   0.558\n",
      "f1_score_train:   0.691\n",
      "classification report:\n",
      "             precision    recall  f1-score   support\n",
      "\n",
      "          0       0.54      0.61      0.57        95\n",
      "          1       0.60      0.52      0.56       105\n",
      "\n",
      "avg / total       0.57      0.56      0.56       200\n",
      "\n",
      "confusion matrix:\n",
      "[[58 37]\n",
      " [50 55]]\n",
      "________________________________________________________________________________\n",
      "Training: \n",
      "Pipeline(memory=None,\n",
      "     steps=[('selector', SelectKBest(k='all', score_func=<function f_classif at 0x0000000011999C80>)), ('classifier', RandomForestClassifier(bootstrap=True, class_weight=None, criterion='gini',\n",
      "            max_depth=None, max_features='auto', max_leaf_nodes=None,\n",
      "            min_impurity_decrease=0.0, mi...n_jobs=1,\n",
      "            oob_score=False, random_state=None, verbose=0,\n",
      "            warm_start=False))])\n",
      "1800\n",
      "train time: 321006.000s\n",
      "f1_score:   0.435\n",
      "f1_score_train:   1.000\n",
      "classification report:\n",
      "             precision    recall  f1-score   support\n",
      "\n",
      "          0       0.46      0.59      0.52        95\n",
      "          1       0.51      0.38      0.43       105\n",
      "\n",
      "avg / total       0.49      0.48      0.47       200\n",
      "\n",
      "confusion matrix:\n",
      "[[56 39]\n",
      " [65 40]]\n",
      "================================================================================\n",
      "Random forest\n",
      "________________________________________________________________________________\n",
      "Training: \n",
      "RandomForestClassifier(bootstrap=True, class_weight=None, criterion='gini',\n",
      "            max_depth=None, max_features='auto', max_leaf_nodes=None,\n",
      "            min_impurity_decrease=0.0, min_impurity_split=None,\n",
      "            min_samples_leaf=1, min_samples_split=2,\n",
      "            min_weight_fraction_leaf=0.0, n_estimators=100, n_jobs=1,\n",
      "            oob_score=False, random_state=None, verbose=0,\n",
      "            warm_start=False)\n",
      "1800\n",
      "train time: 345007.000s\n",
      "f1_score:   0.474\n",
      "f1_score_train:   1.000\n",
      "classification report:\n",
      "             precision    recall  f1-score   support\n",
      "\n",
      "          0       0.47      0.55      0.50        95\n",
      "          1       0.52      0.44      0.47       105\n",
      "\n",
      "avg / total       0.49      0.49      0.49       200\n",
      "\n",
      "confusion matrix:\n",
      "[[52 43]\n",
      " [59 46]]\n",
      "================================================================================\n",
      "L2 penalty\n",
      "________________________________________________________________________________\n",
      "Training: \n",
      "LinearSVC(C=1.0, class_weight=None, dual=False, fit_intercept=True,\n",
      "     intercept_scaling=1, loss='l2', max_iter=1000, multi_class='ovr',\n",
      "     penalty='l2', random_state=None, tol=0.001, verbose=0)\n",
      "1800\n",
      "train time: 0.000s\n",
      "f1_score:   0.495\n",
      "f1_score_train:   0.490\n",
      "classification report:\n",
      "             precision    recall  f1-score   support\n",
      "\n",
      "          0       0.50      0.60      0.54        95\n",
      "          1       0.55      0.45      0.49       105\n",
      "\n",
      "avg / total       0.53      0.52      0.52       200\n",
      "\n",
      "confusion matrix:\n",
      "[[57 38]\n",
      " [58 47]]\n",
      "dimensionality: 11\n",
      "density: 1.000000\n",
      "________________________________________________________________________________\n",
      "Training: \n",
      "SGDClassifier(alpha=0.0001, average=False, class_weight=None, epsilon=0.1,\n",
      "       eta0=0.0, fit_intercept=True, l1_ratio=0.15,\n",
      "       learning_rate='optimal', loss='hinge', max_iter=50, n_iter=None,\n",
      "       n_jobs=1, penalty='l2', power_t=0.5, random_state=None,\n",
      "       shuffle=True, tol=None, verbose=0, warm_start=False)\n",
      "1800\n",
      "train time: 984400.000s\n",
      "f1_score:   0.533\n",
      "f1_score_train:   0.557\n",
      "classification report:\n",
      "             precision    recall  f1-score   support\n",
      "\n",
      "          0       0.44      0.37      0.40        95\n",
      "          1       0.50      0.57      0.53       105\n",
      "\n",
      "avg / total       0.47      0.47      0.47       200\n",
      "\n",
      "confusion matrix:\n",
      "[[35 60]\n",
      " [45 60]]\n",
      "dimensionality: 11\n",
      "density: 1.000000\n",
      "================================================================================\n",
      "L1 penalty\n",
      "________________________________________________________________________________\n",
      "Training: \n",
      "LinearSVC(C=1.0, class_weight=None, dual=False, fit_intercept=True,\n",
      "     intercept_scaling=1, loss='l2', max_iter=1000, multi_class='ovr',\n",
      "     penalty='l1', random_state=None, tol=0.001, verbose=0)\n",
      "1800\n",
      "train time: 968800.000s\n",
      "f1_score:   0.500\n",
      "f1_score_train:   0.498\n",
      "classification report:\n",
      "             precision    recall  f1-score   support\n",
      "\n",
      "          0       0.50      0.59      0.54        95\n",
      "          1       0.55      0.46      0.50       105\n",
      "\n",
      "avg / total       0.53      0.52      0.52       200\n",
      "\n",
      "confusion matrix:\n",
      "[[56 39]\n",
      " [57 48]]\n",
      "dimensionality: 11\n",
      "density: 0.818182\n",
      "________________________________________________________________________________\n",
      "Training: \n",
      "SGDClassifier(alpha=0.0001, average=False, class_weight=None, epsilon=0.1,\n",
      "       eta0=0.0, fit_intercept=True, l1_ratio=0.15,\n",
      "       learning_rate='optimal', loss='hinge', max_iter=50, n_iter=None,\n",
      "       n_jobs=1, penalty='l1', power_t=0.5, random_state=None,\n",
      "       shuffle=True, tol=None, verbose=0, warm_start=False)\n",
      "1800\n",
      "train time: 984400.000s\n",
      "f1_score:   0.589\n",
      "f1_score_train:   0.538\n",
      "classification report:\n",
      "             precision    recall  f1-score   support\n",
      "\n",
      "          0       0.50      0.39      0.44        95\n",
      "          1       0.54      0.65      0.59       105\n",
      "\n",
      "avg / total       0.52      0.53      0.52       200\n",
      "\n",
      "confusion matrix:\n",
      "[[37 58]\n",
      " [37 68]]\n",
      "dimensionality: 11\n",
      "density: 0.363636\n",
      "================================================================================\n",
      "Elastic-Net penalty\n",
      "________________________________________________________________________________\n",
      "Training: \n",
      "SGDClassifier(alpha=0.0001, average=False, class_weight=None, epsilon=0.1,\n",
      "       eta0=0.0, fit_intercept=True, l1_ratio=0.15,\n",
      "       learning_rate='optimal', loss='hinge', max_iter=50, n_iter=None,\n",
      "       n_jobs=1, penalty='elasticnet', power_t=0.5, random_state=None,\n",
      "       shuffle=True, tol=None, verbose=0, warm_start=False)\n",
      "1800\n",
      "train time: 984401.000s\n",
      "f1_score:   0.000\n",
      "f1_score_train:   0.000\n",
      "classification report:\n",
      "             precision    recall  f1-score   support\n",
      "\n",
      "          0       0.47      1.00      0.64        95\n",
      "          1       0.00      0.00      0.00       105\n",
      "\n",
      "avg / total       0.23      0.47      0.31       200\n",
      "\n",
      "confusion matrix:\n",
      "[[ 95   0]\n",
      " [105   0]]\n",
      "dimensionality: 11\n",
      "density: 0.545455\n",
      "================================================================================\n",
      "NearestCentroid (aka Rocchio classifier)\n",
      "________________________________________________________________________________\n",
      "Training: \n",
      "NearestCentroid(metric='euclidean', shrink_threshold=None)\n",
      "1800\n",
      "train time: 0.000s\n",
      "f1_score:   0.549\n",
      "f1_score_train:   0.584\n",
      "classification report:\n",
      "             precision    recall  f1-score   support\n",
      "\n",
      "          0       0.46      0.38      0.41        95\n",
      "          1       0.51      0.59      0.55       105\n",
      "\n",
      "avg / total       0.49      0.49      0.48       200\n",
      "\n",
      "confusion matrix:\n",
      "[[36 59]\n",
      " [43 62]]\n"
     ]
    }
   ],
   "source": [
    "selector = SelectKBest(f_classif, k='all')\n",
    "\n",
    "y = np.array(y)\n",
    "\n",
    "X = StandardScaler().fit_transform(X)\n",
    "X_train, X_test, y_train, y_test = train_test_split(X, y, test_size=.1, random_state=42)\n",
    "print(X_train.shape)\n",
    "print(X_test.shape)\n",
    "    \n",
    "results = []\n",
    "model_name = []\n",
    "\n",
    "for clf, name in (\n",
    "        (RidgeClassifier(tol=1e-2, solver=\"lsqr\"), \"Ridge Classifier\"),\n",
    "        (Perceptron(n_iter=50), \"Perceptron\"),\n",
    "        (PassiveAggressiveClassifier(n_iter=50), \"Passive-Aggressive\"),\n",
    "        (KNeighborsClassifier(n_neighbors=5), \"kNN\"),\n",
    "        (RandomForestClassifier(n_estimators=100), \"Random forest\")):\n",
    "    selector_clf = benchmark(Pipeline([('selector', selector),('classifier', clf)]))\n",
    "    print('=' * 80)\n",
    "    print(name)\n",
    "    results.append(benchmark(clf))\n",
    "    model_name.append(name)\n",
    "    #model.append(clf)\n",
    "    \n",
    "for penalty in [\"l2\", \"l1\"]:\n",
    "    print('=' * 80)\n",
    "    print(\"%s penalty\" % penalty.upper())\n",
    "    # Train Liblinear model\n",
    "    results.append(benchmark(LinearSVC(loss='l2', penalty=penalty,dual=False, tol=1e-3)))\n",
    "    model_name.append(\"LinearSVC\"+\" \"+penalty)\n",
    "\n",
    "    # Train SGD model\n",
    "    results.append(benchmark(SGDClassifier(alpha=.0001, n_iter=50,penalty=penalty)))\n",
    "    model_name.append(\"SGDClassifier\"+\" \"+penalty)\n",
    "\n",
    "\n",
    "# Train SGD with Elastic Net penalty\n",
    "print('=' * 80)\n",
    "print(\"Elastic-Net penalty\")\n",
    "results.append(benchmark(SGDClassifier(alpha=.0001, n_iter=50,penalty=\"elasticnet\")))\n",
    "model_name.append(\"SGD with Elastic Net penalty\")\n",
    "\n",
    "\n",
    "# Train NearestCentroid without threshold\n",
    "print('=' * 80)\n",
    "print(\"NearestCentroid (aka Rocchio classifier)\")\n",
    "results.append(benchmark(NearestCentroid()))\n",
    "model_name.append(\"NearestCentroid (aka Rocchio classifier)\")\n",
    "\n"
   ]
  },
  {
   "cell_type": "code",
   "execution_count": 596,
   "metadata": {},
   "outputs": [
    {
     "name": "stdout",
     "output_type": "stream",
     "text": [
      "11\n",
      "[0.49443757725587145, 0.5367833587011669, 0.498876404494382, 0.6914153132250579, 1.0, 0.4904024767801858, 0.556935817805383, 0.4981549815498155, 0.5378067100650977, 0.0, 0.5837081459270365]\n",
      "[0.4921465968586387, 0.5526315789473684, 0.46534653465346537, 0.5583756345177665, 0.4742268041237114, 0.4947368421052632, 0.5333333333333333, 0.5, 0.5887445887445887, 0.0, 0.5486725663716814]\n",
      "[997000, 984401, 0, 0, 345007, 0, 984400, 968800, 984400, 984401, 0]\n",
      "['Ridge Classifier', 'Perceptron', 'Passive-Aggressive', 'kNN', 'Random forest', 'LinearSVC l2', 'SGDClassifier l2', 'LinearSVC l1', 'SGDClassifier l1', 'SGD with Elastic Net penalty', 'NearestCentroid (aka Rocchio classifier)']\n"
     ]
    }
   ],
   "source": [
    "# make some plots\n",
    "print(len(results))\n",
    "\n",
    "indices = np.arange(len(results))\n",
    "\n",
    "results = [[x[i] for x in results] for i in range(4)]\n",
    "\n",
    "clf_names, f1_score_train, f1_score_test, training_time = results\n",
    "print(f1_score_train)\n",
    "print(f1_score_test)\n",
    "print(training_time)\n",
    "print(model_name)"
   ]
  },
  {
   "cell_type": "code",
   "execution_count": 597,
   "metadata": {},
   "outputs": [
    {
     "name": "stdout",
     "output_type": "stream",
     "text": [
      "[1.         0.98736309 0.         0.         0.34604514 0.\n",
      " 0.98736209 0.97171515 0.98736209 0.98736309 0.        ]\n"
     ]
    }
   ],
   "source": [
    "training_time = np.array(training_time) / np.max(training_time)\n",
    "print(training_time)"
   ]
  },
  {
   "cell_type": "code",
   "execution_count": 598,
   "metadata": {},
   "outputs": [
    {
     "data": {
      "image/png": "[encoded data removed]",
      "text/plain": [
       "<matplotlib.figure.Figure at 0x17c2ceb8>"
      ]
     },
     "metadata": {},
     "output_type": "display_data"
    }
   ],
   "source": [
    "plt.figure(figsize=(12, 8))\n",
    "plt.title(\"Score\")\n",
    "plt.barh(indices, f1_score_train, .2, label=\"f1_score_train\", color='r')\n",
    "plt.barh(indices+0.3, f1_score_test, .2, label=\"f1_score_test\", color='b')\n",
    "plt.barh(indices + .6, training_time, .2, label=\"training time\", color='g')\n",
    "plt.yticks(())\n",
    "plt.legend(loc='best')\n",
    "plt.subplots_adjust(left=.25)\n",
    "plt.subplots_adjust(top=.95)\n",
    "plt.subplots_adjust(bottom=.05)\n",
    "\n",
    "for i, c in zip(indices, model_name):\n",
    "    plt.text(-.3, i, c)\n",
    "\n",
    "plt.show()"
   ]
  },
  {
   "cell_type": "code",
   "execution_count": null,
   "metadata": {
    "collapsed": true
   },
   "outputs": [],
   "source": [
    "\"\"\"\n",
    "# Train sparse Naive Bayes classifiers\n",
    "\n",
    "if (n_components==0):\n",
    "    print('=' * 80)\n",
    "    print(\"Naive Bayes\")\n",
    "    results.append(benchmark(MultinomialNB(alpha=.01)))\n",
    "    model_name.append(\"MultinomialNB\")\n",
    "    accuracy.append(accuracy)\n",
    "    f1_score.append(f1_score)\n",
    "\n",
    "\n",
    "\n",
    "results.append(benchmark(BernoulliNB(alpha=.01)))\n",
    "model_name.append(\"BernoulliNB\")\n",
    "accuracy.append(accuracy)\n",
    "f1_score.append(f1_score)     \n",
    "\"\"\"\n"
   ]
  },
  {
   "cell_type": "code",
   "execution_count": 281,
   "metadata": {
    "collapsed": true
   },
   "outputs": [],
   "source": [
    "from matplotlib import pyplot as plt\n",
    "plt.savefig('D:\\\\Pepsico\\\\f1score2000.jpeg',bbox_inches = 'tight')\n",
    "plt.close()"
   ]
  },
  {
   "cell_type": "markdown",
   "metadata": {},
   "source": [
    "# Saving the model and loading the model with best F1-score"
   ]
  },
  {
   "cell_type": "code",
   "execution_count": 581,
   "metadata": {},
   "outputs": [
    {
     "name": "stdout",
     "output_type": "stream",
     "text": [
      "4\n",
      "0.8750000000000001\n",
      "Random forest\n"
     ]
    }
   ],
   "source": [
    "index100=np.argmax(f1_score_test)\n",
    "print(index100)\n",
    "f1score100 = f1_score_test[index100]\n",
    "print(f1score100)\n",
    "print(model_name[index100])"
   ]
  },
  {
   "cell_type": "code",
   "execution_count": 587,
   "metadata": {},
   "outputs": [
    {
     "name": "stdout",
     "output_type": "stream",
     "text": [
      "0.5652173913043478\n",
      "Random forest\n"
     ]
    }
   ],
   "source": [
    "index500=np.argmax(f1_score_test)\n",
    "f1score500 = f1_score_test[index500]\n",
    "print(f1score500)\n",
    "print(model_name[index500])"
   ]
  },
  {
   "cell_type": "code",
   "execution_count": 593,
   "metadata": {},
   "outputs": [
    {
     "name": "stdout",
     "output_type": "stream",
     "text": [
      "0.5737704918032787\n",
      "SGDClassifier l1\n"
     ]
    }
   ],
   "source": [
    "index1000=np.argmax(f1_score_test)\n",
    "f1score1000 = f1_score_test[index1000]\n",
    "print(f1score1000)\n",
    "print(model_name[index1000])"
   ]
  },
  {
   "cell_type": "code",
   "execution_count": 599,
   "metadata": {},
   "outputs": [
    {
     "name": "stdout",
     "output_type": "stream",
     "text": [
      "0.5887445887445887\n",
      "SGDClassifier l1\n"
     ]
    }
   ],
   "source": [
    "index2000=np.argmax(f1_score_test)\n",
    "f1score2000 = f1_score_test[index2000]\n",
    "print(f1score2000)\n",
    "print(model_name[index2000])"
   ]
  },
  {
   "cell_type": "code",
   "execution_count": 600,
   "metadata": {},
   "outputs": [
    {
     "data": {
      "image/png": "[encoded data removed]",
      "text/plain": [
       "<matplotlib.figure.Figure at 0xefccb00>"
      ]
     },
     "metadata": {},
     "output_type": "display_data"
    }
   ],
   "source": [
    "##Plotting the best model f1-scores\n",
    "\n",
    "import matplotlib.pyplot as plt\n",
    "plt.plot([100, 500, 1000, 2000],[f1score100,f1score500,f1score1000,f1score2000],marker=\"x\")\n",
    "#plt.xlim([0,2000])\n",
    "plt.ylabel('best model F1-score')\n",
    "plt.xlabel('Sample size')\n",
    "plt.show()"
   ]
  },
  {
   "cell_type": "code",
   "execution_count": 534,
   "metadata": {
    "collapsed": true
   },
   "outputs": [],
   "source": [
    "#model_name"
   ]
  },
  {
   "cell_type": "code",
   "execution_count": 535,
   "metadata": {
    "collapsed": true
   },
   "outputs": [],
   "source": [
    "#model"
   ]
  },
  {
   "cell_type": "code",
   "execution_count": 601,
   "metadata": {},
   "outputs": [
    {
     "name": "stdout",
     "output_type": "stream",
     "text": [
      "Best classifier is:Random forest ||f1_score 0.8750000000000001\n",
      "Best classifier is:Random forest ||f1_score 0.5652173913043478\n",
      "Best classifier is:SGDClassifier l1 ||f1_score 0.5737704918032787\n",
      "Best classifier is:SGDClassifier l1 ||f1_score 0.5887445887445887\n"
     ]
    }
   ],
   "source": [
    "print(\"Best classifier is:\"+model_name[index100],\"||f1_score\",f1score100)\n",
    "print(\"Best classifier is:\"+model_name[index500],\"||f1_score\",f1score500)\n",
    "print(\"Best classifier is:\"+model_name[index1000],\"||f1_score\",f1score1000)\n",
    "print(\"Best classifier is:\"+model_name[index2000],\"||f1_score\",f1score2000)"
   ]
  },
  {
   "cell_type": "code",
   "execution_count": null,
   "metadata": {
    "collapsed": true
   },
   "outputs": [],
   "source": []
  }
 ],
 "metadata": {
  "kernelspec": {
   "display_name": "Python 3",
   "language": "python",
   "name": "python3"
  },
  "language_info": {
   "codemirror_mode": {
    "name": "ipython",
    "version": 3
   },
   "file_extension": ".py",
   "mimetype": "text/x-python",
   "name": "python",
   "nbconvert_exporter": "python",
   "pygments_lexer": "ipython3",
   "version": "3.6.2"
  }
 },
 "nbformat": 4,
 "nbformat_minor": 2
}
