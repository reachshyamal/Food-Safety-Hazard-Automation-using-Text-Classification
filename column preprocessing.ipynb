{
 "cells": [
  {
   "cell_type": "code",
   "execution_count": 5,
   "metadata": {
    "collapsed": true
   },
   "outputs": [],
   "source": [
    "import numpy as np\n",
    "import pandas as pd\n",
    "import nltk\n",
    "import re\n",
    "import string\n",
    "import os"
   ]
  },
  {
   "cell_type": "code",
   "execution_count": 6,
   "metadata": {
    "collapsed": true
   },
   "outputs": [],
   "source": [
    "os.chdir('C:\\\\Users\\\\574977\\\\PycharmProjects\\\\pepsico\\\\fsha\\\\turgay')"
   ]
  },
  {
   "cell_type": "code",
   "execution_count": 8,
   "metadata": {
    "collapsed": true
   },
   "outputs": [],
   "source": [
    "data1=pd.read_excel('generic_PDAF_Turgay_updated.xlsx')"
   ]
  },
  {
   "cell_type": "code",
   "execution_count": 10,
   "metadata": {},
   "outputs": [
    {
     "data": {
      "text/plain": [
       "Index(['projName', 'accolNumber', 'PDA_projName', 'projType', ' projDesc',\n",
       "       'formulaNumber', 'owner', ' sector', 'Unnamed: 8', 'Unnamed: 9',\n",
       "       ' center', ' cur_tsgStage', 'WHTD', ' manufacSite', ' plantTrail',\n",
       "       'packMaterial', 'prodName', ' CPD-prodNameDesc', ' procPlat',\n",
       "       ' intrinsicProd', 'preservatives', ' pH', 'waterActivity', 'packaging',\n",
       "       ' otherFSA', 'allergens', 'prod_storageDist', ' shelfLife', ' TCG',\n",
       "       'foodSafety_prodClaims', 'cookedOrHeated', 'specificStorage',\n",
       "       ' labelingInstructions ', 'mishandled', ' targetMarket', ' fastTrack',\n",
       "       'baseProduct', 'prodModifications', ' newIngradient',\n",
       "       ' approvedPackage', 'potentialMicrobial', ' cross_contactAllergens',\n",
       "       'chokeHazard', 'operationalAllergen', 'Unnamed: 44', 'Unnamed: 45'],\n",
       "      dtype='object')"
      ]
     },
     "execution_count": 10,
     "metadata": {},
     "output_type": "execute_result"
    }
   ],
   "source": [
    "#['preservatives', 'pH', 'waterActivity', 'packaging', 'otherFSA', 'allergens', \n",
    "\n",
    "#             'prod_storageDist', 'foodSafety_prodClaims', 'targetMarket', 'newIngredient']\n",
    "data1.columns"
   ]
  },
  {
   "cell_type": "code",
   "execution_count": 158,
   "metadata": {
    "collapsed": true
   },
   "outputs": [],
   "source": [
    "#selecting set of columns for labelling\n",
    "data2=data1[['preservatives', ' pH', 'waterActivity', 'packaging',' otherFSA',\n",
    "            'prod_storageDist', ' shelfLife','foodSafety_prodClaims',' targetMarket']]"
   ]
  },
  {
   "cell_type": "code",
   "execution_count": 159,
   "metadata": {},
   "outputs": [
    {
     "data": {
      "text/html": [
       "<div>\n",
       "<style scoped>\n",
       "    .dataframe tbody tr th:only-of-type {\n",
       "        vertical-align: middle;\n",
       "    }\n",
       "\n",
       "    .dataframe tbody tr th {\n",
       "        vertical-align: top;\n",
       "    }\n",
       "\n",
       "    .dataframe thead th {\n",
       "        text-align: right;\n",
       "    }\n",
       "</style>\n",
       "<table border=\"1\" class=\"dataframe\">\n",
       "  <thead>\n",
       "    <tr style=\"text-align: right;\">\n",
       "      <th></th>\n",
       "      <th>preservatives</th>\n",
       "      <th>pH</th>\n",
       "      <th>waterActivity</th>\n",
       "      <th>packaging</th>\n",
       "      <th>otherFSA</th>\n",
       "      <th>prod_storageDist</th>\n",
       "      <th>shelfLife</th>\n",
       "      <th>foodSafety_prodClaims</th>\n",
       "      <th>targetMarket</th>\n",
       "    </tr>\n",
       "  </thead>\n",
       "  <tbody>\n",
       "    <tr>\n",
       "      <th>0</th>\n",
       "      <td>E262 Sodium acetates (i) Sodium acetate (ii) S...</td>\n",
       "      <td>NaN</td>\n",
       "      <td>low</td>\n",
       "      <td>NaN</td>\n",
       "      <td>NaN</td>\n",
       "      <td>ambient</td>\n",
       "      <td>16 weeks</td>\n",
       "      <td>No preservatives</td>\n",
       "      <td>No</td>\n",
       "    </tr>\n",
       "    <tr>\n",
       "      <th>1</th>\n",
       "      <td>NaN</td>\n",
       "      <td>NaN</td>\n",
       "      <td>low</td>\n",
       "      <td>NaN</td>\n",
       "      <td>NaN</td>\n",
       "      <td>ambient</td>\n",
       "      <td>16 weeks</td>\n",
       "      <td>No preservatives</td>\n",
       "      <td>no</td>\n",
       "    </tr>\n",
       "    <tr>\n",
       "      <th>2</th>\n",
       "      <td>None</td>\n",
       "      <td>NaN</td>\n",
       "      <td>NaN</td>\n",
       "      <td>Adhesive laminate with no Nitrogen flushing</td>\n",
       "      <td>NaN</td>\n",
       "      <td>Store in a cool dry place at ambient temperature</td>\n",
       "      <td>Code Date: 16 weeks\\nExport Code date: 24 week...</td>\n",
       "      <td>No claims made</td>\n",
       "      <td>Small pieces can be a choke hazard, Not suitab...</td>\n",
       "    </tr>\n",
       "    <tr>\n",
       "      <th>3</th>\n",
       "      <td>not present in seasoning</td>\n",
       "      <td>not known yet for reformulated seasoning - exi...</td>\n",
       "      <td>Max 5% in seasoning, FP aim 1,8% and max 2,2%</td>\n",
       "      <td>Packed in a protective atmosphere</td>\n",
       "      <td>None</td>\n",
       "      <td>none</td>\n",
       "      <td>oil racidity</td>\n",
       "      <td>none</td>\n",
       "      <td>no</td>\n",
       "    </tr>\n",
       "    <tr>\n",
       "      <th>4</th>\n",
       "      <td>None</td>\n",
       "      <td>n/a</td>\n",
       "      <td>Pellet (&lt;0.6), Finished Product (&lt;0.15)</td>\n",
       "      <td>Nitrogen flushed?</td>\n",
       "      <td>Moisture Content of Pellet : 10 - 12 %</td>\n",
       "      <td>Ambient</td>\n",
       "      <td>TBC Target 16 weeks, Explore 26 weeks</td>\n",
       "      <td>n/a</td>\n",
       "      <td>Suitable for consumers, potential choking haza...</td>\n",
       "    </tr>\n",
       "    <tr>\n",
       "      <th>5</th>\n",
       "      <td>None</td>\n",
       "      <td>n/a</td>\n",
       "      <td>Pellet (&lt;0.6), Finished Product (&lt;0.15)</td>\n",
       "      <td>Pellet WIP packaging not N2 flushed. 6 month s...</td>\n",
       "      <td>Moisture Content of Pellet : 10 - 12 %</td>\n",
       "      <td>Ambient</td>\n",
       "      <td>TBC Target 16 weeks, Expor 26 weeks</td>\n",
       "      <td>n/a</td>\n",
       "      <td>Suitable for consumers, potential choking haza...</td>\n",
       "    </tr>\n",
       "    <tr>\n",
       "      <th>6</th>\n",
       "      <td>NaN</td>\n",
       "      <td>NaN</td>\n",
       "      <td>Low</td>\n",
       "      <td>Lays is nitrogen flushed</td>\n",
       "      <td>NaN</td>\n",
       "      <td>RTE</td>\n",
       "      <td>26 weeks code date</td>\n",
       "      <td>None</td>\n",
       "      <td>Yes, no change to current product</td>\n",
       "    </tr>\n",
       "    <tr>\n",
       "      <th>7</th>\n",
       "      <td>None</td>\n",
       "      <td>Not applicable</td>\n",
       "      <td>low moisture food</td>\n",
       "      <td>no modified atmosphere</td>\n",
       "      <td>Not applicable</td>\n",
       "      <td>Store in a dry, cool and away from sun place.</td>\n",
       "      <td>26 weeks</td>\n",
       "      <td>claim 1 \"from corn\"\\nclaim 2 \"not fried\"\\nclai...</td>\n",
       "      <td>People with allergies to milk, lactose, peanuts.</td>\n",
       "    </tr>\n",
       "    <tr>\n",
       "      <th>8</th>\n",
       "      <td>E262 Sodium acetates (i) Sodium acetate (ii) S...</td>\n",
       "      <td>NaN</td>\n",
       "      <td>low, approximately 0,04</td>\n",
       "      <td>nitrogen flushed bags</td>\n",
       "      <td>NaN</td>\n",
       "      <td>ambient</td>\n",
       "      <td>19 weeks</td>\n",
       "      <td>50% less fat comparing to fried potato chips</td>\n",
       "      <td>no</td>\n",
       "    </tr>\n",
       "    <tr>\n",
       "      <th>9</th>\n",
       "      <td>May be in topping/seasoning ingredients TBC fi...</td>\n",
       "      <td>NaN</td>\n",
       "      <td>Low water activity</td>\n",
       "      <td>Packaging conditions TBC</td>\n",
       "      <td>NaN</td>\n",
       "      <td>N/A ambient</td>\n",
       "      <td>TBC</td>\n",
       "      <td>Allergen suffers. Made in a factory that handl...</td>\n",
       "      <td>Allergen suffers. Made in a factory that handl...</td>\n",
       "    </tr>\n",
       "  </tbody>\n",
       "</table>\n",
       "</div>"
      ],
      "text/plain": [
       "                                       preservatives  \\\n",
       "0  E262 Sodium acetates (i) Sodium acetate (ii) S...   \n",
       "1                                                NaN   \n",
       "2                                               None   \n",
       "3                           not present in seasoning   \n",
       "4                                               None   \n",
       "5                                               None   \n",
       "6                                                NaN   \n",
       "7                                               None   \n",
       "8  E262 Sodium acetates (i) Sodium acetate (ii) S...   \n",
       "9  May be in topping/seasoning ingredients TBC fi...   \n",
       "\n",
       "                                                  pH  \\\n",
       "0                                                NaN   \n",
       "1                                                NaN   \n",
       "2                                                NaN   \n",
       "3  not known yet for reformulated seasoning - exi...   \n",
       "4                                               n/a    \n",
       "5                                               n/a    \n",
       "6                                                NaN   \n",
       "7                                     Not applicable   \n",
       "8                                                NaN   \n",
       "9                                                NaN   \n",
       "\n",
       "                                   waterActivity  \\\n",
       "0                                            low   \n",
       "1                                            low   \n",
       "2                                            NaN   \n",
       "3  Max 5% in seasoning, FP aim 1,8% and max 2,2%   \n",
       "4        Pellet (<0.6), Finished Product (<0.15)   \n",
       "5        Pellet (<0.6), Finished Product (<0.15)   \n",
       "6                                            Low   \n",
       "7                              low moisture food   \n",
       "8                        low, approximately 0,04   \n",
       "9                             Low water activity   \n",
       "\n",
       "                                           packaging  \\\n",
       "0                                                NaN   \n",
       "1                                                NaN   \n",
       "2        Adhesive laminate with no Nitrogen flushing   \n",
       "3                  Packed in a protective atmosphere   \n",
       "4                                  Nitrogen flushed?   \n",
       "5  Pellet WIP packaging not N2 flushed. 6 month s...   \n",
       "6                           Lays is nitrogen flushed   \n",
       "7                             no modified atmosphere   \n",
       "8                              nitrogen flushed bags   \n",
       "9                           Packaging conditions TBC   \n",
       "\n",
       "                                 otherFSA  \\\n",
       "0                                     NaN   \n",
       "1                                     NaN   \n",
       "2                                     NaN   \n",
       "3                                    None   \n",
       "4  Moisture Content of Pellet : 10 - 12 %   \n",
       "5  Moisture Content of Pellet : 10 - 12 %   \n",
       "6                                     NaN   \n",
       "7                          Not applicable   \n",
       "8                                     NaN   \n",
       "9                                     NaN   \n",
       "\n",
       "                                   prod_storageDist  \\\n",
       "0                                           ambient   \n",
       "1                                           ambient   \n",
       "2  Store in a cool dry place at ambient temperature   \n",
       "3                                              none   \n",
       "4                                          Ambient    \n",
       "5                                          Ambient    \n",
       "6                                               RTE   \n",
       "7     Store in a dry, cool and away from sun place.   \n",
       "8                                           ambient   \n",
       "9                                       N/A ambient   \n",
       "\n",
       "                                           shelfLife  \\\n",
       "0                                           16 weeks   \n",
       "1                                           16 weeks   \n",
       "2  Code Date: 16 weeks\\nExport Code date: 24 week...   \n",
       "3                                       oil racidity   \n",
       "4              TBC Target 16 weeks, Explore 26 weeks   \n",
       "5                TBC Target 16 weeks, Expor 26 weeks   \n",
       "6                                 26 weeks code date   \n",
       "7                                           26 weeks   \n",
       "8                                           19 weeks   \n",
       "9                                                TBC   \n",
       "\n",
       "                               foodSafety_prodClaims  \\\n",
       "0                                   No preservatives   \n",
       "1                                   No preservatives   \n",
       "2                                    No claims made    \n",
       "3                                               none   \n",
       "4                                               n/a    \n",
       "5                                               n/a    \n",
       "6                                               None   \n",
       "7  claim 1 \"from corn\"\\nclaim 2 \"not fried\"\\nclai...   \n",
       "8       50% less fat comparing to fried potato chips   \n",
       "9  Allergen suffers. Made in a factory that handl...   \n",
       "\n",
       "                                        targetMarket  \n",
       "0                                                 No  \n",
       "1                                                 no  \n",
       "2  Small pieces can be a choke hazard, Not suitab...  \n",
       "3                                                 no  \n",
       "4  Suitable for consumers, potential choking haza...  \n",
       "5  Suitable for consumers, potential choking haza...  \n",
       "6                  Yes, no change to current product  \n",
       "7   People with allergies to milk, lactose, peanuts.  \n",
       "8                                                 no  \n",
       "9  Allergen suffers. Made in a factory that handl...  "
      ]
     },
     "execution_count": 159,
     "metadata": {},
     "output_type": "execute_result"
    }
   ],
   "source": [
    "#displaying dataframe\n",
    "data2"
   ]
  },
  {
   "cell_type": "code",
   "execution_count": 160,
   "metadata": {},
   "outputs": [
    {
     "name": "stdout",
     "output_type": "stream",
     "text": [
      "{nan, 'not known yet for reformulated seasoning - existing seasoning max 3%', 'Not applicable', 'n/a '}\n"
     ]
    },
    {
     "name": "stderr",
     "output_type": "stream",
     "text": [
      "C:\\ProgramData\\Anaconda3\\lib\\site-packages\\ipykernel_launcher.py:3: SettingWithCopyWarning: \n",
      "A value is trying to be set on a copy of a slice from a DataFrame.\n",
      "Try using .loc[row_indexer,col_indexer] = value instead\n",
      "\n",
      "See the caveats in the documentation: http://pandas.pydata.org/pandas-docs/stable/indexing.html#indexing-view-versus-copy\n",
      "  This is separate from the ipykernel package so we can avoid doing imports until\n"
     ]
    },
    {
     "data": {
      "text/plain": [
       "0     NA\n",
       "1     NA\n",
       "2     NA\n",
       "3    [3]\n",
       "4     NA\n",
       "5     NA\n",
       "6     NA\n",
       "7     NA\n",
       "8     NA\n",
       "9     NA\n",
       "Name: PH_label, dtype: object"
      ]
     },
     "execution_count": 160,
     "metadata": {},
     "output_type": "execute_result"
    }
   ],
   "source": [
    "#ph value label\n",
    "print(set(data2[' pH']))\n",
    "data2['PH_label']=data2[' pH'].apply(lambda x:re.findall(r'[0-9]+', str(x)) if bool(re.search(r'\\d', str(x))) else 'NA')\n",
    "data2['PH_label']"
   ]
  },
  {
   "cell_type": "code",
   "execution_count": 161,
   "metadata": {},
   "outputs": [
    {
     "name": "stdout",
     "output_type": "stream",
     "text": [
      "{'Store in a dry, cool and away from sun place.', 'Store in a cool dry place at ambient temperature', 'none', 'N/A ambient', 'ambient', 'RTE', 'Ambient '}\n"
     ]
    },
    {
     "name": "stderr",
     "output_type": "stream",
     "text": [
      "C:\\ProgramData\\Anaconda3\\lib\\site-packages\\ipykernel_launcher.py:13: SettingWithCopyWarning: \n",
      "A value is trying to be set on a copy of a slice from a DataFrame.\n",
      "Try using .loc[row_indexer,col_indexer] = value instead\n",
      "\n",
      "See the caveats in the documentation: http://pandas.pydata.org/pandas-docs/stable/indexing.html#indexing-view-versus-copy\n",
      "  del sys.path[0]\n"
     ]
    },
    {
     "data": {
      "text/plain": [
       "0               ambient\n",
       "1               ambient\n",
       "2               ambient\n",
       "3                    NA\n",
       "4               ambient\n",
       "5               ambient\n",
       "6                   RTE\n",
       "7    Keep away from sun\n",
       "8               ambient\n",
       "9               ambient\n",
       "Name: prod_storageDist_label, dtype: object"
      ]
     },
     "execution_count": 161,
     "metadata": {},
     "output_type": "execute_result"
    }
   ],
   "source": [
    "#'prod_storageDist'column label\n",
    "def prod_storageDist(x):\n",
    "    x=str(x.lower())\n",
    "    if x.__contains__('sun'):\n",
    "            return 'Keep away from sun'\n",
    "    elif x.__contains__('ambient')  :\n",
    "              return 'ambient'\n",
    "    elif x.__contains__('rte'):\n",
    "        return 'RTE'\n",
    "    else:\n",
    "        return 'NA'\n",
    "print(set(data2['prod_storageDist']))\n",
    "data2['prod_storageDist_label']=data2['prod_storageDist'].apply(lambda x:prod_storageDist(x))                                                              \n",
    "data2['prod_storageDist_label']                                                                "
   ]
  },
  {
   "cell_type": "code",
   "execution_count": 162,
   "metadata": {},
   "outputs": [
    {
     "name": "stdout",
     "output_type": "stream",
     "text": [
      "{nan, 'Low', 'low', 'low, approximately 0,04', 'Low water activity', 'Pellet (<0.6), Finished Product (<0.15)', 'low moisture food', 'Max 5% in seasoning, FP aim 1,8% and max 2,2%'}\n"
     ]
    },
    {
     "name": "stderr",
     "output_type": "stream",
     "text": [
      "C:\\ProgramData\\Anaconda3\\lib\\site-packages\\ipykernel_launcher.py:12: SettingWithCopyWarning: \n",
      "A value is trying to be set on a copy of a slice from a DataFrame.\n",
      "Try using .loc[row_indexer,col_indexer] = value instead\n",
      "\n",
      "See the caveats in the documentation: http://pandas.pydata.org/pandas-docs/stable/indexing.html#indexing-view-versus-copy\n",
      "  if sys.path[0] == '':\n"
     ]
    },
    {
     "data": {
      "text/plain": [
       "0                                        low\n",
       "1                                        low\n",
       "2                                        nan\n",
       "3                                        max\n",
       "4    pellet (<0.6), finished product (<0.15)\n",
       "5    pellet (<0.6), finished product (<0.15)\n",
       "6                                        low\n",
       "7                                        low\n",
       "8                                        low\n",
       "9                                        low\n",
       "Name: waterActivity_label, dtype: object"
      ]
     },
     "execution_count": 162,
     "metadata": {},
     "output_type": "execute_result"
    }
   ],
   "source": [
    "#water activity\n",
    "print(set(data2['waterActivity']))\n",
    "def water_activity(x):\n",
    "    x=str(x)\n",
    "    x=x.lower()\n",
    "    if x.__contains__('low'):\n",
    "        return 'low'\n",
    "    elif x.__contains__('max'):\n",
    "        return 'max'\n",
    "    else:\n",
    "        return(x)\n",
    "data2['waterActivity_label']=data2['waterActivity'].apply(lambda x:water_activity(x))                                                              \n",
    "data2['waterActivity_label']   "
   ]
  },
  {
   "cell_type": "code",
   "execution_count": 170,
   "metadata": {},
   "outputs": [
    {
     "name": "stdout",
     "output_type": "stream",
     "text": [
      "{nan, 'nitrogen flushed bags', 'no modified atmosphere', 'Packaging conditions TBC', 'Packed in a protective atmosphere', 'Pellet WIP packaging not N2 flushed. 6 month standard shelf life for pellet.', 'Nitrogen flushed?', 'Adhesive laminate with no Nitrogen flushing', 'Lays is nitrogen flushed'}\n"
     ]
    },
    {
     "name": "stderr",
     "output_type": "stream",
     "text": [
      "C:\\ProgramData\\Anaconda3\\lib\\site-packages\\ipykernel_launcher.py:17: SettingWithCopyWarning: \n",
      "A value is trying to be set on a copy of a slice from a DataFrame.\n",
      "Try using .loc[row_indexer,col_indexer] = value instead\n",
      "\n",
      "See the caveats in the documentation: http://pandas.pydata.org/pandas-docs/stable/indexing.html#indexing-view-versus-copy\n"
     ]
    },
    {
     "data": {
      "text/plain": [
       "0                         nan\n",
       "1                         nan\n",
       "2                 no nitrogen\n",
       "3                  atmosphere\n",
       "4                    nitrogen\n",
       "5                 no nitrogen\n",
       "6                    nitrogen\n",
       "7                  atmosphere\n",
       "8                    nitrogen\n",
       "9    packaging conditions tbc\n",
       "Name: packaging_label, dtype: object"
      ]
     },
     "execution_count": 170,
     "metadata": {},
     "output_type": "execute_result"
    }
   ],
   "source": [
    "#packaging'\n",
    "print(set(data2['packaging']))\n",
    "def packaging(x):\n",
    "    x=str(x)\n",
    "    x=x.lower()\n",
    "    if x.__contains__('no') and x.__contains__('nitrogen'):\n",
    "        return 'no nitrogen'\n",
    "    elif x.__contains__('not') and x.__contains__('n2'):\n",
    "        return 'no nitrogen'\n",
    "    elif x.__contains__('nitrogen') and not x.__contains__('no'):\n",
    "        return 'nitrogen'\n",
    "    elif x.__contains__('atmosphere'):\n",
    "        return 'atmosphere'\n",
    "    else:\n",
    "        return(x)\n",
    "    \n",
    "data2['packaging_label']=data2['packaging'].apply(lambda x: packaging(x))  \n",
    "data2['packaging_label']\n",
    "#packaging('Lays is nitrogen flushed')    "
   ]
  },
  {
   "cell_type": "code",
   "execution_count": 174,
   "metadata": {},
   "outputs": [
    {
     "name": "stdout",
     "output_type": "stream",
     "text": [
      "{nan, 'E262 Sodium acetates (i) Sodium acetate (ii) Sodium hydrogen acetate (sodium diacetate) - they are not used as preservatives', 'None', 'May be in topping/seasoning ingredients TBC final ingredients', 'E262 Sodium acetates (i) Sodium acetate (ii) Sodium hydrogen acetate (sodium diacetate)', 'not present in seasoning'}\n"
     ]
    },
    {
     "name": "stderr",
     "output_type": "stream",
     "text": [
      "C:\\ProgramData\\Anaconda3\\lib\\site-packages\\ipykernel_launcher.py:15: SettingWithCopyWarning: \n",
      "A value is trying to be set on a copy of a slice from a DataFrame.\n",
      "Try using .loc[row_indexer,col_indexer] = value instead\n",
      "\n",
      "See the caveats in the documentation: http://pandas.pydata.org/pandas-docs/stable/indexing.html#indexing-view-versus-copy\n",
      "  from ipykernel import kernelapp as app\n"
     ]
    },
    {
     "data": {
      "text/plain": [
       "0    Not used as preservatives\n",
       "1                           NA\n",
       "2                           NA\n",
       "3                 No Seasoning\n",
       "4                           NA\n",
       "5                           NA\n",
       "6                           NA\n",
       "7                           NA\n",
       "8    Not used as preservatives\n",
       "9            Used in seasoning\n",
       "Name: preservatives_label, dtype: object"
      ]
     },
     "execution_count": 174,
     "metadata": {},
     "output_type": "execute_result"
    }
   ],
   "source": [
    "#'preservatives'\n",
    "print(set(data2['preservatives']))\n",
    "def preservatives(x):\n",
    "    x=str(x)\n",
    "    x=x.lower()\n",
    "    if x.__contains__('sodium'):\n",
    "        return 'Not used as preservatives'\n",
    "    elif x.__contains__('not') and x.__contains__('seasoning'):\n",
    "        return 'No Seasoning'\n",
    "    elif bool(re.search('topping|seasoning',x)):\n",
    "        return 'Used in seasoning'\n",
    "    else:\n",
    "        return ('NA')\n",
    "    \n",
    "data2['preservatives_label']=data2['preservatives'].apply(lambda x:preservatives(x))\n",
    "data2['preservatives_label']"
   ]
  },
  {
   "cell_type": "code",
   "execution_count": 164,
   "metadata": {},
   "outputs": [
    {
     "name": "stdout",
     "output_type": "stream",
     "text": [
      "{nan, 'Not applicable', 'None', 'Moisture Content of Pellet : 10 - 12 %'}\n"
     ]
    },
    {
     "name": "stderr",
     "output_type": "stream",
     "text": [
      "C:\\ProgramData\\Anaconda3\\lib\\site-packages\\ipykernel_launcher.py:10: SettingWithCopyWarning: \n",
      "A value is trying to be set on a copy of a slice from a DataFrame.\n",
      "Try using .loc[row_indexer,col_indexer] = value instead\n",
      "\n",
      "See the caveats in the documentation: http://pandas.pydata.org/pandas-docs/stable/indexing.html#indexing-view-versus-copy\n",
      "  # Remove the CWD from sys.path while we load stuff.\n"
     ]
    },
    {
     "data": {
      "text/plain": [
       "0          NA\n",
       "1          NA\n",
       "2          NA\n",
       "3          NA\n",
       "4    Moisture\n",
       "5    Moisture\n",
       "6          NA\n",
       "7          NA\n",
       "8          NA\n",
       "9          NA\n",
       "Name: otherFSA_label, dtype: object"
      ]
     },
     "execution_count": 164,
     "metadata": {},
     "output_type": "execute_result"
    }
   ],
   "source": [
    "#' otherFSA', \n",
    "print(set(data2[' otherFSA']))\n",
    "def otherFSA(x):\n",
    "    x=str(x)\n",
    "    x=x.lower()\n",
    "    if bool(re.search('moisture',x)):\n",
    "        return 'Moisture'\n",
    "    else:\n",
    "        return 'NA'\n",
    "data2['otherFSA_label']=data2[' otherFSA'].apply(lambda x:otherFSA(x))\n",
    "data2['otherFSA_label']"
   ]
  },
  {
   "cell_type": "code",
   "execution_count": 165,
   "metadata": {},
   "outputs": [
    {
     "name": "stdout",
     "output_type": "stream",
     "text": [
      "{'Code Date: 16 weeks\\nExport Code date: 24 weeks \\n', 'TBC Target 16 weeks, Explore 26 weeks', '26 weeks', '26 weeks code date', 'TBC', '16 weeks', 'oil racidity', 'TBC Target 16 weeks, Expor 26 weeks', '19 weeks'}\n"
     ]
    },
    {
     "name": "stderr",
     "output_type": "stream",
     "text": [
      "C:\\ProgramData\\Anaconda3\\lib\\site-packages\\ipykernel_launcher.py:3: SettingWithCopyWarning: \n",
      "A value is trying to be set on a copy of a slice from a DataFrame.\n",
      "Try using .loc[row_indexer,col_indexer] = value instead\n",
      "\n",
      "See the caveats in the documentation: http://pandas.pydata.org/pandas-docs/stable/indexing.html#indexing-view-versus-copy\n",
      "  This is separate from the ipykernel package so we can avoid doing imports until\n"
     ]
    },
    {
     "data": {
      "text/plain": [
       "0            [16]\n",
       "1            [16]\n",
       "2        [16, 24]\n",
       "3    oil racidity\n",
       "4        [16, 26]\n",
       "5        [16, 26]\n",
       "6            [26]\n",
       "7            [26]\n",
       "8            [19]\n",
       "9             TBC\n",
       "Name: shelfLife_label, dtype: object"
      ]
     },
     "execution_count": 165,
     "metadata": {},
     "output_type": "execute_result"
    }
   ],
   "source": [
    "#' shelfLife','\n",
    "print(set(data2[' shelfLife']))\n",
    "data2['shelfLife_label']=data2[' shelfLife'].apply(lambda x:re.findall('\\d+',str(x)) if bool(re.search('\\d',str(x))) else str(x))\n",
    "data2['shelfLife_label']"
   ]
  },
  {
   "cell_type": "code",
   "execution_count": 166,
   "metadata": {},
   "outputs": [
    {
     "name": "stdout",
     "output_type": "stream",
     "text": [
      "{'None', 'claim 1 \"from corn\"\\nclaim 2 \"not fried\"\\nclaim 3 \"no preservatives\"', 'n/a ', '50% less fat comparing to fried potato chips', 'none', 'No claims made ', 'No preservatives', 'Allergen suffers. Made in a factory that handles many allergens'}\n"
     ]
    },
    {
     "name": "stderr",
     "output_type": "stream",
     "text": [
      "C:\\ProgramData\\Anaconda3\\lib\\site-packages\\ipykernel_launcher.py:17: SettingWithCopyWarning: \n",
      "A value is trying to be set on a copy of a slice from a DataFrame.\n",
      "Try using .loc[row_indexer,col_indexer] = value instead\n",
      "\n",
      "See the caveats in the documentation: http://pandas.pydata.org/pandas-docs/stable/indexing.html#indexing-view-versus-copy\n"
     ]
    },
    {
     "data": {
      "text/plain": [
       "0                                no preservatives\n",
       "1                                no preservatives\n",
       "2                                  No Claims Made\n",
       "3                                              NA\n",
       "4                                              NA\n",
       "5                                              NA\n",
       "6                                              NA\n",
       "7                                     Claims Made\n",
       "8    50% less fat comparing to fried potato chips\n",
       "9                                        Allergen\n",
       "Name: foodSafety_prodClaims_label, dtype: object"
      ]
     },
     "execution_count": 166,
     "metadata": {},
     "output_type": "execute_result"
    }
   ],
   "source": [
    "#foodSafety_prodClaims',\n",
    "print(set(data2['foodSafety_prodClaims']))\n",
    "def foodsafety_prodclaims(x):\n",
    "    x=str(x)\n",
    "    x=x.lower()\n",
    "    if bool(re.search('^claim',x)):\n",
    "        return 'Claims Made'\n",
    "    elif x.__contains__('no claims'):\n",
    "        return 'No Claims Made'\n",
    "    elif x.__contains__('allergen'):\n",
    "        return 'Allergen'\n",
    "    elif bool(re.search('none|n/a',x)):\n",
    "        return 'NA'\n",
    "    else:\n",
    "        return(x)\n",
    "\n",
    "data2['foodSafety_prodClaims_label']=data2['foodSafety_prodClaims'].apply(lambda x:foodsafety_prodclaims(x))  \n",
    "data2['foodSafety_prodClaims_label']"
   ]
  },
  {
   "cell_type": "code",
   "execution_count": 167,
   "metadata": {},
   "outputs": [
    {
     "name": "stdout",
     "output_type": "stream",
     "text": [
      "{'Suitable for consumers, potential choking hazard for younger children. ', 'People with allergies to milk, lactose, peanuts.', 'Suitable for consumers, potential choking hazard for younger children.\\nPotentially children in families.', 'Yes, no change to current product', 'no', 'No', 'Allergen suffers. Made in a factory that handles many allergens', 'Small pieces can be a choke hazard, Not suitable for young children <36 months'}\n"
     ]
    },
    {
     "name": "stderr",
     "output_type": "stream",
     "text": [
      "C:\\ProgramData\\Anaconda3\\lib\\site-packages\\ipykernel_launcher.py:14: SettingWithCopyWarning: \n",
      "A value is trying to be set on a copy of a slice from a DataFrame.\n",
      "Try using .loc[row_indexer,col_indexer] = value instead\n",
      "\n",
      "See the caveats in the documentation: http://pandas.pydata.org/pandas-docs/stable/indexing.html#indexing-view-versus-copy\n",
      "  \n"
     ]
    },
    {
     "data": {
      "text/plain": [
       "0                             no\n",
       "1                             no\n",
       "2    Choking hazard for children\n",
       "3                             no\n",
       "4    Choking hazard for children\n",
       "5    Choking hazard for children\n",
       "6                             no\n",
       "7                        Allergy\n",
       "8                             no\n",
       "9                        Allergy\n",
       "Name: targetMarket_label, dtype: object"
      ]
     },
     "execution_count": 167,
     "metadata": {},
     "output_type": "execute_result"
    }
   ],
   "source": [
    "#' targetMarket'\n",
    "print(set(data2[' targetMarket']))\n",
    "def targetMarket(x):\n",
    "    x=str(x)\n",
    "    x=x.lower()\n",
    "    if (x.__contains__('choking') or x.__contains__('choke')) and x.__contains__('children'):\n",
    "        return 'Choking hazard for children'\n",
    "    elif x.__contains__('allerg'):\n",
    "        return 'Allergy'\n",
    "    elif x.__contains__('no') and x.__contains__('change'):\n",
    "        return 'no'\n",
    "    else:\n",
    "        return(x)\n",
    "data2['targetMarket_label']=data2[' targetMarket'].apply(lambda x:targetMarket(x))\n",
    "data2['targetMarket_label']"
   ]
  },
  {
   "cell_type": "code",
   "execution_count": 176,
   "metadata": {
    "collapsed": true
   },
   "outputs": [],
   "source": [
    "#data2.to_csv('label.csv')"
   ]
  }
 ],
 "metadata": {
  "kernelspec": {
   "display_name": "Python 3",
   "language": "python",
   "name": "python3"
  },
  "language_info": {
   "codemirror_mode": {
    "name": "ipython",
    "version": 3
   },
   "file_extension": ".py",
   "mimetype": "text/x-python",
   "name": "python",
   "nbconvert_exporter": "python",
   "pygments_lexer": "ipython3",
   "version": "3.6.2"
  }
 },
 "nbformat": 4,
 "nbformat_minor": 2
}
