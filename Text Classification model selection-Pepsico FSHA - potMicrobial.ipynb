{
 "cells": [
  {
   "cell_type": "markdown",
   "metadata": {},
   "source": [
    "# This notebooks does predictive modeling of the Output : \"Is there any potential Microbial Activity?\" in the FSHA form \n",
    "# This notebook applies basic ML techniques like NaiveBayesClassifier, LogisticRegression, SGDClassifier on the concatenated text derived from the set of features. The text is cleaned, normalized and then vectorized and fit into the Model. The target is upsampled to counter the unbalanced data ('Yes' / 'No' values), before applying ML"
   ]
  },
  {
   "cell_type": "code",
   "execution_count": 1,
   "metadata": {
    "collapsed": true
   },
   "outputs": [],
   "source": [
    "import logging\n",
    "import pandas as pd\n",
    "import numpy as np\n",
    "from numpy import random\n",
    "import nltk\n",
    "from sklearn.model_selection import train_test_split\n",
    "from sklearn.feature_extraction.text import CountVectorizer, TfidfVectorizer\n",
    "from sklearn.metrics import accuracy_score, confusion_matrix\n",
    "import matplotlib.pyplot as plt\n",
    "from nltk.corpus import stopwords\n",
    "import re\n",
    "from bs4 import BeautifulSoup\n",
    "import warnings\n",
    "warnings.simplefilter('ignore')\n",
    "%matplotlib inline"
   ]
  },
  {
   "cell_type": "code",
   "execution_count": 2,
   "metadata": {
    "collapsed": true
   },
   "outputs": [],
   "source": [
    "#filename = \"C:/Pepsico/FSHA RPA - 25 July 2019 - 209Files.xlsm\"\n",
    "filename1 = \"C:/Pepsico/NAF-2019 RPA - 09 AUGUST 2019.xlsm\"\n",
    "filename2 = \"C:/Pepsico/NAF-2018 RPA - 09 AUGUST 2019.xlsm\"\n",
    "filename3 = \"C:/Pepsico/Additional FSHAs.xlsm\"\n",
    "filename4 = \"C:/Pepsico/FSHA RPA - Microbial Growth = Y - 14 Aug 2019.xlsm\"\n",
    "#filename5 = \"C:/Pepsico/NAF - Additional FSHAs 1 - 13 AUG 2019.xlsm\""
   ]
  },
  {
   "cell_type": "markdown",
   "metadata": {},
   "source": [
    "# Read the extract file, check the number of records, first few rows"
   ]
  },
  {
   "cell_type": "code",
   "execution_count": 3,
   "metadata": {
    "collapsed": true
   },
   "outputs": [],
   "source": [
    "df1 = pd.read_excel(filename1)\n",
    "df2 = pd.read_excel(filename2)\n",
    "df3 = pd.read_excel(filename3)\n",
    "df4 = pd.read_excel(filename4)"
   ]
  },
  {
   "cell_type": "code",
   "execution_count": 4,
   "metadata": {
    "collapsed": true
   },
   "outputs": [],
   "source": [
    "df =  pd.concat([df1,df2,df3,df4])"
   ]
  },
  {
   "cell_type": "code",
   "execution_count": 5,
   "metadata": {},
   "outputs": [
    {
     "data": {
      "text/plain": [
       "119"
      ]
     },
     "execution_count": 5,
     "metadata": {},
     "output_type": "execute_result"
    }
   ],
   "source": [
    "len(df)"
   ]
  },
  {
   "cell_type": "code",
   "execution_count": 6,
   "metadata": {},
   "outputs": [
    {
     "data": {
      "text/html": [
       "<div>\n",
       "<style>\n",
       "    .dataframe thead tr:only-child th {\n",
       "        text-align: right;\n",
       "    }\n",
       "\n",
       "    .dataframe thead th {\n",
       "        text-align: left;\n",
       "    }\n",
       "\n",
       "    .dataframe tbody tr th {\n",
       "        vertical-align: top;\n",
       "    }\n",
       "</style>\n",
       "<table border=\"1\" class=\"dataframe\">\n",
       "  <thead>\n",
       "    <tr style=\"text-align: right;\">\n",
       "      <th></th>\n",
       "      <th>File Name</th>\n",
       "      <th>projName</th>\n",
       "      <th>accolNumber</th>\n",
       "      <th>PDA_projName</th>\n",
       "      <th>projType</th>\n",
       "      <th>projDesc</th>\n",
       "      <th>formulaNumber</th>\n",
       "      <th>owner</th>\n",
       "      <th>sector</th>\n",
       "      <th>center</th>\n",
       "      <th>...</th>\n",
       "      <th>Table1_Row6_Milk</th>\n",
       "      <th>Table1_Row6_Nuts</th>\n",
       "      <th>Table1_Row6_Peanuts</th>\n",
       "      <th>Table1_Row6_Soya</th>\n",
       "      <th>Table1_Row6_Celery</th>\n",
       "      <th>Table1_Row6_Lupin</th>\n",
       "      <th>Table1_Row6_Molluscs</th>\n",
       "      <th>Table1_Row6_Mustard</th>\n",
       "      <th>Table1_Row6_Sesame Seeds</th>\n",
       "      <th>Table1_Row6_Sulphites</th>\n",
       "    </tr>\n",
       "  </thead>\n",
       "  <tbody>\n",
       "    <tr>\n",
       "      <th>0</th>\n",
       "      <td>Cheetos Double Cheddar Eggs Combined FSHA Form...</td>\n",
       "      <td>Cheetos Double Cheddar Egg Puff LTO 2019</td>\n",
       "      <td>52607</td>\n",
       "      <td>Cheetos Eggs Double Cheddar flavored Puffs</td>\n",
       "      <td>Refresh</td>\n",
       "      <td>Launch a legacy Double Cheddar seasoning (ING9...</td>\n",
       "      <td>FFM0008310</td>\n",
       "      <td>Ann Robarge</td>\n",
       "      <td>FLNA</td>\n",
       "      <td>Plano</td>\n",
       "      <td>...</td>\n",
       "      <td>0</td>\n",
       "      <td>0</td>\n",
       "      <td>0</td>\n",
       "      <td>0</td>\n",
       "      <td>0</td>\n",
       "      <td>0</td>\n",
       "      <td>0</td>\n",
       "      <td>0</td>\n",
       "      <td>0</td>\n",
       "      <td>0</td>\n",
       "    </tr>\n",
       "    <tr>\n",
       "      <th>1</th>\n",
       "      <td>Cheetos Popcorn Combined FSHA Fast Track -Flam...</td>\n",
       "      <td>Cheetos Popcorn 2020</td>\n",
       "      <td>53939</td>\n",
       "      <td>Cheetos Popcorn - Flamin' Hot</td>\n",
       "      <td>Reframe</td>\n",
       "      <td>Launch new Flamin' Hot seasoning PCRN_POP - Se...</td>\n",
       "      <td>FFM0008419</td>\n",
       "      <td>Ann Robarge</td>\n",
       "      <td>FLNA</td>\n",
       "      <td>Plano</td>\n",
       "      <td>...</td>\n",
       "      <td>0</td>\n",
       "      <td>0</td>\n",
       "      <td>0</td>\n",
       "      <td>0</td>\n",
       "      <td>0</td>\n",
       "      <td>0</td>\n",
       "      <td>0</td>\n",
       "      <td>0</td>\n",
       "      <td>0</td>\n",
       "      <td>0</td>\n",
       "    </tr>\n",
       "    <tr>\n",
       "      <th>2</th>\n",
       "      <td>Cheetos Popcorn Combined FSHA Fast Track- Mell...</td>\n",
       "      <td>Cheetos Popcorn 2020</td>\n",
       "      <td>53939</td>\n",
       "      <td>Cheetos Popcorn - Cheese</td>\n",
       "      <td>Reframe</td>\n",
       "      <td>Existing   Seasoning - Powder - Mellow Chedda...</td>\n",
       "      <td>FFM0008410</td>\n",
       "      <td>Ann Robarge</td>\n",
       "      <td>FLNA</td>\n",
       "      <td>Plano</td>\n",
       "      <td>...</td>\n",
       "      <td>0</td>\n",
       "      <td>0</td>\n",
       "      <td>0</td>\n",
       "      <td>0</td>\n",
       "      <td>0</td>\n",
       "      <td>0</td>\n",
       "      <td>0</td>\n",
       "      <td>0</td>\n",
       "      <td>0</td>\n",
       "      <td>0</td>\n",
       "    </tr>\n",
       "    <tr>\n",
       "      <th>3</th>\n",
       "      <td>Combined FSHA LKC jalapeno productivity 022520...</td>\n",
       "      <td>LKC jalapeno seasoning productivity</td>\n",
       "      <td>none</td>\n",
       "      <td>Lays and Miss Vickies jalapeno seasoning produ...</td>\n",
       "      <td>productivity</td>\n",
       "      <td>Cost reduced seasoning -  LKC jalapeno seasoni...</td>\n",
       "      <td>FFM8724</td>\n",
       "      <td>Holly Ramage x4257</td>\n",
       "      <td>FLNA</td>\n",
       "      <td>Plano</td>\n",
       "      <td>...</td>\n",
       "      <td>0</td>\n",
       "      <td>0</td>\n",
       "      <td>0</td>\n",
       "      <td>0</td>\n",
       "      <td>0</td>\n",
       "      <td>0</td>\n",
       "      <td>0</td>\n",
       "      <td>0</td>\n",
       "      <td>0</td>\n",
       "      <td>0</td>\n",
       "    </tr>\n",
       "    <tr>\n",
       "      <th>4</th>\n",
       "      <td>Combined FSHA RRD sweet chili and Sour Cream #...</td>\n",
       "      <td>RRD Sweet Chili and Sour Cream National Launch</td>\n",
       "      <td>54226</td>\n",
       "      <td>RRD Sweet Chili and Sour Cream Non GMO</td>\n",
       "      <td>refresh</td>\n",
       "      <td>New seasoning  RRD NGM SWT CHILI SC #2 SEAS (I...</td>\n",
       "      <td>FFM0008420</td>\n",
       "      <td>Holly Ramage x4257</td>\n",
       "      <td>FLNA</td>\n",
       "      <td>plano</td>\n",
       "      <td>...</td>\n",
       "      <td>0</td>\n",
       "      <td>0</td>\n",
       "      <td>0</td>\n",
       "      <td>0</td>\n",
       "      <td>0</td>\n",
       "      <td>0</td>\n",
       "      <td>0</td>\n",
       "      <td>0</td>\n",
       "      <td>0</td>\n",
       "      <td>0</td>\n",
       "    </tr>\n",
       "  </tbody>\n",
       "</table>\n",
       "<p>5 rows × 130 columns</p>\n",
       "</div>"
      ],
      "text/plain": [
       "                                           File Name  \\\n",
       "0  Cheetos Double Cheddar Eggs Combined FSHA Form...   \n",
       "1  Cheetos Popcorn Combined FSHA Fast Track -Flam...   \n",
       "2  Cheetos Popcorn Combined FSHA Fast Track- Mell...   \n",
       "3  Combined FSHA LKC jalapeno productivity 022520...   \n",
       "4  Combined FSHA RRD sweet chili and Sour Cream #...   \n",
       "\n",
       "                                         projName accolNumber  \\\n",
       "0        Cheetos Double Cheddar Egg Puff LTO 2019       52607   \n",
       "1                            Cheetos Popcorn 2020       53939   \n",
       "2                            Cheetos Popcorn 2020       53939   \n",
       "3             LKC jalapeno seasoning productivity        none   \n",
       "4  RRD Sweet Chili and Sour Cream National Launch       54226   \n",
       "\n",
       "                                        PDA_projName      projType  \\\n",
       "0         Cheetos Eggs Double Cheddar flavored Puffs       Refresh   \n",
       "1                      Cheetos Popcorn - Flamin' Hot       Reframe   \n",
       "2                           Cheetos Popcorn - Cheese       Reframe   \n",
       "3  Lays and Miss Vickies jalapeno seasoning produ...  productivity   \n",
       "4             RRD Sweet Chili and Sour Cream Non GMO      refresh    \n",
       "\n",
       "                                            projDesc formulaNumber  \\\n",
       "0  Launch a legacy Double Cheddar seasoning (ING9...    FFM0008310   \n",
       "1  Launch new Flamin' Hot seasoning PCRN_POP - Se...    FFM0008419   \n",
       "2   Existing   Seasoning - Powder - Mellow Chedda...    FFM0008410   \n",
       "3  Cost reduced seasoning -  LKC jalapeno seasoni...       FFM8724   \n",
       "4  New seasoning  RRD NGM SWT CHILI SC #2 SEAS (I...    FFM0008420   \n",
       "\n",
       "                owner sector center          ...          Table1_Row6_Milk  \\\n",
       "0         Ann Robarge   FLNA  Plano          ...                         0   \n",
       "1         Ann Robarge   FLNA  Plano          ...                         0   \n",
       "2         Ann Robarge   FLNA  Plano          ...                         0   \n",
       "3  Holly Ramage x4257   FLNA  Plano          ...                         0   \n",
       "4  Holly Ramage x4257   FLNA  plano          ...                         0   \n",
       "\n",
       "  Table1_Row6_Nuts Table1_Row6_Peanuts Table1_Row6_Soya Table1_Row6_Celery  \\\n",
       "0                0                   0                0                  0   \n",
       "1                0                   0                0                  0   \n",
       "2                0                   0                0                  0   \n",
       "3                0                   0                0                  0   \n",
       "4                0                   0                0                  0   \n",
       "\n",
       "  Table1_Row6_Lupin Table1_Row6_Molluscs Table1_Row6_Mustard  \\\n",
       "0                 0                    0                   0   \n",
       "1                 0                    0                   0   \n",
       "2                 0                    0                   0   \n",
       "3                 0                    0                   0   \n",
       "4                 0                    0                   0   \n",
       "\n",
       "  Table1_Row6_Sesame Seeds Table1_Row6_Sulphites  \n",
       "0                        0                     0  \n",
       "1                        0                     0  \n",
       "2                        0                     0  \n",
       "3                        0                     0  \n",
       "4                        0                     0  \n",
       "\n",
       "[5 rows x 130 columns]"
      ]
     },
     "execution_count": 6,
     "metadata": {},
     "output_type": "execute_result"
    }
   ],
   "source": [
    "df.head()"
   ]
  },
  {
   "cell_type": "markdown",
   "metadata": {},
   "source": [
    "# Select key features for potentialMicrobial "
   ]
  },
  {
   "cell_type": "code",
   "execution_count": 7,
   "metadata": {
    "collapsed": true
   },
   "outputs": [],
   "source": [
    "\n",
    "features_df=df[['projName', 'projDesc','formulaNumber','PDA_projName', 'CPD-ProdName-Desc','procPlat', 'intrinsicProd',\n",
    "        'preservatives', 'pH', 'waterActivity', 'packaging','otherFSA','prodStorageDist', 'foodSafetyProdClaims','targetMarket','shelfLife','specificStorage']]\n",
    "\n",
    "#Replace missing values with NA\n",
    "df.fillna('NA', inplace=True)"
   ]
  },
  {
   "cell_type": "code",
   "execution_count": 8,
   "metadata": {
    "collapsed": true
   },
   "outputs": [],
   "source": [
    "#Convert all text to string and lower case, since some values are coming as float from data extract\n",
    "def conv_str(x):\n",
    "   \n",
    "    x=str(x)\n",
    "    x=x.lower()\n",
    "    return (x)\n",
    "features_df['projName']=features_df['projName'].apply(lambda x:conv_str(x))  \n",
    "features_df['projDesc']=features_df['projDesc'].apply(lambda x:conv_str(x))  \n",
    "features_df['formulaNumber']=features_df['formulaNumber'].apply(lambda x:conv_str(x))  \n",
    "features_df['PDA_projName']=features_df['PDA_projName'].apply(lambda x:conv_str(x))  \n",
    "features_df['CPD-ProdName-Desc']=features_df['CPD-ProdName-Desc'].apply(lambda x:conv_str(x))  \n",
    "features_df['procPlat']=features_df['procPlat'].apply(lambda x:conv_str(x)) \n",
    "features_df['intrinsicProd']=features_df['intrinsicProd'].apply(lambda x:conv_str(x)) \n",
    "features_df['preservatives']=features_df['preservatives'].apply(lambda x:conv_str(x))  \n",
    "features_df['pH']=features_df['pH'].apply(lambda x:conv_str(x))  \n",
    "features_df['waterActivity']=features_df['waterActivity'].apply(lambda x:conv_str(x))  \n",
    "features_df['packaging']=features_df['packaging'].apply(lambda x:conv_str(x))  \n",
    "features_df['otherFSA']=features_df['otherFSA'].apply(lambda x:conv_str(x))  \n",
    "features_df['prodStorageDist']=features_df['prodStorageDist'].apply(lambda x:conv_str(x))  \n",
    "features_df['foodSafetyProdClaims']=features_df['foodSafetyProdClaims'].apply(lambda x:conv_str(x))  \n",
    "features_df['targetMarket']=features_df['targetMarket'].apply(lambda x:conv_str(x))  \n",
    "features_df['shelfLife']=features_df['shelfLife'].apply(lambda x:conv_str(x))  \n",
    "features_df['specificStorage']=features_df['specificStorage'].apply(lambda x:conv_str(x))  "
   ]
  },
  {
   "cell_type": "markdown",
   "metadata": {},
   "source": [
    "# Concatenate the columns as one single text value"
   ]
  },
  {
   "cell_type": "code",
   "execution_count": 9,
   "metadata": {
    "collapsed": true
   },
   "outputs": [],
   "source": [
    "features_df['concat_text'] = features_df['projName']+\" \"+features_df['projDesc']+\" \"+features_df['formulaNumber']+\" \"+features_df['PDA_projName']+\" \"+features_df['CPD-ProdName-Desc']+\" \"+features_df['procPlat']+\" \"+features_df['intrinsicProd']+\" \"+features_df['preservatives']+\" \"+features_df['pH']+\" \"+features_df['packaging']+\" \"+features_df['otherFSA']+\" \"+features_df['prodStorageDist']+\" \"+features_df['foodSafetyProdClaims']+\" \"+features_df['targetMarket']+\" \"+features_df['waterActivity']+\" \"+features_df['shelfLife']+\" \"+features_df['specificStorage']\n"
   ]
  },
  {
   "cell_type": "markdown",
   "metadata": {},
   "source": [
    "# Find the number of tokens in the text"
   ]
  },
  {
   "cell_type": "code",
   "execution_count": 10,
   "metadata": {},
   "outputs": [
    {
     "data": {
      "text/plain": [
       "15059"
      ]
     },
     "execution_count": 10,
     "metadata": {},
     "output_type": "execute_result"
    }
   ],
   "source": [
    "features_df['concat_text'].apply(lambda x: len(x.split(' '))).sum()"
   ]
  },
  {
   "cell_type": "markdown",
   "metadata": {},
   "source": [
    "We have over 15k words in the data."
   ]
  },
  {
   "cell_type": "markdown",
   "metadata": {},
   "source": [
    "# Find the value counts of target Field (Yes / No)"
   ]
  },
  {
   "cell_type": "code",
   "execution_count": 11,
   "metadata": {},
   "outputs": [
    {
     "data": {
      "text/plain": [
       "No     91\n",
       "Yes    22\n",
       "NA      6\n",
       "Name: potentialMicrobial, dtype: int64"
      ]
     },
     "execution_count": 11,
     "metadata": {},
     "output_type": "execute_result"
    }
   ],
   "source": [
    "df.potentialMicrobial.value_counts()"
   ]
  },
  {
   "cell_type": "code",
   "execution_count": 12,
   "metadata": {},
   "outputs": [
    {
     "data": {
      "image/png": "[encoded data removed]",
      "text/plain": [
       "<matplotlib.figure.Figure at 0x1f8542fd8d0>"
      ]
     },
     "metadata": {},
     "output_type": "display_data"
    }
   ],
   "source": [
    "plt.figure(figsize=(10,4))\n",
    "df.potentialMicrobial.value_counts().plot(kind='bar');"
   ]
  },
  {
   "cell_type": "markdown",
   "metadata": {},
   "source": [
    "# Binarize the target, impute any missing value with the mode"
   ]
  },
  {
   "cell_type": "code",
   "execution_count": 13,
   "metadata": {
    "collapsed": true
   },
   "outputs": [],
   "source": [
    "import statistics \n",
    "\n",
    "def impute_target(fsha_data,targetName):\n",
    "    train_y=[]\n",
    "    for i in range (len(fsha_data)):\n",
    "\n",
    "        if fsha_data[targetName].values[i]=='Yes':\n",
    "            train_y.append(1)\n",
    "        elif fsha_data[targetName].values[i]=='No':\n",
    "            train_y.append(0)\n",
    "        else:\n",
    "            train_y.append(-1)\n",
    "               \n",
    "    mode_y = statistics.mode(train_y)\n",
    "\n",
    "    for i in range (len(fsha_data)):\n",
    "        if train_y[i]==-1:\n",
    "            train_y[i] = mode_y\n",
    "            \n",
    "    return train_y"
   ]
  },
  {
   "cell_type": "code",
   "execution_count": 14,
   "metadata": {
    "collapsed": true
   },
   "outputs": [],
   "source": [
    "features_df[\"tags\"] = impute_target(df,\"potentialMicrobial\")"
   ]
  },
  {
   "cell_type": "markdown",
   "metadata": {},
   "source": [
    "# Plot the target after binarization"
   ]
  },
  {
   "cell_type": "code",
   "execution_count": 15,
   "metadata": {},
   "outputs": [
    {
     "data": {
      "image/png": "[encoded data removed]",
      "text/plain": [
       "<matplotlib.figure.Figure at 0x1f853ef9550>"
      ]
     },
     "metadata": {},
     "output_type": "display_data"
    }
   ],
   "source": [
    "plt.figure(figsize=(10,4))\n",
    "features_df.tags.value_counts().plot(kind='bar');"
   ]
  },
  {
   "cell_type": "code",
   "execution_count": 16,
   "metadata": {},
   "outputs": [
    {
     "data": {
      "text/plain": [
       "0    97\n",
       "1    22\n",
       "Name: tags, dtype: int64"
      ]
     },
     "execution_count": 16,
     "metadata": {},
     "output_type": "execute_result"
    }
   ],
   "source": [
    "#Check the counts of 1 and 0 in the target\n",
    "features_df.tags.value_counts()"
   ]
  },
  {
   "cell_type": "markdown",
   "metadata": {},
   "source": [
    "The classes are not balanced, but we see higher count of 1, based on new data"
   ]
  },
  {
   "cell_type": "code",
   "execution_count": 17,
   "metadata": {
    "collapsed": true
   },
   "outputs": [],
   "source": [
    "def print_plot(index):\n",
    "    example = features_df[features_df.index == index][['concat_text', 'tags']].values[0]\n",
    "    if len(example) > 0:\n",
    "        print(example[0])\n",
    "        print('Tag:', example[1])"
   ]
  },
  {
   "cell_type": "markdown",
   "metadata": {},
   "source": [
    "# Have a look a few concatenated text and target pairs."
   ]
  },
  {
   "cell_type": "code",
   "execution_count": 18,
   "metadata": {},
   "outputs": [
    {
     "name": "stdout",
     "output_type": "stream",
     "text": [
      "tostitos-salsa verde salsa verde was launched in 2014 as a regional launch. revisions have been done to the 2014 recipe to include roasted tomatoes, cilantro flavor and new product is now designed for a nation wide launch.  20.32 v3 tostitos salsa verde hot fill salsa  hot fill nan n/a  ph < 4.1 glass jar and lid - hot fill n/a  ambient storage / dsd none  no high  1 year  yes, refrigerate after opening\n",
      "Tag: 0\n"
     ]
    }
   ],
   "source": [
    "print_plot(10)"
   ]
  },
  {
   "cell_type": "code",
   "execution_count": 19,
   "metadata": {},
   "outputs": [
    {
     "name": "stdout",
     "output_type": "stream",
     "text": [
      "rrd sweet chili and sour cream new seasoning rrd ngm swt chili sc seas (ing0001937) on existing red rock deli pc base ffm0008373 rrd sweet chili and sour cream red rock deli potato chips fried potato chips - whole potatoes are peeled, sliced, kettle fried, salted or seasoned and packaged. nan none n/a since low moisture food  n/a since low moisture food none ambient; no special requirements none no low moisture food: water activity <0.3 shelf-life mode of failure is loss of flavor and texture staling; not food safety related.  no\n",
      "Tag: 0\n"
     ]
    }
   ],
   "source": [
    "print_plot(5)"
   ]
  },
  {
   "cell_type": "markdown",
   "metadata": {},
   "source": [
    "# Clean the text (remove punctuation, symbols, lowercase etc)"
   ]
  },
  {
   "cell_type": "code",
   "execution_count": 20,
   "metadata": {
    "collapsed": true
   },
   "outputs": [],
   "source": [
    "REPLACE_BY_SPACE_RE = re.compile('[/(){}\\[\\]\\|@,;]')\n",
    "BAD_SYMBOLS_RE = re.compile('[^0-9a-z #+_]')\n",
    "stop = stopwords.words('english')\n",
    "stop.extend(['na','n', 'none'])\n",
    "STOPWORDS=set(stop)\n",
    "\n",
    "def clean_text(text):\n",
    "    \"\"\"\n",
    "        text: a string\n",
    "        \n",
    "        return: modified initial string\n",
    "    \"\"\"\n",
    "    text = BeautifulSoup(text, \"lxml\").text # HTML decoding\n",
    "    text = text.lower() # lowercase text\n",
    "    text = REPLACE_BY_SPACE_RE.sub(' ', text) # replace REPLACE_BY_SPACE_RE symbols by space in text\n",
    "    text = BAD_SYMBOLS_RE.sub('', text) # delete symbols which are in BAD_SYMBOLS_RE from text\n",
    "    text = ' '.join(word for word in text.split() if word not in STOPWORDS) # delete stopwors from text\n",
    "    return text"
   ]
  },
  {
   "cell_type": "code",
   "execution_count": 21,
   "metadata": {
    "collapsed": true
   },
   "outputs": [],
   "source": [
    "features_df['concat_text'] = features_df['concat_text'].apply(clean_text)"
   ]
  },
  {
   "cell_type": "markdown",
   "metadata": {},
   "source": [
    "# Check a sample row of cleaned text"
   ]
  },
  {
   "cell_type": "code",
   "execution_count": 22,
   "metadata": {},
   "outputs": [
    {
     "name": "stdout",
     "output_type": "stream",
     "text": [
      "rrd sweet chili sour cream new seasoning rrd ngm swt chili sc seas ing0001937 existing red rock deli pc base ffm0008373 rrd sweet chili sour cream red rock deli potato chips fried potato chips whole potatoes peeled sliced kettle fried salted seasoned packaged nan since low moisture food since low moisture food ambient special requirements low moisture food water activity 03 shelflife mode failure loss flavor texture staling food safety related\n",
      "Tag: 0\n"
     ]
    }
   ],
   "source": [
    "print_plot(5)"
   ]
  },
  {
   "cell_type": "code",
   "execution_count": 23,
   "metadata": {
    "scrolled": true
   },
   "outputs": [
    {
     "data": {
      "text/plain": [
       "9441"
      ]
     },
     "execution_count": 23,
     "metadata": {},
     "output_type": "execute_result"
    }
   ],
   "source": [
    "features_df['concat_text'].apply(lambda x: len(x.split(' '))).sum()"
   ]
  },
  {
   "cell_type": "markdown",
   "metadata": {},
   "source": [
    "We see 9k words after cleaning and lowercasing the text"
   ]
  },
  {
   "cell_type": "markdown",
   "metadata": {},
   "source": [
    "# Train Test Split"
   ]
  },
  {
   "cell_type": "code",
   "execution_count": 24,
   "metadata": {},
   "outputs": [
    {
     "data": {
      "text/plain": [
       "119"
      ]
     },
     "execution_count": 24,
     "metadata": {},
     "output_type": "execute_result"
    }
   ],
   "source": [
    "len(features_df)"
   ]
  },
  {
   "cell_type": "code",
   "execution_count": 64,
   "metadata": {
    "collapsed": true
   },
   "outputs": [],
   "source": [
    "# We do a 80 20 split of the data into Train and Test samples. We set aside the Test samples for validation of the model\n",
    "# We ensure the same distribution of the 0 and 1 is maintained in both train and test by specifying stratify=y\n",
    "X = features_df.concat_text\n",
    "y = features_df.tags\n",
    "X_train, X_test, y_train, y_test = train_test_split(X, y, test_size=0.2, stratify=y,random_state = 42)"
   ]
  },
  {
   "cell_type": "code",
   "execution_count": 65,
   "metadata": {},
   "outputs": [
    {
     "data": {
      "text/plain": [
       "95"
      ]
     },
     "execution_count": 65,
     "metadata": {},
     "output_type": "execute_result"
    }
   ],
   "source": [
    "len(X_train)"
   ]
  },
  {
   "cell_type": "code",
   "execution_count": 66,
   "metadata": {},
   "outputs": [
    {
     "data": {
      "text/plain": [
       "24"
      ]
     },
     "execution_count": 66,
     "metadata": {},
     "output_type": "execute_result"
    }
   ],
   "source": [
    "len(X_test)"
   ]
  },
  {
   "cell_type": "code",
   "execution_count": 67,
   "metadata": {},
   "outputs": [
    {
     "data": {
      "text/plain": [
       "0    77\n",
       "1    18\n",
       "Name: tags, dtype: int64"
      ]
     },
     "execution_count": 67,
     "metadata": {},
     "output_type": "execute_result"
    }
   ],
   "source": [
    "y_train.value_counts()"
   ]
  },
  {
   "cell_type": "code",
   "execution_count": 68,
   "metadata": {},
   "outputs": [
    {
     "data": {
      "text/plain": [
       "0    20\n",
       "1     4\n",
       "Name: tags, dtype: int64"
      ]
     },
     "execution_count": 68,
     "metadata": {},
     "output_type": "execute_result"
    }
   ],
   "source": [
    "y_test.value_counts()"
   ]
  },
  {
   "cell_type": "code",
   "execution_count": 69,
   "metadata": {
    "collapsed": true
   },
   "outputs": [],
   "source": [
    "y_test = y_test.reset_index()\n",
    "y_test = y_test['tags']"
   ]
  },
  {
   "cell_type": "markdown",
   "metadata": {},
   "source": [
    "# Upsample the target data, since the data is highly imbalanced"
   ]
  },
  {
   "cell_type": "code",
   "execution_count": 70,
   "metadata": {
    "collapsed": true
   },
   "outputs": [],
   "source": [
    "from sklearn.utils import resample\n",
    "\n",
    "# concatenate our training data back together\n",
    "X = pd.concat([X_train, y_train], axis=1)\n",
    "\n",
    "# separate minority and majority classes\n",
    "not_potMicrobial = X[X.tags==0]\n",
    "potMicrobial = X[X.tags==1]"
   ]
  },
  {
   "cell_type": "code",
   "execution_count": 71,
   "metadata": {},
   "outputs": [
    {
     "data": {
      "text/plain": [
       "77"
      ]
     },
     "execution_count": 71,
     "metadata": {},
     "output_type": "execute_result"
    }
   ],
   "source": [
    "len(not_potMicrobial)"
   ]
  },
  {
   "cell_type": "code",
   "execution_count": 72,
   "metadata": {},
   "outputs": [
    {
     "data": {
      "text/plain": [
       "18"
      ]
     },
     "execution_count": 72,
     "metadata": {},
     "output_type": "execute_result"
    }
   ],
   "source": [
    "len(potMicrobial)"
   ]
  },
  {
   "cell_type": "code",
   "execution_count": 73,
   "metadata": {
    "collapsed": true
   },
   "outputs": [],
   "source": [
    "# upsample minority\n",
    "potMicrobial_upsampled = resample(potMicrobial,\n",
    "                          replace=True, # sample with replacement\n",
    "                          n_samples=len(not_potMicrobial), # match number in majority class\n",
    "                          random_state=27) # reproducible results\n",
    "\n",
    "# combine majority and upsampled minority\n",
    "upsampled = pd.concat([potMicrobial_upsampled, not_potMicrobial])"
   ]
  },
  {
   "cell_type": "code",
   "execution_count": 74,
   "metadata": {},
   "outputs": [
    {
     "data": {
      "text/plain": [
       "1    77\n",
       "0    77\n",
       "Name: tags, dtype: int64"
      ]
     },
     "execution_count": 74,
     "metadata": {},
     "output_type": "execute_result"
    }
   ],
   "source": [
    "# check new class counts - now we have balanced data\n",
    "upsampled.tags.value_counts()"
   ]
  },
  {
   "cell_type": "code",
   "execution_count": 75,
   "metadata": {
    "collapsed": true
   },
   "outputs": [],
   "source": [
    "y_train = upsampled.tags\n",
    "X_train = upsampled.drop('tags', axis=1)"
   ]
  },
  {
   "cell_type": "code",
   "execution_count": 76,
   "metadata": {
    "collapsed": true
   },
   "outputs": [],
   "source": [
    "y_train=y_train.reshape(y_train.shape[0],1)"
   ]
  },
  {
   "cell_type": "code",
   "execution_count": 77,
   "metadata": {},
   "outputs": [
    {
     "data": {
      "text/plain": [
       "(154, 1)"
      ]
     },
     "execution_count": 77,
     "metadata": {},
     "output_type": "execute_result"
    }
   ],
   "source": [
    "y_train.shape"
   ]
  },
  {
   "cell_type": "code",
   "execution_count": 78,
   "metadata": {},
   "outputs": [
    {
     "data": {
      "text/plain": [
       "(154, 1)"
      ]
     },
     "execution_count": 78,
     "metadata": {},
     "output_type": "execute_result"
    }
   ],
   "source": [
    "X_train.shape"
   ]
  },
  {
   "cell_type": "code",
   "execution_count": 79,
   "metadata": {},
   "outputs": [
    {
     "data": {
      "text/plain": [
       "'nf n3 tropicana tropicana gunaydintur change fruit juice variety tropicana gunaydintur tropicana good morning juice drink walnut flavour honey nf n3 tropicana tropicana gunaydinturlaunch new juice drink 30 juice tropicana gunaydin good morning mixed fruit drink walnut flavouring honey 01 compliance silver criteria sugar content max 5 w v nan nan titratable acidity 025 citric acid tetrapak ambient storage distribution 9 months product needs stored refrigerator consumed within 2 days package opened'"
      ]
     },
     "execution_count": 79,
     "metadata": {},
     "output_type": "execute_result"
    }
   ],
   "source": [
    "X_train['concat_text'].values[5]"
   ]
  },
  {
   "cell_type": "code",
   "execution_count": 80,
   "metadata": {
    "collapsed": true
   },
   "outputs": [],
   "source": [
    "X_train = X_train['concat_text'].values"
   ]
  },
  {
   "cell_type": "code",
   "execution_count": 81,
   "metadata": {},
   "outputs": [
    {
     "data": {
      "text/plain": [
       "'nf n3 tropicana tropicana gunaydintur change fruit juice variety tropicana gunaydintur tropicana good morning juice drink walnut flavour honey nf n3 tropicana tropicana gunaydinturlaunch new juice drink 30 juice tropicana gunaydin good morning mixed fruit drink walnut flavouring honey 01 compliance silver criteria sugar content max 5 w v nan nan titratable acidity 025 citric acid tetrapak ambient storage distribution 9 months product needs stored refrigerator consumed within 2 days package opened'"
      ]
     },
     "execution_count": 81,
     "metadata": {},
     "output_type": "execute_result"
    }
   ],
   "source": [
    "X_train[5]"
   ]
  },
  {
   "cell_type": "code",
   "execution_count": 82,
   "metadata": {},
   "outputs": [
    {
     "data": {
      "text/plain": [
       "'doritos ultimate cheddar ultimate cheddar ing0001142 30049403 tortilla chips ffm0008372 doritos ultimate cheddar tortilla chips doritos tortilla chips ultimate cheddar seasonings fried tortilla chips whole corn cooked alkaline soaked washed milled sheeted cut toasted fried salted seasoned packaged nan since low moisture food since low moisture food ambient special requirements low moisture food water activity 03 shelflife mode failure loss flavor texture staling food safety related'"
      ]
     },
     "execution_count": 82,
     "metadata": {},
     "output_type": "execute_result"
    }
   ],
   "source": [
    "X_test.values[0]"
   ]
  },
  {
   "cell_type": "code",
   "execution_count": 44,
   "metadata": {
    "collapsed": true
   },
   "outputs": [],
   "source": [
    "X_test = X_test.values"
   ]
  },
  {
   "cell_type": "code",
   "execution_count": 61,
   "metadata": {},
   "outputs": [
    {
     "data": {
      "text/plain": [
       "array([0], dtype=int64)"
      ]
     },
     "execution_count": 61,
     "metadata": {},
     "output_type": "execute_result"
    }
   ],
   "source": [
    "X_test[0]"
   ]
  },
  {
   "cell_type": "markdown",
   "metadata": {},
   "source": [
    "The next steps includes feature engineering. We will convert our text documents to a matrix of token counts (CountVectorizer), then transform a count matrix to a normalized tf-idf representation (tf-idf transformer). After that, we train several classifiers. \n",
    "\n",
    "### Naive Bayes classifier for multinomial models"
   ]
  },
  {
   "cell_type": "code",
   "execution_count": 46,
   "metadata": {},
   "outputs": [
    {
     "data": {
      "text/plain": [
       "Pipeline(memory=None,\n",
       "     steps=[('vect', CountVectorizer(analyzer='word', binary=False, decode_error='strict',\n",
       "        dtype=<class 'numpy.int64'>, encoding='utf-8', input='content',\n",
       "        lowercase=True, max_df=1.0, max_features=None, min_df=1,\n",
       "        ngram_range=(1, 1), preprocessor=None, stop_words=None,\n",
       "        strip...inear_tf=False, use_idf=True)), ('clf', MultinomialNB(alpha=1.0, class_prior=None, fit_prior=True))])"
      ]
     },
     "execution_count": 46,
     "metadata": {},
     "output_type": "execute_result"
    }
   ],
   "source": [
    "from sklearn.naive_bayes import MultinomialNB\n",
    "from sklearn.pipeline import Pipeline\n",
    "from sklearn.feature_extraction.text import TfidfTransformer\n",
    "\n",
    "nb = Pipeline([('vect', CountVectorizer()),\n",
    "               ('tfidf', TfidfTransformer()),\n",
    "               ('clf', MultinomialNB()),])\n",
    "nb.fit(X_train, y_train)"
   ]
  },
  {
   "cell_type": "code",
   "execution_count": 47,
   "metadata": {},
   "outputs": [
    {
     "name": "stdout",
     "output_type": "stream",
     "text": [
      "accuracy 1.0\n",
      "f1-score 1.0\n",
      "             precision    recall  f1-score   support\n",
      "\n",
      "          0       1.00      1.00      1.00        20\n",
      "          1       1.00      1.00      1.00         4\n",
      "\n",
      "avg / total       1.00      1.00      1.00        24\n",
      "\n",
      "Wall time: 0 ns\n"
     ]
    }
   ],
   "source": [
    "%%time\n",
    "from sklearn.metrics import classification_report,f1_score\n",
    "y_pred = nb.predict(X_test)\n",
    "\n",
    "print('accuracy %s' % accuracy_score(y_pred, y_test).round(2))\n",
    "print('f1-score %s' % f1_score(y_pred, y_test,average='weighted').round(2))\n",
    "print(classification_report(y_test, y_pred))"
   ]
  },
  {
   "cell_type": "markdown",
   "metadata": {},
   "source": [
    "Let us check the index position in Actual Test samples and predicted values where the target is 1 (Yes for potential microbial)"
   ]
  },
  {
   "cell_type": "code",
   "execution_count": 48,
   "metadata": {},
   "outputs": [
    {
     "name": "stdout",
     "output_type": "stream",
     "text": [
      "(array([ 5,  7, 13, 18], dtype=int64),)\n"
     ]
    }
   ],
   "source": [
    "print(np.where(y_test==1))"
   ]
  },
  {
   "cell_type": "code",
   "execution_count": 49,
   "metadata": {},
   "outputs": [
    {
     "name": "stdout",
     "output_type": "stream",
     "text": [
      "(array([ 5,  7, 13, 18], dtype=int64),)\n"
     ]
    }
   ],
   "source": [
    "print(np.where(y_pred==1))"
   ]
  },
  {
   "cell_type": "code",
   "execution_count": 54,
   "metadata": {},
   "outputs": [],
   "source": [
    "y_test = y_test.reshape(y_test.shape[0],1)\n",
    "X_test = y_test.reshape(X_test.shape[0],1)\n",
    "y_pred = y_pred.reshape(y_pred.shape[0],1)"
   ]
  },
  {
   "cell_type": "code",
   "execution_count": 60,
   "metadata": {},
   "outputs": [
    {
     "data": {
      "text/plain": [
       "array([0], dtype=int64)"
      ]
     },
     "execution_count": 60,
     "metadata": {},
     "output_type": "execute_result"
    }
   ],
   "source": [
    "X_test[1]"
   ]
  },
  {
   "cell_type": "code",
   "execution_count": 55,
   "metadata": {},
   "outputs": [],
   "source": [
    "X_test_out=np.concatenate((X_test,y_test,y_pred),axis=1)"
   ]
  },
  {
   "cell_type": "code",
   "execution_count": 56,
   "metadata": {
    "collapsed": true
   },
   "outputs": [],
   "source": [
    "X_out_df = pd.DataFrame(X_test_out)"
   ]
  },
  {
   "cell_type": "code",
   "execution_count": 57,
   "metadata": {},
   "outputs": [
    {
     "data": {
      "text/html": [
       "<div>\n",
       "<style>\n",
       "    .dataframe thead tr:only-child th {\n",
       "        text-align: right;\n",
       "    }\n",
       "\n",
       "    .dataframe thead th {\n",
       "        text-align: left;\n",
       "    }\n",
       "\n",
       "    .dataframe tbody tr th {\n",
       "        vertical-align: top;\n",
       "    }\n",
       "</style>\n",
       "<table border=\"1\" class=\"dataframe\">\n",
       "  <thead>\n",
       "    <tr style=\"text-align: right;\">\n",
       "      <th></th>\n",
       "      <th>0</th>\n",
       "      <th>1</th>\n",
       "      <th>2</th>\n",
       "    </tr>\n",
       "  </thead>\n",
       "  <tbody>\n",
       "    <tr>\n",
       "      <th>0</th>\n",
       "      <td>0</td>\n",
       "      <td>0</td>\n",
       "      <td>0</td>\n",
       "    </tr>\n",
       "    <tr>\n",
       "      <th>1</th>\n",
       "      <td>0</td>\n",
       "      <td>0</td>\n",
       "      <td>0</td>\n",
       "    </tr>\n",
       "    <tr>\n",
       "      <th>2</th>\n",
       "      <td>0</td>\n",
       "      <td>0</td>\n",
       "      <td>0</td>\n",
       "    </tr>\n",
       "    <tr>\n",
       "      <th>3</th>\n",
       "      <td>0</td>\n",
       "      <td>0</td>\n",
       "      <td>0</td>\n",
       "    </tr>\n",
       "    <tr>\n",
       "      <th>4</th>\n",
       "      <td>0</td>\n",
       "      <td>0</td>\n",
       "      <td>0</td>\n",
       "    </tr>\n",
       "  </tbody>\n",
       "</table>\n",
       "</div>"
      ],
      "text/plain": [
       "   0  1  2\n",
       "0  0  0  0\n",
       "1  0  0  0\n",
       "2  0  0  0\n",
       "3  0  0  0\n",
       "4  0  0  0"
      ]
     },
     "execution_count": 57,
     "metadata": {},
     "output_type": "execute_result"
    }
   ],
   "source": [
    "X_out_df.head()"
   ]
  },
  {
   "cell_type": "markdown",
   "metadata": {},
   "source": [
    "We see these are matching, and so the accuracy scores given above are verified"
   ]
  },
  {
   "cell_type": "code",
   "execution_count": 323,
   "metadata": {
    "collapsed": true
   },
   "outputs": [],
   "source": [
    "X = np.concatenate((X_train,X_test))"
   ]
  },
  {
   "cell_type": "code",
   "execution_count": 324,
   "metadata": {},
   "outputs": [
    {
     "data": {
      "text/plain": [
       "178"
      ]
     },
     "execution_count": 324,
     "metadata": {},
     "output_type": "execute_result"
    }
   ],
   "source": [
    "len(X)"
   ]
  },
  {
   "cell_type": "code",
   "execution_count": 325,
   "metadata": {
    "collapsed": true
   },
   "outputs": [],
   "source": [
    "X=X.reshape(X.shape[0],)"
   ]
  },
  {
   "cell_type": "code",
   "execution_count": 326,
   "metadata": {
    "collapsed": true
   },
   "outputs": [],
   "source": [
    "y_test=y_test.reshape(y_test.shape[0],1)"
   ]
  },
  {
   "cell_type": "code",
   "execution_count": 327,
   "metadata": {
    "collapsed": true
   },
   "outputs": [],
   "source": [
    "y = np.concatenate((y_train,y_test))"
   ]
  },
  {
   "cell_type": "code",
   "execution_count": 328,
   "metadata": {
    "collapsed": true
   },
   "outputs": [],
   "source": [
    "y=y.reshape(y.shape[0],)"
   ]
  },
  {
   "cell_type": "markdown",
   "metadata": {},
   "source": [
    "# Let us check the feature importance plot for the Yes and No choices in potential Microbial activity"
   ]
  },
  {
   "cell_type": "code",
   "execution_count": 340,
   "metadata": {},
   "outputs": [
    {
     "name": "stdout",
     "output_type": "stream",
     "text": [
      "after fit\n"
     ]
    },
    {
     "data": {
      "image/png": "[encoded data removed]",
      "text/plain": [
       "<matplotlib.figure.Figure at 0x1d7976151d0>"
      ]
     },
     "metadata": {},
     "output_type": "display_data"
    }
   ],
   "source": [
    "from sklearn.feature_extraction.text import CountVectorizer\n",
    "from sklearn.svm import LinearSVC\n",
    "import matplotlib.pyplot as plt\n",
    "from sklearn.feature_extraction.text import TfidfVectorizer\n",
    "\n",
    "\n",
    "def plot_coefficients(classifier, feature_names, top_features=20):\n",
    " coef = classifier.coef_.ravel()\n",
    " top_positive_coefficients = np.argsort(coef)[-top_features:]\n",
    " top_negative_coefficients = np.argsort(coef)[:top_features]\n",
    " top_coefficients = np.hstack([top_negative_coefficients, top_positive_coefficients])\n",
    " # create plot\n",
    " plt.figure(figsize=(15, 5))\n",
    " colors = ['red' if c < 0 else 'blue' for c in coef[top_coefficients]]\n",
    " plt.bar(np.arange(2 * top_features), coef[top_coefficients], color=colors)\n",
    " feature_names = np.array(feature_names)\n",
    " plt.xticks(np.arange(1, 1 + 2 * top_features), feature_names[top_coefficients], rotation=60, ha='right')\n",
    " plt.show()\n",
    "\n",
    "\n",
    "tfidf = TfidfVectorizer(sublinear_tf=True, ngram_range=(1, 2))\n",
    "features = tfidf.fit_transform(X)\n",
    "\n",
    "nb = MultinomialNB()\n",
    "nb.fit(features, y)\n",
    "print(\"after fit\")\n",
    "plot_coefficients(svm, tfidf.get_feature_names())"
   ]
  },
  {
   "cell_type": "markdown",
   "metadata": {},
   "source": [
    "This shows words like 'low moisture', 'oil','baked','water activity' point to a prediction of No in potential Microbial <br>\n",
    "Words like 'juice','fruit','curd','chilled','dairy' points to a prediction of 'Yes' in potential microbial activity"
   ]
  },
  {
   "cell_type": "markdown",
   "metadata": {},
   "source": [
    "# Let us plot the Confustion matrix for potential Microbial prediction"
   ]
  },
  {
   "cell_type": "code",
   "execution_count": 342,
   "metadata": {},
   "outputs": [
    {
     "data": {
      "image/png": "[encoded data removed]",
      "text/plain": [
       "<matplotlib.figure.Figure at 0x1d79a425a20>"
      ]
     },
     "metadata": {},
     "output_type": "display_data"
    }
   ],
   "source": [
    "from sklearn.metrics import confusion_matrix\n",
    "def plot_confusion_matrix(y_true, y_pred, classes,\n",
    "                          normalize=False,\n",
    "                          title=None,\n",
    "                          cmap=plt.cm.Blues):\n",
    "    \"\"\"\n",
    "    This function prints and plots the confusion matrix.\n",
    "    Normalization can be applied by setting `normalize=True`.\n",
    "    \"\"\"\n",
    "    if not title:\n",
    "        if normalize:\n",
    "            title = 'Normalized confusion matrix'\n",
    "        else:\n",
    "            title = 'Confusion matrix, without normalization'\n",
    "\n",
    "    # Compute confusion matrix\n",
    "    cm = confusion_matrix(y_true, y_pred)\n",
    "    # Only use the labels that appear in the data\n",
    "    #classes = classes[unique_labels(y_true, y_pred)]\n",
    "    if normalize:\n",
    "        cm = cm.astype('float') / cm.sum(axis=1)[:, np.newaxis]\n",
    "        #print(\"Normalized confusion matrix\")\n",
    "   # else:\n",
    "        #print('Confusion matrix, without normalization')\n",
    "\n",
    "    #print(cm)\n",
    "\n",
    "    fig, ax = plt.subplots()\n",
    "    im = ax.imshow(cm, interpolation='nearest', cmap=cmap)\n",
    "    ax.figure.colorbar(im, ax=ax)\n",
    "    # We want to show all ticks...\n",
    "    ax.set(xticks=np.arange(cm.shape[1]),\n",
    "           yticks=np.arange(cm.shape[0]),\n",
    "           # ... and label them with the respective list entries\n",
    "           xticklabels=classes, yticklabels=classes,\n",
    "           title=title,\n",
    "           ylabel='True label',\n",
    "           xlabel='Predicted label')\n",
    "\n",
    "    # Rotate the tick labels and set their alignment.\n",
    "    plt.setp(ax.get_xticklabels(), rotation=45, ha=\"right\",\n",
    "             rotation_mode=\"anchor\")\n",
    "\n",
    "    # Loop over data dimensions and create text annotations.\n",
    "    fmt = '.2f' if normalize else 'd'\n",
    "    thresh = cm.max() / 2.\n",
    "    for i in range(cm.shape[0]):\n",
    "        for j in range(cm.shape[1]):\n",
    "            ax.text(j, i, format(cm[i, j], fmt),\n",
    "                    ha=\"center\", va=\"center\",\n",
    "                    color=\"white\" if cm[i, j] > thresh else \"black\")\n",
    "    fig.tight_layout()\n",
    "    return ax\n",
    "\n",
    "\n",
    "np.set_printoptions(precision=2)\n",
    "\n",
    "class_names=['No','Yes']\n",
    "# Plot non-normalized confusion matrix\n",
    "plot_confusion_matrix(y_test, y_pred, classes=class_names,\n",
    "                      title='Confusion matrix, without normalization')\n",
    "\n",
    "# Plot normalized confusion matrix\n",
    "#plot_confusion_matrix(y_test, y_pred, classes=class_names, normalize=True,\n",
    "#                      title='Normalized confusion matrix')\n",
    "\n",
    "plt.show()"
   ]
  },
  {
   "cell_type": "code",
   "execution_count": 350,
   "metadata": {
    "collapsed": true
   },
   "outputs": [],
   "source": [
    "X = X.reshape(X.shape[0],)\n",
    "y = y.reshape(y.shape[0],)"
   ]
  },
  {
   "cell_type": "markdown",
   "metadata": {},
   "source": [
    "# In order to validate the results let us do K-fold CV with K set to 5"
   ]
  },
  {
   "cell_type": "code",
   "execution_count": 390,
   "metadata": {
    "collapsed": true
   },
   "outputs": [],
   "source": [
    "nb = Pipeline([('vect', CountVectorizer(ngram_range=(1,2))),\n",
    "               ('tfidf', TfidfTransformer()),\n",
    "               ('clf', MultinomialNB()),])\n",
    "cv_results = cross_validate(nb.fit(X, y), X, y,cv=5)"
   ]
  },
  {
   "cell_type": "code",
   "execution_count": 391,
   "metadata": {},
   "outputs": [
    {
     "name": "stdout",
     "output_type": "stream",
     "text": [
      "[1.   0.97 1.   1.   1.  ]\n"
     ]
    }
   ],
   "source": [
    "print(cv_results['test_score'])"
   ]
  },
  {
   "cell_type": "markdown",
   "metadata": {},
   "source": [
    "This shows a healthy score in all folds <br>\n",
    "Let us investigate the False Positives and False Negatives in the folds"
   ]
  },
  {
   "cell_type": "code",
   "execution_count": 394,
   "metadata": {
    "collapsed": true
   },
   "outputs": [],
   "source": [
    "from sklearn.metrics import make_scorer\n",
    "from sklearn.model_selection import cross_validate\n",
    "from sklearn.metrics import confusion_matrix\n",
    "from sklearn.model_selection import ShuffleSplit\n",
    "#We define custom functions to return count of TP,TN,FP,FN for each fold\n",
    "def tn(y_true, y_pred): return confusion_matrix(y_true, y_pred)[0, 0]\n",
    "def fp(y_true, y_pred): return confusion_matrix(y_true, y_pred)[0, 1]\n",
    "def fn(y_true, y_pred): return confusion_matrix(y_true, y_pred)[1, 0]\n",
    "def tp(y_true, y_pred): return confusion_matrix(y_true, y_pred)[1, 1]\n",
    "\n",
    "scoring = {'tp': make_scorer(tp), 'tn': make_scorer(tn),'fp': make_scorer(fp), 'fn': make_scorer(fn)}\n",
    "cv = ShuffleSplit(n_splits=5, test_size=0.2, random_state=42)\n",
    "\n",
    "nb = Pipeline([('vect', CountVectorizer(ngram_range=(1,2))),\n",
    "               ('tfidf', TfidfTransformer()),\n",
    "               ('clf', MultinomialNB()),])\n",
    "cv_results = cross_validate(nb.fit(X, y), X, y,scoring=scoring, cv=cv)"
   ]
  },
  {
   "cell_type": "code",
   "execution_count": 395,
   "metadata": {},
   "outputs": [
    {
     "name": "stdout",
     "output_type": "stream",
     "text": [
      "Count of True Positives\n",
      "[18 14 17 14 18]\n",
      "Count of True Negatives\n",
      "[18 21 19 22 18]\n",
      "Count of False Negatives\n",
      "[0 0 0 0 0]\n",
      "Count of False Positives\n",
      "[0 1 0 0 0]\n"
     ]
    }
   ],
   "source": [
    "print(\"Count of True Positives\")\n",
    "print(cv_results['test_tp']) \n",
    "print(\"Count of True Negatives\")\n",
    "print(cv_results['test_tn']) \n",
    "# Getting the test set false negative scores\n",
    "print(\"Count of False Negatives\")\n",
    "print(cv_results['test_fn']) \n",
    "print(\"Count of False Positives\")\n",
    "print(cv_results['test_fp']) "
   ]
  },
  {
   "cell_type": "markdown",
   "metadata": {},
   "source": [
    "# We can fine tune the parameters of Model using GridSearch, though in this case the default settings are giving use high accuracy"
   ]
  },
  {
   "cell_type": "code",
   "execution_count": 369,
   "metadata": {
    "collapsed": true
   },
   "outputs": [],
   "source": [
    "from sklearn.model_selection import GridSearchCV\n",
    "from pprint import pprint\n",
    "from time import time\n",
    "pipeline = Pipeline([\n",
    "    ('vect', CountVectorizer()),\n",
    "    ('tfidf', TfidfTransformer()),\n",
    "    ('clf',MultinomialNB() ),\n",
    "])\n",
    "#"
   ]
  },
  {
   "cell_type": "code",
   "execution_count": 371,
   "metadata": {},
   "outputs": [
    {
     "name": "stdout",
     "output_type": "stream",
     "text": [
      "Performing grid search...\n",
      "pipeline: ['vect', 'tfidf', 'clf']\n",
      "parameters:\n",
      "{'clf__alpha': (1, 0.8),\n",
      " 'vect__max_df': (0.75, 1.0),\n",
      " 'vect__min_df': (1, 2),\n",
      " 'vect__ngram_range': ((1, 1), (1, 2))}\n",
      "Fitting 5 folds for each of 16 candidates, totalling 80 fits\n"
     ]
    },
    {
     "name": "stderr",
     "output_type": "stream",
     "text": [
      "[Parallel(n_jobs=-1)]: Done  34 tasks      | elapsed:   30.0s\n",
      "[Parallel(n_jobs=-1)]: Done  80 out of  80 | elapsed:   30.9s finished\n"
     ]
    },
    {
     "name": "stdout",
     "output_type": "stream",
     "text": [
      "done in 31.735s\n",
      "\n",
      "Best score: 0.994\n",
      "Best parameters set:\n",
      "\tclf__alpha: 1\n",
      "\tvect__max_df: 0.75\n",
      "\tvect__min_df: 1\n",
      "\tvect__ngram_range: (1, 2)\n"
     ]
    }
   ],
   "source": [
    "parameters = {\n",
    "    'vect__max_df': ( 0.75, 1.0),\n",
    "    'vect__min_df': ( 1, 2),\n",
    "    # 'vect__max_features': (None, 5000, 10000, 50000),\n",
    "    'vect__ngram_range': ((1, 1), (1, 2)),  # unigrams or bigrams\n",
    "    # 'tfidf__use_idf': (True, False),\n",
    "    # 'tfidf__norm': ('l1', 'l2'),\n",
    "   # 'clf__max_iter': (20,),\n",
    "    'clf__alpha': (1, 0.8),\n",
    "    #'clf__penalty': ('l2', 'elasticnet'),\n",
    "    # 'clf__max_iter': (10, 50, 80),\n",
    "}\n",
    "# multiprocessing requires the fork to happen in a __main__ protected\n",
    "# block\n",
    "\n",
    "# find the best parameters for both the feature extraction and the\n",
    "# classifier\n",
    "grid_search = GridSearchCV(pipeline, parameters, cv=5,n_jobs=-1, verbose=1)\n",
    "\n",
    "print(\"Performing grid search...\")\n",
    "print(\"pipeline:\", [name for name, _ in pipeline.steps])\n",
    "print(\"parameters:\")\n",
    "pprint(parameters)\n",
    "t0 = time()\n",
    "grid_search.fit(X, y)\n",
    "print(\"done in %0.3fs\" % (time() - t0))\n",
    "print()\n",
    "\n",
    "print(\"Best score: %0.3f\" % grid_search.best_score_)\n",
    "print(\"Best parameters set:\")\n",
    "best_parameters = grid_search.best_estimator_.get_params()\n",
    "for param_name in sorted(parameters.keys()):\n",
    "    print(\"\\t%s: %r\" % (param_name, best_parameters[param_name]))"
   ]
  },
  {
   "cell_type": "markdown",
   "metadata": {},
   "source": [
    "# Let us check a few other models and evaluate the accuracy"
   ]
  },
  {
   "cell_type": "markdown",
   "metadata": {},
   "source": [
    "### SGDClassifier"
   ]
  },
  {
   "cell_type": "code",
   "execution_count": 362,
   "metadata": {},
   "outputs": [
    {
     "data": {
      "text/plain": [
       "Pipeline(memory=None,\n",
       "     steps=[('vect', CountVectorizer(analyzer='word', binary=False, decode_error='strict',\n",
       "        dtype=<class 'numpy.int64'>, encoding='utf-8', input='content',\n",
       "        lowercase=True, max_df=1.0, max_features=None, min_df=1,\n",
       "        ngram_range=(1, 1), preprocessor=None, stop_words=None,\n",
       "        strip...ty='l2', power_t=0.5, random_state=42, shuffle=True,\n",
       "       tol=None, verbose=0, warm_start=False))])"
      ]
     },
     "execution_count": 362,
     "metadata": {},
     "output_type": "execute_result"
    }
   ],
   "source": [
    "from sklearn.linear_model import SGDClassifier\n",
    "\n",
    "sgd = Pipeline([('vect', CountVectorizer()),\n",
    "                ('tfidf', TfidfTransformer()),\n",
    "                ('clf', SGDClassifier(loss='hinge', penalty='l2',alpha=1e-3, random_state=42, max_iter=5, tol=None)),\n",
    "               ])\n",
    "sgd.fit(X_train, y_train)"
   ]
  },
  {
   "cell_type": "code",
   "execution_count": 363,
   "metadata": {},
   "outputs": [
    {
     "name": "stdout",
     "output_type": "stream",
     "text": [
      "accuracy 1.0\n",
      "f1-score 1.0\n",
      "             precision    recall  f1-score   support\n",
      "\n",
      "          0       1.00      1.00      1.00        20\n",
      "          1       1.00      1.00      1.00         4\n",
      "\n",
      "avg / total       1.00      1.00      1.00        24\n",
      "\n",
      "Wall time: 0 ns\n"
     ]
    }
   ],
   "source": [
    "%%time\n",
    "\n",
    "y_pred = sgd.predict(X_test)\n",
    "\n",
    "print('accuracy %s' % accuracy_score(y_pred, y_test).round(2))\n",
    "print('f1-score %s' % f1_score(y_pred, y_test,average='weighted').round(2))\n",
    "print(classification_report(y_test, y_pred))"
   ]
  },
  {
   "cell_type": "markdown",
   "metadata": {},
   "source": [
    "### Logistic regression"
   ]
  },
  {
   "cell_type": "code",
   "execution_count": 364,
   "metadata": {},
   "outputs": [
    {
     "data": {
      "text/plain": [
       "Pipeline(memory=None,\n",
       "     steps=[('vect', CountVectorizer(analyzer='word', binary=False, decode_error='strict',\n",
       "        dtype=<class 'numpy.int64'>, encoding='utf-8', input='content',\n",
       "        lowercase=True, max_df=1.0, max_features=None, min_df=1,\n",
       "        ngram_range=(1, 1), preprocessor=None, stop_words=None,\n",
       "        strip...ty='l2', random_state=None,\n",
       "          solver='liblinear', tol=0.0001, verbose=0, warm_start=False))])"
      ]
     },
     "execution_count": 364,
     "metadata": {},
     "output_type": "execute_result"
    }
   ],
   "source": [
    "from sklearn.linear_model import LogisticRegression\n",
    "\n",
    "logreg = Pipeline([('vect', CountVectorizer()),\n",
    "                ('tfidf', TfidfTransformer()),\n",
    "                ('clf', LogisticRegression(n_jobs=1, C=1e5)),\n",
    "               ])\n",
    "logreg.fit(X_train, y_train)"
   ]
  },
  {
   "cell_type": "code",
   "execution_count": 365,
   "metadata": {},
   "outputs": [
    {
     "name": "stdout",
     "output_type": "stream",
     "text": [
      "accuracy 1.0\n",
      "f1-score 1.0\n",
      "             precision    recall  f1-score   support\n",
      "\n",
      "          0       1.00      1.00      1.00        20\n",
      "          1       1.00      1.00      1.00         4\n",
      "\n",
      "avg / total       1.00      1.00      1.00        24\n",
      "\n",
      "Wall time: 15.6 ms\n"
     ]
    }
   ],
   "source": [
    "%%time\n",
    "\n",
    "y_pred = logreg.predict(X_test)\n",
    "\n",
    "print('accuracy %s' % accuracy_score(y_pred, y_test).round(2))\n",
    "print('f1-score %s' % f1_score(y_pred, y_test,average='weighted').round(2))\n",
    "print(classification_report(y_test, y_pred))"
   ]
  },
  {
   "cell_type": "code",
   "execution_count": 367,
   "metadata": {
    "collapsed": true
   },
   "outputs": [],
   "source": [
    "cv = ShuffleSplit(n_splits=5, test_size=0.2, random_state=7)\n",
    "\n",
    "lr = Pipeline([('vect', CountVectorizer()),\n",
    "               ('tfidf', TfidfTransformer()),\n",
    "               ('clf', LogisticRegression()),])\n",
    "cv_results = cross_validate(lr.fit(X, y), X, y,scoring=scoring, cv=cv)"
   ]
  },
  {
   "cell_type": "code",
   "execution_count": 368,
   "metadata": {},
   "outputs": [
    {
     "name": "stdout",
     "output_type": "stream",
     "text": [
      "Count of True Positives\n",
      "[12 17 18 22 17]\n",
      "Count of True Negatives\n",
      "[23 19 18 14 18]\n",
      "Count of False Negatives\n",
      "[0 0 0 0 0]\n",
      "Count of False Positives\n",
      "[1 0 0 0 1]\n"
     ]
    }
   ],
   "source": [
    "print(\"Count of True Positives\")\n",
    "print(cv_results['test_tp']) \n",
    "print(\"Count of True Negatives\")\n",
    "print(cv_results['test_tn']) \n",
    "# Getting the test set false negative scores\n",
    "print(\"Count of False Negatives\")\n",
    "print(cv_results['test_fn']) \n",
    "print(\"Count of False Positives\")\n",
    "print(cv_results['test_fp']) "
   ]
  },
  {
   "cell_type": "code",
   "execution_count": 366,
   "metadata": {},
   "outputs": [
    {
     "data": {
      "image/png": "[encoded data removed]",
      "text/plain": [
       "<matplotlib.figure.Figure at 0x1d79ba2de10>"
      ]
     },
     "metadata": {},
     "output_type": "display_data"
    }
   ],
   "source": [
    "from sklearn.metrics import roc_curve, auc\n",
    "true_labels = y_test\n",
    "scores = y_pred\n",
    "\n",
    "# compute fpr, tpr, thresholds and roc_auc\n",
    "fpr, tpr, thresholds = roc_curve(true_labels, scores)\n",
    "roc_auc = auc(fpr, tpr) # compute area under the curve\n",
    " \n",
    "plt.figure()\n",
    "plt.plot(fpr, tpr, color='darkorange', lw=2, label='ROC curve (area = %0.2f)' % roc_auc)\n",
    "plt.plot([0, 1], [0, 1], color='navy', lw=2, linestyle='--')\n",
    "plt.xlim([0.0, 1.0])\n",
    "plt.ylim([0.0, 1.05])\n",
    "plt.xlabel('False Positive Rate')\n",
    "plt.ylabel('True Positive Rate')\n",
    "plt.title('Receiver operating characteristic')\n",
    "plt.legend(loc=\"lower right\")\n",
    "plt.show()"
   ]
  },
  {
   "cell_type": "markdown",
   "metadata": {},
   "source": [
    "# We find the both Target Yes and No is predicted with 100% accuracy, with the Bag of Words, TF-IDF Vectorization and Multinomial Naive Bayes model. We plot the feature importance and analyse the features that lead to prediction of Yes vs No in Microbial Activity. We check the Confusion Matrix, ROC-AUC, and test few Predictive Models like Logistic Regression, SGDClassifier. The results of K-fold CV shows a minor problem with 1 False Negative reported in some of the folds. This proves ML Model is working with the prediction for potentialMicrobial and NAF Data"
   ]
  },
  {
   "cell_type": "code",
   "execution_count": null,
   "metadata": {
    "collapsed": true
   },
   "outputs": [],
   "source": []
  }
 ],
 "metadata": {
  "kernelspec": {
   "display_name": "Python 3",
   "language": "python",
   "name": "python3"
  },
  "language_info": {
   "codemirror_mode": {
    "name": "ipython",
    "version": 3
   },
   "file_extension": ".py",
   "mimetype": "text/x-python",
   "name": "python",
   "nbconvert_exporter": "python",
   "pygments_lexer": "ipython3",
   "version": "3.6.2"
  }
 },
 "nbformat": 4,
 "nbformat_minor": 2
}
