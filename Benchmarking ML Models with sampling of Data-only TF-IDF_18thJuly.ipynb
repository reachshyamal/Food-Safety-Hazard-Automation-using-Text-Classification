{
 "cells": [
  {
   "cell_type": "markdown",
   "metadata": {},
   "source": [
    "# This notebook reads text data from data extract created from FSHA Forms and runs predictive Models to predict the value 'Is there a potential for microbial growth in the product?' , based on the Input Data"
   ]
  },
  {
   "cell_type": "code",
   "execution_count": 1,
   "metadata": {},
   "outputs": [
    {
     "name": "stderr",
     "output_type": "stream",
     "text": [
      "C:\\ProgramData\\Anaconda3\\lib\\site-packages\\sklearn\\ensemble\\weight_boosting.py:29: DeprecationWarning: numpy.core.umath_tests is an internal NumPy module and should not be imported. It will be removed in a future NumPy release.\n",
      "  from numpy.core.umath_tests import inner1d\n",
      "C:\\ProgramData\\Anaconda3\\lib\\site-packages\\h5py\\__init__.py:34: FutureWarning: Conversion of the second argument of issubdtype from `float` to `np.floating` is deprecated. In future, it will be treated as `np.float64 == np.dtype(float).type`.\n",
      "  from ._conv import register_converters as _register_converters\n"
     ]
    }
   ],
   "source": [
    "#import all necessary modules\n",
    "from __future__ import print_function\n",
    "import logging\n",
    "from optparse import OptionParser\n",
    "import sys\n",
    "from time import time\n",
    "import matplotlib.pyplot as plt\n",
    "import os\n",
    "import nltk\n",
    "import string\n",
    "from nltk.stem.porter import PorterStemmer\n",
    "from nltk.tokenize import word_tokenize,sent_tokenize\n",
    "from nltk.tokenize import RegexpTokenizer\n",
    "import re\n",
    "import numpy as np\n",
    "from numpy import array\n",
    "from numpy import argmax\n",
    "from scipy import signal\n",
    "import random\n",
    "import string\n",
    "import pandas as pd\n",
    "from sklearn.model_selection import train_test_split \n",
    "from sklearn.pipeline import Pipeline\n",
    "from sklearn.feature_extraction.text import TfidfVectorizer\n",
    "from sklearn.feature_selection import SelectKBest, chi2\n",
    "from sklearn.preprocessing import LabelEncoder\n",
    "from sklearn.preprocessing import OneHotEncoder\n",
    "from sklearn.feature_selection import f_classif\n",
    "import matplotlib.pyplot as plt\n",
    "from sklearn.pipeline import Pipeline\n",
    "from sklearn.feature_extraction.text import CountVectorizer\n",
    "from sklearn.preprocessing import StandardScaler\n",
    "from sklearn.metrics import classification_report, confusion_matrix  \n",
    "from sklearn.linear_model import LogisticRegression\n",
    "from sklearn.linear_model import PassiveAggressiveClassifier\n",
    "from sklearn.svm import SVC \n",
    "from sklearn import svm\n",
    "from sklearn.svm import LinearSVC\n",
    "from sklearn.naive_bayes import MultinomialNB,BernoulliNB\n",
    "from sklearn.neighbors import KNeighborsClassifier\n",
    "from sklearn.neighbors import NearestCentroid\n",
    "from sklearn.linear_model import RidgeClassifier\n",
    "from sklearn.linear_model import SGDClassifier\n",
    "from sklearn import tree\n",
    "from sklearn.ensemble import RandomForestClassifier\n",
    "from sklearn import linear_model\n",
    "from sklearn.ensemble import AdaBoostClassifier\n",
    "from sklearn.linear_model import Perceptron\n",
    "from sklearn.neural_network import MLPClassifier\n",
    "from sklearn.utils.extmath import density\n",
    "from sklearn.decomposition import PCA\n",
    "from sklearn import metrics\n",
    "import tensorflow as tf\n",
    "from tensorflow.python.keras import models\n",
    "from tensorflow.python.keras import initializers\n",
    "from tensorflow.python.keras import regularizers\n",
    "from tensorflow.python.keras.layers import Dense\n",
    "from tensorflow.python.keras.layers import Dropout\n",
    "import warnings\n",
    "warnings.simplefilter('ignore')"
   ]
  },
  {
   "cell_type": "markdown",
   "metadata": {},
   "source": [
    "## File name and other important parameters like ngram_range set"
   ]
  },
  {
   "cell_type": "code",
   "execution_count": 2,
   "metadata": {
    "collapsed": true
   },
   "outputs": [],
   "source": [
    "#These parameters will be input from command line\n",
    "ngram_range_inp=(1,2)\n",
    "filename = \"C:/Pepsico/FSHA RPA - 17 July 2019 Updated_7PM.xlsm\"\n",
    "#n_components = 0"
   ]
  },
  {
   "cell_type": "markdown",
   "metadata": {},
   "source": [
    "# Define reusable modular method for Text Normalization (removal of stopwords, changing to lower case, removal of punctuation etc) "
   ]
  },
  {
   "cell_type": "code",
   "execution_count": 3,
   "metadata": {
    "collapsed": true
   },
   "outputs": [],
   "source": [
    "exclude = set(string.punctuation) \n",
    "wpt = nltk.WordPunctTokenizer()\n",
    "stop_words = nltk.corpus.stopwords.words('english')\n",
    "newStopWords = ['from','dtype','object']\n",
    "stop_words.extend(newStopWords)\n",
    "table = str.maketrans('', '', string.punctuation)\n",
    "\n",
    "porter = PorterStemmer()\n",
    "\n",
    "def normalize_document(doc):\n",
    "    # tokenize document\n",
    "    tokens = doc.split()\n",
    "    # remove punctuation from each word\n",
    "    tokens = [w.translate(table) for w in tokens]\n",
    "    # convert to lower case\n",
    "    lower_tokens = [w.lower() for w in tokens]\n",
    "    #remove spaces\n",
    "    stripped = [w.strip() for w in lower_tokens]\n",
    "    # remove remaining tokens that are not alphabetic\n",
    "    words = [word for word in stripped if word.isalpha()]\n",
    "    # filter stopwords out of document\n",
    "    filtered_tokens = [token for token in words if token not in stop_words]\n",
    "    # re-create document from filtered tokens\n",
    "    doc = ' '.join(filtered_tokens)\n",
    "    return doc\n",
    "\n",
    "#normalize_corpus = np.vectorize(normalize_document)"
   ]
  },
  {
   "cell_type": "code",
   "execution_count": 4,
   "metadata": {
    "collapsed": true
   },
   "outputs": [],
   "source": [
    "import pandas as pd\n",
    "import numpy as np\n",
    "import nltk\n",
    "from nltk.tokenize.toktok import ToktokTokenizer\n",
    "import re\n",
    "from bs4 import BeautifulSoup\n",
    "import unicodedata\n",
    "\n",
    "tokenizer = ToktokTokenizer()\n",
    "stopword_list = nltk.corpus.stopwords.words('english')\n",
    "stopword_list.remove('no')\n",
    "stopword_list.remove('not')\n",
    "def strip_html_tags(text):\n",
    "    soup = BeautifulSoup(text, \"html.parser\")\n",
    "    stripped_text = soup.get_text()\n",
    "    return stripped_text\n",
    "def remove_accented_chars(text):\n",
    "    text = unicodedata.normalize('NFKD', text).encode('ascii', 'ignore').decode('utf-8', 'ignore')\n",
    "    return text\n",
    "\n",
    "def remove_special_characters(text):\n",
    "    text = re.sub('[^a-zA-z0-9\\s]', '', text)\n",
    "    return text\n",
    "\n",
    "def remove_stopwords(text, is_lower_case=False):\n",
    "    tokens = tokenizer.tokenize(text)\n",
    "    tokens = [token.strip() for token in tokens]\n",
    "    if is_lower_case:\n",
    "        filtered_tokens = [token for token in tokens if token not in stopword_list]\n",
    "    else:\n",
    "        filtered_tokens = [token for token in tokens if token.lower() not in stopword_list]\n",
    "    filtered_text = ' '.join(filtered_tokens)    \n",
    "    return filtered_text\n",
    "def normalize_corpus(corpus, html_stripping=True, contraction_expansion=True,\n",
    "                     accented_char_removal=True, text_lower_case=True, \n",
    "                     text_lemmatization=True, special_char_removal=True, \n",
    "                     stopword_removal=True):\n",
    "    \n",
    "    normalized_corpus = []\n",
    "    # normalize each document in the corpus\n",
    "    #corpus = str(corpus)\n",
    "    for doc in corpus:\n",
    "        # strip HTML\n",
    "        if html_stripping:\n",
    "            doc = strip_html_tags(doc)\n",
    "        # remove accented characters\n",
    "        if accented_char_removal:\n",
    "            doc = remove_accented_chars(doc)\n",
    "\n",
    "        # lowercase the text    \n",
    "        if text_lower_case:\n",
    "            doc = doc.lower()\n",
    "        # remove extra newlines\n",
    "        doc = re.sub(r'[\\r|\\n|\\r\\n]+', ' ',doc)\n",
    "        # insert spaces between special characters to isolate them    \n",
    "        special_char_pattern = re.compile(r'([{.(-)!}])')\n",
    "        doc = special_char_pattern.sub(\" \\\\1 \", doc)\n",
    "        # remove special characters    \n",
    "        if special_char_removal:\n",
    "            doc = remove_special_characters(doc)  \n",
    "        # remove extra whitespace\n",
    "        doc = re.sub(' +', ' ', doc)\n",
    "        # remove stopwords\n",
    "        if stopword_removal:\n",
    "            doc = remove_stopwords(doc, is_lower_case=text_lower_case)\n",
    "            \n",
    "        normalized_corpus.append(doc)\n",
    "        \n",
    "    return normalized_corpus"
   ]
  },
  {
   "cell_type": "code",
   "execution_count": 5,
   "metadata": {
    "collapsed": true
   },
   "outputs": [],
   "source": [
    "def clean_doc(corpus):\n",
    "    normalized_corpus = []\n",
    "    # normalize each document in the corpus\n",
    "    #corpus = str(corpus)\n",
    "    for doc in corpus:\n",
    "\t# split into tokens by white space\n",
    "        doc=str(doc)\n",
    "        doc = doc.replace('\\n',' ')\n",
    "        tokens = doc.split()\n",
    "        # prepare regex for char filtering\n",
    "        re_punc = re.compile('[%s]' % re.escape(string.punctuation))\n",
    "        # remove punctuation from each word\n",
    "        tokens = [re_punc.sub('', w) for w in tokens]\n",
    "        # remove remaining tokens that are not alphabetic\n",
    "        tokens = [word for word in tokens if word.isalpha()]\n",
    "        # filter out stop words\n",
    "        tokens = [w for w in tokens if not w in stop_words]\n",
    "        # filter out short tokens\n",
    "        tokens = [word for word in tokens if len(word) > 1]\n",
    "        # remove nn from each word\n",
    "        tokens = [re.sub('nn',' ',word) for word in tokens]\n",
    "        tokens = ' '.join(tokens)\n",
    "        normalized_corpus.append(tokens)\n",
    "    return normalized_corpus"
   ]
  },
  {
   "cell_type": "markdown",
   "metadata": {},
   "source": [
    "# Read the data extract file (tabular format with Input data(X) and target(Y))"
   ]
  },
  {
   "cell_type": "code",
   "execution_count": 6,
   "metadata": {
    "collapsed": true
   },
   "outputs": [],
   "source": [
    "fsha_data = pd.read_excel(filename)"
   ]
  },
  {
   "cell_type": "code",
   "execution_count": 8,
   "metadata": {},
   "outputs": [
    {
     "data": {
      "text/html": [
       "<div>\n",
       "<style>\n",
       "    .dataframe thead tr:only-child th {\n",
       "        text-align: right;\n",
       "    }\n",
       "\n",
       "    .dataframe thead th {\n",
       "        text-align: left;\n",
       "    }\n",
       "\n",
       "    .dataframe tbody tr th {\n",
       "        vertical-align: top;\n",
       "    }\n",
       "</style>\n",
       "<table border=\"1\" class=\"dataframe\">\n",
       "  <thead>\n",
       "    <tr style=\"text-align: right;\">\n",
       "      <th></th>\n",
       "      <th>File Name</th>\n",
       "      <th>projName</th>\n",
       "      <th>accolNumber</th>\n",
       "      <th>PDA_projName</th>\n",
       "      <th>projType</th>\n",
       "      <th>projDesc</th>\n",
       "      <th>formulaNumber</th>\n",
       "      <th>owner</th>\n",
       "      <th>sector</th>\n",
       "      <th>center</th>\n",
       "      <th>...</th>\n",
       "      <th>Table1_Row6_Milk</th>\n",
       "      <th>Table1_Row6_Nuts</th>\n",
       "      <th>Table1_Row6_Peanuts</th>\n",
       "      <th>Table1_Row6_Soya</th>\n",
       "      <th>Table1_Row6_Celery</th>\n",
       "      <th>Table1_Row6_Lupin</th>\n",
       "      <th>Table1_Row6_Molluscs</th>\n",
       "      <th>Table1_Row6_Mustard</th>\n",
       "      <th>Table1_Row6_Sesame Seeds</th>\n",
       "      <th>Table1_Row6_Sulphites</th>\n",
       "    </tr>\n",
       "  </thead>\n",
       "  <tbody>\n",
       "    <tr>\n",
       "      <th>0</th>\n",
       "      <td>#46565 FSHA 5.4.1Star Project G3 v2 + FS input...</td>\n",
       "      <td>S-T3-Star-• POL Star Puff (Chrupki) quality –POL</td>\n",
       "      <td>46565</td>\n",
       "      <td>1SKU Star Puffs Onion\\n2 SKU Star Puffs Cheese...</td>\n",
       "      <td>Brand Refresh</td>\n",
       "      <td>Star Puffs Cheese &amp; STar Hyper Cheese\\nSeasoni...</td>\n",
       "      <td>NaN</td>\n",
       "      <td>Weronika Baranowska</td>\n",
       "      <td>ESSA</td>\n",
       "      <td>Warsaw</td>\n",
       "      <td>...</td>\n",
       "      <td>0</td>\n",
       "      <td>0</td>\n",
       "      <td>1</td>\n",
       "      <td>1</td>\n",
       "      <td>1</td>\n",
       "      <td>0</td>\n",
       "      <td>0</td>\n",
       "      <td>1</td>\n",
       "      <td>0</td>\n",
       "      <td>0</td>\n",
       "    </tr>\n",
       "    <tr>\n",
       "      <th>1</th>\n",
       "      <td>#53697 FSHA HT Baguette 4 Cheese UA 2.07.19.xlsm</td>\n",
       "      <td>HT Baguette Four Cheese Flavor</td>\n",
       "      <td>53697</td>\n",
       "      <td>Hrusteam Baguette</td>\n",
       "      <td>Refresh</td>\n",
       "      <td>Launch new seasoning 4 Cheese NL-502-352-9 on ...</td>\n",
       "      <td>NaN</td>\n",
       "      <td>Anna Nikonova</td>\n",
       "      <td>ESSA</td>\n",
       "      <td>Moscow</td>\n",
       "      <td>...</td>\n",
       "      <td>0</td>\n",
       "      <td>0</td>\n",
       "      <td>0</td>\n",
       "      <td>0</td>\n",
       "      <td>0</td>\n",
       "      <td>0</td>\n",
       "      <td>0</td>\n",
       "      <td>1</td>\n",
       "      <td>0</td>\n",
       "      <td>0</td>\n",
       "    </tr>\n",
       "    <tr>\n",
       "      <th>2</th>\n",
       "      <td>#57686 FSHA 5.4.1 Red Caviar  Azov.xlsm</td>\n",
       "      <td>Lay's Caviar IO 2019 RUS Asov</td>\n",
       "      <td>57686</td>\n",
       "      <td>Lay's Red Caviar</td>\n",
       "      <td>Refresh</td>\n",
       "      <td>Idea is to launch I&amp;O flavour under New Year p...</td>\n",
       "      <td>Not provided</td>\n",
       "      <td>Evgeniy Shklovskiy +79163257848</td>\n",
       "      <td>ESSA</td>\n",
       "      <td>Moscow</td>\n",
       "      <td>...</td>\n",
       "      <td>0</td>\n",
       "      <td>0</td>\n",
       "      <td>0</td>\n",
       "      <td>1</td>\n",
       "      <td>0</td>\n",
       "      <td>0</td>\n",
       "      <td>0</td>\n",
       "      <td>0</td>\n",
       "      <td>0</td>\n",
       "      <td>0</td>\n",
       "    </tr>\n",
       "    <tr>\n",
       "      <th>3</th>\n",
       "      <td>#57686 FSHA 5.4.1 Red Caviar Kashira.xlsm</td>\n",
       "      <td>Lay's Caviar IO 2019 RUS Kashira</td>\n",
       "      <td>57686</td>\n",
       "      <td>Lay's Red Caviar</td>\n",
       "      <td>Refresh</td>\n",
       "      <td>Idea is to launch I&amp;O flavour under New Year p...</td>\n",
       "      <td>Not provided</td>\n",
       "      <td>Evgeniy Shklovskiy +79163257848</td>\n",
       "      <td>ESSA</td>\n",
       "      <td>Moscow</td>\n",
       "      <td>...</td>\n",
       "      <td>0</td>\n",
       "      <td>0</td>\n",
       "      <td>0</td>\n",
       "      <td>1</td>\n",
       "      <td>0</td>\n",
       "      <td>0</td>\n",
       "      <td>0</td>\n",
       "      <td>0</td>\n",
       "      <td>0</td>\n",
       "      <td>0</td>\n",
       "    </tr>\n",
       "    <tr>\n",
       "      <th>4</th>\n",
       "      <td>Cerezza Kokteyl FSHA 5.4.1-Paprika TR (3) Suad...</td>\n",
       "      <td>Seasoning Harmonization Paprika CU64 Suadiye</td>\n",
       "      <td>45777</td>\n",
       "      <td>Cerezza Kokteyl extruded product</td>\n",
       "      <td>Llift and shift</td>\n",
       "      <td>CQ93 Product is a combination of 2 Extruded an...</td>\n",
       "      <td>None</td>\n",
       "      <td>Basak Ozdere</td>\n",
       "      <td>ESSA</td>\n",
       "      <td>Istanbul</td>\n",
       "      <td>...</td>\n",
       "      <td>0</td>\n",
       "      <td>0</td>\n",
       "      <td>0</td>\n",
       "      <td>1</td>\n",
       "      <td>0</td>\n",
       "      <td>0</td>\n",
       "      <td>0</td>\n",
       "      <td>0</td>\n",
       "      <td>0</td>\n",
       "      <td>1</td>\n",
       "    </tr>\n",
       "  </tbody>\n",
       "</table>\n",
       "<p>5 rows × 130 columns</p>\n",
       "</div>"
      ],
      "text/plain": [
       "                                           File Name  \\\n",
       "0  #46565 FSHA 5.4.1Star Project G3 v2 + FS input...   \n",
       "1   #53697 FSHA HT Baguette 4 Cheese UA 2.07.19.xlsm   \n",
       "2            #57686 FSHA 5.4.1 Red Caviar  Azov.xlsm   \n",
       "3          #57686 FSHA 5.4.1 Red Caviar Kashira.xlsm   \n",
       "4  Cerezza Kokteyl FSHA 5.4.1-Paprika TR (3) Suad...   \n",
       "\n",
       "                                            projName accolNumber  \\\n",
       "0  S-T3-Star-• POL Star Puff (Chrupki) quality –POL        46565   \n",
       "1                     HT Baguette Four Cheese Flavor       53697   \n",
       "2                      Lay's Caviar IO 2019 RUS Asov       57686   \n",
       "3                   Lay's Caviar IO 2019 RUS Kashira       57686   \n",
       "4       Seasoning Harmonization Paprika CU64 Suadiye       45777   \n",
       "\n",
       "                                        PDA_projName         projType  \\\n",
       "0  1SKU Star Puffs Onion\\n2 SKU Star Puffs Cheese...    Brand Refresh   \n",
       "1                                  Hrusteam Baguette          Refresh   \n",
       "2                                  Lay's Red Caviar           Refresh   \n",
       "3                                  Lay's Red Caviar           Refresh   \n",
       "4                   Cerezza Kokteyl extruded product  Llift and shift   \n",
       "\n",
       "                                            projDesc formulaNumber  \\\n",
       "0  Star Puffs Cheese & STar Hyper Cheese\\nSeasoni...           NaN   \n",
       "1  Launch new seasoning 4 Cheese NL-502-352-9 on ...           NaN   \n",
       "2  Idea is to launch I&O flavour under New Year p...  Not provided   \n",
       "3  Idea is to launch I&O flavour under New Year p...  Not provided   \n",
       "4  CQ93 Product is a combination of 2 Extruded an...          None   \n",
       "\n",
       "                             owner sector    center          ...           \\\n",
       "0              Weronika Baranowska   ESSA    Warsaw          ...            \n",
       "1                    Anna Nikonova   ESSA    Moscow          ...            \n",
       "2  Evgeniy Shklovskiy +79163257848   ESSA    Moscow          ...            \n",
       "3  Evgeniy Shklovskiy +79163257848   ESSA    Moscow          ...            \n",
       "4                     Basak Ozdere   ESSA  Istanbul          ...            \n",
       "\n",
       "  Table1_Row6_Milk Table1_Row6_Nuts Table1_Row6_Peanuts Table1_Row6_Soya  \\\n",
       "0                0                0                   1                1   \n",
       "1                0                0                   0                0   \n",
       "2                0                0                   0                1   \n",
       "3                0                0                   0                1   \n",
       "4                0                0                   0                1   \n",
       "\n",
       "  Table1_Row6_Celery Table1_Row6_Lupin Table1_Row6_Molluscs  \\\n",
       "0                  1                 0                    0   \n",
       "1                  0                 0                    0   \n",
       "2                  0                 0                    0   \n",
       "3                  0                 0                    0   \n",
       "4                  0                 0                    0   \n",
       "\n",
       "  Table1_Row6_Mustard Table1_Row6_Sesame Seeds Table1_Row6_Sulphites  \n",
       "0                   1                        0                     0  \n",
       "1                   1                        0                     0  \n",
       "2                   0                        0                     0  \n",
       "3                   0                        0                     0  \n",
       "4                   0                        0                     1  \n",
       "\n",
       "[5 rows x 130 columns]"
      ]
     },
     "execution_count": 8,
     "metadata": {},
     "output_type": "execute_result"
    }
   ],
   "source": [
    "fsha_data.head()"
   ]
  },
  {
   "cell_type": "markdown",
   "metadata": {},
   "source": [
    "# Based on Analysis select the Features (X)"
   ]
  },
  {
   "cell_type": "code",
   "execution_count": 9,
   "metadata": {
    "collapsed": true
   },
   "outputs": [],
   "source": [
    "#selecting set of columns as Features\n",
    "features_df=fsha_data[['preservatives', 'pH', 'waterActivity', 'packaging','otherFSA',\n",
    "            'prodStorageDist', 'foodSafetyProdClaims','targetMarket','allergens','newIngredient','allergensLabeledIMAF']]"
   ]
  },
  {
   "cell_type": "markdown",
   "metadata": {},
   "source": [
    "# Replace missing values in features with NA"
   ]
  },
  {
   "cell_type": "code",
   "execution_count": 10,
   "metadata": {
    "collapsed": true
   },
   "outputs": [],
   "source": [
    "features_df.fillna('NA', inplace=True)"
   ]
  },
  {
   "cell_type": "code",
   "execution_count": 11,
   "metadata": {
    "collapsed": true
   },
   "outputs": [],
   "source": [
    "train_df = features_df"
   ]
  },
  {
   "cell_type": "markdown",
   "metadata": {},
   "source": [
    "# Define reusable code to Vectorize Text column (ex: Allergens) using TF-IDF Vectorizer, after doing Text data normalization"
   ]
  },
  {
   "cell_type": "code",
   "execution_count": 12,
   "metadata": {
    "collapsed": true
   },
   "outputs": [],
   "source": [
    "# Vectorization of text data using TF-IDF Vectorizer\n",
    "\n",
    "# Range (inclusive) of n-gram sizes for tokenizing text.\n",
    "#NGRAM_RANGE \n",
    "\n",
    "# Limit on the number of features. We use the top 20K features.\n",
    "#TOP_K = 20000\n",
    "\n",
    "# Whether text should be split into word or character n-grams.\n",
    "# One of 'word', 'char'.\n",
    "TOKEN_MODE = 'word'\n",
    "\n",
    "# Minimum document/corpus frequency below which a token will be discarded.\n",
    "MIN_DOCUMENT_FREQUENCY = 2\n",
    "\n",
    "# Limit on the length of text sequences. Sequences longer than this\n",
    "# will be truncated.\n",
    "MAX_SEQUENCE_LENGTH = 500\n",
    "\n",
    "\n",
    "def ngram_vectorize(train_texts, train_labels,ngram_range):\n",
    "    \"\"\"Vectorizes texts as ngram vectors.\n",
    "\n",
    "    1 text = 1 tf-idf vector the length of vocabulary of uni-grams + bi-grams.\n",
    "\n",
    "    # Arguments\n",
    "        train_texts: list, training text strings.\n",
    "        train_labels: np.ndarray, training labels.\n",
    "        val_texts: list, validation text strings.\n",
    "\n",
    "    # Returns\n",
    "        x_train, x_val: vectorized training and validation texts\n",
    "    \"\"\"\n",
    "    # Create keyword arguments to pass to the 'tf-idf' vectorizer.\n",
    "    kwargs = {\n",
    "            'ngram_range': ngram_range,  # Use 1-grams + 2-grams.\n",
    "            'dtype': 'int32',\n",
    "            'strip_accents': 'unicode',\n",
    "            'decode_error': 'replace',\n",
    "            'analyzer': TOKEN_MODE,  # Split text into word tokens.\n",
    "            'min_df': MIN_DOCUMENT_FREQUENCY,\n",
    "    }\n",
    "    vectorizer = TfidfVectorizer(**kwargs)\n",
    "\n",
    "    # Learn vocabulary from training texts and vectorize training texts.\n",
    "    x_train = vectorizer.fit_transform(train_texts)\n",
    "\n",
    "    # Select top 'k' of the vectorized features.\n",
    "    #selector = SelectKBest(f_classif, k=min(TOP_K, x_train.shape[1]))\n",
    "    #selector.fit(x_train, train_labels)\n",
    "    #x_train = selector.transform(x_train)\n",
    "\n",
    "    x_train = x_train.astype('float32')\n",
    "    return x_train"
   ]
  },
  {
   "cell_type": "markdown",
   "metadata": {},
   "source": [
    "# Define method to concatenate normalized Text data"
   ]
  },
  {
   "cell_type": "code",
   "execution_count": 54,
   "metadata": {},
   "outputs": [
    {
     "data": {
      "text/plain": [
       "Index(['preservatives', 'pH', 'waterActivity', 'packaging', 'otherFSA',\n",
       "       'prodStorageDist', 'foodSafetyProdClaims', 'targetMarket', 'allergens',\n",
       "       'newIngredient', 'allergensLabeledIMAF'],\n",
       "      dtype='object')"
      ]
     },
     "execution_count": 54,
     "metadata": {},
     "output_type": "execute_result"
    }
   ],
   "source": [
    "train_df.columns"
   ]
  },
  {
   "cell_type": "code",
   "execution_count": 13,
   "metadata": {
    "collapsed": true
   },
   "outputs": [],
   "source": [
    "#[['preservatives', 'pH', 'waterActivity', 'packaging','otherFSA',\n",
    "#            'prodStorageDist', 'foodSafetyProdClaims','targetMarket','allergens','newIngredient']]\n",
    "\n",
    "train_df['norm_preservatives'] = normalize_corpus(train_df['preservatives'])\n",
    "train_df['norm_pH'] = normalize_corpus(train_df['pH'])\n",
    "train_df['norm_waterActivity'] = clean_doc(train_df['waterActivity'])\n",
    "train_df['norm_packaging'] = normalize_corpus(train_df['packaging'])\n",
    "train_df['norm_otherFSA'] = normalize_corpus(train_df['otherFSA'])\n",
    "train_df['norm_prodStorageDist'] = normalize_corpus(train_df['prodStorageDist'])\n",
    "train_df['norm_foodSafety_prodClaims'] = normalize_corpus(train_df['foodSafetyProdClaims'])\n",
    "train_df['norm_targetMarket'] = normalize_corpus(train_df['targetMarket'])\n",
    "train_df['norm_newIngredient'] = normalize_corpus(train_df['newIngredient'])\n",
    "train_df['norm_allergens'] = normalize_corpus(train_df['allergens'])\n",
    "train_df['norm_allergens_M']=normalize_corpus(train_df['allergensLabeledIMAF'])"
   ]
  },
  {
   "cell_type": "code",
   "execution_count": 14,
   "metadata": {
    "collapsed": true
   },
   "outputs": [],
   "source": [
    "train_df = train_df.drop(['allergens',\n",
    " 'newIngredient',\n",
    " 'pH',\n",
    " 'prodStorageDist',\n",
    " 'waterActivity',\n",
    " 'packaging',\n",
    " 'preservatives',\n",
    " 'otherFSA',\n",
    " 'foodSafetyProdClaims',\n",
    " 'targetMarket','allergensLabeledIMAF'],axis = 1)"
   ]
  },
  {
   "cell_type": "code",
   "execution_count": 57,
   "metadata": {},
   "outputs": [
    {
     "data": {
      "text/plain": [
       "Index(['norm_preservatives', 'norm_pH', 'norm_waterActivity', 'norm_packaging',\n",
       "       'norm_otherFSA', 'norm_prodStorageDist', 'norm_foodSafety_prodClaims',\n",
       "       'norm_targetMarket', 'norm_newIngredient', 'norm_allergens',\n",
       "       'norm_allergens_M'],\n",
       "      dtype='object')"
      ]
     },
     "execution_count": 57,
     "metadata": {},
     "output_type": "execute_result"
    }
   ],
   "source": [
    "train_df.columns"
   ]
  },
  {
   "cell_type": "code",
   "execution_count": 16,
   "metadata": {},
   "outputs": [
    {
     "name": "stdout",
     "output_type": "stream",
     "text": [
      "0    yes\n",
      "1    yes\n",
      "2     no\n",
      "3     no\n",
      "4    yes\n",
      "Name: norm_newIngredient, dtype: object\n",
      "0    allergens seasonings cq69 vegetable blend mcco...\n",
      "1    no new allergen line seasonings 4 cheese conta...\n",
      "2    inherent milk lactose wheat gluten fish compon...\n",
      "3    inherent inherent milk lactose wheat gluten fi...\n",
      "4    wheat starch rusk wheat paprika seasoning whey...\n",
      "Name: norm_allergens, dtype: object\n"
     ]
    }
   ],
   "source": [
    "print(train_df['norm_newIngredient'][:5])\n",
    "print(train_df['norm_allergens'][:5])"
   ]
  },
  {
   "cell_type": "code",
   "execution_count": 17,
   "metadata": {
    "collapsed": true
   },
   "outputs": [],
   "source": [
    "#selecting set of columns for labelling\n",
    "\n",
    "#ph value label\n",
    "train_df['pH_label']=train_df['norm_pH'].apply(lambda x:re.findall(r'[0-9]+', str(x)) if bool(re.search(r'\\d', str(x))) else str(0))\n",
    "def ph_process(x):\n",
    "    if(len(x)>0):\n",
    "        x = str(x[0])\n",
    "    else:\n",
    "        x = str(x)\n",
    "    return x\n",
    "train_df['pH_label']=train_df['pH_label'].apply(lambda x:ph_process(x))    \n",
    "\n",
    "#'prod_storageDist'column label\n",
    "def prod_storageDist(x):\n",
    "    x=str(x.lower())\n",
    "    if x.__contains__('sun'):\n",
    "            return 'Keep away from sun'\n",
    "    elif x.__contains__('ambient')  :\n",
    "              return 'ambient'\n",
    "    elif x.__contains__('rte'):\n",
    "        return 'RTE'\n",
    "    else:\n",
    "        return 'NA'\n",
    "train_df['prod_storageDist_label']=train_df['norm_prodStorageDist'].apply(lambda x:prod_storageDist(x))                                                              \n",
    "\n",
    "#water activity\n",
    "def water_activity(x):\n",
    "    x=str(x)\n",
    "    x=x.lower()\n",
    "    if x.__contains__('low'):\n",
    "        return 'low'\n",
    "    elif x.__contains__('max'):\n",
    "        return 'max'\n",
    "    elif x==str(np.nan):\n",
    "        return 'NA'\n",
    "    elif bool(re.search('none|n/a|na',x)):\n",
    "        return 'NA'\n",
    "    else:\n",
    "        return(x)\n",
    "train_df['waterActivity_label']=train_df['norm_waterActivity'].apply(lambda x:water_activity(x))                                                              \n",
    " \n",
    "#packaging'\n",
    "def packaging(x):\n",
    "    x=str(x)\n",
    "    x=x.lower()\n",
    "    if x.__contains__('no') and x.__contains__('nitrogen'):\n",
    "        return 'no nitrogen'\n",
    "    elif x.__contains__('not') and x.__contains__('n2'):\n",
    "        return 'no nitrogen'\n",
    "    elif x.__contains__('nitrogen') and not x.__contains__('no'):\n",
    "        return 'nitrogen'\n",
    "    elif x.__contains__('atmosphere'):\n",
    "        return 'atmosphere'\n",
    "    elif x==str(np.nan):\n",
    "        return 'NA'\n",
    "    elif bool(re.search('none|n/a|na',x)):\n",
    "        return 'NA'\n",
    "    else:\n",
    "        return(x)\n",
    "    \n",
    "train_df['packaging_label']=train_df['norm_packaging'].apply(lambda x: packaging(x))  \n",
    "  \n",
    "#'preservatives'\n",
    "def preservatives(x):\n",
    "    x=str(x)\n",
    "    x=x.lower()\n",
    "    if x.__contains__('sodium'):\n",
    "        return 'Not used as preservatives'\n",
    "    elif x.__contains__('not') and x.__contains__('seasoning'):\n",
    "        return 'No Seasoning'\n",
    "    elif bool(re.search('topping|seasoning',x)):\n",
    "        return 'Used in seasoning'\n",
    "    else:\n",
    "        return ('NA')\n",
    "    \n",
    "train_df['preservatives_label']=train_df['norm_preservatives'].apply(lambda x:preservatives(x))\n",
    "\n",
    "#' otherFSA'\n",
    "def otherFSA(x):\n",
    "    x=str(x)\n",
    "    x=x.lower()\n",
    "    if bool(re.search('moisture',x)):\n",
    "        return 'Moisture'\n",
    "    else:\n",
    "        return 'NA'\n",
    "train_df['otherFSA_label']=train_df['norm_otherFSA'].apply(lambda x:otherFSA(x))\n",
    "\n",
    "\n",
    "def foodsafety_prodclaims(x):\n",
    "    x=str(x)\n",
    "    x=x.lower()\n",
    "    if bool(re.search('^claim',x)):\n",
    "        return 'Claims Made'\n",
    "    elif x.__contains__('no claims'):\n",
    "        return 'No Claims Made'\n",
    "    elif x.__contains__('allergen'):\n",
    "        return 'Allergen'\n",
    "    elif bool(re.search('none|n/a|na',x)):\n",
    "        return 'NA'\n",
    "    else:\n",
    "        return(x)\n",
    "\n",
    "train_df['foodSafety_prodClaims_label']=train_df['norm_foodSafety_prodClaims'].apply(lambda x:foodsafety_prodclaims(x))  \n",
    "\n",
    "#' targetMarket'\n",
    "def targetMarket(x):\n",
    "    x=str(x)\n",
    "    x=x.lower()\n",
    "    if (x.__contains__('choking') or x.__contains__('choke')) and x.__contains__('children'):\n",
    "        return 'Choking hazard for children'\n",
    "    elif x.__contains__('allerg'):\n",
    "        return 'Allergy'\n",
    "    elif x.__contains__('no') and x.__contains__('change'):\n",
    "        return 'no'\n",
    "    else:\n",
    "        return(x)\n",
    "train_df['targetMarket_label']=train_df['norm_targetMarket'].apply(lambda x:targetMarket(x))\n",
    "\n",
    "train_df=train_df.drop(['norm_preservatives', 'norm_pH', 'norm_waterActivity', 'norm_packaging','norm_otherFSA',\n",
    "            'norm_prodStorageDist', 'norm_foodSafety_prodClaims','norm_targetMarket'],axis=1)\n"
   ]
  },
  {
   "cell_type": "code",
   "execution_count": 18,
   "metadata": {},
   "outputs": [
    {
     "data": {
      "text/html": [
       "<div>\n",
       "<style>\n",
       "    .dataframe thead tr:only-child th {\n",
       "        text-align: right;\n",
       "    }\n",
       "\n",
       "    .dataframe thead th {\n",
       "        text-align: left;\n",
       "    }\n",
       "\n",
       "    .dataframe tbody tr th {\n",
       "        vertical-align: top;\n",
       "    }\n",
       "</style>\n",
       "<table border=\"1\" class=\"dataframe\">\n",
       "  <thead>\n",
       "    <tr style=\"text-align: right;\">\n",
       "      <th></th>\n",
       "      <th>norm_newIngredient</th>\n",
       "      <th>norm_allergens</th>\n",
       "      <th>norm_allergens_M</th>\n",
       "      <th>pH_label</th>\n",
       "      <th>prod_storageDist_label</th>\n",
       "      <th>waterActivity_label</th>\n",
       "      <th>packaging_label</th>\n",
       "      <th>preservatives_label</th>\n",
       "      <th>otherFSA_label</th>\n",
       "      <th>foodSafety_prodClaims_label</th>\n",
       "      <th>targetMarket_label</th>\n",
       "    </tr>\n",
       "  </thead>\n",
       "  <tbody>\n",
       "    <tr>\n",
       "      <th>0</th>\n",
       "      <td>yes</td>\n",
       "      <td>allergens seasonings cq69 vegetable blend mcco...</td>\n",
       "      <td>milk lactose milk lactose</td>\n",
       "      <td>0</td>\n",
       "      <td>Keep away from sun</td>\n",
       "      <td>low</td>\n",
       "      <td>atmosphere</td>\n",
       "      <td>NA</td>\n",
       "      <td>NA</td>\n",
       "      <td>Claims Made</td>\n",
       "      <td>Allergy</td>\n",
       "    </tr>\n",
       "    <tr>\n",
       "      <th>1</th>\n",
       "      <td>yes</td>\n",
       "      <td>no new allergen line seasonings 4 cheese conta...</td>\n",
       "      <td>milk lactose sulphites 1ppm gluten 3ppm</td>\n",
       "      <td>0</td>\n",
       "      <td>NA</td>\n",
       "      <td>low</td>\n",
       "      <td>NA</td>\n",
       "      <td>NA</td>\n",
       "      <td>NA</td>\n",
       "      <td>NA</td>\n",
       "      <td>no</td>\n",
       "    </tr>\n",
       "    <tr>\n",
       "      <th>2</th>\n",
       "      <td>no</td>\n",
       "      <td>inherent milk lactose wheat gluten fish compon...</td>\n",
       "      <td>milk lactose wheat gluten 3ppm sulphites 1ppm ...</td>\n",
       "      <td>0</td>\n",
       "      <td>NA</td>\n",
       "      <td>low</td>\n",
       "      <td>standard</td>\n",
       "      <td>NA</td>\n",
       "      <td>NA</td>\n",
       "      <td>NA</td>\n",
       "      <td>Allergy</td>\n",
       "    </tr>\n",
       "    <tr>\n",
       "      <th>3</th>\n",
       "      <td>no</td>\n",
       "      <td>inherent inherent milk lactose wheat gluten fi...</td>\n",
       "      <td>milk lactose wheat gluten 3ppm sulphites 1ppm ...</td>\n",
       "      <td>0</td>\n",
       "      <td>NA</td>\n",
       "      <td>low</td>\n",
       "      <td>standard</td>\n",
       "      <td>NA</td>\n",
       "      <td>NA</td>\n",
       "      <td>NA</td>\n",
       "      <td>Allergy</td>\n",
       "    </tr>\n",
       "    <tr>\n",
       "      <th>4</th>\n",
       "      <td>yes</td>\n",
       "      <td>wheat starch rusk wheat paprika seasoning whey...</td>\n",
       "      <td>wheat gluten milk lactose</td>\n",
       "      <td>0</td>\n",
       "      <td>NA</td>\n",
       "      <td>low</td>\n",
       "      <td>nitrogen</td>\n",
       "      <td>NA</td>\n",
       "      <td>NA</td>\n",
       "      <td>NA</td>\n",
       "      <td>no</td>\n",
       "    </tr>\n",
       "  </tbody>\n",
       "</table>\n",
       "</div>"
      ],
      "text/plain": [
       "  norm_newIngredient                                     norm_allergens  \\\n",
       "0                yes  allergens seasonings cq69 vegetable blend mcco...   \n",
       "1                yes  no new allergen line seasonings 4 cheese conta...   \n",
       "2                 no  inherent milk lactose wheat gluten fish compon...   \n",
       "3                 no  inherent inherent milk lactose wheat gluten fi...   \n",
       "4                yes  wheat starch rusk wheat paprika seasoning whey...   \n",
       "\n",
       "                                    norm_allergens_M pH_label  \\\n",
       "0                          milk lactose milk lactose        0   \n",
       "1            milk lactose sulphites 1ppm gluten 3ppm        0   \n",
       "2  milk lactose wheat gluten 3ppm sulphites 1ppm ...        0   \n",
       "3  milk lactose wheat gluten 3ppm sulphites 1ppm ...        0   \n",
       "4                          wheat gluten milk lactose        0   \n",
       "\n",
       "  prod_storageDist_label waterActivity_label packaging_label  \\\n",
       "0     Keep away from sun                 low      atmosphere   \n",
       "1                     NA                 low              NA   \n",
       "2                     NA                 low        standard   \n",
       "3                     NA                 low        standard   \n",
       "4                     NA                 low        nitrogen   \n",
       "\n",
       "  preservatives_label otherFSA_label foodSafety_prodClaims_label  \\\n",
       "0                  NA             NA                 Claims Made   \n",
       "1                  NA             NA                          NA   \n",
       "2                  NA             NA                          NA   \n",
       "3                  NA             NA                          NA   \n",
       "4                  NA             NA                          NA   \n",
       "\n",
       "  targetMarket_label  \n",
       "0            Allergy  \n",
       "1                 no  \n",
       "2            Allergy  \n",
       "3            Allergy  \n",
       "4                 no  "
      ]
     },
     "execution_count": 18,
     "metadata": {},
     "output_type": "execute_result"
    }
   ],
   "source": [
    "train_df.head()"
   ]
  },
  {
   "cell_type": "markdown",
   "metadata": {},
   "source": [
    "# Onehot encoding of categorical encoded data"
   ]
  },
  {
   "cell_type": "code",
   "execution_count": 19,
   "metadata": {
    "collapsed": true
   },
   "outputs": [],
   "source": [
    "for i in range(0,train_df.shape[1]):\n",
    "    if train_df.columns[i] != 'norm_allergens' :\n",
    "        if train_df.columns[i] != 'norm_allergens_M':\n",
    "        \n",
    "            df=pd.get_dummies(train_df[train_df.columns[i]])\n",
    "            df.columns = [train_df.columns[i]+\"_\"+k for k in df.columns]\n",
    "            if i ==0 :\n",
    "                newdf = df\n",
    "            else:\n",
    "                newdf = pd.concat([newdf,df],axis=1)"
   ]
  },
  {
   "cell_type": "code",
   "execution_count": 25,
   "metadata": {},
   "outputs": [
    {
     "data": {
      "text/plain": [
       "0    0\n",
       "1    0\n",
       "2    1\n",
       "3    1\n",
       "4    0\n",
       "Name: packaging_label_standard, dtype: uint8"
      ]
     },
     "execution_count": 25,
     "metadata": {},
     "output_type": "execute_result"
    }
   ],
   "source": [
    "newdf['packaging_label_standard'].head()"
   ]
  },
  {
   "cell_type": "code",
   "execution_count": 26,
   "metadata": {
    "collapsed": true
   },
   "outputs": [],
   "source": [
    "newdf['norm_allergens']= train_df.norm_allergens\n",
    "newdf['norm_allergens_M']=train_df.norm_allergens_M"
   ]
  },
  {
   "cell_type": "code",
   "execution_count": 68,
   "metadata": {
    "collapsed": true
   },
   "outputs": [],
   "source": [
    "train_df=newdf"
   ]
  },
  {
   "cell_type": "code",
   "execution_count": 69,
   "metadata": {},
   "outputs": [
    {
     "data": {
      "text/plain": [
       "Index(['norm_newIngredient_no', 'norm_newIngredient_yes', 'pH_label_0',\n",
       "       'prod_storageDist_label_Keep away from sun',\n",
       "       'prod_storageDist_label_NA', 'prod_storageDist_label_ambient',\n",
       "       'waterActivity_label_NA', 'waterActivity_label_low',\n",
       "       'waterActivity_label_not determined',\n",
       "       'waterActivity_label_not specified pd', 'packaging_label_NA',\n",
       "       'packaging_label_atmosphere', 'packaging_label_nitrogen',\n",
       "       'packaging_label_not confirmed pd', 'packaging_label_not provided',\n",
       "       'packaging_label_not required', 'packaging_label_standard',\n",
       "       'preservatives_label_NA',\n",
       "       'preservatives_label_Not used as preservatives',\n",
       "       'otherFSA_label_Moisture', 'otherFSA_label_NA',\n",
       "       'foodSafety_prodClaims_label_50 less fat comparing fried potato chips',\n",
       "       'foodSafety_prodClaims_label_Claims Made',\n",
       "       'foodSafety_prodClaims_label_NA',\n",
       "       'foodSafety_prodClaims_label_No Claims Made',\n",
       "       'foodSafety_prodClaims_label_no',\n",
       "       'foodSafety_prodClaims_label_no preservatives',\n",
       "       'foodSafety_prodClaims_label_product may contain peanut',\n",
       "       'foodSafety_prodClaims_label_tbc', 'targetMarket_label_Allergy',\n",
       "       'targetMarket_label_na', 'targetMarket_label_no',\n",
       "       'targetMarket_label_none', 'targetMarket_label_not', 'norm_allergens',\n",
       "       'norm_allergens_M', 'target'],\n",
       "      dtype='object')"
      ]
     },
     "execution_count": 69,
     "metadata": {},
     "output_type": "execute_result"
    }
   ],
   "source": [
    "train_df.columns"
   ]
  },
  {
   "cell_type": "markdown",
   "metadata": {},
   "source": [
    "# Imput target with mode value"
   ]
  },
  {
   "cell_type": "code",
   "execution_count": 29,
   "metadata": {
    "collapsed": true
   },
   "outputs": [],
   "source": [
    "import statistics \n",
    "\n",
    "def impute_target(fsha_data,targetName):\n",
    "    train_y=[]\n",
    "    for i in range (len(fsha_data)):\n",
    "        if str(fsha_data[targetName][i]).strip().lower() =='yes':\n",
    "            train_y.append(1)\n",
    "        elif str(fsha_data[targetName][i]).strip().lower() =='no':\n",
    "            train_y.append(0)\n",
    "        else:\n",
    "            train_y.append(-1)\n",
    "               \n",
    "    mode_y = statistics.mode(train_y)\n",
    "\n",
    "    for i in range (len(fsha_data)):\n",
    "        if train_y[i]==-1:\n",
    "            train_y[i] = mode_y\n",
    "            \n",
    "    return train_y"
   ]
  },
  {
   "cell_type": "markdown",
   "metadata": {},
   "source": [
    "# Target (Yes/No choice) in PDAF are converted to binary values"
   ]
  },
  {
   "cell_type": "code",
   "execution_count": 70,
   "metadata": {
    "collapsed": true
   },
   "outputs": [],
   "source": [
    "train_y_microbial = impute_target(fsha_data,\"potentialMicrobial\")"
   ]
  },
  {
   "cell_type": "code",
   "execution_count": 71,
   "metadata": {
    "collapsed": true
   },
   "outputs": [],
   "source": [
    "train_df['target']=train_y_microbial"
   ]
  },
  {
   "cell_type": "code",
   "execution_count": 72,
   "metadata": {},
   "outputs": [
    {
     "data": {
      "text/plain": [
       "0    56\n",
       "1     3\n",
       "Name: target, dtype: int64"
      ]
     },
     "execution_count": 72,
     "metadata": {},
     "output_type": "execute_result"
    }
   ],
   "source": [
    "train_df['target'].value_counts()"
   ]
  },
  {
   "cell_type": "code",
   "execution_count": 73,
   "metadata": {
    "collapsed": true
   },
   "outputs": [],
   "source": [
    "train_y = train_df['target']\n",
    "y = train_y"
   ]
  },
  {
   "cell_type": "markdown",
   "metadata": {},
   "source": [
    "# Perform n-gram vectorization and PCA on text data and concatenate with categorical one-hot encoded data"
   ]
  },
  {
   "cell_type": "code",
   "execution_count": 76,
   "metadata": {
    "collapsed": true
   },
   "outputs": [],
   "source": [
    "def preprocess_text(train_df,y):    \n",
    "    train_labels = y\n",
    "    x_ngram_allergens = ngram_vectorize(train_df['norm_allergens'], train_labels,n_gram_range).toarray()\n",
    "    x_ngram_allergens_m = ngram_vectorize(train_df['norm_allergens_M'], train_labels,n_gram_range).toarray()\n",
    "    train_df = train_df.drop(['norm_allergens','norm_allergens_M'],axis=1)\n",
    "    pca = PCA(n_components=n_components,svd_solver=svd_solver,whiten=whiten, random_state=42)\n",
    "    \n",
    "    #scaler = StandardScaler()\n",
    "    #x_ngram_allergens = scaler.fit_transform(x_ngram_allergens)\n",
    "    x_pca_allergens = pca.fit_transform(x_ngram_allergens)\n",
    "    x_pca_allergens_m = pca.fit_transform(x_ngram_allergens_m)\n",
    "    print(x_pca_allergens.shape)\n",
    "    print(x_pca_allergens_m.shape)\n",
    "    print(train_df.shape)\n",
    "    x_train = np.concatenate((train_df,x_pca_allergens,x_pca_allergens_m),axis=1)\n",
    "    print(x_train.shape)\n",
    "    return x_train  "
   ]
  },
  {
   "cell_type": "code",
   "execution_count": 77,
   "metadata": {},
   "outputs": [
    {
     "name": "stdout",
     "output_type": "stream",
     "text": [
      "(59, 2)\n",
      "(59, 2)\n",
      "(59, 35)\n",
      "(59, 39)\n"
     ]
    }
   ],
   "source": [
    "n_gram_range = (1,2)\n",
    "n_components = 2\n",
    "whiten = False\n",
    "random_state = 42\n",
    "svd_solver=\"full\"\n",
    "x_train = preprocess_text(train_df,y)"
   ]
  },
  {
   "cell_type": "markdown",
   "metadata": {},
   "source": [
    "# Perform train test split"
   ]
  },
  {
   "cell_type": "code",
   "execution_count": 78,
   "metadata": {
    "collapsed": true
   },
   "outputs": [],
   "source": [
    "X,y = x_train,train_df['target']"
   ]
  },
  {
   "cell_type": "code",
   "execution_count": 79,
   "metadata": {
    "collapsed": true
   },
   "outputs": [],
   "source": [
    "X_train, X_test, y_train, y_test = train_test_split(X, y, test_size=.2, random_state=42)"
   ]
  },
  {
   "cell_type": "code",
   "execution_count": 80,
   "metadata": {},
   "outputs": [
    {
     "name": "stdout",
     "output_type": "stream",
     "text": [
      "(47, 39)\n",
      "(12, 39)\n"
     ]
    }
   ],
   "source": [
    "print(X_train.shape)\n",
    "print(X_test.shape)"
   ]
  },
  {
   "cell_type": "code",
   "execution_count": 81,
   "metadata": {
    "collapsed": true
   },
   "outputs": [],
   "source": [
    "X_train = pd.DataFrame(X_train)\n",
    "y_train = pd.DataFrame(y_train)"
   ]
  },
  {
   "cell_type": "markdown",
   "metadata": {},
   "source": [
    "# Upsample the potentialMicrobial data, since the data is highly imbalanced"
   ]
  },
  {
   "cell_type": "code",
   "execution_count": 82,
   "metadata": {},
   "outputs": [],
   "source": [
    "from sklearn.utils import resample\n",
    "\n",
    "# concatenate our training data back together\n",
    "X = pd.concat([X_train, y_train], axis=1)\n",
    "\n",
    "# separate minority and majority classes\n",
    "not_potMicrobial = X[X.target==0]\n",
    "potMicrobial = X[X.target==1]"
   ]
  },
  {
   "cell_type": "code",
   "execution_count": 83,
   "metadata": {},
   "outputs": [
    {
     "name": "stdout",
     "output_type": "stream",
     "text": [
      "44\n",
      "3\n"
     ]
    }
   ],
   "source": [
    "print(len(not_potMicrobial))\n",
    "print(len(potMicrobial))"
   ]
  },
  {
   "cell_type": "code",
   "execution_count": 84,
   "metadata": {
    "collapsed": true
   },
   "outputs": [],
   "source": [
    "# upsample minority\n",
    "potMicrobial_upsampled = resample(potMicrobial,\n",
    "                          replace=True, # sample with replacement\n",
    "                          n_samples=len(not_potMicrobial), # match number in majority class\n",
    "                          random_state=27) # reproducible results\n",
    "\n",
    "# combine majority and upsampled minority\n",
    "upsampled = pd.concat([not_potMicrobial, potMicrobial_upsampled])"
   ]
  },
  {
   "cell_type": "code",
   "execution_count": 85,
   "metadata": {},
   "outputs": [
    {
     "data": {
      "text/plain": [
       "1.0    44\n",
       "0.0    44\n",
       "Name: target, dtype: int64"
      ]
     },
     "execution_count": 85,
     "metadata": {},
     "output_type": "execute_result"
    }
   ],
   "source": [
    "upsampled.target.value_counts()"
   ]
  },
  {
   "cell_type": "code",
   "execution_count": 86,
   "metadata": {
    "collapsed": true
   },
   "outputs": [],
   "source": [
    "y_train = upsampled.target\n",
    "X_train = upsampled.drop('target', axis=1)"
   ]
  },
  {
   "cell_type": "code",
   "execution_count": 87,
   "metadata": {},
   "outputs": [
    {
     "data": {
      "text/plain": [
       "(88, 39)"
      ]
     },
     "execution_count": 87,
     "metadata": {},
     "output_type": "execute_result"
    }
   ],
   "source": [
    "X_train.shape"
   ]
  },
  {
   "cell_type": "code",
   "execution_count": 90,
   "metadata": {},
   "outputs": [],
   "source": [
    "#np.where(np.isnan(X_train))"
   ]
  },
  {
   "cell_type": "code",
   "execution_count": 91,
   "metadata": {},
   "outputs": [],
   "source": [
    "y_train=y_train.reshape(y_train.shape[0],1)"
   ]
  },
  {
   "cell_type": "code",
   "execution_count": 92,
   "metadata": {},
   "outputs": [],
   "source": [
    "X_train= X_train.values\n",
    "#y_train =y_train.values"
   ]
  },
  {
   "cell_type": "markdown",
   "metadata": {},
   "source": [
    "# Define method to evaluate Machine Learning models with the X and y vectors created above, and check the effectiveness of each. Also store the results in array to be plotted in graph for visualization"
   ]
  },
  {
   "cell_type": "code",
   "execution_count": 93,
   "metadata": {
    "collapsed": true
   },
   "outputs": [],
   "source": [
    "from datetime import datetime\n",
    "import time\n",
    "def benchmark(clf):\n",
    "    print('_' * 80)\n",
    "    print(\"Training: \")\n",
    "    print(len(X_train))\n",
    "    \n",
    "    clf_descr = str(clf).split('(')[0]\n",
    "    print(\"model name:\"+clf_descr)\n",
    "  \n",
    "    a = datetime.now()\n",
    "    \n",
    "    if clf_descr.__contains__('tensorflow'):\n",
    "        history = clf.fit(\n",
    "            X_train,\n",
    "            y_train,\n",
    "            epochs=epochs,\n",
    "            callbacks=callbacks,\n",
    "            validation_data=(X_test, y_test),\n",
    "            verbose=2, \n",
    "            batch_size=batch_size)\n",
    "    else:\n",
    "        clf.fit(X_train, y_train)\n",
    "    \n",
    "    b = datetime.now()\n",
    "    c = a-b\n",
    "    train_time = c.microseconds\n",
    "    print(\"train time: %0.3fs\" % train_time)\n",
    "\n",
    "    pred = clf.predict(X_test)\n",
    "\n",
    "    pred_train = clf.predict(X_train)\n",
    " \n",
    "    if clf_descr.__contains__('tensorflow'):\n",
    "        for i in range (len(pred)):\n",
    "            if (pred[i]>=0.3):\n",
    "                pred[i]=1\n",
    "            else:\n",
    "                pred[i]=0\n",
    "        for i in range (len(pred_train)):        \n",
    "            if (pred_train[i]>=0.3):\n",
    "                pred_train[i]=1\n",
    "            else:\n",
    "                pred_train[i]=0\n",
    "    \n",
    "    f1_score = metrics.f1_score(y_test, pred)\n",
    "    print(\"f1_score:   %0.3f\" % f1_score )\n",
    "    \n",
    "    f1_score_train = metrics.f1_score(y_train, pred_train)\n",
    "    print(\"f1_score_train:   %0.3f\" % f1_score_train )\n",
    "    \n",
    "    print(\"classification report:\")\n",
    "    print(classification_report(y_test, pred))\n",
    "    \n",
    "    print(\"confusion matrix:\")\n",
    "    print(metrics.confusion_matrix(y_test, pred))\n",
    "\n",
    "    if hasattr(clf, 'coef_'):\n",
    "        print(\"dimensionality: %d\" % clf.coef_.shape[1])\n",
    "        print(\"density: %f\" % density(clf.coef_))\n",
    "\n",
    "    \n",
    "    return clf_descr,f1_score_train,f1_score,train_time"
   ]
  },
  {
   "cell_type": "markdown",
   "metadata": {},
   "source": [
    "# Evaluate Machine Learning Models from a List (using the reusable method defined above). Store the results (Accuracy score - train, accuracy score - test, and training time) in a List for data visualization"
   ]
  },
  {
   "cell_type": "code",
   "execution_count": 94,
   "metadata": {},
   "outputs": [
    {
     "name": "stdout",
     "output_type": "stream",
     "text": [
      "________________________________________________________________________________\n",
      "Training: \n",
      "88\n",
      "model name:Pipeline\n"
     ]
    },
    {
     "ename": "ValueError",
     "evalue": "Input contains NaN, infinity or a value too large for dtype('float64').",
     "output_type": "error",
     "traceback": [
      "\u001b[1;31m---------------------------------------------------------------------------\u001b[0m",
      "\u001b[1;31mValueError\u001b[0m                                Traceback (most recent call last)",
      "\u001b[1;32m<ipython-input-94-b2214706e493>\u001b[0m in \u001b[0;36m<module>\u001b[1;34m()\u001b[0m\n\u001b[0;32m     10\u001b[0m         \u001b[1;33m(\u001b[0m\u001b[0mKNeighborsClassifier\u001b[0m\u001b[1;33m(\u001b[0m\u001b[0mn_neighbors\u001b[0m\u001b[1;33m=\u001b[0m\u001b[1;36m5\u001b[0m\u001b[1;33m)\u001b[0m\u001b[1;33m,\u001b[0m \u001b[1;34m\"kNN\"\u001b[0m\u001b[1;33m)\u001b[0m\u001b[1;33m,\u001b[0m\u001b[1;33m\u001b[0m\u001b[0m\n\u001b[0;32m     11\u001b[0m         (RandomForestClassifier(n_estimators=100), \"Random forest\")):\n\u001b[1;32m---> 12\u001b[1;33m     \u001b[0mselector_clf\u001b[0m \u001b[1;33m=\u001b[0m \u001b[0mbenchmark\u001b[0m\u001b[1;33m(\u001b[0m\u001b[0mPipeline\u001b[0m\u001b[1;33m(\u001b[0m\u001b[1;33m[\u001b[0m\u001b[1;33m(\u001b[0m\u001b[1;34m'selector'\u001b[0m\u001b[1;33m,\u001b[0m \u001b[0mselector\u001b[0m\u001b[1;33m)\u001b[0m\u001b[1;33m,\u001b[0m\u001b[1;33m(\u001b[0m\u001b[1;34m'classifier'\u001b[0m\u001b[1;33m,\u001b[0m \u001b[0mclf\u001b[0m\u001b[1;33m)\u001b[0m\u001b[1;33m]\u001b[0m\u001b[1;33m)\u001b[0m\u001b[1;33m)\u001b[0m\u001b[1;33m\u001b[0m\u001b[0m\n\u001b[0m\u001b[0;32m     13\u001b[0m     \u001b[0mprint\u001b[0m\u001b[1;33m(\u001b[0m\u001b[1;34m'='\u001b[0m \u001b[1;33m*\u001b[0m \u001b[1;36m80\u001b[0m\u001b[1;33m)\u001b[0m\u001b[1;33m\u001b[0m\u001b[0m\n\u001b[0;32m     14\u001b[0m     \u001b[0mprint\u001b[0m\u001b[1;33m(\u001b[0m\u001b[0mname\u001b[0m\u001b[1;33m)\u001b[0m\u001b[1;33m\u001b[0m\u001b[0m\n",
      "\u001b[1;32m<ipython-input-93-b6e9e0afcc44>\u001b[0m in \u001b[0;36mbenchmark\u001b[1;34m(clf)\u001b[0m\n\u001b[0;32m     21\u001b[0m             batch_size=batch_size)\n\u001b[0;32m     22\u001b[0m     \u001b[1;32melse\u001b[0m\u001b[1;33m:\u001b[0m\u001b[1;33m\u001b[0m\u001b[0m\n\u001b[1;32m---> 23\u001b[1;33m         \u001b[0mclf\u001b[0m\u001b[1;33m.\u001b[0m\u001b[0mfit\u001b[0m\u001b[1;33m(\u001b[0m\u001b[0mX_train\u001b[0m\u001b[1;33m,\u001b[0m \u001b[0my_train\u001b[0m\u001b[1;33m)\u001b[0m\u001b[1;33m\u001b[0m\u001b[0m\n\u001b[0m\u001b[0;32m     24\u001b[0m \u001b[1;33m\u001b[0m\u001b[0m\n\u001b[0;32m     25\u001b[0m     \u001b[0mb\u001b[0m \u001b[1;33m=\u001b[0m \u001b[0mdatetime\u001b[0m\u001b[1;33m.\u001b[0m\u001b[0mnow\u001b[0m\u001b[1;33m(\u001b[0m\u001b[1;33m)\u001b[0m\u001b[1;33m\u001b[0m\u001b[0m\n",
      "\u001b[1;32mC:\\ProgramData\\Anaconda3\\lib\\site-packages\\sklearn\\pipeline.py\u001b[0m in \u001b[0;36mfit\u001b[1;34m(self, X, y, **fit_params)\u001b[0m\n\u001b[0;32m    255\u001b[0m             \u001b[0mThis\u001b[0m \u001b[0mestimator\u001b[0m\u001b[1;33m\u001b[0m\u001b[0m\n\u001b[0;32m    256\u001b[0m         \"\"\"\n\u001b[1;32m--> 257\u001b[1;33m         \u001b[0mXt\u001b[0m\u001b[1;33m,\u001b[0m \u001b[0mfit_params\u001b[0m \u001b[1;33m=\u001b[0m \u001b[0mself\u001b[0m\u001b[1;33m.\u001b[0m\u001b[0m_fit\u001b[0m\u001b[1;33m(\u001b[0m\u001b[0mX\u001b[0m\u001b[1;33m,\u001b[0m \u001b[0my\u001b[0m\u001b[1;33m,\u001b[0m \u001b[1;33m**\u001b[0m\u001b[0mfit_params\u001b[0m\u001b[1;33m)\u001b[0m\u001b[1;33m\u001b[0m\u001b[0m\n\u001b[0m\u001b[0;32m    258\u001b[0m         \u001b[1;32mif\u001b[0m \u001b[0mself\u001b[0m\u001b[1;33m.\u001b[0m\u001b[0m_final_estimator\u001b[0m \u001b[1;32mis\u001b[0m \u001b[1;32mnot\u001b[0m \u001b[1;32mNone\u001b[0m\u001b[1;33m:\u001b[0m\u001b[1;33m\u001b[0m\u001b[0m\n\u001b[0;32m    259\u001b[0m             \u001b[0mself\u001b[0m\u001b[1;33m.\u001b[0m\u001b[0m_final_estimator\u001b[0m\u001b[1;33m.\u001b[0m\u001b[0mfit\u001b[0m\u001b[1;33m(\u001b[0m\u001b[0mXt\u001b[0m\u001b[1;33m,\u001b[0m \u001b[0my\u001b[0m\u001b[1;33m,\u001b[0m \u001b[1;33m**\u001b[0m\u001b[0mfit_params\u001b[0m\u001b[1;33m)\u001b[0m\u001b[1;33m\u001b[0m\u001b[0m\n",
      "\u001b[1;32mC:\\ProgramData\\Anaconda3\\lib\\site-packages\\sklearn\\pipeline.py\u001b[0m in \u001b[0;36m_fit\u001b[1;34m(self, X, y, **fit_params)\u001b[0m\n\u001b[0;32m    220\u001b[0m                 Xt, fitted_transformer = fit_transform_one_cached(\n\u001b[0;32m    221\u001b[0m                     \u001b[0mcloned_transformer\u001b[0m\u001b[1;33m,\u001b[0m \u001b[1;32mNone\u001b[0m\u001b[1;33m,\u001b[0m \u001b[0mXt\u001b[0m\u001b[1;33m,\u001b[0m \u001b[0my\u001b[0m\u001b[1;33m,\u001b[0m\u001b[1;33m\u001b[0m\u001b[0m\n\u001b[1;32m--> 222\u001b[1;33m                     **fit_params_steps[name])\n\u001b[0m\u001b[0;32m    223\u001b[0m                 \u001b[1;31m# Replace the transformer of the step with the fitted\u001b[0m\u001b[1;33m\u001b[0m\u001b[1;33m\u001b[0m\u001b[0m\n\u001b[0;32m    224\u001b[0m                 \u001b[1;31m# transformer. This is necessary when loading the transformer\u001b[0m\u001b[1;33m\u001b[0m\u001b[1;33m\u001b[0m\u001b[0m\n",
      "\u001b[1;32mC:\\ProgramData\\Anaconda3\\lib\\site-packages\\sklearn\\externals\\joblib\\memory.py\u001b[0m in \u001b[0;36m__call__\u001b[1;34m(self, *args, **kwargs)\u001b[0m\n\u001b[0;32m    360\u001b[0m \u001b[1;33m\u001b[0m\u001b[0m\n\u001b[0;32m    361\u001b[0m     \u001b[1;32mdef\u001b[0m \u001b[0m__call__\u001b[0m\u001b[1;33m(\u001b[0m\u001b[0mself\u001b[0m\u001b[1;33m,\u001b[0m \u001b[1;33m*\u001b[0m\u001b[0margs\u001b[0m\u001b[1;33m,\u001b[0m \u001b[1;33m**\u001b[0m\u001b[0mkwargs\u001b[0m\u001b[1;33m)\u001b[0m\u001b[1;33m:\u001b[0m\u001b[1;33m\u001b[0m\u001b[0m\n\u001b[1;32m--> 362\u001b[1;33m         \u001b[1;32mreturn\u001b[0m \u001b[0mself\u001b[0m\u001b[1;33m.\u001b[0m\u001b[0mfunc\u001b[0m\u001b[1;33m(\u001b[0m\u001b[1;33m*\u001b[0m\u001b[0margs\u001b[0m\u001b[1;33m,\u001b[0m \u001b[1;33m**\u001b[0m\u001b[0mkwargs\u001b[0m\u001b[1;33m)\u001b[0m\u001b[1;33m\u001b[0m\u001b[0m\n\u001b[0m\u001b[0;32m    363\u001b[0m \u001b[1;33m\u001b[0m\u001b[0m\n\u001b[0;32m    364\u001b[0m     \u001b[1;32mdef\u001b[0m \u001b[0mcall_and_shelve\u001b[0m\u001b[1;33m(\u001b[0m\u001b[0mself\u001b[0m\u001b[1;33m,\u001b[0m \u001b[1;33m*\u001b[0m\u001b[0margs\u001b[0m\u001b[1;33m,\u001b[0m \u001b[1;33m**\u001b[0m\u001b[0mkwargs\u001b[0m\u001b[1;33m)\u001b[0m\u001b[1;33m:\u001b[0m\u001b[1;33m\u001b[0m\u001b[0m\n",
      "\u001b[1;32mC:\\ProgramData\\Anaconda3\\lib\\site-packages\\sklearn\\pipeline.py\u001b[0m in \u001b[0;36m_fit_transform_one\u001b[1;34m(transformer, weight, X, y, **fit_params)\u001b[0m\n\u001b[0;32m    587\u001b[0m                        **fit_params):\n\u001b[0;32m    588\u001b[0m     \u001b[1;32mif\u001b[0m \u001b[0mhasattr\u001b[0m\u001b[1;33m(\u001b[0m\u001b[0mtransformer\u001b[0m\u001b[1;33m,\u001b[0m \u001b[1;34m'fit_transform'\u001b[0m\u001b[1;33m)\u001b[0m\u001b[1;33m:\u001b[0m\u001b[1;33m\u001b[0m\u001b[0m\n\u001b[1;32m--> 589\u001b[1;33m         \u001b[0mres\u001b[0m \u001b[1;33m=\u001b[0m \u001b[0mtransformer\u001b[0m\u001b[1;33m.\u001b[0m\u001b[0mfit_transform\u001b[0m\u001b[1;33m(\u001b[0m\u001b[0mX\u001b[0m\u001b[1;33m,\u001b[0m \u001b[0my\u001b[0m\u001b[1;33m,\u001b[0m \u001b[1;33m**\u001b[0m\u001b[0mfit_params\u001b[0m\u001b[1;33m)\u001b[0m\u001b[1;33m\u001b[0m\u001b[0m\n\u001b[0m\u001b[0;32m    590\u001b[0m     \u001b[1;32melse\u001b[0m\u001b[1;33m:\u001b[0m\u001b[1;33m\u001b[0m\u001b[0m\n\u001b[0;32m    591\u001b[0m         \u001b[0mres\u001b[0m \u001b[1;33m=\u001b[0m \u001b[0mtransformer\u001b[0m\u001b[1;33m.\u001b[0m\u001b[0mfit\u001b[0m\u001b[1;33m(\u001b[0m\u001b[0mX\u001b[0m\u001b[1;33m,\u001b[0m \u001b[0my\u001b[0m\u001b[1;33m,\u001b[0m \u001b[1;33m**\u001b[0m\u001b[0mfit_params\u001b[0m\u001b[1;33m)\u001b[0m\u001b[1;33m.\u001b[0m\u001b[0mtransform\u001b[0m\u001b[1;33m(\u001b[0m\u001b[0mX\u001b[0m\u001b[1;33m)\u001b[0m\u001b[1;33m\u001b[0m\u001b[0m\n",
      "\u001b[1;32mC:\\ProgramData\\Anaconda3\\lib\\site-packages\\sklearn\\base.py\u001b[0m in \u001b[0;36mfit_transform\u001b[1;34m(self, X, y, **fit_params)\u001b[0m\n\u001b[0;32m    519\u001b[0m         \u001b[1;32melse\u001b[0m\u001b[1;33m:\u001b[0m\u001b[1;33m\u001b[0m\u001b[0m\n\u001b[0;32m    520\u001b[0m             \u001b[1;31m# fit method of arity 2 (supervised transformation)\u001b[0m\u001b[1;33m\u001b[0m\u001b[1;33m\u001b[0m\u001b[0m\n\u001b[1;32m--> 521\u001b[1;33m             \u001b[1;32mreturn\u001b[0m \u001b[0mself\u001b[0m\u001b[1;33m.\u001b[0m\u001b[0mfit\u001b[0m\u001b[1;33m(\u001b[0m\u001b[0mX\u001b[0m\u001b[1;33m,\u001b[0m \u001b[0my\u001b[0m\u001b[1;33m,\u001b[0m \u001b[1;33m**\u001b[0m\u001b[0mfit_params\u001b[0m\u001b[1;33m)\u001b[0m\u001b[1;33m.\u001b[0m\u001b[0mtransform\u001b[0m\u001b[1;33m(\u001b[0m\u001b[0mX\u001b[0m\u001b[1;33m)\u001b[0m\u001b[1;33m\u001b[0m\u001b[0m\n\u001b[0m\u001b[0;32m    522\u001b[0m \u001b[1;33m\u001b[0m\u001b[0m\n\u001b[0;32m    523\u001b[0m \u001b[1;33m\u001b[0m\u001b[0m\n",
      "\u001b[1;32mC:\\ProgramData\\Anaconda3\\lib\\site-packages\\sklearn\\feature_selection\\univariate_selection.py\u001b[0m in \u001b[0;36mfit\u001b[1;34m(self, X, y)\u001b[0m\n\u001b[0;32m    339\u001b[0m             \u001b[0mReturns\u001b[0m \u001b[0mself\u001b[0m\u001b[1;33m.\u001b[0m\u001b[1;33m\u001b[0m\u001b[0m\n\u001b[0;32m    340\u001b[0m         \"\"\"\n\u001b[1;32m--> 341\u001b[1;33m         \u001b[0mX\u001b[0m\u001b[1;33m,\u001b[0m \u001b[0my\u001b[0m \u001b[1;33m=\u001b[0m \u001b[0mcheck_X_y\u001b[0m\u001b[1;33m(\u001b[0m\u001b[0mX\u001b[0m\u001b[1;33m,\u001b[0m \u001b[0my\u001b[0m\u001b[1;33m,\u001b[0m \u001b[1;33m[\u001b[0m\u001b[1;34m'csr'\u001b[0m\u001b[1;33m,\u001b[0m \u001b[1;34m'csc'\u001b[0m\u001b[1;33m]\u001b[0m\u001b[1;33m,\u001b[0m \u001b[0mmulti_output\u001b[0m\u001b[1;33m=\u001b[0m\u001b[1;32mTrue\u001b[0m\u001b[1;33m)\u001b[0m\u001b[1;33m\u001b[0m\u001b[0m\n\u001b[0m\u001b[0;32m    342\u001b[0m \u001b[1;33m\u001b[0m\u001b[0m\n\u001b[0;32m    343\u001b[0m         \u001b[1;32mif\u001b[0m \u001b[1;32mnot\u001b[0m \u001b[0mcallable\u001b[0m\u001b[1;33m(\u001b[0m\u001b[0mself\u001b[0m\u001b[1;33m.\u001b[0m\u001b[0mscore_func\u001b[0m\u001b[1;33m)\u001b[0m\u001b[1;33m:\u001b[0m\u001b[1;33m\u001b[0m\u001b[0m\n",
      "\u001b[1;32mC:\\ProgramData\\Anaconda3\\lib\\site-packages\\sklearn\\utils\\validation.py\u001b[0m in \u001b[0;36mcheck_X_y\u001b[1;34m(X, y, accept_sparse, dtype, order, copy, force_all_finite, ensure_2d, allow_nd, multi_output, ensure_min_samples, ensure_min_features, y_numeric, warn_on_dtype, estimator)\u001b[0m\n\u001b[0;32m    540\u001b[0m     X = check_array(X, accept_sparse, dtype, order, copy, force_all_finite,\n\u001b[0;32m    541\u001b[0m                     \u001b[0mensure_2d\u001b[0m\u001b[1;33m,\u001b[0m \u001b[0mallow_nd\u001b[0m\u001b[1;33m,\u001b[0m \u001b[0mensure_min_samples\u001b[0m\u001b[1;33m,\u001b[0m\u001b[1;33m\u001b[0m\u001b[0m\n\u001b[1;32m--> 542\u001b[1;33m                     ensure_min_features, warn_on_dtype, estimator)\n\u001b[0m\u001b[0;32m    543\u001b[0m     \u001b[1;32mif\u001b[0m \u001b[0mmulti_output\u001b[0m\u001b[1;33m:\u001b[0m\u001b[1;33m\u001b[0m\u001b[0m\n\u001b[0;32m    544\u001b[0m         y = check_array(y, 'csr', force_all_finite=True, ensure_2d=False,\n",
      "\u001b[1;32mC:\\ProgramData\\Anaconda3\\lib\\site-packages\\sklearn\\utils\\validation.py\u001b[0m in \u001b[0;36mcheck_array\u001b[1;34m(array, accept_sparse, dtype, order, copy, force_all_finite, ensure_2d, allow_nd, ensure_min_samples, ensure_min_features, warn_on_dtype, estimator)\u001b[0m\n\u001b[0;32m    420\u001b[0m                              % (array.ndim, estimator_name))\n\u001b[0;32m    421\u001b[0m         \u001b[1;32mif\u001b[0m \u001b[0mforce_all_finite\u001b[0m\u001b[1;33m:\u001b[0m\u001b[1;33m\u001b[0m\u001b[0m\n\u001b[1;32m--> 422\u001b[1;33m             \u001b[0m_assert_all_finite\u001b[0m\u001b[1;33m(\u001b[0m\u001b[0marray\u001b[0m\u001b[1;33m)\u001b[0m\u001b[1;33m\u001b[0m\u001b[0m\n\u001b[0m\u001b[0;32m    423\u001b[0m \u001b[1;33m\u001b[0m\u001b[0m\n\u001b[0;32m    424\u001b[0m     \u001b[0mshape_repr\u001b[0m \u001b[1;33m=\u001b[0m \u001b[0m_shape_repr\u001b[0m\u001b[1;33m(\u001b[0m\u001b[0marray\u001b[0m\u001b[1;33m.\u001b[0m\u001b[0mshape\u001b[0m\u001b[1;33m)\u001b[0m\u001b[1;33m\u001b[0m\u001b[0m\n",
      "\u001b[1;32mC:\\ProgramData\\Anaconda3\\lib\\site-packages\\sklearn\\utils\\validation.py\u001b[0m in \u001b[0;36m_assert_all_finite\u001b[1;34m(X)\u001b[0m\n\u001b[0;32m     41\u001b[0m             and not np.isfinite(X).all()):\n\u001b[0;32m     42\u001b[0m         raise ValueError(\"Input contains NaN, infinity\"\n\u001b[1;32m---> 43\u001b[1;33m                          \" or a value too large for %r.\" % X.dtype)\n\u001b[0m\u001b[0;32m     44\u001b[0m \u001b[1;33m\u001b[0m\u001b[0m\n\u001b[0;32m     45\u001b[0m \u001b[1;33m\u001b[0m\u001b[0m\n",
      "\u001b[1;31mValueError\u001b[0m: Input contains NaN, infinity or a value too large for dtype('float64')."
     ]
    }
   ],
   "source": [
    "# Not using MultinomialNaiveBayes, because sampled data has negative components. NaiveBayes expects frequencies in the positive\n",
    "selector = SelectKBest(f_classif, k='all')\n",
    "results = []\n",
    "model_name = []\n",
    "\n",
    "for clf, name in (\n",
    "        (RidgeClassifier(tol=1e-2, solver=\"lsqr\"), \"Ridge Classifier\"),\n",
    "        (Perceptron(n_iter=50), \"Perceptron\"),\n",
    "        (PassiveAggressiveClassifier(n_iter=50), \"Passive-Aggressive\"),\n",
    "        (KNeighborsClassifier(n_neighbors=5), \"kNN\"),\n",
    "        (RandomForestClassifier(n_estimators=100), \"Random forest\")):\n",
    "    selector_clf = benchmark(Pipeline([('selector', selector),('classifier', clf)]))\n",
    "    print('=' * 80)\n",
    "    print(name)\n",
    "    results.append(benchmark(clf))\n",
    "    model_name.append(name)\n",
    "    #model.append(clf)\n",
    "    \n",
    "for penalty in [\"l2\", \"l1\"]:\n",
    "    print('=' * 80)\n",
    "    print(\"%s penalty\" % penalty.upper())\n",
    "    # Train Liblinear model\n",
    "    results.append(benchmark(LinearSVC(loss='l2', penalty=penalty,dual=False, tol=1e-3)))\n",
    "    model_name.append(\"LinearSVC\"+\" \"+penalty)\n",
    "\n",
    "    # Train SGD model\n",
    "    results.append(benchmark(SGDClassifier(alpha=.0001, n_iter=50,penalty=penalty)))\n",
    "    model_name.append(\"SGDClassifier\"+\" \"+penalty)\n",
    "\n",
    "\n",
    "# Train SGD with Elastic Net penalty\n",
    "print('=' * 80)\n",
    "print(\"Elastic-Net penalty\")\n",
    "results.append(benchmark(SGDClassifier(alpha=.0001, n_iter=50,penalty=\"elasticnet\")))\n",
    "model_name.append(\"SGD with Elastic Net penalty\")\n",
    "\n",
    "\n",
    "# Train NearestCentroid without threshold\n",
    "print('=' * 80)\n",
    "print(\"NearestCentroid (aka Rocchio classifier)\")\n",
    "results.append(benchmark(NearestCentroid()))\n",
    "model_name.append(\"NearestCentroid (aka Rocchio classifier)\")\n"
   ]
  },
  {
   "cell_type": "markdown",
   "metadata": {},
   "source": [
    "# Define Neural Network model"
   ]
  },
  {
   "cell_type": "code",
   "execution_count": 131,
   "metadata": {
    "collapsed": true
   },
   "outputs": [],
   "source": [
    "def mlp_model(layers, units, dropout_rate, input_shape):\n",
    "    \"\"\"Creates an instance of a multi-layer perceptron model.\n",
    "\n",
    "    # Arguments\n",
    "        layers: int, number of `Dense` layers in the model.\n",
    "        units: int, output dimension of the layers.\n",
    "        dropout_rate: float, percentage of input to drop at Dropout layers.\n",
    "        input_shape: tuple, shape of input to the model.\n",
    "\n",
    "    # Returns\n",
    "        An MLP model instance.\n",
    "    \"\"\"\n",
    "    model = models.Sequential()\n",
    "    model.add(Dropout(rate=dropout_rate, input_shape=input_shape))\n",
    "\n",
    "    for _ in range(layers-1):\n",
    "        model.add(Dense(units=units, activation='relu'))\n",
    "        model.add(Dropout(rate=dropout_rate))\n",
    "\n",
    "    model.add(Dense(units=1, activation='sigmoid'))\n",
    "    return model"
   ]
  },
  {
   "cell_type": "markdown",
   "metadata": {},
   "source": [
    "# Compile Model"
   ]
  },
  {
   "cell_type": "code",
   "execution_count": 132,
   "metadata": {},
   "outputs": [
    {
     "name": "stdout",
     "output_type": "stream",
     "text": [
      "_________________________________________________________________\n",
      "Layer (type)                 Output Shape              Param #   \n",
      "=================================================================\n",
      "dropout_6 (Dropout)          (None, 100)               0         \n",
      "_________________________________________________________________\n",
      "dense_6 (Dense)              (None, 64)                6464      \n",
      "_________________________________________________________________\n",
      "dropout_7 (Dropout)          (None, 64)                0         \n",
      "_________________________________________________________________\n",
      "dense_7 (Dense)              (None, 1)                 65        \n",
      "=================================================================\n",
      "Total params: 6,529\n",
      "Trainable params: 6,529\n",
      "Non-trainable params: 0\n",
      "_________________________________________________________________\n"
     ]
    }
   ],
   "source": [
    "learning_rate=1e-3\n",
    "epochs=100\n",
    "batch_size=128\n",
    "layers=2\n",
    "units=64\n",
    "dropout_rate=0.2\n",
    "model = mlp_model(layers=layers,units=units,dropout_rate=dropout_rate,input_shape=X_train.shape[1:])\n",
    "optimizer = tf.keras.optimizers.Adam(lr=learning_rate)\n",
    "model.compile(optimizer=optimizer, loss='binary_crossentropy', metrics=['acc'])\n",
    "callbacks = [tf.keras.callbacks.EarlyStopping(monitor='val_loss', patience=3)]\n",
    "model.summary()"
   ]
  },
  {
   "cell_type": "markdown",
   "metadata": {},
   "source": [
    "# Train model and store results in array"
   ]
  },
  {
   "cell_type": "code",
   "execution_count": 133,
   "metadata": {},
   "outputs": [
    {
     "name": "stdout",
     "output_type": "stream",
     "text": [
      "================================================================================\n",
      "Keras Dense Neural Network\n",
      "________________________________________________________________________________\n",
      "Training: \n",
      "1600\n",
      "model name:<tensorflow.python.keras.engine.sequential.Sequential object at 0x0000000022399EB8>\n",
      "Train on 1600 samples, validate on 400 samples\n",
      "Epoch 1/100\n",
      " - 0s - loss: 0.4915 - acc: 0.7663 - val_loss: 0.2513 - val_acc: 0.9300\n",
      "Epoch 2/100\n",
      " - 0s - loss: 0.2616 - acc: 0.9013 - val_loss: 0.1171 - val_acc: 1.0000\n",
      "Epoch 3/100\n",
      " - 0s - loss: 0.1600 - acc: 0.9588 - val_loss: 0.0636 - val_acc: 1.0000\n",
      "Epoch 4/100\n",
      " - 0s - loss: 0.1216 - acc: 0.9669 - val_loss: 0.0400 - val_acc: 1.0000\n",
      "Epoch 5/100\n",
      " - 0s - loss: 0.0999 - acc: 0.9719 - val_loss: 0.0280 - val_acc: 1.0000\n",
      "Epoch 6/100\n",
      " - 0s - loss: 0.0766 - acc: 0.9831 - val_loss: 0.0208 - val_acc: 1.0000\n",
      "Epoch 7/100\n",
      " - 0s - loss: 0.0673 - acc: 0.9850 - val_loss: 0.0162 - val_acc: 1.0000\n",
      "Epoch 8/100\n",
      " - 0s - loss: 0.0588 - acc: 0.9881 - val_loss: 0.0130 - val_acc: 1.0000\n",
      "Epoch 9/100\n",
      " - 0s - loss: 0.0492 - acc: 0.9912 - val_loss: 0.0107 - val_acc: 1.0000\n",
      "Epoch 10/100\n",
      " - 0s - loss: 0.0456 - acc: 0.9925 - val_loss: 0.0089 - val_acc: 1.0000\n",
      "Epoch 11/100\n",
      " - 0s - loss: 0.0472 - acc: 0.9856 - val_loss: 0.0074 - val_acc: 1.0000\n",
      "Epoch 12/100\n",
      " - 0s - loss: 0.0459 - acc: 0.9894 - val_loss: 0.0063 - val_acc: 1.0000\n",
      "Epoch 13/100\n",
      " - 0s - loss: 0.0449 - acc: 0.9887 - val_loss: 0.0054 - val_acc: 1.0000\n",
      "Epoch 14/100\n",
      " - 0s - loss: 0.0392 - acc: 0.9900 - val_loss: 0.0046 - val_acc: 1.0000\n",
      "Epoch 15/100\n",
      " - 0s - loss: 0.0388 - acc: 0.9881 - val_loss: 0.0040 - val_acc: 1.0000\n",
      "Epoch 16/100\n",
      " - 0s - loss: 0.0327 - acc: 0.9931 - val_loss: 0.0035 - val_acc: 1.0000\n",
      "Epoch 17/100\n",
      " - 0s - loss: 0.0329 - acc: 0.9906 - val_loss: 0.0031 - val_acc: 1.0000\n",
      "Epoch 18/100\n",
      " - 0s - loss: 0.0325 - acc: 0.9912 - val_loss: 0.0028 - val_acc: 1.0000\n",
      "Epoch 19/100\n",
      " - 0s - loss: 0.0263 - acc: 0.9931 - val_loss: 0.0024 - val_acc: 1.0000\n",
      "Epoch 20/100\n",
      " - 0s - loss: 0.0244 - acc: 0.9950 - val_loss: 0.0022 - val_acc: 1.0000\n",
      "Epoch 21/100\n",
      " - 0s - loss: 0.0239 - acc: 0.9950 - val_loss: 0.0019 - val_acc: 1.0000\n",
      "Epoch 22/100\n",
      " - 0s - loss: 0.0237 - acc: 0.9962 - val_loss: 0.0017 - val_acc: 1.0000\n",
      "Epoch 23/100\n",
      " - 0s - loss: 0.0311 - acc: 0.9887 - val_loss: 0.0016 - val_acc: 1.0000\n",
      "Epoch 24/100\n",
      " - 0s - loss: 0.0211 - acc: 0.9950 - val_loss: 0.0014 - val_acc: 1.0000\n",
      "Epoch 25/100\n",
      " - 0s - loss: 0.0241 - acc: 0.9931 - val_loss: 0.0013 - val_acc: 1.0000\n",
      "Epoch 26/100\n",
      " - 0s - loss: 0.0224 - acc: 0.9937 - val_loss: 0.0012 - val_acc: 1.0000\n",
      "Epoch 27/100\n",
      " - 0s - loss: 0.0294 - acc: 0.9912 - val_loss: 0.0011 - val_acc: 1.0000\n",
      "Epoch 28/100\n",
      " - 0s - loss: 0.0239 - acc: 0.9944 - val_loss: 9.8445e-04 - val_acc: 1.0000\n",
      "Epoch 29/100\n",
      " - 0s - loss: 0.0205 - acc: 0.9931 - val_loss: 9.0983e-04 - val_acc: 1.0000\n",
      "Epoch 30/100\n",
      " - 0s - loss: 0.0221 - acc: 0.9944 - val_loss: 8.3782e-04 - val_acc: 1.0000\n",
      "Epoch 31/100\n",
      " - 0s - loss: 0.0156 - acc: 0.9956 - val_loss: 7.6648e-04 - val_acc: 1.0000\n",
      "Epoch 32/100\n",
      " - 0s - loss: 0.0177 - acc: 0.9969 - val_loss: 6.9282e-04 - val_acc: 1.0000\n",
      "Epoch 33/100\n",
      " - 0s - loss: 0.0208 - acc: 0.9931 - val_loss: 6.4878e-04 - val_acc: 1.0000\n",
      "Epoch 34/100\n",
      " - 0s - loss: 0.0241 - acc: 0.9919 - val_loss: 5.9105e-04 - val_acc: 1.0000\n",
      "Epoch 35/100\n",
      " - 0s - loss: 0.0209 - acc: 0.9937 - val_loss: 5.4004e-04 - val_acc: 1.0000\n",
      "Epoch 36/100\n",
      " - 0s - loss: 0.0218 - acc: 0.9925 - val_loss: 4.9881e-04 - val_acc: 1.0000\n",
      "Epoch 37/100\n",
      " - 0s - loss: 0.0164 - acc: 0.9956 - val_loss: 4.6236e-04 - val_acc: 1.0000\n",
      "Epoch 38/100\n",
      " - 0s - loss: 0.0192 - acc: 0.9944 - val_loss: 4.2791e-04 - val_acc: 1.0000\n",
      "Epoch 39/100\n",
      " - 0s - loss: 0.0186 - acc: 0.9937 - val_loss: 3.9309e-04 - val_acc: 1.0000\n",
      "Epoch 40/100\n",
      " - 0s - loss: 0.0179 - acc: 0.9950 - val_loss: 3.7093e-04 - val_acc: 1.0000\n",
      "Epoch 41/100\n",
      " - 0s - loss: 0.0111 - acc: 0.9969 - val_loss: 3.4759e-04 - val_acc: 1.0000\n",
      "Epoch 42/100\n",
      " - 0s - loss: 0.0161 - acc: 0.9962 - val_loss: 3.2108e-04 - val_acc: 1.0000\n",
      "Epoch 43/100\n",
      " - 0s - loss: 0.0189 - acc: 0.9944 - val_loss: 2.9912e-04 - val_acc: 1.0000\n",
      "Epoch 44/100\n",
      " - 0s - loss: 0.0184 - acc: 0.9956 - val_loss: 2.8096e-04 - val_acc: 1.0000\n",
      "Epoch 45/100\n",
      " - 0s - loss: 0.0193 - acc: 0.9925 - val_loss: 2.6436e-04 - val_acc: 1.0000\n",
      "Epoch 46/100\n",
      " - 0s - loss: 0.0169 - acc: 0.9956 - val_loss: 2.4775e-04 - val_acc: 1.0000\n",
      "Epoch 47/100\n",
      " - 0s - loss: 0.0188 - acc: 0.9944 - val_loss: 2.3052e-04 - val_acc: 1.0000\n",
      "Epoch 48/100\n",
      " - 0s - loss: 0.0154 - acc: 0.9956 - val_loss: 2.1639e-04 - val_acc: 1.0000\n",
      "Epoch 49/100\n",
      " - 0s - loss: 0.0193 - acc: 0.9925 - val_loss: 2.0540e-04 - val_acc: 1.0000\n",
      "Epoch 50/100\n",
      " - 0s - loss: 0.0192 - acc: 0.9931 - val_loss: 1.9803e-04 - val_acc: 1.0000\n",
      "Epoch 51/100\n",
      " - 0s - loss: 0.0106 - acc: 0.9975 - val_loss: 1.9025e-04 - val_acc: 1.0000\n",
      "Epoch 52/100\n",
      " - 0s - loss: 0.0124 - acc: 0.9975 - val_loss: 1.7903e-04 - val_acc: 1.0000\n",
      "Epoch 53/100\n",
      " - 0s - loss: 0.0151 - acc: 0.9956 - val_loss: 1.7046e-04 - val_acc: 1.0000\n",
      "Epoch 54/100\n",
      " - 0s - loss: 0.0142 - acc: 0.9969 - val_loss: 1.6277e-04 - val_acc: 1.0000\n",
      "Epoch 55/100\n",
      " - 0s - loss: 0.0115 - acc: 0.9975 - val_loss: 1.5143e-04 - val_acc: 1.0000\n",
      "Epoch 56/100\n",
      " - 0s - loss: 0.0117 - acc: 0.9962 - val_loss: 1.4492e-04 - val_acc: 1.0000\n",
      "Epoch 57/100\n",
      " - 0s - loss: 0.0150 - acc: 0.9950 - val_loss: 1.3266e-04 - val_acc: 1.0000\n",
      "Epoch 58/100\n",
      " - 0s - loss: 0.0116 - acc: 0.9975 - val_loss: 1.2467e-04 - val_acc: 1.0000\n",
      "Epoch 59/100\n",
      " - 0s - loss: 0.0103 - acc: 0.9969 - val_loss: 1.2005e-04 - val_acc: 1.0000\n",
      "Epoch 60/100\n",
      " - 0s - loss: 0.0142 - acc: 0.9950 - val_loss: 1.1489e-04 - val_acc: 1.0000\n",
      "Epoch 61/100\n",
      " - 0s - loss: 0.0121 - acc: 0.9975 - val_loss: 1.0768e-04 - val_acc: 1.0000\n",
      "Epoch 62/100\n",
      " - 0s - loss: 0.0128 - acc: 0.9944 - val_loss: 1.0185e-04 - val_acc: 1.0000\n",
      "Epoch 63/100\n",
      " - 0s - loss: 0.0114 - acc: 0.9981 - val_loss: 9.7860e-05 - val_acc: 1.0000\n",
      "Epoch 64/100\n",
      " - 0s - loss: 0.0116 - acc: 0.9969 - val_loss: 9.4904e-05 - val_acc: 1.0000\n",
      "Epoch 65/100\n",
      " - 0s - loss: 0.0105 - acc: 0.9956 - val_loss: 9.0764e-05 - val_acc: 1.0000\n",
      "Epoch 66/100\n",
      " - 0s - loss: 0.0119 - acc: 0.9975 - val_loss: 8.6251e-05 - val_acc: 1.0000\n",
      "Epoch 67/100\n",
      " - 0s - loss: 0.0098 - acc: 0.9969 - val_loss: 8.1741e-05 - val_acc: 1.0000\n",
      "Epoch 68/100\n",
      " - 0s - loss: 0.0099 - acc: 0.9981 - val_loss: 7.7499e-05 - val_acc: 1.0000\n",
      "Epoch 69/100\n",
      " - 0s - loss: 0.0121 - acc: 0.9944 - val_loss: 7.2678e-05 - val_acc: 1.0000\n",
      "Epoch 70/100\n",
      " - 0s - loss: 0.0132 - acc: 0.9962 - val_loss: 6.7950e-05 - val_acc: 1.0000\n",
      "Epoch 71/100\n",
      " - 0s - loss: 0.0172 - acc: 0.9956 - val_loss: 6.4784e-05 - val_acc: 1.0000\n",
      "Epoch 72/100\n",
      " - 0s - loss: 0.0100 - acc: 0.9950 - val_loss: 6.3878e-05 - val_acc: 1.0000\n",
      "Epoch 73/100\n",
      " - 0s - loss: 0.0131 - acc: 0.9956 - val_loss: 6.5225e-05 - val_acc: 1.0000\n",
      "Epoch 74/100\n",
      " - 0s - loss: 0.0105 - acc: 0.9975 - val_loss: 6.2932e-05 - val_acc: 1.0000\n",
      "Epoch 75/100\n",
      " - 0s - loss: 0.0139 - acc: 0.9956 - val_loss: 6.0053e-05 - val_acc: 1.0000\n",
      "Epoch 76/100\n",
      " - 0s - loss: 0.0098 - acc: 0.9987 - val_loss: 5.6902e-05 - val_acc: 1.0000\n",
      "Epoch 77/100\n",
      " - 0s - loss: 0.0077 - acc: 0.9975 - val_loss: 5.4529e-05 - val_acc: 1.0000\n",
      "Epoch 78/100\n",
      " - 0s - loss: 0.0100 - acc: 0.9969 - val_loss: 5.3385e-05 - val_acc: 1.0000\n",
      "Epoch 79/100\n",
      " - 0s - loss: 0.0116 - acc: 0.9962 - val_loss: 5.1562e-05 - val_acc: 1.0000\n",
      "Epoch 80/100\n",
      " - 0s - loss: 0.0116 - acc: 0.9962 - val_loss: 4.8007e-05 - val_acc: 1.0000\n",
      "Epoch 81/100\n",
      " - 0s - loss: 0.0093 - acc: 0.9975 - val_loss: 4.6311e-05 - val_acc: 1.0000\n",
      "Epoch 82/100\n",
      " - 0s - loss: 0.0099 - acc: 0.9975 - val_loss: 4.3634e-05 - val_acc: 1.0000\n",
      "Epoch 83/100\n",
      " - 0s - loss: 0.0065 - acc: 0.9994 - val_loss: 4.0440e-05 - val_acc: 1.0000\n",
      "Epoch 84/100\n",
      " - 0s - loss: 0.0078 - acc: 0.9975 - val_loss: 3.8214e-05 - val_acc: 1.0000\n",
      "Epoch 85/100\n",
      " - 0s - loss: 0.0085 - acc: 0.9969 - val_loss: 3.9281e-05 - val_acc: 1.0000\n",
      "Epoch 86/100\n",
      " - 0s - loss: 0.0130 - acc: 0.9944 - val_loss: 3.7281e-05 - val_acc: 1.0000\n",
      "Epoch 87/100\n",
      " - 0s - loss: 0.0087 - acc: 0.9975 - val_loss: 3.6235e-05 - val_acc: 1.0000\n",
      "Epoch 88/100\n",
      " - 0s - loss: 0.0075 - acc: 0.9981 - val_loss: 3.6548e-05 - val_acc: 1.0000\n",
      "Epoch 89/100\n",
      " - 0s - loss: 0.0091 - acc: 0.9956 - val_loss: 3.6981e-05 - val_acc: 1.0000\n",
      "Epoch 90/100\n",
      " - 0s - loss: 0.0141 - acc: 0.9950 - val_loss: 3.4931e-05 - val_acc: 1.0000\n"
     ]
    },
    {
     "name": "stdout",
     "output_type": "stream",
     "text": [
      "Epoch 91/100\n",
      " - 0s - loss: 0.0082 - acc: 0.9981 - val_loss: 3.3522e-05 - val_acc: 1.0000\n",
      "Epoch 92/100\n",
      " - 0s - loss: 0.0090 - acc: 0.9981 - val_loss: 3.2046e-05 - val_acc: 1.0000\n",
      "Epoch 93/100\n",
      " - 0s - loss: 0.0080 - acc: 0.9987 - val_loss: 3.1741e-05 - val_acc: 1.0000\n",
      "Epoch 94/100\n",
      " - 0s - loss: 0.0082 - acc: 0.9975 - val_loss: 3.0981e-05 - val_acc: 1.0000\n",
      "Epoch 95/100\n",
      " - 0s - loss: 0.0095 - acc: 0.9975 - val_loss: 2.9599e-05 - val_acc: 1.0000\n",
      "Epoch 96/100\n",
      " - 0s - loss: 0.0114 - acc: 0.9944 - val_loss: 2.7777e-05 - val_acc: 1.0000\n",
      "Epoch 97/100\n",
      " - 0s - loss: 0.0096 - acc: 0.9975 - val_loss: 2.8165e-05 - val_acc: 1.0000\n",
      "Epoch 98/100\n",
      " - 0s - loss: 0.0119 - acc: 0.9969 - val_loss: 2.7837e-05 - val_acc: 1.0000\n",
      "Epoch 99/100\n",
      " - 0s - loss: 0.0085 - acc: 0.9975 - val_loss: 2.7558e-05 - val_acc: 1.0000\n",
      "Epoch 100/100\n",
      " - 0s - loss: 0.0098 - acc: 0.9981 - val_loss: 2.8413e-05 - val_acc: 1.0000\n",
      "train time: 684615.000s\n",
      "f1_score:   1.000\n",
      "f1_score_train:   1.000\n",
      "classification report:\n",
      "             precision    recall  f1-score   support\n",
      "\n",
      "          0       1.00      1.00      1.00       339\n",
      "          1       1.00      1.00      1.00        61\n",
      "\n",
      "avg / total       1.00      1.00      1.00       400\n",
      "\n",
      "confusion matrix:\n",
      "[[339   0]\n",
      " [  0  61]]\n"
     ]
    }
   ],
   "source": [
    "print('=' * 80)\n",
    "print(\"Keras Dense Neural Network\")\n",
    "results.append(benchmark(model))\n",
    "model_name.append(\"Keras Dense Neural Network\")"
   ]
  },
  {
   "cell_type": "code",
   "execution_count": 112,
   "metadata": {
    "collapsed": true
   },
   "outputs": [],
   "source": [
    "#import pickle\n",
    "#results_fileName='D:/Pepsico/results_microbial_1000.pkl'\n",
    "#with open(results_fileName, \"wb\") as f:\n",
    "#    w = pickle.dump(results,f)"
   ]
  },
  {
   "cell_type": "code",
   "execution_count": 113,
   "metadata": {
    "collapsed": true
   },
   "outputs": [],
   "source": [
    "#results_microbial=pd.read_pickle('D:/Pepsico/results_microbial_100.pkl')\n",
    "#results_chokeHazard=pd.read_pickle('D:/Pepsico/results_chokeHazard_100.pkl')\n",
    "#results_opAllergen=pd.read_pickle('D:/Pepsico/results_opAllergen_100.pkl')"
   ]
  },
  {
   "cell_type": "markdown",
   "metadata": {},
   "source": [
    "# Visualize the results from multiple Machine Learning Models (accuracy - train, accuracy - test, training time)"
   ]
  },
  {
   "cell_type": "code",
   "execution_count": 134,
   "metadata": {},
   "outputs": [
    {
     "data": {
      "image/png": "[encoded data removed]",
      "text/plain": [
       "<matplotlib.figure.Figure at 0x223c3240>"
      ]
     },
     "metadata": {},
     "output_type": "display_data"
    }
   ],
   "source": [
    "indices = np.arange(len(results))\n",
    "\n",
    "results = [[x[i] for x in results] for i in range(4)]\n",
    "\n",
    "clf_names, f1_score_train, f1_score_test, training_time = results\n",
    "\n",
    "training_time = np.array(training_time) / np.max(training_time)\n",
    "\n",
    "plt.figure(figsize=(12, 8))\n",
    "plt.title(\"Score\")\n",
    "plt.barh(indices, f1_score_train, .2, label=\"f1_score_train\", color='r')\n",
    "plt.barh(indices+0.3, f1_score_test, .2, label=\"f1_score_test\", color='b')\n",
    "plt.barh(indices + .6, training_time, .2, label=\"training time\", color='g')\n",
    "plt.yticks(())\n",
    "plt.legend(loc='best')\n",
    "plt.subplots_adjust(left=.25)\n",
    "plt.subplots_adjust(top=.95)\n",
    "plt.subplots_adjust(bottom=.05)\n",
    "\n",
    "for i, c in zip(indices, model_name):\n",
    "    plt.text(-.3, i, c)\n",
    "\n",
    "plt.show()"
   ]
  },
  {
   "cell_type": "markdown",
   "metadata": {},
   "source": [
    "# Store the best model and accuracy for a sample Size in array"
   ]
  },
  {
   "cell_type": "code",
   "execution_count": 115,
   "metadata": {},
   "outputs": [
    {
     "name": "stdout",
     "output_type": "stream",
     "text": [
      "3\n",
      "1.0\n",
      "kNN\n"
     ]
    }
   ],
   "source": [
    "#Sample Size 100\n",
    "index100=np.argmax(f1_score_test)\n",
    "print(index100)\n",
    "f1score100 = f1_score_test[index100]\n",
    "print(f1score100)\n",
    "print(model_name[index100])"
   ]
  },
  {
   "cell_type": "code",
   "execution_count": 86,
   "metadata": {},
   "outputs": [
    {
     "name": "stdout",
     "output_type": "stream",
     "text": [
      "1.0\n",
      "Ridge Classifier\n"
     ]
    }
   ],
   "source": [
    "#Sample Size 500\n",
    "index500=np.argmax(f1_score_test)\n",
    "f1score500 = f1_score_test[index500]\n",
    "print(f1score500)\n",
    "print(model_name[index500])"
   ]
  },
  {
   "cell_type": "code",
   "execution_count": 94,
   "metadata": {},
   "outputs": [
    {
     "name": "stdout",
     "output_type": "stream",
     "text": [
      "1.0\n",
      "kNN\n"
     ]
    }
   ],
   "source": [
    "#Sample Size 1000\n",
    "index1000=np.argmax(f1_score_test)\n",
    "f1score1000 = f1_score_test[index1000]\n",
    "print(f1score1000)\n",
    "print(model_name[index1000])"
   ]
  },
  {
   "cell_type": "code",
   "execution_count": 101,
   "metadata": {},
   "outputs": [
    {
     "name": "stdout",
     "output_type": "stream",
     "text": [
      "0.664440734557596\n",
      "kNN\n"
     ]
    }
   ],
   "source": [
    "#Sample Size 2000\n",
    "index2000=np.argmax(f1_score_test)\n",
    "f1score2000 = f1_score_test[index2000]\n",
    "print(f1score2000)\n",
    "print(model_name[index2000])"
   ]
  },
  {
   "cell_type": "markdown",
   "metadata": {},
   "source": [
    "# Plot the accuracy scores (F1-scores) of the best model vs sample Size"
   ]
  },
  {
   "cell_type": "code",
   "execution_count": 103,
   "metadata": {},
   "outputs": [
    {
     "data": {
      "image/png": "[encoded data removed]",
      "text/plain": [
       "<matplotlib.figure.Figure at 0x1b553160>"
      ]
     },
     "metadata": {},
     "output_type": "display_data"
    }
   ],
   "source": [
    "##Plotting the best model f1-scores\n",
    "\n",
    "import matplotlib.pyplot as plt\n",
    "plt.plot([100, 500, 1000, 2000],[f1score100,f1score500,f1score1000,f1score2000],marker=\"x\")\n",
    "plt.ylim(0,1)\n",
    "plt.ylabel('best model accuracy (F1-score)')\n",
    "plt.xlabel('Sample size')\n",
    "plt.show()"
   ]
  },
  {
   "cell_type": "markdown",
   "metadata": {
    "collapsed": true
   },
   "source": [
    "# Print the best Model names at various sample Sizes"
   ]
  },
  {
   "cell_type": "code",
   "execution_count": 104,
   "metadata": {},
   "outputs": [
    {
     "name": "stdout",
     "output_type": "stream",
     "text": [
      "Best classifier is:Ridge Classifier ||f1_score 0.4\n",
      "Best classifier is:Ridge Classifier ||f1_score 0.6754966887417219\n",
      "Best classifier is:Ridge Classifier ||f1_score 0.6013986013986015\n",
      "Best classifier is:kNN ||f1_score 0.664440734557596\n"
     ]
    }
   ],
   "source": [
    "print(\"Best classifier is:\"+model_name[index100],\"||f1_score\",f1score100)\n",
    "print(\"Best classifier is:\"+model_name[index500],\"||f1_score\",f1score500)\n",
    "print(\"Best classifier is:\"+model_name[index1000],\"||f1_score\",f1score1000)\n",
    "print(\"Best classifier is:\"+model_name[index2000],\"||f1_score\",f1score2000)"
   ]
  }
 ],
 "metadata": {
  "kernelspec": {
   "display_name": "Python 3",
   "language": "python",
   "name": "python3"
  },
  "language_info": {
   "codemirror_mode": {
    "name": "ipython",
    "version": 3
   },
   "file_extension": ".py",
   "mimetype": "text/x-python",
   "name": "python",
   "nbconvert_exporter": "python",
   "pygments_lexer": "ipython3",
   "version": "3.6.2"
  }
 },
 "nbformat": 4,
 "nbformat_minor": 2
}
