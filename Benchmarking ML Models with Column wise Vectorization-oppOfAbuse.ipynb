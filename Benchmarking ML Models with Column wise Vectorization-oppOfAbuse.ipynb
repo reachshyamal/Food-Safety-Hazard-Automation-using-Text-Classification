{
 "cells": [
  {
   "cell_type": "markdown",
   "metadata": {},
   "source": [
    "# This notebook reads text data from data extract created from FSHA Forms and runs predictive Models to predict the value 'Are there any opp of Abuse?' , based on the Input Data\n",
    "# It does vectorization of each Column and concatenates these Vectors to create a final Feature Vector and fits multiple ML Models, including Deep Learning model"
   ]
  },
  {
   "cell_type": "code",
   "execution_count": 1,
   "metadata": {},
   "outputs": [
    {
     "name": "stderr",
     "output_type": "stream",
     "text": [
      "C:\\ProgramData\\Anaconda3\\lib\\site-packages\\sklearn\\ensemble\\weight_boosting.py:29: DeprecationWarning: numpy.core.umath_tests is an internal NumPy module and should not be imported. It will be removed in a future NumPy release.\n",
      "  from numpy.core.umath_tests import inner1d\n",
      "C:\\ProgramData\\Anaconda3\\lib\\site-packages\\h5py\\__init__.py:34: FutureWarning: Conversion of the second argument of issubdtype from `float` to `np.floating` is deprecated. In future, it will be treated as `np.float64 == np.dtype(float).type`.\n",
      "  from ._conv import register_converters as _register_converters\n"
     ]
    }
   ],
   "source": [
    "#import all necessary modules\n",
    "from __future__ import print_function\n",
    "import logging\n",
    "from optparse import OptionParser\n",
    "import sys\n",
    "from time import time\n",
    "import matplotlib.pyplot as plt\n",
    "import os\n",
    "import nltk\n",
    "import string\n",
    "from nltk.stem.porter import PorterStemmer\n",
    "from nltk.tokenize import word_tokenize,sent_tokenize\n",
    "from nltk.tokenize import RegexpTokenizer\n",
    "import re\n",
    "import numpy as np\n",
    "from numpy import array\n",
    "from numpy import argmax\n",
    "from scipy import signal\n",
    "import random\n",
    "import string\n",
    "import pandas as pd\n",
    "from sklearn.model_selection import train_test_split \n",
    "from sklearn.pipeline import Pipeline\n",
    "from sklearn.feature_extraction.text import TfidfVectorizer\n",
    "from sklearn.feature_selection import SelectKBest, chi2\n",
    "from sklearn.preprocessing import LabelEncoder\n",
    "from sklearn.preprocessing import OneHotEncoder\n",
    "from sklearn.feature_selection import f_classif\n",
    "import matplotlib.pyplot as plt\n",
    "from sklearn.pipeline import Pipeline\n",
    "from sklearn.feature_extraction.text import CountVectorizer\n",
    "from sklearn.preprocessing import StandardScaler\n",
    "from sklearn.metrics import classification_report, confusion_matrix  \n",
    "from sklearn.linear_model import LogisticRegression\n",
    "from sklearn.linear_model import PassiveAggressiveClassifier\n",
    "from sklearn.svm import SVC \n",
    "from sklearn import svm\n",
    "from sklearn.svm import LinearSVC\n",
    "from sklearn.naive_bayes import MultinomialNB,BernoulliNB\n",
    "from sklearn.neighbors import KNeighborsClassifier\n",
    "from sklearn.neighbors import NearestCentroid\n",
    "from sklearn.linear_model import RidgeClassifier\n",
    "from sklearn.linear_model import SGDClassifier\n",
    "from sklearn import tree\n",
    "from sklearn.ensemble import RandomForestClassifier\n",
    "from sklearn import linear_model\n",
    "from sklearn.ensemble import AdaBoostClassifier\n",
    "from sklearn.linear_model import Perceptron\n",
    "from sklearn.neural_network import MLPClassifier\n",
    "from sklearn.utils.extmath import density\n",
    "from sklearn.decomposition import PCA\n",
    "from sklearn import metrics\n",
    "import tensorflow as tf\n",
    "from tensorflow.python.keras import models\n",
    "from tensorflow.python.keras import initializers\n",
    "from tensorflow.python.keras import regularizers\n",
    "from tensorflow.python.keras.layers import Dense\n",
    "from tensorflow.python.keras.layers import Dropout\n",
    "import warnings\n",
    "warnings.simplefilter('ignore')"
   ]
  },
  {
   "cell_type": "code",
   "execution_count": 51,
   "metadata": {},
   "outputs": [
    {
     "data": {
      "text/plain": [
       "'1.14.0'"
      ]
     },
     "execution_count": 51,
     "metadata": {},
     "output_type": "execute_result"
    }
   ],
   "source": [
    "tf.__version__"
   ]
  },
  {
   "cell_type": "code",
   "execution_count": 2,
   "metadata": {},
   "outputs": [
    {
     "name": "stdout",
     "output_type": "stream",
     "text": [
      "0.19.0\n"
     ]
    }
   ],
   "source": [
    "import sklearn\n",
    "print(sklearn.__version__)"
   ]
  },
  {
   "cell_type": "markdown",
   "metadata": {},
   "source": [
    "## File name and other important parameters like ngram_range set"
   ]
  },
  {
   "cell_type": "code",
   "execution_count": 56,
   "metadata": {
    "collapsed": true
   },
   "outputs": [],
   "source": [
    "#These parameters will be input from command line\n",
    "ngram_range_inp=(1,2)\n",
    "filename = \"C:/Pepsico/Base LCS Files Extract_28 Aug 2019_207Files.xlsm\""
   ]
  },
  {
   "cell_type": "code",
   "execution_count": 57,
   "metadata": {
    "collapsed": true
   },
   "outputs": [],
   "source": [
    "filename1 = \"C:/Pepsico/MLextracts_abuseByConsumer 08 26.xlsm\""
   ]
  },
  {
   "cell_type": "markdown",
   "metadata": {},
   "source": [
    "# Define reusable modular method for Text Normalization (removal of stopwords, changing to lower case, removal of punctuation etc) "
   ]
  },
  {
   "cell_type": "code",
   "execution_count": 59,
   "metadata": {
    "collapsed": true
   },
   "outputs": [],
   "source": [
    "import pandas as pd\n",
    "import numpy as np\n",
    "import nltk\n",
    "from nltk.tokenize.toktok import ToktokTokenizer\n",
    "import re\n",
    "from bs4 import BeautifulSoup\n",
    "import unicodedata\n",
    "\n",
    "tokenizer = ToktokTokenizer()\n",
    "stopword_list = nltk.corpus.stopwords.words('english')\n",
    "stopword_list.remove('no')\n",
    "stopword_list.remove('not')\n",
    "def strip_html_tags(text):\n",
    "    soup = BeautifulSoup(text, \"html.parser\")\n",
    "    stripped_text = soup.get_text()\n",
    "    return stripped_text\n",
    "def remove_accented_chars(text):\n",
    "    text = unicodedata.normalize('NFKD', text).encode('ascii', 'ignore').decode('utf-8', 'ignore')\n",
    "    return text\n",
    "\n",
    "def remove_special_characters(text):\n",
    "    text = re.sub('[^a-zA-z0-9\\s]', '', text)\n",
    "    return text\n",
    "\n",
    "def remove_stopwords(text, is_lower_case=False):\n",
    "    tokens = tokenizer.tokenize(text)\n",
    "    tokens = [token.strip() for token in tokens]\n",
    "    if is_lower_case:\n",
    "        filtered_tokens = [token for token in tokens if token not in stopword_list]\n",
    "    else:\n",
    "        filtered_tokens = [token for token in tokens if token.lower() not in stopword_list]\n",
    "    filtered_text = ' '.join(filtered_tokens)    \n",
    "    return filtered_text\n",
    "def normalize_corpus(corpus, html_stripping=True, contraction_expansion=True,\n",
    "                     accented_char_removal=True, text_lower_case=True, \n",
    "                     text_lemmatization=True, special_char_removal=True, \n",
    "                     stopword_removal=True):\n",
    "    \n",
    "    normalized_corpus = []\n",
    "    # normalize each document in the corpus\n",
    "    #corpus = str(corpus)\n",
    "    for doc in corpus:\n",
    "        # strip HTML\n",
    "        if html_stripping:\n",
    "            doc = strip_html_tags(doc)\n",
    "        # remove accented characters\n",
    "        if accented_char_removal:\n",
    "            doc = remove_accented_chars(doc)\n",
    "\n",
    "        # lowercase the text    \n",
    "        if text_lower_case:\n",
    "            doc = doc.lower()\n",
    "        # remove extra newlines\n",
    "        doc = re.sub(r'[\\r|\\n|\\r\\n]+', ' ',doc)\n",
    "        # insert spaces between special characters to isolate them    \n",
    "        special_char_pattern = re.compile(r'([{.(-)!}])')\n",
    "        doc = special_char_pattern.sub(\" \\\\1 \", doc)\n",
    "        # remove special characters    \n",
    "        if special_char_removal:\n",
    "            doc = remove_special_characters(doc)  \n",
    "        # remove extra whitespace\n",
    "        doc = re.sub(' +', ' ', doc)\n",
    "        # remove stopwords\n",
    "        if stopword_removal:\n",
    "            doc = remove_stopwords(doc, is_lower_case=text_lower_case)\n",
    "            \n",
    "        normalized_corpus.append(doc)\n",
    "        \n",
    "    return normalized_corpus"
   ]
  },
  {
   "cell_type": "markdown",
   "metadata": {},
   "source": [
    "# Read the data extract file (tabular format with Input data(X) and target(Y))"
   ]
  },
  {
   "cell_type": "code",
   "execution_count": 7,
   "metadata": {
    "collapsed": true
   },
   "outputs": [],
   "source": [
    "fsha_data = pd.read_excel(filename)"
   ]
  },
  {
   "cell_type": "code",
   "execution_count": 8,
   "metadata": {},
   "outputs": [
    {
     "data": {
      "text/plain": [
       "207"
      ]
     },
     "execution_count": 8,
     "metadata": {},
     "output_type": "execute_result"
    }
   ],
   "source": [
    "len(fsha_data)"
   ]
  },
  {
   "cell_type": "code",
   "execution_count": 12,
   "metadata": {},
   "outputs": [],
   "source": [
    "fsha_data = fsha_data[(fsha_data['abuseByConsumer']=='No')]"
   ]
  },
  {
   "cell_type": "code",
   "execution_count": 13,
   "metadata": {},
   "outputs": [
    {
     "data": {
      "text/plain": [
       "204"
      ]
     },
     "execution_count": 13,
     "metadata": {},
     "output_type": "execute_result"
    }
   ],
   "source": [
    "len(fsha_data)"
   ]
  },
  {
   "cell_type": "code",
   "execution_count": 14,
   "metadata": {
    "collapsed": true
   },
   "outputs": [],
   "source": [
    "fsha_data_yes = pd.read_excel(filename1)"
   ]
  },
  {
   "cell_type": "code",
   "execution_count": 63,
   "metadata": {},
   "outputs": [
    {
     "data": {
      "text/plain": [
       "23"
      ]
     },
     "execution_count": 63,
     "metadata": {},
     "output_type": "execute_result"
    }
   ],
   "source": [
    "len(fsha_data_yes)"
   ]
  },
  {
   "cell_type": "code",
   "execution_count": 16,
   "metadata": {
    "collapsed": true
   },
   "outputs": [],
   "source": [
    "fsha_data = pd.concat([fsha_data,fsha_data_yes])"
   ]
  },
  {
   "cell_type": "code",
   "execution_count": 17,
   "metadata": {},
   "outputs": [
    {
     "data": {
      "text/plain": [
       "227"
      ]
     },
     "execution_count": 17,
     "metadata": {},
     "output_type": "execute_result"
    }
   ],
   "source": [
    "len(fsha_data)"
   ]
  },
  {
   "cell_type": "code",
   "execution_count": 18,
   "metadata": {},
   "outputs": [
    {
     "data": {
      "text/html": [
       "<div>\n",
       "<style>\n",
       "    .dataframe thead tr:only-child th {\n",
       "        text-align: right;\n",
       "    }\n",
       "\n",
       "    .dataframe thead th {\n",
       "        text-align: left;\n",
       "    }\n",
       "\n",
       "    .dataframe tbody tr th {\n",
       "        vertical-align: top;\n",
       "    }\n",
       "</style>\n",
       "<table border=\"1\" class=\"dataframe\">\n",
       "  <thead>\n",
       "    <tr style=\"text-align: right;\">\n",
       "      <th></th>\n",
       "      <th>File Name</th>\n",
       "      <th>projName</th>\n",
       "      <th>accolNumber</th>\n",
       "      <th>PDA_projName</th>\n",
       "      <th>projType</th>\n",
       "      <th>projDesc</th>\n",
       "      <th>formulaNumber</th>\n",
       "      <th>owner</th>\n",
       "      <th>sector</th>\n",
       "      <th>center</th>\n",
       "      <th>...</th>\n",
       "      <th>prodModifications</th>\n",
       "      <th>newIngredient</th>\n",
       "      <th>approvedPackage</th>\n",
       "      <th>potentialMicrobial</th>\n",
       "      <th>crossContactAllergens</th>\n",
       "      <th>chokeHazard</th>\n",
       "      <th>operationalAllergen</th>\n",
       "      <th>abuseByConsumer</th>\n",
       "      <th>cookstepByConsumer</th>\n",
       "      <th>allergensLabeledIMAF</th>\n",
       "    </tr>\n",
       "  </thead>\n",
       "  <tbody>\n",
       "    <tr>\n",
       "      <th>0</th>\n",
       "      <td>FSHA 46694 Lays Ridge.xlsm</td>\n",
       "      <td>Lays Ridge launch</td>\n",
       "      <td>46694</td>\n",
       "      <td>Lay's Wavy Spring Onion, Lay's Wavy Sour Cream,</td>\n",
       "      <td>Category Reframe</td>\n",
       "      <td>Significant launch of new subline within exist...</td>\n",
       "      <td>P02806, PP03084 (PF03211)</td>\n",
       "      <td>Artur Zyśk, +48723990114</td>\n",
       "      <td>ESSA</td>\n",
       "      <td>Warsaw, Poland</td>\n",
       "      <td>...</td>\n",
       "      <td>No</td>\n",
       "      <td>Yes</td>\n",
       "      <td>No</td>\n",
       "      <td>No</td>\n",
       "      <td>Yes</td>\n",
       "      <td>No</td>\n",
       "      <td>Yes</td>\n",
       "      <td>No</td>\n",
       "      <td>No</td>\n",
       "      <td>Milk, Lactose : Milk, Lactose</td>\n",
       "    </tr>\n",
       "    <tr>\n",
       "      <th>1</th>\n",
       "      <td>FSHA 5.4.1 - Doritos Sweet Chilli Pepper Na Re...</td>\n",
       "      <td>Sodium reduction Doritos Sweet Chilli Pepper I...</td>\n",
       "      <td>39660</td>\n",
       "      <td>Doritos Sweet Chilli Pepper</td>\n",
       "      <td>Refresh</td>\n",
       "      <td>Sodium reduction project to conform to Legisla...</td>\n",
       "      <td>999010432 Doritos Sweet Chilli Pepper</td>\n",
       "      <td>Sherwin Tlhoaele / Gabisile Buthelezi</td>\n",
       "      <td>ESSA</td>\n",
       "      <td>South Africa</td>\n",
       "      <td>...</td>\n",
       "      <td>No</td>\n",
       "      <td>No</td>\n",
       "      <td>No</td>\n",
       "      <td>No</td>\n",
       "      <td>No</td>\n",
       "      <td>No</td>\n",
       "      <td>Yes</td>\n",
       "      <td>No</td>\n",
       "      <td>No</td>\n",
       "      <td>Not Applicable : Not Applicable : Soya</td>\n",
       "    </tr>\n",
       "    <tr>\n",
       "      <th>2</th>\n",
       "      <td>FSHA 5.4.1 - Doritos Sweet Chilli Pepper Na Re...</td>\n",
       "      <td>Sodium reduction Doritos Sweet Chilli Pepper P...</td>\n",
       "      <td>39660</td>\n",
       "      <td>Doritos Sweet Chilli Pepper</td>\n",
       "      <td>Refresh</td>\n",
       "      <td>Sodium reduction project to conform to Legisla...</td>\n",
       "      <td>999010432 Doritos Sweet Chilli Pepper</td>\n",
       "      <td>Sherwin Tlhoaele / Gabisile Buthelezi</td>\n",
       "      <td>ESSA</td>\n",
       "      <td>South Africa</td>\n",
       "      <td>...</td>\n",
       "      <td>No</td>\n",
       "      <td>No</td>\n",
       "      <td>No</td>\n",
       "      <td>No</td>\n",
       "      <td>No</td>\n",
       "      <td>No</td>\n",
       "      <td>Yes</td>\n",
       "      <td>No</td>\n",
       "      <td>No</td>\n",
       "      <td>Not Applicable : Not Applicable : Soya</td>\n",
       "    </tr>\n",
       "    <tr>\n",
       "      <th>3</th>\n",
       "      <td>FSHA 5.4.1 - Lay's BBQ Gate 3 Prospecton 5.04....</td>\n",
       "      <td>Lay's Barbecue Flavoured Potato Chips</td>\n",
       "      <td>50169</td>\n",
       "      <td>Lay's Barbecue Flavoured Potato Chips</td>\n",
       "      <td>Refresh</td>\n",
       "      <td>New flavour for the Lay's range - Lay's Barbecue</td>\n",
       "      <td>not provided</td>\n",
       "      <td>Xolelwa Nzuzo</td>\n",
       "      <td>ESSA</td>\n",
       "      <td>South Africa</td>\n",
       "      <td>...</td>\n",
       "      <td>No</td>\n",
       "      <td>Yes</td>\n",
       "      <td>No</td>\n",
       "      <td>No</td>\n",
       "      <td>Yes</td>\n",
       "      <td>No</td>\n",
       "      <td>Yes</td>\n",
       "      <td>No</td>\n",
       "      <td>No</td>\n",
       "      <td>Not Applicable : Not Applicable</td>\n",
       "    </tr>\n",
       "    <tr>\n",
       "      <th>4</th>\n",
       "      <td>FSHA 5.4.1 - Simba Cheese &amp; Onion NA Reduction...</td>\n",
       "      <td>Simba Cheese &amp; Onion Sodium Reduction Isando</td>\n",
       "      <td>39660</td>\n",
       "      <td>Simba Cheese &amp; Onion</td>\n",
       "      <td>Renovation</td>\n",
       "      <td>Sodium Reduction Project to conform to Legisla...</td>\n",
       "      <td>Simba Potato Chips (ZBR for different flavoure...</td>\n",
       "      <td>Lizel Laubscher</td>\n",
       "      <td>ESSA</td>\n",
       "      <td>South Africa</td>\n",
       "      <td>...</td>\n",
       "      <td>No</td>\n",
       "      <td>No</td>\n",
       "      <td>No</td>\n",
       "      <td>No</td>\n",
       "      <td>Yes</td>\n",
       "      <td>No</td>\n",
       "      <td>Yes</td>\n",
       "      <td>No</td>\n",
       "      <td>No</td>\n",
       "      <td>Not Applicable : Not Applicable : Dairy (Cows ...</td>\n",
       "    </tr>\n",
       "  </tbody>\n",
       "</table>\n",
       "<p>5 rows × 48 columns</p>\n",
       "</div>"
      ],
      "text/plain": [
       "                                           File Name  \\\n",
       "0                         FSHA 46694 Lays Ridge.xlsm   \n",
       "1  FSHA 5.4.1 - Doritos Sweet Chilli Pepper Na Re...   \n",
       "2  FSHA 5.4.1 - Doritos Sweet Chilli Pepper Na Re...   \n",
       "3  FSHA 5.4.1 - Lay's BBQ Gate 3 Prospecton 5.04....   \n",
       "4  FSHA 5.4.1 - Simba Cheese & Onion NA Reduction...   \n",
       "\n",
       "                                            projName accolNumber  \\\n",
       "0                                  Lays Ridge launch       46694   \n",
       "1  Sodium reduction Doritos Sweet Chilli Pepper I...       39660   \n",
       "2  Sodium reduction Doritos Sweet Chilli Pepper P...       39660   \n",
       "3              Lay's Barbecue Flavoured Potato Chips       50169   \n",
       "4       Simba Cheese & Onion Sodium Reduction Isando       39660   \n",
       "\n",
       "                                       PDA_projName          projType  \\\n",
       "0  Lay's Wavy Spring Onion, Lay's Wavy Sour Cream,   Category Reframe   \n",
       "1                       Doritos Sweet Chilli Pepper          Refresh    \n",
       "2                       Doritos Sweet Chilli Pepper          Refresh    \n",
       "3             Lay's Barbecue Flavoured Potato Chips           Refresh   \n",
       "4                              Simba Cheese & Onion        Renovation   \n",
       "\n",
       "                                            projDesc  \\\n",
       "0  Significant launch of new subline within exist...   \n",
       "1  Sodium reduction project to conform to Legisla...   \n",
       "2  Sodium reduction project to conform to Legisla...   \n",
       "3   New flavour for the Lay's range - Lay's Barbecue   \n",
       "4  Sodium Reduction Project to conform to Legisla...   \n",
       "\n",
       "                                       formulaNumber  \\\n",
       "0                         P02806, PP03084 (PF03211)    \n",
       "1              999010432 Doritos Sweet Chilli Pepper   \n",
       "2              999010432 Doritos Sweet Chilli Pepper   \n",
       "3                                       not provided   \n",
       "4  Simba Potato Chips (ZBR for different flavoure...   \n",
       "\n",
       "                                    owner sector          center  \\\n",
       "0                Artur Zyśk, +48723990114   ESSA  Warsaw, Poland   \n",
       "1  Sherwin Tlhoaele / Gabisile Buthelezi    ESSA    South Africa   \n",
       "2  Sherwin Tlhoaele / Gabisile Buthelezi    ESSA    South Africa   \n",
       "3                           Xolelwa Nzuzo   ESSA    South Africa   \n",
       "4                         Lizel Laubscher   ESSA    South Africa   \n",
       "\n",
       "                         ...                         prodModifications  \\\n",
       "0                        ...                                        No   \n",
       "1                        ...                                        No   \n",
       "2                        ...                                        No   \n",
       "3                        ...                                        No   \n",
       "4                        ...                                        No   \n",
       "\n",
       "  newIngredient approvedPackage potentialMicrobial crossContactAllergens  \\\n",
       "0           Yes              No                 No                   Yes   \n",
       "1            No              No                 No                    No   \n",
       "2            No              No                 No                    No   \n",
       "3           Yes              No                 No                   Yes   \n",
       "4            No              No                 No                   Yes   \n",
       "\n",
       "  chokeHazard operationalAllergen abuseByConsumer cookstepByConsumer  \\\n",
       "0          No                 Yes              No                 No   \n",
       "1          No                 Yes              No                 No   \n",
       "2          No                 Yes              No                 No   \n",
       "3          No                 Yes              No                 No   \n",
       "4          No                 Yes              No                 No   \n",
       "\n",
       "                                allergensLabeledIMAF  \n",
       "0                      Milk, Lactose : Milk, Lactose  \n",
       "1             Not Applicable : Not Applicable : Soya  \n",
       "2             Not Applicable : Not Applicable : Soya  \n",
       "3                    Not Applicable : Not Applicable  \n",
       "4  Not Applicable : Not Applicable : Dairy (Cows ...  \n",
       "\n",
       "[5 rows x 48 columns]"
      ]
     },
     "execution_count": 18,
     "metadata": {},
     "output_type": "execute_result"
    }
   ],
   "source": [
    "fsha_data.head()"
   ]
  },
  {
   "cell_type": "markdown",
   "metadata": {},
   "source": [
    "# Based on Analysis select the Features (X)"
   ]
  },
  {
   "cell_type": "code",
   "execution_count": 91,
   "metadata": {
    "collapsed": true
   },
   "outputs": [],
   "source": [
    "#selecting set of columns as Features\n",
    "fsha_data.fillna('NA', inplace=True)\n",
    "features_df=fsha_data[['PDA_projName', 'projDesc','formulaNumber','CPD-ProdName-Desc','packMaterial','prodStorageDist','shelfLife',\n",
    "    'TCG','cookedOrHeated', 'specificStorage','labelingInstructions','mishandled','targetMarket','approvedPackage']]"
   ]
  },
  {
   "cell_type": "code",
   "execution_count": 92,
   "metadata": {
    "collapsed": true
   },
   "outputs": [],
   "source": [
    "def conv_str(x):\n",
    "   \n",
    "    x=str(x)\n",
    "    x=x.lower()\n",
    "    return (x)\n",
    "\n",
    "features_df['PDA_projName']=features_df['PDA_projName'].apply(lambda x:conv_str(x))  \n",
    "features_df['projDesc']=features_df['projDesc'].apply(lambda x:conv_str(x))\n",
    "features_df['formulaNumber']=features_df['formulaNumber'].apply(lambda x:conv_str(x)) \n",
    "features_df['packMaterial']=features_df['packMaterial'].apply(lambda x:conv_str(x))  \n",
    "features_df['CPD-ProdName-Desc']=features_df['CPD-ProdName-Desc'].apply(lambda x:conv_str(x))  \n",
    "features_df['prodStorageDist']=features_df['prodStorageDist'].apply(lambda x:conv_str(x)) \n",
    "features_df['shelfLife']=features_df['shelfLife'].apply(lambda x:conv_str(x))  \n",
    "features_df['TCG']=features_df['TCG'].apply(lambda x:conv_str(x)) \n",
    "features_df['cookedOrHeated']=features_df['cookedOrHeated'].apply(lambda x:conv_str(x)) \n",
    "features_df['specificStorage']=features_df['specificStorage'].apply(lambda x:conv_str(x)) \n",
    "features_df['labelingInstructions']=features_df['labelingInstructions'].apply(lambda x:conv_str(x)) \n",
    "features_df['mishandled']=features_df['mishandled'].apply(lambda x:conv_str(x))  \n",
    "features_df['targetMarket']=features_df['targetMarket'].apply(lambda x:conv_str(x)) \n",
    "features_df['approvedPackage']=features_df['approvedPackage'].apply(lambda x:conv_str(x)) "
   ]
  },
  {
   "cell_type": "code",
   "execution_count": 93,
   "metadata": {
    "collapsed": true
   },
   "outputs": [],
   "source": [
    "train_df = features_df"
   ]
  },
  {
   "cell_type": "markdown",
   "metadata": {},
   "source": [
    "# Define reusable code to Vectorize Text columns using TF-IDF Vectorizer, after doing Text data normalization"
   ]
  },
  {
   "cell_type": "code",
   "execution_count": 67,
   "metadata": {
    "collapsed": true
   },
   "outputs": [],
   "source": [
    "# Vectorization of text data using TF-IDF Vectorizer\n",
    "\n",
    "# Range (inclusive) of n-gram sizes for tokenizing text.\n",
    "#NGRAM_RANGE \n",
    "\n",
    "# Limit on the number of features. We use the top 20K features.\n",
    "#TOP_K = 20000\n",
    "\n",
    "# Whether text should be split into word or character n-grams.\n",
    "# One of 'word', 'char'.\n",
    "TOKEN_MODE = 'word'\n",
    "\n",
    "# Minimum document/corpus frequency below which a token will be discarded.\n",
    "MIN_DOCUMENT_FREQUENCY = 2\n",
    "\n",
    "# Limit on the length of text sequences. Sequences longer than this\n",
    "# will be truncated.\n",
    "MAX_SEQUENCE_LENGTH = 500\n",
    "\n",
    "\n",
    "def ngram_vectorize(train_texts, train_labels,ngram_range):\n",
    "    \"\"\"Vectorizes texts as ngram vectors.\n",
    "\n",
    "    1 text = 1 tf-idf vector the length of vocabulary of uni-grams + bi-grams.\n",
    "\n",
    "    # Arguments\n",
    "        train_texts: list, training text strings.\n",
    "        train_labels: np.ndarray, training labels.\n",
    "        val_texts: list, validation text strings.\n",
    "\n",
    "    # Returns\n",
    "        x_train, x_val: vectorized training and validation texts\n",
    "    \"\"\"\n",
    "    # Create keyword arguments to pass to the 'tf-idf' vectorizer.\n",
    "    kwargs = {\n",
    "            'ngram_range': ngram_range,  # Use 1-grams + 2-grams.\n",
    "            'dtype': 'int32',\n",
    "            'strip_accents': 'unicode',\n",
    "            'decode_error': 'replace',\n",
    "            'analyzer': TOKEN_MODE,  # Split text into word tokens.\n",
    "            'min_df': MIN_DOCUMENT_FREQUENCY,\n",
    "    }\n",
    "    vectorizer = TfidfVectorizer(**kwargs)\n",
    "\n",
    "    # Learn vocabulary from training texts and vectorize training texts.\n",
    "    x_train = vectorizer.fit_transform(train_texts)\n",
    "\n",
    "    x_train = x_train.astype('float32')\n",
    "    return x_train"
   ]
  },
  {
   "cell_type": "markdown",
   "metadata": {},
   "source": [
    "# Normalize each column , by cleaning the text"
   ]
  },
  {
   "cell_type": "code",
   "execution_count": 94,
   "metadata": {
    "collapsed": true
   },
   "outputs": [],
   "source": [
    "train_df['PDA_projName']=normalize_corpus(train_df['PDA_projName'])\n",
    "train_df['projDesc']=normalize_corpus(train_df['projDesc'])\n",
    "train_df['formulaNumber']=normalize_corpus(train_df['formulaNumber'])\n",
    "train_df['packMaterial']=normalize_corpus(train_df['packMaterial'])  \n",
    "train_df['CPD-ProdName-Desc']=normalize_corpus(train_df['CPD-ProdName-Desc'])\n",
    "train_df['prodStorageDist']=normalize_corpus(train_df['prodStorageDist'])\n",
    "train_df['shelfLife']=normalize_corpus(train_df['shelfLife'])\n",
    "train_df['TCG']=normalize_corpus(train_df['TCG'])\n",
    "train_df['cookedOrHeated']=normalize_corpus(train_df['cookedOrHeated'])\n",
    "train_df['specificStorage']=normalize_corpus(train_df['specificStorage'])\n",
    "train_df['labelingInstructions']=normalize_corpus(train_df['labelingInstructions']) \n",
    "train_df['mishandled']=normalize_corpus(train_df['mishandled']) \n",
    "train_df['targetMarket']=normalize_corpus(train_df['targetMarket'])\n",
    "train_df['approvedPackage']=normalize_corpus(train_df['approvedPackage'])"
   ]
  },
  {
   "cell_type": "code",
   "execution_count": 96,
   "metadata": {},
   "outputs": [
    {
     "data": {
      "text/plain": [
       "0                                       18 1 week\n",
       "1    code date 16 weeks export code date 24 weeks\n",
       "2    code date 16 weeks export code date 24 weeks\n",
       "3       16 weeks sa market 26 weeks export market\n",
       "4       16 weeks sa market 26 weeks export market\n",
       "Name: shelfLife, dtype: object"
      ]
     },
     "execution_count": 96,
     "metadata": {},
     "output_type": "execute_result"
    }
   ],
   "source": [
    "train_df['shelfLife'][:5]"
   ]
  },
  {
   "cell_type": "markdown",
   "metadata": {},
   "source": [
    "# Binarize the target (1/0 for Yes/No)"
   ]
  },
  {
   "cell_type": "code",
   "execution_count": 97,
   "metadata": {
    "collapsed": true
   },
   "outputs": [],
   "source": [
    "import statistics \n",
    "\n",
    "def impute_target(fsha_data,targetName):\n",
    "    train_y=[]\n",
    "    for i in range (len(fsha_data)):\n",
    "        if fsha_data[targetName].values[i]=='Yes':\n",
    "            train_y.append(1)\n",
    "        elif fsha_data[targetName].values[i]=='No':\n",
    "            train_y.append(0)\n",
    "        else:\n",
    "            train_y.append(-1)\n",
    "               \n",
    "    mode_y = statistics.mode(train_y)\n",
    "\n",
    "    for i in range (len(fsha_data)):\n",
    "        if train_y[i]==-1:\n",
    "            train_y[i] = mode_y\n",
    "            \n",
    "    return train_y"
   ]
  },
  {
   "cell_type": "markdown",
   "metadata": {},
   "source": [
    "# Target (Yes/No choice) in PDAF are converted to binary values"
   ]
  },
  {
   "cell_type": "code",
   "execution_count": 98,
   "metadata": {
    "collapsed": true
   },
   "outputs": [],
   "source": [
    "train_y_abuse = impute_target(fsha_data,\"abuseByConsumer\")"
   ]
  },
  {
   "cell_type": "code",
   "execution_count": 99,
   "metadata": {
    "collapsed": true
   },
   "outputs": [],
   "source": [
    "train_df['target']=train_y_abuse"
   ]
  },
  {
   "cell_type": "code",
   "execution_count": 100,
   "metadata": {},
   "outputs": [
    {
     "data": {
      "text/plain": [
       "0    204\n",
       "1     23\n",
       "Name: target, dtype: int64"
      ]
     },
     "execution_count": 100,
     "metadata": {},
     "output_type": "execute_result"
    }
   ],
   "source": [
    "train_df['target'].value_counts()"
   ]
  },
  {
   "cell_type": "code",
   "execution_count": 101,
   "metadata": {
    "collapsed": true
   },
   "outputs": [],
   "source": [
    "y = train_df['target']\n",
    "train_df = train_df.drop('target',axis=1)"
   ]
  },
  {
   "cell_type": "markdown",
   "metadata": {},
   "source": [
    "# Perform n-gram vectorization and PCA on text data, columnwise, and concatenate the values"
   ]
  },
  {
   "cell_type": "code",
   "execution_count": 102,
   "metadata": {
    "collapsed": true
   },
   "outputs": [],
   "source": [
    "def preprocess_text(train_df,y):    \n",
    "    train_labels = y\n",
    "    x_ngram_projName=ngram_vectorize(train_df['PDA_projName'], train_labels,n_gram_range).toarray()\n",
    "    x_ngram_projDesc=ngram_vectorize(train_df['projDesc'], train_labels,n_gram_range).toarray()\n",
    "    x_ngram_formula=ngram_vectorize(train_df['formulaNumber'], train_labels,n_gram_range).toarray()\n",
    "    x_ngram_packMaterial=ngram_vectorize(train_df['packMaterial'], train_labels,n_gram_range).toarray() \n",
    "    x_ngram_CPD_ProdName_Desc=ngram_vectorize(train_df['CPD-ProdName-Desc'], train_labels,n_gram_range).toarray()\n",
    "    x_ngram_prodStorageDist=ngram_vectorize(train_df['prodStorageDist'], train_labels,n_gram_range).toarray()\n",
    "    x_ngram_shelfLife=ngram_vectorize(train_df['shelfLife'], train_labels,n_gram_range).toarray()\n",
    "    x_ngram_TCG=ngram_vectorize(train_df['TCG'], train_labels,n_gram_range).toarray() \n",
    "    x_ngram_cookedOrHeated=ngram_vectorize(train_df['cookedOrHeated'], train_labels,n_gram_range).toarray() \n",
    "    x_ngram_specificStorage=ngram_vectorize(train_df['specificStorage'], train_labels,n_gram_range).toarray() \n",
    "    x_ngram_labelingInstructions=ngram_vectorize(train_df['labelingInstructions'], train_labels,n_gram_range).toarray()\n",
    "    x_ngram_mishandled=ngram_vectorize(train_df['mishandled'], train_labels,n_gram_range).toarray() \n",
    "    x_ngram_targetMarket=ngram_vectorize(train_df['targetMarket'], train_labels,n_gram_range).toarray()\n",
    "    x_ngram_approvedPackage=ngram_vectorize(train_df['approvedPackage'], train_labels,n_gram_range).toarray()\n",
    "    train_df = train_df.drop(['PDA_projName','projDesc','formulaNumber','packMaterial','CPD-ProdName-Desc','prodStorageDist','shelfLife','TCG','cookedOrHeated','specificStorage','labelingInstructions','mishandled','targetMarket','approvedPackage'],axis=1)\n",
    "    pca = PCA(n_components=n_components,svd_solver=svd_solver,whiten=whiten, random_state=42)\n",
    "    \n",
    "    scaler = StandardScaler()\n",
    "    x_ngram_projName = scaler.fit_transform(x_ngram_projName)\n",
    "    x_ngram_projDesc = scaler.fit_transform(x_ngram_projDesc)\n",
    "    x_ngram_formula = scaler.fit_transform(x_ngram_formula)\n",
    "    x_ngram_packMaterial = scaler.fit_transform(x_ngram_packMaterial)\n",
    "    x_ngram_CPD_ProdName_Desc = scaler.fit_transform(x_ngram_CPD_ProdName_Desc)\n",
    "    x_ngram_prodStorageDist = scaler.fit_transform(x_ngram_prodStorageDist)\n",
    "    x_ngram_shelfLife = scaler.fit_transform(x_ngram_shelfLife)\n",
    "    x_ngram_TCG = scaler.fit_transform(x_ngram_TCG)\n",
    "    x_ngram_cookedOrHeated = scaler.fit_transform(x_ngram_cookedOrHeated)\n",
    "    x_ngram_specificStorage = scaler.fit_transform(x_ngram_specificStorage)\n",
    "    x_ngram_labelingInstructions = scaler.fit_transform(x_ngram_labelingInstructions)\n",
    "    x_ngram_mishandled = pca.fit_transform(x_ngram_mishandled)\n",
    "    x_ngram_targetMarket = scaler.fit_transform(x_ngram_targetMarket)\n",
    "    x_ngram_approvedPackage = scaler.fit_transform(x_ngram_approvedPackage)\n",
    "    \n",
    "    x_pca_projName = pca.fit_transform(x_ngram_projName)\n",
    "    x_pca_projDesc = pca.fit_transform(x_ngram_projDesc)\n",
    "    x_pca_formula = pca.fit_transform(x_ngram_formula)\n",
    "    x_pca_packMaterial = pca.fit_transform(x_ngram_packMaterial)\n",
    "    x_pca_CPD_ProdName_Desc = pca.fit_transform(x_ngram_CPD_ProdName_Desc)\n",
    "    x_pca_prodStorageDist = pca.fit_transform(x_ngram_prodStorageDist)\n",
    "    x_pca_shelfLife = pca.fit_transform(x_ngram_shelfLife)\n",
    "    x_pca_TCG = pca.fit_transform(x_ngram_TCG)\n",
    "    x_pca_cookedOrHeated = pca.fit_transform(x_ngram_cookedOrHeated)\n",
    "    x_pca_specificStorage = pca.fit_transform(x_ngram_specificStorage)\n",
    "    x_pca_labelingInstructions = pca.fit_transform(x_ngram_labelingInstructions)\n",
    "    x_pca_mishandled = pca.fit_transform(x_ngram_mishandled)\n",
    "    x_pca_targetMarket = pca.fit_transform(x_ngram_targetMarket)\n",
    "    x_pca_approvedPackage = pca.fit_transform(x_ngram_approvedPackage)\n",
    "\n",
    "    x_train = np.concatenate((x_pca_projName,x_pca_projDesc,x_pca_formula,x_pca_packMaterial,x_pca_CPD_ProdName_Desc,\n",
    "                              x_pca_prodStorageDist,x_pca_shelfLife,x_pca_TCG,x_pca_cookedOrHeated,x_pca_specificStorage,x_pca_labelingInstructions,x_pca_mishandled,x_pca_targetMarket,x_pca_approvedPackage),axis=1)\n",
    "    print(x_train.shape)\n",
    "    return x_train  "
   ]
  },
  {
   "cell_type": "code",
   "execution_count": 103,
   "metadata": {},
   "outputs": [
    {
     "name": "stdout",
     "output_type": "stream",
     "text": [
      "(227, 28)\n"
     ]
    }
   ],
   "source": [
    "n_gram_range = (1,2)\n",
    "n_components = 2\n",
    "whiten = False\n",
    "random_state = 42\n",
    "svd_solver=\"full\"\n",
    "X_features = preprocess_text(train_df,y)"
   ]
  },
  {
   "cell_type": "code",
   "execution_count": 104,
   "metadata": {},
   "outputs": [
    {
     "data": {
      "text/plain": [
       "(227,)"
      ]
     },
     "execution_count": 104,
     "metadata": {},
     "output_type": "execute_result"
    }
   ],
   "source": [
    "y.shape"
   ]
  },
  {
   "cell_type": "markdown",
   "metadata": {},
   "source": [
    "# Perform train test split"
   ]
  },
  {
   "cell_type": "code",
   "execution_count": 105,
   "metadata": {
    "collapsed": true
   },
   "outputs": [],
   "source": [
    "X_train, X_test, y_train, y_test = train_test_split(X_features, y, test_size=.2, random_state=42,stratify = y)"
   ]
  },
  {
   "cell_type": "code",
   "execution_count": 106,
   "metadata": {},
   "outputs": [
    {
     "name": "stdout",
     "output_type": "stream",
     "text": [
      "(181, 28)\n",
      "(46, 28)\n"
     ]
    }
   ],
   "source": [
    "print(X_train.shape)\n",
    "print(X_test.shape)"
   ]
  },
  {
   "cell_type": "code",
   "execution_count": 107,
   "metadata": {
    "collapsed": true
   },
   "outputs": [],
   "source": [
    "X_train = pd.DataFrame(X_train)\n",
    "y_train = pd.DataFrame(y_train)"
   ]
  },
  {
   "cell_type": "code",
   "execution_count": 108,
   "metadata": {},
   "outputs": [
    {
     "name": "stdout",
     "output_type": "stream",
     "text": [
      "(181, 1)\n",
      "(46,)\n"
     ]
    }
   ],
   "source": [
    "print(y_train.shape)\n",
    "print(y_test.shape)"
   ]
  },
  {
   "cell_type": "code",
   "execution_count": 109,
   "metadata": {
    "collapsed": true
   },
   "outputs": [],
   "source": [
    "#X_train.columns = ['PCA_allergens_1','PCA_allergens_2','PCA_allergens_3','PCA_allergens_4','PCA_allergens_5','PCA_allergens_6','PCA_allergens_M_1','PCA_allergens_M_2','PCA_allergens_M_3','PCA_allergens_M_4','PCA_allergens_M_5','PCA_allergens_M_6']"
   ]
  },
  {
   "cell_type": "code",
   "execution_count": 110,
   "metadata": {},
   "outputs": [
    {
     "data": {
      "text/html": [
       "<div>\n",
       "<style>\n",
       "    .dataframe thead tr:only-child th {\n",
       "        text-align: right;\n",
       "    }\n",
       "\n",
       "    .dataframe thead th {\n",
       "        text-align: left;\n",
       "    }\n",
       "\n",
       "    .dataframe tbody tr th {\n",
       "        vertical-align: top;\n",
       "    }\n",
       "</style>\n",
       "<table border=\"1\" class=\"dataframe\">\n",
       "  <thead>\n",
       "    <tr style=\"text-align: right;\">\n",
       "      <th></th>\n",
       "      <th>0</th>\n",
       "      <th>1</th>\n",
       "      <th>2</th>\n",
       "      <th>3</th>\n",
       "      <th>4</th>\n",
       "      <th>5</th>\n",
       "      <th>6</th>\n",
       "      <th>7</th>\n",
       "      <th>8</th>\n",
       "      <th>9</th>\n",
       "      <th>...</th>\n",
       "      <th>18</th>\n",
       "      <th>19</th>\n",
       "      <th>20</th>\n",
       "      <th>21</th>\n",
       "      <th>22</th>\n",
       "      <th>23</th>\n",
       "      <th>24</th>\n",
       "      <th>25</th>\n",
       "      <th>26</th>\n",
       "      <th>27</th>\n",
       "    </tr>\n",
       "  </thead>\n",
       "  <tbody>\n",
       "    <tr>\n",
       "      <th>0</th>\n",
       "      <td>-0.213613</td>\n",
       "      <td>-0.406524</td>\n",
       "      <td>-1.628742</td>\n",
       "      <td>-0.831830</td>\n",
       "      <td>-0.519215</td>\n",
       "      <td>-0.347381</td>\n",
       "      <td>-0.413723</td>\n",
       "      <td>-0.438325</td>\n",
       "      <td>-0.752045</td>\n",
       "      <td>-0.870288</td>\n",
       "      <td>...</td>\n",
       "      <td>-0.680027</td>\n",
       "      <td>-0.965795</td>\n",
       "      <td>-0.666259</td>\n",
       "      <td>-0.492769</td>\n",
       "      <td>-0.523199</td>\n",
       "      <td>-0.035165</td>\n",
       "      <td>-1.087704</td>\n",
       "      <td>-0.150070</td>\n",
       "      <td>-0.233021</td>\n",
       "      <td>6.885145e-08</td>\n",
       "    </tr>\n",
       "    <tr>\n",
       "      <th>1</th>\n",
       "      <td>-0.452320</td>\n",
       "      <td>-0.443179</td>\n",
       "      <td>-1.439855</td>\n",
       "      <td>-0.578417</td>\n",
       "      <td>-0.519215</td>\n",
       "      <td>-0.347381</td>\n",
       "      <td>-0.413723</td>\n",
       "      <td>-0.438325</td>\n",
       "      <td>-0.705390</td>\n",
       "      <td>-0.888516</td>\n",
       "      <td>...</td>\n",
       "      <td>-1.079985</td>\n",
       "      <td>-4.107902</td>\n",
       "      <td>-0.670338</td>\n",
       "      <td>-0.497468</td>\n",
       "      <td>0.522316</td>\n",
       "      <td>0.897374</td>\n",
       "      <td>-0.995784</td>\n",
       "      <td>-0.125885</td>\n",
       "      <td>-0.233021</td>\n",
       "      <td>6.885145e-08</td>\n",
       "    </tr>\n",
       "    <tr>\n",
       "      <th>2</th>\n",
       "      <td>-4.123102</td>\n",
       "      <td>43.843384</td>\n",
       "      <td>-1.668024</td>\n",
       "      <td>-1.059773</td>\n",
       "      <td>62.993397</td>\n",
       "      <td>0.936517</td>\n",
       "      <td>-0.425953</td>\n",
       "      <td>-0.447513</td>\n",
       "      <td>-1.079254</td>\n",
       "      <td>-1.833803</td>\n",
       "      <td>...</td>\n",
       "      <td>0.202513</td>\n",
       "      <td>-1.270825</td>\n",
       "      <td>-0.666259</td>\n",
       "      <td>-0.492769</td>\n",
       "      <td>-0.523199</td>\n",
       "      <td>-0.035165</td>\n",
       "      <td>8.736084</td>\n",
       "      <td>-3.996828</td>\n",
       "      <td>-0.233021</td>\n",
       "      <td>6.885145e-08</td>\n",
       "    </tr>\n",
       "    <tr>\n",
       "      <th>3</th>\n",
       "      <td>45.237499</td>\n",
       "      <td>3.393736</td>\n",
       "      <td>4.218925</td>\n",
       "      <td>94.691284</td>\n",
       "      <td>-0.504280</td>\n",
       "      <td>-0.333946</td>\n",
       "      <td>-0.425953</td>\n",
       "      <td>-0.447513</td>\n",
       "      <td>-0.784086</td>\n",
       "      <td>-0.938204</td>\n",
       "      <td>...</td>\n",
       "      <td>-0.680027</td>\n",
       "      <td>-0.965795</td>\n",
       "      <td>-0.666259</td>\n",
       "      <td>-0.492769</td>\n",
       "      <td>-0.523199</td>\n",
       "      <td>-0.035165</td>\n",
       "      <td>-1.464820</td>\n",
       "      <td>-0.863988</td>\n",
       "      <td>-0.233021</td>\n",
       "      <td>6.885145e-08</td>\n",
       "    </tr>\n",
       "    <tr>\n",
       "      <th>4</th>\n",
       "      <td>-0.305454</td>\n",
       "      <td>-0.275335</td>\n",
       "      <td>-1.348129</td>\n",
       "      <td>-0.523758</td>\n",
       "      <td>-0.464532</td>\n",
       "      <td>-0.299139</td>\n",
       "      <td>-0.425953</td>\n",
       "      <td>-0.447513</td>\n",
       "      <td>-0.703264</td>\n",
       "      <td>0.088893</td>\n",
       "      <td>...</td>\n",
       "      <td>-0.378168</td>\n",
       "      <td>-0.810218</td>\n",
       "      <td>-0.803340</td>\n",
       "      <td>-0.685610</td>\n",
       "      <td>0.583436</td>\n",
       "      <td>-0.056514</td>\n",
       "      <td>17.116545</td>\n",
       "      <td>-2.110739</td>\n",
       "      <td>-0.233021</td>\n",
       "      <td>6.885145e-08</td>\n",
       "    </tr>\n",
       "  </tbody>\n",
       "</table>\n",
       "<p>5 rows × 28 columns</p>\n",
       "</div>"
      ],
      "text/plain": [
       "          0          1         2          3          4         5         6   \\\n",
       "0  -0.213613  -0.406524 -1.628742  -0.831830  -0.519215 -0.347381 -0.413723   \n",
       "1  -0.452320  -0.443179 -1.439855  -0.578417  -0.519215 -0.347381 -0.413723   \n",
       "2  -4.123102  43.843384 -1.668024  -1.059773  62.993397  0.936517 -0.425953   \n",
       "3  45.237499   3.393736  4.218925  94.691284  -0.504280 -0.333946 -0.425953   \n",
       "4  -0.305454  -0.275335 -1.348129  -0.523758  -0.464532 -0.299139 -0.425953   \n",
       "\n",
       "         7         8         9       ...             18        19        20  \\\n",
       "0 -0.438325 -0.752045 -0.870288      ...      -0.680027 -0.965795 -0.666259   \n",
       "1 -0.438325 -0.705390 -0.888516      ...      -1.079985 -4.107902 -0.670338   \n",
       "2 -0.447513 -1.079254 -1.833803      ...       0.202513 -1.270825 -0.666259   \n",
       "3 -0.447513 -0.784086 -0.938204      ...      -0.680027 -0.965795 -0.666259   \n",
       "4 -0.447513 -0.703264  0.088893      ...      -0.378168 -0.810218 -0.803340   \n",
       "\n",
       "         21        22        23         24        25        26            27  \n",
       "0 -0.492769 -0.523199 -0.035165  -1.087704 -0.150070 -0.233021  6.885145e-08  \n",
       "1 -0.497468  0.522316  0.897374  -0.995784 -0.125885 -0.233021  6.885145e-08  \n",
       "2 -0.492769 -0.523199 -0.035165   8.736084 -3.996828 -0.233021  6.885145e-08  \n",
       "3 -0.492769 -0.523199 -0.035165  -1.464820 -0.863988 -0.233021  6.885145e-08  \n",
       "4 -0.685610  0.583436 -0.056514  17.116545 -2.110739 -0.233021  6.885145e-08  \n",
       "\n",
       "[5 rows x 28 columns]"
      ]
     },
     "execution_count": 110,
     "metadata": {},
     "output_type": "execute_result"
    }
   ],
   "source": [
    "X_train.head()"
   ]
  },
  {
   "cell_type": "code",
   "execution_count": 111,
   "metadata": {},
   "outputs": [
    {
     "name": "stdout",
     "output_type": "stream",
     "text": [
      "(181, 28)\n",
      "(181, 1)\n"
     ]
    }
   ],
   "source": [
    "print(X_train.shape)\n",
    "print(y_train.shape)"
   ]
  },
  {
   "cell_type": "code",
   "execution_count": 112,
   "metadata": {
    "collapsed": true
   },
   "outputs": [],
   "source": [
    "X_train.reset_index(drop=True, inplace=True)\n",
    "y_train.reset_index(drop=True, inplace=True)"
   ]
  },
  {
   "cell_type": "markdown",
   "metadata": {},
   "source": [
    "# Upsample the oppAbuse data, since the data is highly imbalanced"
   ]
  },
  {
   "cell_type": "code",
   "execution_count": 113,
   "metadata": {
    "collapsed": true
   },
   "outputs": [],
   "source": [
    "from sklearn.utils import resample\n",
    "\n",
    "# concatenate our training data back together\n",
    "X = pd.concat([X_train, y_train], axis=1)\n",
    "\n",
    "# separate minority and majority classes\n",
    "not_abuse = X[X.target==0]\n",
    "abuse = X[X.target==1]"
   ]
  },
  {
   "cell_type": "code",
   "execution_count": 114,
   "metadata": {},
   "outputs": [
    {
     "name": "stdout",
     "output_type": "stream",
     "text": [
      "163\n",
      "18\n"
     ]
    }
   ],
   "source": [
    "print(len(not_abuse))\n",
    "print(len(abuse))"
   ]
  },
  {
   "cell_type": "code",
   "execution_count": 115,
   "metadata": {
    "collapsed": true
   },
   "outputs": [],
   "source": [
    "# upsample minority\n",
    "abuse_upsampled = resample(abuse,\n",
    "                          replace=True, # sample with replacement\n",
    "                          n_samples=len(not_abuse), # match number in majority class\n",
    "                          random_state=27) # reproducible results\n",
    "\n",
    "# combine majority and upsampled minority\n",
    "upsampled = pd.concat([abuse_upsampled, not_abuse])"
   ]
  },
  {
   "cell_type": "code",
   "execution_count": 116,
   "metadata": {},
   "outputs": [
    {
     "data": {
      "text/plain": [
       "1    163\n",
       "0    163\n",
       "Name: target, dtype: int64"
      ]
     },
     "execution_count": 116,
     "metadata": {},
     "output_type": "execute_result"
    }
   ],
   "source": [
    "upsampled.target.value_counts()"
   ]
  },
  {
   "cell_type": "code",
   "execution_count": 117,
   "metadata": {
    "collapsed": true
   },
   "outputs": [],
   "source": [
    "y_train = upsampled.target\n",
    "X_train = upsampled.drop('target', axis=1)"
   ]
  },
  {
   "cell_type": "code",
   "execution_count": 118,
   "metadata": {},
   "outputs": [
    {
     "data": {
      "text/plain": [
       "(326, 28)"
      ]
     },
     "execution_count": 118,
     "metadata": {},
     "output_type": "execute_result"
    }
   ],
   "source": [
    "X_train.shape"
   ]
  },
  {
   "cell_type": "markdown",
   "metadata": {},
   "source": [
    "# Define method to evaluate Machine Learning models with the X and y vectors created above, and check the effectiveness of each. Also store the results in array to be plotted in graph for visualization"
   ]
  },
  {
   "cell_type": "code",
   "execution_count": 119,
   "metadata": {
    "collapsed": true
   },
   "outputs": [],
   "source": [
    "from datetime import datetime\n",
    "import time\n",
    "def benchmark(clf):\n",
    "    print('_' * 80)\n",
    "    print(\"Training: \")\n",
    "    print(len(X_train))\n",
    "    \n",
    "    clf_descr = str(clf).split('(')[0]\n",
    "    print(\"model name:\"+clf_descr)\n",
    "  \n",
    "    a = datetime.now()\n",
    "    \n",
    "    if clf_descr.__contains__('tensorflow'):\n",
    "        history = clf.fit(\n",
    "            X_train,\n",
    "            y_train,\n",
    "            epochs=epochs,\n",
    "            callbacks=callbacks,\n",
    "            validation_data=(X_test, y_test),\n",
    "            verbose=2, \n",
    "            batch_size=batch_size)\n",
    "    else:\n",
    "        clf.fit(X_train, y_train)\n",
    "    \n",
    "    b = datetime.now()\n",
    "    c = a-b\n",
    "    train_time = c.microseconds\n",
    "    print(\"train time: %0.3fs\" % train_time)\n",
    "\n",
    "    pred = clf.predict(X_test)\n",
    "\n",
    "    pred_train = clf.predict(X_train)\n",
    " \n",
    "    if clf_descr.__contains__('tensorflow'):\n",
    "        for i in range (len(pred)):\n",
    "            if (pred[i]>=0.3):\n",
    "                pred[i]=1\n",
    "            else:\n",
    "                pred[i]=0\n",
    "        for i in range (len(pred_train)):        \n",
    "            if (pred_train[i]>=0.3):\n",
    "                pred_train[i]=1\n",
    "            else:\n",
    "                pred_train[i]=0\n",
    "    \n",
    "    f1_score = metrics.f1_score(y_test, pred)\n",
    "    print(\"f1_score:   %0.3f\" % f1_score )\n",
    "    \n",
    "    f1_score_train = metrics.f1_score(y_train, pred_train)\n",
    "    print(\"f1_score_train:   %0.3f\" % f1_score_train )\n",
    "    \n",
    "    print(\"classification report:\")\n",
    "    print(classification_report(y_test, pred))\n",
    "    \n",
    "    print(\"confusion matrix:\")\n",
    "    print(metrics.confusion_matrix(y_test, pred))\n",
    "\n",
    "    if hasattr(clf, 'coef_'):\n",
    "        print(\"dimensionality: %d\" % clf.coef_.shape[1])\n",
    "        print(\"density: %f\" % density(clf.coef_))\n",
    "\n",
    "    \n",
    "    return clf_descr,f1_score_train,f1_score,train_time"
   ]
  },
  {
   "cell_type": "markdown",
   "metadata": {},
   "source": [
    "# Evaluate Machine Learning Models from a List (using the reusable method defined above). Store the results (Accuracy score - train, accuracy score - test, and training time) in a List for data visualization"
   ]
  },
  {
   "cell_type": "code",
   "execution_count": 120,
   "metadata": {},
   "outputs": [
    {
     "name": "stdout",
     "output_type": "stream",
     "text": [
      "________________________________________________________________________________\n",
      "Training: \n",
      "326\n",
      "model name:Pipeline\n",
      "train time: 993471.000s\n",
      "f1_score:   0.750\n",
      "f1_score_train:   0.864\n",
      "classification report:\n",
      "             precision    recall  f1-score   support\n",
      "\n",
      "          0       0.95      1.00      0.98        41\n",
      "          1       1.00      0.60      0.75         5\n",
      "\n",
      "avg / total       0.96      0.96      0.95        46\n",
      "\n",
      "confusion matrix:\n",
      "[[41  0]\n",
      " [ 2  3]]\n",
      "================================================================================\n",
      "Ridge Classifier\n",
      "________________________________________________________________________________\n",
      "Training: \n",
      "326\n",
      "model name:RidgeClassifier\n",
      "train time: 995517.000s\n",
      "f1_score:   0.750\n",
      "f1_score_train:   0.864\n",
      "classification report:\n",
      "             precision    recall  f1-score   support\n",
      "\n",
      "          0       0.95      1.00      0.98        41\n",
      "          1       1.00      0.60      0.75         5\n",
      "\n",
      "avg / total       0.96      0.96      0.95        46\n",
      "\n",
      "confusion matrix:\n",
      "[[41  0]\n",
      " [ 2  3]]\n",
      "dimensionality: 28\n",
      "density: 1.000000\n",
      "________________________________________________________________________________\n",
      "Training: \n",
      "326\n",
      "model name:Pipeline\n",
      "train time: 998498.000s\n",
      "f1_score:   0.500\n",
      "f1_score_train:   0.956\n",
      "classification report:\n",
      "             precision    recall  f1-score   support\n",
      "\n",
      "          0       0.97      0.83      0.89        41\n",
      "          1       0.36      0.80      0.50         5\n",
      "\n",
      "avg / total       0.91      0.83      0.85        46\n",
      "\n",
      "confusion matrix:\n",
      "[[34  7]\n",
      " [ 1  4]]\n",
      "================================================================================\n",
      "Perceptron\n",
      "________________________________________________________________________________\n",
      "Training: \n",
      "326\n",
      "model name:Perceptron\n",
      "train time: 984341.000s\n",
      "f1_score:   0.500\n",
      "f1_score_train:   0.956\n",
      "classification report:\n",
      "             precision    recall  f1-score   support\n",
      "\n",
      "          0       0.97      0.83      0.89        41\n",
      "          1       0.36      0.80      0.50         5\n",
      "\n",
      "avg / total       0.91      0.83      0.85        46\n",
      "\n",
      "confusion matrix:\n",
      "[[34  7]\n",
      " [ 1  4]]\n",
      "dimensionality: 28\n",
      "density: 1.000000\n",
      "________________________________________________________________________________\n",
      "Training: \n",
      "326\n",
      "model name:Pipeline\n",
      "train time: 984369.000s\n",
      "f1_score:   0.889\n",
      "f1_score_train:   0.963\n",
      "classification report:\n",
      "             precision    recall  f1-score   support\n",
      "\n",
      "          0       0.98      1.00      0.99        41\n",
      "          1       1.00      0.80      0.89         5\n",
      "\n",
      "avg / total       0.98      0.98      0.98        46\n",
      "\n",
      "confusion matrix:\n",
      "[[41  0]\n",
      " [ 1  4]]\n",
      "================================================================================\n",
      "Passive-Aggressive\n",
      "________________________________________________________________________________\n",
      "Training: \n",
      "326\n",
      "model name:PassiveAggressiveClassifier\n",
      "train time: 0.000s\n",
      "f1_score:   0.500\n",
      "f1_score_train:   0.948\n",
      "classification report:\n",
      "             precision    recall  f1-score   support\n",
      "\n",
      "          0       0.97      0.83      0.89        41\n",
      "          1       0.36      0.80      0.50         5\n",
      "\n",
      "avg / total       0.91      0.83      0.85        46\n",
      "\n",
      "confusion matrix:\n",
      "[[34  7]\n",
      " [ 1  4]]\n",
      "dimensionality: 28\n",
      "density: 1.000000\n",
      "________________________________________________________________________________\n",
      "Training: \n",
      "326\n",
      "model name:Pipeline\n",
      "train time: 984370.000s\n",
      "f1_score:   0.889\n",
      "f1_score_train:   0.985\n",
      "classification report:\n",
      "             precision    recall  f1-score   support\n",
      "\n",
      "          0       0.98      1.00      0.99        41\n",
      "          1       1.00      0.80      0.89         5\n",
      "\n",
      "avg / total       0.98      0.98      0.98        46\n",
      "\n",
      "confusion matrix:\n",
      "[[41  0]\n",
      " [ 1  4]]\n",
      "================================================================================\n",
      "kNN\n",
      "________________________________________________________________________________\n",
      "Training: \n",
      "326\n",
      "model name:KNeighborsClassifier\n",
      "train time: 0.000s\n",
      "f1_score:   0.889\n",
      "f1_score_train:   0.985\n",
      "classification report:\n",
      "             precision    recall  f1-score   support\n",
      "\n",
      "          0       0.98      1.00      0.99        41\n",
      "          1       1.00      0.80      0.89         5\n",
      "\n",
      "avg / total       0.98      0.98      0.98        46\n",
      "\n",
      "confusion matrix:\n",
      "[[41  0]\n",
      " [ 1  4]]\n",
      "________________________________________________________________________________\n",
      "Training: \n",
      "326\n",
      "model name:Pipeline\n",
      "train time: 652910.000s\n",
      "f1_score:   0.750\n",
      "f1_score_train:   1.000\n",
      "classification report:\n",
      "             precision    recall  f1-score   support\n",
      "\n",
      "          0       0.95      1.00      0.98        41\n",
      "          1       1.00      0.60      0.75         5\n",
      "\n",
      "avg / total       0.96      0.96      0.95        46\n",
      "\n",
      "confusion matrix:\n",
      "[[41  0]\n",
      " [ 2  3]]\n",
      "================================================================================\n",
      "Random forest\n",
      "________________________________________________________________________________\n",
      "Training: \n",
      "326\n",
      "model name:RandomForestClassifier\n",
      "train time: 665269.000s\n",
      "f1_score:   0.750\n",
      "f1_score_train:   1.000\n",
      "classification report:\n",
      "             precision    recall  f1-score   support\n",
      "\n",
      "          0       0.95      1.00      0.98        41\n",
      "          1       1.00      0.60      0.75         5\n",
      "\n",
      "avg / total       0.96      0.96      0.95        46\n",
      "\n",
      "confusion matrix:\n",
      "[[41  0]\n",
      " [ 2  3]]\n",
      "================================================================================\n",
      "L2 penalty\n",
      "________________________________________________________________________________\n",
      "Training: \n",
      "326\n",
      "model name:LinearSVC\n",
      "train time: 899197.000s\n",
      "f1_score:   0.889\n",
      "f1_score_train:   0.972\n",
      "classification report:\n",
      "             precision    recall  f1-score   support\n",
      "\n",
      "          0       0.98      1.00      0.99        41\n",
      "          1       1.00      0.80      0.89         5\n",
      "\n",
      "avg / total       0.98      0.98      0.98        46\n",
      "\n",
      "confusion matrix:\n",
      "[[41  0]\n",
      " [ 1  4]]\n",
      "dimensionality: 28\n",
      "density: 1.000000\n",
      "________________________________________________________________________________\n",
      "Training: \n",
      "326\n",
      "model name:SGDClassifier\n",
      "train time: 997484.000s\n",
      "f1_score:   0.429\n",
      "f1_score_train:   0.936\n",
      "classification report:\n",
      "             precision    recall  f1-score   support\n",
      "\n",
      "          0       0.95      0.85      0.90        41\n",
      "          1       0.33      0.60      0.43         5\n",
      "\n",
      "avg / total       0.88      0.83      0.85        46\n",
      "\n",
      "confusion matrix:\n",
      "[[35  6]\n",
      " [ 2  3]]\n",
      "dimensionality: 28\n",
      "density: 1.000000\n",
      "================================================================================\n",
      "L1 penalty\n",
      "________________________________________________________________________________\n",
      "Training: \n",
      "326\n",
      "model name:LinearSVC\n",
      "train time: 968742.000s\n",
      "f1_score:   0.889\n",
      "f1_score_train:   0.972\n",
      "classification report:\n",
      "             precision    recall  f1-score   support\n",
      "\n",
      "          0       0.98      1.00      0.99        41\n",
      "          1       1.00      0.80      0.89         5\n",
      "\n",
      "avg / total       0.98      0.98      0.98        46\n",
      "\n",
      "confusion matrix:\n",
      "[[41  0]\n",
      " [ 1  4]]\n",
      "dimensionality: 28\n",
      "density: 0.785714\n",
      "________________________________________________________________________________\n",
      "Training: \n",
      "326\n",
      "model name:SGDClassifier\n",
      "train time: 0.000s\n",
      "f1_score:   0.533\n",
      "f1_score_train:   0.948\n",
      "classification report:\n",
      "             precision    recall  f1-score   support\n",
      "\n",
      "          0       0.97      0.85      0.91        41\n",
      "          1       0.40      0.80      0.53         5\n",
      "\n",
      "avg / total       0.91      0.85      0.87        46\n",
      "\n",
      "confusion matrix:\n",
      "[[35  6]\n",
      " [ 1  4]]\n",
      "dimensionality: 28\n",
      "density: 0.964286\n",
      "================================================================================\n",
      "Elastic-Net penalty\n",
      "________________________________________________________________________________\n",
      "Training: \n",
      "326\n",
      "model name:SGDClassifier\n",
      "train time: 984354.000s\n",
      "f1_score:   0.800\n",
      "f1_score_train:   0.902\n",
      "classification report:\n",
      "             precision    recall  f1-score   support\n",
      "\n",
      "          0       0.98      0.98      0.98        41\n",
      "          1       0.80      0.80      0.80         5\n",
      "\n",
      "avg / total       0.96      0.96      0.96        46\n",
      "\n",
      "confusion matrix:\n",
      "[[40  1]\n",
      " [ 1  4]]\n",
      "dimensionality: 28\n",
      "density: 0.928571\n",
      "================================================================================\n",
      "NearestCentroid (aka Rocchio classifier)\n",
      "________________________________________________________________________________\n",
      "Training: \n",
      "326\n",
      "model name:NearestCentroid\n",
      "train time: 999003.000s\n",
      "f1_score:   0.333\n",
      "f1_score_train:   0.498\n",
      "classification report:\n",
      "             precision    recall  f1-score   support\n",
      "\n",
      "          0       0.91      1.00      0.95        41\n",
      "          1       1.00      0.20      0.33         5\n",
      "\n",
      "avg / total       0.92      0.91      0.89        46\n",
      "\n",
      "confusion matrix:\n",
      "[[41  0]\n",
      " [ 4  1]]\n"
     ]
    }
   ],
   "source": [
    "\n",
    "selector = SelectKBest(f_classif, k='all')\n",
    "results = []\n",
    "model_name = []\n",
    "\n",
    "for clf, name in (\n",
    "        (RidgeClassifier(tol=1e-2, solver=\"lsqr\"), \"Ridge Classifier\"),\n",
    "        (Perceptron(n_iter=50), \"Perceptron\"),\n",
    "        (PassiveAggressiveClassifier(n_iter=50), \"Passive-Aggressive\"),\n",
    "        (KNeighborsClassifier(n_neighbors=5), \"kNN\"),\n",
    "        (RandomForestClassifier(n_estimators=100), \"Random forest\")):\n",
    "    selector_clf = benchmark(Pipeline([('selector', selector),('classifier', clf)]))\n",
    "    print('=' * 80)\n",
    "    print(name)\n",
    "    results.append(benchmark(clf))\n",
    "    model_name.append(name)\n",
    "    #model.append(clf)\n",
    "    \n",
    "for penalty in [\"l2\", \"l1\"]:\n",
    "    print('=' * 80)\n",
    "    print(\"%s penalty\" % penalty.upper())\n",
    "    # Train Liblinear model\n",
    "    results.append(benchmark(LinearSVC(loss='l2', penalty=penalty,dual=False, tol=1e-3)))\n",
    "    model_name.append(\"LinearSVC\"+\" \"+penalty)\n",
    "\n",
    "    # Train SGD model\n",
    "    results.append(benchmark(SGDClassifier(alpha=.0001, n_iter=50,penalty=penalty)))\n",
    "    model_name.append(\"SGDClassifier\"+\" \"+penalty)\n",
    "\n",
    "\n",
    "# Train SGD with Elastic Net penalty\n",
    "print('=' * 80)\n",
    "print(\"Elastic-Net penalty\")\n",
    "results.append(benchmark(SGDClassifier(alpha=.0001, n_iter=50,penalty=\"elasticnet\")))\n",
    "model_name.append(\"SGD with Elastic Net penalty\")\n",
    "\n",
    "\n",
    "# Train NearestCentroid without threshold\n",
    "print('=' * 80)\n",
    "print(\"NearestCentroid (aka Rocchio classifier)\")\n",
    "results.append(benchmark(NearestCentroid()))\n",
    "model_name.append(\"NearestCentroid (aka Rocchio classifier)\")\n"
   ]
  },
  {
   "cell_type": "markdown",
   "metadata": {},
   "source": [
    "# Define Neural Network model"
   ]
  },
  {
   "cell_type": "code",
   "execution_count": 121,
   "metadata": {
    "collapsed": true
   },
   "outputs": [],
   "source": [
    "def mlp_model(layers, units, dropout_rate, input_shape):\n",
    "    \"\"\"Creates an instance of a multi-layer perceptron model.\n",
    "\n",
    "    # Arguments\n",
    "        layers: int, number of `Dense` layers in the model.\n",
    "        units: int, output dimension of the layers.\n",
    "        dropout_rate: float, percentage of input to drop at Dropout layers.\n",
    "        input_shape: tuple, shape of input to the model.\n",
    "\n",
    "    # Returns\n",
    "        An MLP model instance.\n",
    "    \"\"\"\n",
    "    model = models.Sequential()\n",
    "    model.add(Dropout(rate=dropout_rate, input_shape=input_shape))\n",
    "\n",
    "    for _ in range(layers-1):\n",
    "        model.add(Dense(units=units, activation='relu'))\n",
    "        model.add(Dropout(rate=dropout_rate))\n",
    "\n",
    "    model.add(Dense(units=1, activation='sigmoid'))\n",
    "    return model"
   ]
  },
  {
   "cell_type": "markdown",
   "metadata": {},
   "source": [
    "# Compile Model"
   ]
  },
  {
   "cell_type": "code",
   "execution_count": 122,
   "metadata": {},
   "outputs": [
    {
     "name": "stdout",
     "output_type": "stream",
     "text": [
      "Model: \"sequential_1\"\n",
      "_________________________________________________________________\n",
      "Layer (type)                 Output Shape              Param #   \n",
      "=================================================================\n",
      "dropout_2 (Dropout)          (None, 28)                0         \n",
      "_________________________________________________________________\n",
      "dense_2 (Dense)              (None, 64)                1856      \n",
      "_________________________________________________________________\n",
      "dropout_3 (Dropout)          (None, 64)                0         \n",
      "_________________________________________________________________\n",
      "dense_3 (Dense)              (None, 1)                 65        \n",
      "=================================================================\n",
      "Total params: 1,921\n",
      "Trainable params: 1,921\n",
      "Non-trainable params: 0\n",
      "_________________________________________________________________\n"
     ]
    }
   ],
   "source": [
    "learning_rate=1e-3\n",
    "epochs=100\n",
    "batch_size=128\n",
    "layers=2\n",
    "units=64\n",
    "dropout_rate=0.2\n",
    "model = mlp_model(layers=layers,units=units,dropout_rate=dropout_rate,input_shape=X_train.shape[1:])\n",
    "optimizer = tf.keras.optimizers.Adam(lr=learning_rate)\n",
    "model.compile(optimizer=optimizer, loss='binary_crossentropy', metrics=['acc'])\n",
    "callbacks = [tf.keras.callbacks.EarlyStopping(monitor='val_loss', patience=3)]\n",
    "model.summary()"
   ]
  },
  {
   "cell_type": "markdown",
   "metadata": {},
   "source": [
    "# Train model and store results in array"
   ]
  },
  {
   "cell_type": "code",
   "execution_count": 123,
   "metadata": {},
   "outputs": [
    {
     "name": "stdout",
     "output_type": "stream",
     "text": [
      "================================================================================\n",
      "Keras Dense Neural Network\n",
      "________________________________________________________________________________\n",
      "Training: \n",
      "326\n",
      "model name:<tensorflow.python.keras.engine.sequential.Sequential object at 0x0000025842FD0A90>\n",
      "Train on 326 samples, validate on 46 samples\n",
      "Epoch 1/100\n",
      "326/326 - 0s - loss: 1.1199 - acc: 0.4877 - val_loss: 0.9469 - val_acc: 0.3913\n",
      "Epoch 2/100\n",
      "326/326 - 0s - loss: 1.1162 - acc: 0.5583 - val_loss: 0.8188 - val_acc: 0.5435\n",
      "Epoch 3/100\n",
      "326/326 - 0s - loss: 1.0230 - acc: 0.6012 - val_loss: 0.7118 - val_acc: 0.5652\n",
      "Epoch 4/100\n",
      "326/326 - 0s - loss: 0.8082 - acc: 0.6380 - val_loss: 0.6203 - val_acc: 0.5652\n",
      "Epoch 5/100\n",
      "326/326 - 0s - loss: 0.7297 - acc: 0.6656 - val_loss: 0.5460 - val_acc: 0.6304\n",
      "Epoch 6/100\n",
      "326/326 - 0s - loss: 0.6927 - acc: 0.6687 - val_loss: 0.4878 - val_acc: 0.6739\n",
      "Epoch 7/100\n",
      "326/326 - 0s - loss: 0.6600 - acc: 0.6595 - val_loss: 0.4444 - val_acc: 0.6739\n",
      "Epoch 8/100\n",
      "326/326 - 0s - loss: 0.5803 - acc: 0.6810 - val_loss: 0.4139 - val_acc: 0.6957\n",
      "Epoch 9/100\n",
      "326/326 - 0s - loss: 0.5554 - acc: 0.7270 - val_loss: 0.3906 - val_acc: 0.8696\n",
      "Epoch 10/100\n",
      "326/326 - 0s - loss: 0.5424 - acc: 0.7362 - val_loss: 0.3713 - val_acc: 0.8696\n",
      "Epoch 11/100\n",
      "326/326 - 0s - loss: 0.3893 - acc: 0.7914 - val_loss: 0.3549 - val_acc: 0.8696\n",
      "Epoch 12/100\n",
      "326/326 - 0s - loss: 0.4305 - acc: 0.7945 - val_loss: 0.3405 - val_acc: 0.8913\n",
      "Epoch 13/100\n",
      "326/326 - 0s - loss: 0.3831 - acc: 0.7791 - val_loss: 0.3278 - val_acc: 0.8913\n",
      "Epoch 14/100\n",
      "326/326 - 0s - loss: 0.3920 - acc: 0.8037 - val_loss: 0.3186 - val_acc: 0.8913\n",
      "Epoch 15/100\n",
      "326/326 - 0s - loss: 0.4093 - acc: 0.7853 - val_loss: 0.3121 - val_acc: 0.9348\n",
      "Epoch 16/100\n",
      "326/326 - 0s - loss: 0.4013 - acc: 0.7975 - val_loss: 0.3066 - val_acc: 0.9348\n",
      "Epoch 17/100\n",
      "326/326 - 0s - loss: 0.3543 - acc: 0.8221 - val_loss: 0.3022 - val_acc: 0.9348\n",
      "Epoch 18/100\n",
      "326/326 - 0s - loss: 0.3495 - acc: 0.8221 - val_loss: 0.2986 - val_acc: 0.9348\n",
      "Epoch 19/100\n",
      "326/326 - 0s - loss: 0.3374 - acc: 0.8344 - val_loss: 0.2942 - val_acc: 0.9348\n",
      "Epoch 20/100\n",
      "326/326 - 0s - loss: 0.3836 - acc: 0.8129 - val_loss: 0.2900 - val_acc: 0.9348\n",
      "Epoch 21/100\n",
      "326/326 - 0s - loss: 0.2886 - acc: 0.8589 - val_loss: 0.2858 - val_acc: 0.9348\n",
      "Epoch 22/100\n",
      "326/326 - 0s - loss: 0.3347 - acc: 0.8436 - val_loss: 0.2818 - val_acc: 0.9348\n",
      "Epoch 23/100\n",
      "326/326 - 0s - loss: 0.3215 - acc: 0.8558 - val_loss: 0.2786 - val_acc: 0.9348\n",
      "Epoch 24/100\n",
      "326/326 - 0s - loss: 0.3003 - acc: 0.8466 - val_loss: 0.2768 - val_acc: 0.9348\n",
      "Epoch 25/100\n",
      "326/326 - 0s - loss: 0.2752 - acc: 0.8497 - val_loss: 0.2761 - val_acc: 0.9348\n",
      "Epoch 26/100\n",
      "326/326 - 0s - loss: 0.2803 - acc: 0.8804 - val_loss: 0.2737 - val_acc: 0.9348\n",
      "Epoch 27/100\n",
      "326/326 - 0s - loss: 0.3077 - acc: 0.8558 - val_loss: 0.2714 - val_acc: 0.9348\n",
      "Epoch 28/100\n",
      "326/326 - 0s - loss: 0.2764 - acc: 0.8834 - val_loss: 0.2681 - val_acc: 0.9348\n",
      "Epoch 29/100\n",
      "326/326 - 0s - loss: 0.2945 - acc: 0.8926 - val_loss: 0.2647 - val_acc: 0.9348\n",
      "Epoch 30/100\n",
      "326/326 - 0s - loss: 0.2664 - acc: 0.8834 - val_loss: 0.2616 - val_acc: 0.9348\n",
      "Epoch 31/100\n",
      "326/326 - 0s - loss: 0.2624 - acc: 0.8865 - val_loss: 0.2572 - val_acc: 0.9348\n",
      "Epoch 32/100\n",
      "326/326 - 0s - loss: 0.3136 - acc: 0.8528 - val_loss: 0.2532 - val_acc: 0.9348\n",
      "Epoch 33/100\n",
      "326/326 - 0s - loss: 0.2957 - acc: 0.8589 - val_loss: 0.2508 - val_acc: 0.9348\n",
      "Epoch 34/100\n",
      "326/326 - 0s - loss: 0.2918 - acc: 0.8773 - val_loss: 0.2486 - val_acc: 0.9348\n",
      "Epoch 35/100\n",
      "326/326 - 0s - loss: 0.2879 - acc: 0.8773 - val_loss: 0.2471 - val_acc: 0.9348\n",
      "Epoch 36/100\n",
      "326/326 - 0s - loss: 0.2536 - acc: 0.8773 - val_loss: 0.2461 - val_acc: 0.9348\n",
      "Epoch 37/100\n",
      "326/326 - 0s - loss: 0.2641 - acc: 0.8865 - val_loss: 0.2456 - val_acc: 0.9348\n",
      "Epoch 38/100\n",
      "326/326 - 0s - loss: 0.2473 - acc: 0.9264 - val_loss: 0.2455 - val_acc: 0.9348\n",
      "Epoch 39/100\n",
      "326/326 - 0s - loss: 0.2569 - acc: 0.8988 - val_loss: 0.2450 - val_acc: 0.9565\n",
      "Epoch 40/100\n",
      "326/326 - 0s - loss: 0.2553 - acc: 0.9110 - val_loss: 0.2443 - val_acc: 0.9565\n",
      "Epoch 41/100\n",
      "326/326 - 0s - loss: 0.2736 - acc: 0.8681 - val_loss: 0.2432 - val_acc: 0.9565\n",
      "Epoch 42/100\n",
      "326/326 - 0s - loss: 0.2652 - acc: 0.8589 - val_loss: 0.2419 - val_acc: 0.9565\n",
      "Epoch 43/100\n",
      "326/326 - 0s - loss: 0.2437 - acc: 0.8926 - val_loss: 0.2396 - val_acc: 0.9565\n",
      "Epoch 44/100\n",
      "326/326 - 0s - loss: 0.2543 - acc: 0.8865 - val_loss: 0.2379 - val_acc: 0.9565\n",
      "Epoch 45/100\n",
      "326/326 - 0s - loss: 0.2349 - acc: 0.9080 - val_loss: 0.2359 - val_acc: 0.9565\n",
      "Epoch 46/100\n",
      "326/326 - 0s - loss: 0.2526 - acc: 0.8957 - val_loss: 0.2338 - val_acc: 0.9565\n",
      "Epoch 47/100\n",
      "326/326 - 0s - loss: 0.2518 - acc: 0.8834 - val_loss: 0.2328 - val_acc: 0.9565\n",
      "Epoch 48/100\n",
      "326/326 - 0s - loss: 0.2090 - acc: 0.9172 - val_loss: 0.2323 - val_acc: 0.9565\n",
      "Epoch 49/100\n",
      "326/326 - 0s - loss: 0.2562 - acc: 0.9049 - val_loss: 0.2305 - val_acc: 0.9565\n",
      "Epoch 50/100\n",
      "326/326 - 0s - loss: 0.2755 - acc: 0.8804 - val_loss: 0.2291 - val_acc: 0.9565\n",
      "Epoch 51/100\n",
      "326/326 - 0s - loss: 0.2398 - acc: 0.8988 - val_loss: 0.2289 - val_acc: 0.9565\n",
      "Epoch 52/100\n",
      "326/326 - 0s - loss: 0.2139 - acc: 0.9202 - val_loss: 0.2281 - val_acc: 0.9565\n",
      "Epoch 53/100\n",
      "326/326 - 0s - loss: 0.2469 - acc: 0.8988 - val_loss: 0.2275 - val_acc: 0.9565\n",
      "Epoch 54/100\n",
      "326/326 - 0s - loss: 0.2384 - acc: 0.8988 - val_loss: 0.2267 - val_acc: 0.9565\n",
      "Epoch 55/100\n",
      "326/326 - 0s - loss: 0.2354 - acc: 0.9141 - val_loss: 0.2261 - val_acc: 0.9565\n",
      "Epoch 56/100\n",
      "326/326 - 0s - loss: 0.2199 - acc: 0.9172 - val_loss: 0.2250 - val_acc: 0.9565\n",
      "Epoch 57/100\n",
      "326/326 - 0s - loss: 0.2582 - acc: 0.9080 - val_loss: 0.2234 - val_acc: 0.9565\n",
      "Epoch 58/100\n",
      "326/326 - 0s - loss: 0.2303 - acc: 0.9172 - val_loss: 0.2212 - val_acc: 0.9565\n",
      "Epoch 59/100\n",
      "326/326 - 0s - loss: 0.2522 - acc: 0.8804 - val_loss: 0.2203 - val_acc: 0.9565\n",
      "Epoch 60/100\n",
      "326/326 - 0s - loss: 0.2055 - acc: 0.9294 - val_loss: 0.2191 - val_acc: 0.9565\n",
      "Epoch 61/100\n",
      "326/326 - 0s - loss: 0.2264 - acc: 0.9141 - val_loss: 0.2175 - val_acc: 0.9565\n",
      "Epoch 62/100\n",
      "326/326 - 0s - loss: 0.2399 - acc: 0.9202 - val_loss: 0.2169 - val_acc: 0.9565\n",
      "Epoch 63/100\n",
      "326/326 - 0s - loss: 0.2188 - acc: 0.9172 - val_loss: 0.2163 - val_acc: 0.9565\n",
      "Epoch 64/100\n",
      "326/326 - 0s - loss: 0.2225 - acc: 0.9141 - val_loss: 0.2153 - val_acc: 0.9565\n",
      "Epoch 65/100\n",
      "326/326 - 0s - loss: 0.2006 - acc: 0.9264 - val_loss: 0.2136 - val_acc: 0.9565\n",
      "Epoch 66/100\n",
      "326/326 - 0s - loss: 0.2181 - acc: 0.9233 - val_loss: 0.2120 - val_acc: 0.9565\n",
      "Epoch 67/100\n",
      "326/326 - 0s - loss: 0.2073 - acc: 0.9325 - val_loss: 0.2104 - val_acc: 0.9565\n",
      "Epoch 68/100\n",
      "326/326 - 0s - loss: 0.2065 - acc: 0.9294 - val_loss: 0.2105 - val_acc: 0.9565\n",
      "Epoch 69/100\n",
      "326/326 - 0s - loss: 0.2256 - acc: 0.9110 - val_loss: 0.2117 - val_acc: 0.9565\n",
      "Epoch 70/100\n",
      "326/326 - 0s - loss: 0.1850 - acc: 0.9264 - val_loss: 0.2130 - val_acc: 0.9565\n",
      "train time: 442551.000s\n",
      "f1_score:   0.471\n",
      "f1_score_train:   0.896\n",
      "classification report:\n",
      "             precision    recall  f1-score   support\n",
      "\n",
      "          0       0.97      0.80      0.88        41\n",
      "          1       0.33      0.80      0.47         5\n",
      "\n",
      "avg / total       0.90      0.80      0.84        46\n",
      "\n",
      "confusion matrix:\n",
      "[[33  8]\n",
      " [ 1  4]]\n"
     ]
    }
   ],
   "source": [
    "print('=' * 80)\n",
    "print(\"Keras Dense Neural Network\")\n",
    "results.append(benchmark(model))\n",
    "model_name.append(\"Keras Dense Neural Network\")"
   ]
  },
  {
   "cell_type": "markdown",
   "metadata": {},
   "source": [
    "# Visualize the results from multiple Machine Learning Models (accuracy - train, accuracy - test, training time)"
   ]
  },
  {
   "cell_type": "code",
   "execution_count": 124,
   "metadata": {},
   "outputs": [
    {
     "data": {
      "image/png": "[encoded data removed]",
      "text/plain": [
       "<matplotlib.figure.Figure at 0x25843babf28>"
      ]
     },
     "metadata": {},
     "output_type": "display_data"
    }
   ],
   "source": [
    "indices = np.arange(len(results))\n",
    "\n",
    "results = [[x[i] for x in results] for i in range(4)]\n",
    "\n",
    "clf_names, f1_score_train, f1_score_test, training_time = results\n",
    "\n",
    "training_time = np.array(training_time) / np.max(training_time)\n",
    "\n",
    "plt.figure(figsize=(12, 8))\n",
    "plt.title(\"Score\")\n",
    "plt.barh(indices, f1_score_train, .2, label=\"f1_score_train\", color='r')\n",
    "plt.barh(indices+0.3, f1_score_test, .2, label=\"f1_score_test\", color='b')\n",
    "plt.barh(indices + .6, training_time, .2, label=\"training time\", color='g')\n",
    "plt.yticks(())\n",
    "plt.legend(loc='best')\n",
    "plt.subplots_adjust(left=.25)\n",
    "plt.subplots_adjust(top=.95)\n",
    "plt.subplots_adjust(bottom=.05)\n",
    "\n",
    "for i, c in zip(indices, model_name):\n",
    "    plt.text(-.3, i, c)\n",
    "\n",
    "plt.show()"
   ]
  },
  {
   "cell_type": "markdown",
   "metadata": {},
   "source": [
    "# The above results show the Precision and Accuracy of the 'Yes' cases is maximum with kNearestNeighboursClassifier and LinearSVC , after taking 2 components in PCA for each column."
   ]
  }
 ],
 "metadata": {
  "kernelspec": {
   "display_name": "Python 3",
   "language": "python",
   "name": "python3"
  },
  "language_info": {
   "codemirror_mode": {
    "name": "ipython",
    "version": 3
   },
   "file_extension": ".py",
   "mimetype": "text/x-python",
   "name": "python",
   "nbconvert_exporter": "python",
   "pygments_lexer": "ipython3",
   "version": "3.6.2"
  }
 },
 "nbformat": 4,
 "nbformat_minor": 2
}
