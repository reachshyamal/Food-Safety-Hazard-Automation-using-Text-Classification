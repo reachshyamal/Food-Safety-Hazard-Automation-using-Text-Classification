{
 "cells": [
  {
   "cell_type": "markdown",
   "metadata": {},
   "source": [
    "# This notebook reads text data from data extract created from FSHA Forms and runs predictive Models to predict the value 'Are there any consumer suitability or choke hazard concerns?' , based on the Input Data\n",
    "# It does vectorization of each Column and concatenates these Vectors to create a final Feature Vector and fits the best ML Model found from benchmarking study"
   ]
  },
  {
   "cell_type": "code",
   "execution_count": 247,
   "metadata": {
    "collapsed": true
   },
   "outputs": [],
   "source": [
    "#import all necessary modules\n",
    "from __future__ import print_function\n",
    "import logging\n",
    "from optparse import OptionParser\n",
    "import sys\n",
    "from time import time\n",
    "import matplotlib.pyplot as plt\n",
    "import os\n",
    "import nltk\n",
    "import string\n",
    "from nltk.stem.porter import PorterStemmer\n",
    "from nltk.tokenize import word_tokenize,sent_tokenize\n",
    "from nltk.tokenize import RegexpTokenizer\n",
    "import re\n",
    "import numpy as np\n",
    "from numpy import array\n",
    "from numpy import argmax\n",
    "from scipy import signal\n",
    "import random\n",
    "import string\n",
    "import pandas as pd\n",
    "from sklearn.model_selection import train_test_split \n",
    "from sklearn.pipeline import Pipeline\n",
    "from sklearn.feature_extraction.text import TfidfVectorizer\n",
    "from sklearn.feature_selection import SelectKBest, chi2\n",
    "from sklearn.preprocessing import LabelEncoder\n",
    "from sklearn.preprocessing import OneHotEncoder\n",
    "from sklearn.feature_selection import f_classif\n",
    "import matplotlib.pyplot as plt\n",
    "from sklearn.pipeline import Pipeline\n",
    "from sklearn.feature_extraction.text import CountVectorizer\n",
    "from sklearn.preprocessing import StandardScaler\n",
    "from sklearn.metrics import classification_report, confusion_matrix  \n",
    "from sklearn.linear_model import LogisticRegression\n",
    "from sklearn.linear_model import PassiveAggressiveClassifier\n",
    "from sklearn.svm import SVC \n",
    "from sklearn import svm\n",
    "from sklearn.svm import LinearSVC\n",
    "from sklearn.naive_bayes import MultinomialNB,BernoulliNB\n",
    "from sklearn.neighbors import KNeighborsClassifier\n",
    "from sklearn.neighbors import NearestCentroid\n",
    "from sklearn.linear_model import RidgeClassifier\n",
    "from sklearn.linear_model import SGDClassifier\n",
    "from sklearn import tree\n",
    "from sklearn.ensemble import RandomForestClassifier\n",
    "from sklearn import linear_model\n",
    "from sklearn.ensemble import AdaBoostClassifier\n",
    "from sklearn.linear_model import Perceptron\n",
    "from sklearn.neural_network import MLPClassifier\n",
    "from sklearn.utils.extmath import density\n",
    "from sklearn.decomposition import PCA\n",
    "from sklearn import metrics\n",
    "import tensorflow as tf\n",
    "from tensorflow.python.keras import models\n",
    "from tensorflow.python.keras import initializers\n",
    "from tensorflow.python.keras import regularizers\n",
    "from tensorflow.python.keras.layers import Dense\n",
    "from tensorflow.python.keras.layers import Dropout\n",
    "import warnings\n",
    "warnings.simplefilter('ignore')"
   ]
  },
  {
   "cell_type": "code",
   "execution_count": 248,
   "metadata": {},
   "outputs": [
    {
     "data": {
      "text/plain": [
       "'1.14.0'"
      ]
     },
     "execution_count": 248,
     "metadata": {},
     "output_type": "execute_result"
    }
   ],
   "source": [
    "tf.__version__"
   ]
  },
  {
   "cell_type": "code",
   "execution_count": 249,
   "metadata": {},
   "outputs": [
    {
     "name": "stdout",
     "output_type": "stream",
     "text": [
      "0.19.0\n"
     ]
    }
   ],
   "source": [
    "import sklearn\n",
    "print(sklearn.__version__)"
   ]
  },
  {
   "cell_type": "markdown",
   "metadata": {},
   "source": [
    "## File name and other important parameters like ngram_range set"
   ]
  },
  {
   "cell_type": "code",
   "execution_count": 250,
   "metadata": {
    "collapsed": true
   },
   "outputs": [],
   "source": [
    "#These parameters will be input from command line\n",
    "ngram_range_inp=(1,2)\n",
    "filename = \"C:/Pepsico/FSHA RPA - 25 July 2019 - 209Files.xlsm\""
   ]
  },
  {
   "cell_type": "code",
   "execution_count": 251,
   "metadata": {
    "collapsed": true
   },
   "outputs": [],
   "source": [
    "filename1 = \"C:/Pepsico/choke hazards_08 26.xlsm\""
   ]
  },
  {
   "cell_type": "markdown",
   "metadata": {},
   "source": [
    "# Define reusable modular method for Text Normalization (removal of stopwords, changing to lower case, removal of punctuation etc) "
   ]
  },
  {
   "cell_type": "code",
   "execution_count": 252,
   "metadata": {
    "collapsed": true
   },
   "outputs": [],
   "source": [
    "exclude = set(string.punctuation) \n",
    "wpt = nltk.WordPunctTokenizer()\n",
    "stop_words = nltk.corpus.stopwords.words('english')\n",
    "newStopWords = ['from','dtype','object']\n",
    "stop_words.extend(newStopWords)\n",
    "table = str.maketrans('', '', string.punctuation)\n",
    "\n",
    "porter = PorterStemmer()\n",
    "\n",
    "def normalize_document(doc):\n",
    "    # tokenize document\n",
    "    tokens = doc.split()\n",
    "    # remove punctuation from each word\n",
    "    tokens = [w.translate(table) for w in tokens]\n",
    "    # convert to lower case\n",
    "    lower_tokens = [w.lower() for w in tokens]\n",
    "    #remove spaces\n",
    "    stripped = [w.strip() for w in lower_tokens]\n",
    "    # remove remaining tokens that are not alphabetic\n",
    "    words = [word for word in stripped if word.isalpha()]\n",
    "    # filter stopwords out of document\n",
    "    filtered_tokens = [token for token in words if token not in stop_words]\n",
    "    # re-create document from filtered tokens\n",
    "    doc = ' '.join(filtered_tokens)\n",
    "    return doc\n",
    "\n",
    "#normalize_corpus = np.vectorize(normalize_document)"
   ]
  },
  {
   "cell_type": "code",
   "execution_count": 253,
   "metadata": {
    "collapsed": true
   },
   "outputs": [],
   "source": [
    "import pandas as pd\n",
    "import numpy as np\n",
    "import nltk\n",
    "from nltk.tokenize.toktok import ToktokTokenizer\n",
    "import re\n",
    "from bs4 import BeautifulSoup\n",
    "import unicodedata\n",
    "\n",
    "tokenizer = ToktokTokenizer()\n",
    "stopword_list = nltk.corpus.stopwords.words('english')\n",
    "stopword_list.remove('no')\n",
    "stopword_list.remove('not')\n",
    "def strip_html_tags(text):\n",
    "    soup = BeautifulSoup(text, \"html.parser\")\n",
    "    stripped_text = soup.get_text()\n",
    "    return stripped_text\n",
    "def remove_accented_chars(text):\n",
    "    text = unicodedata.normalize('NFKD', text).encode('ascii', 'ignore').decode('utf-8', 'ignore')\n",
    "    return text\n",
    "\n",
    "def remove_special_characters(text):\n",
    "    text = re.sub('[^a-zA-z0-9\\s]', '', text)\n",
    "    return text\n",
    "\n",
    "def remove_stopwords(text, is_lower_case=False):\n",
    "    tokens = tokenizer.tokenize(text)\n",
    "    tokens = [token.strip() for token in tokens]\n",
    "    if is_lower_case:\n",
    "        filtered_tokens = [token for token in tokens if token not in stopword_list]\n",
    "    else:\n",
    "        filtered_tokens = [token for token in tokens if token.lower() not in stopword_list]\n",
    "    filtered_text = ' '.join(filtered_tokens)    \n",
    "    return filtered_text\n",
    "def normalize_corpus(corpus, html_stripping=True, contraction_expansion=True,\n",
    "                     accented_char_removal=True, text_lower_case=True, \n",
    "                     text_lemmatization=True, special_char_removal=True, \n",
    "                     stopword_removal=True):\n",
    "    \n",
    "    normalized_corpus = []\n",
    "    # normalize each document in the corpus\n",
    "    #corpus = str(corpus)\n",
    "    for doc in corpus:\n",
    "        # strip HTML\n",
    "        if html_stripping:\n",
    "            doc = strip_html_tags(doc)\n",
    "        # remove accented characters\n",
    "        if accented_char_removal:\n",
    "            doc = remove_accented_chars(doc)\n",
    "\n",
    "        # lowercase the text    \n",
    "        if text_lower_case:\n",
    "            doc = doc.lower()\n",
    "        # remove extra newlines\n",
    "        doc = re.sub(r'[\\r|\\n|\\r\\n]+', ' ',doc)\n",
    "        # insert spaces between special characters to isolate them    \n",
    "        special_char_pattern = re.compile(r'([{.(-)!}])')\n",
    "        doc = special_char_pattern.sub(\" \\\\1 \", doc)\n",
    "        # remove special characters    \n",
    "        if special_char_removal:\n",
    "            doc = remove_special_characters(doc)  \n",
    "        # remove extra whitespace\n",
    "        doc = re.sub(' +', ' ', doc)\n",
    "        # remove stopwords\n",
    "        if stopword_removal:\n",
    "            doc = remove_stopwords(doc, is_lower_case=text_lower_case)\n",
    "            \n",
    "        normalized_corpus.append(doc)\n",
    "        \n",
    "    return normalized_corpus"
   ]
  },
  {
   "cell_type": "code",
   "execution_count": 254,
   "metadata": {
    "collapsed": true
   },
   "outputs": [],
   "source": [
    "def clean_doc(corpus):\n",
    "    normalized_corpus = []\n",
    "    # normalize each document in the corpus\n",
    "    #corpus = str(corpus)\n",
    "    for doc in corpus:\n",
    "\t# split into tokens by white space\n",
    "        doc=str(doc)\n",
    "        doc = doc.replace('\\n',' ')\n",
    "        tokens = doc.split()\n",
    "        # prepare regex for char filtering\n",
    "        re_punc = re.compile('[%s]' % re.escape(string.punctuation))\n",
    "        # remove punctuation from each word\n",
    "        tokens = [re_punc.sub('', w) for w in tokens]\n",
    "        # remove remaining tokens that are not alphabetic\n",
    "        tokens = [word for word in tokens if word.isalpha()]\n",
    "        # filter out stop words\n",
    "        tokens = [w for w in tokens if not w in stop_words]\n",
    "        # filter out short tokens\n",
    "        tokens = [word for word in tokens if len(word) > 1]\n",
    "        # remove nn from each word\n",
    "        tokens = [re.sub('nn',' ',word) for word in tokens]\n",
    "        tokens = ' '.join(tokens)\n",
    "        normalized_corpus.append(tokens)\n",
    "    return normalized_corpus"
   ]
  },
  {
   "cell_type": "markdown",
   "metadata": {},
   "source": [
    "# Read the data extract file (tabular format with Input data(X) and target(Y))"
   ]
  },
  {
   "cell_type": "code",
   "execution_count": 255,
   "metadata": {
    "collapsed": true
   },
   "outputs": [],
   "source": [
    "fsha_data = pd.read_excel(filename)"
   ]
  },
  {
   "cell_type": "code",
   "execution_count": 256,
   "metadata": {},
   "outputs": [
    {
     "data": {
      "text/plain": [
       "209"
      ]
     },
     "execution_count": 256,
     "metadata": {},
     "output_type": "execute_result"
    }
   ],
   "source": [
    "len(fsha_data)"
   ]
  },
  {
   "cell_type": "code",
   "execution_count": 257,
   "metadata": {
    "collapsed": true
   },
   "outputs": [],
   "source": [
    "fsha_data = fsha_data[(fsha_data['chokeHazard']=='No')]"
   ]
  },
  {
   "cell_type": "code",
   "execution_count": 258,
   "metadata": {},
   "outputs": [
    {
     "data": {
      "text/plain": [
       "204"
      ]
     },
     "execution_count": 258,
     "metadata": {},
     "output_type": "execute_result"
    }
   ],
   "source": [
    "len(fsha_data)"
   ]
  },
  {
   "cell_type": "code",
   "execution_count": 259,
   "metadata": {
    "collapsed": true
   },
   "outputs": [],
   "source": [
    "fsha_data_yes = pd.read_excel(filename1)"
   ]
  },
  {
   "cell_type": "code",
   "execution_count": 260,
   "metadata": {},
   "outputs": [
    {
     "data": {
      "text/plain": [
       "25"
      ]
     },
     "execution_count": 260,
     "metadata": {},
     "output_type": "execute_result"
    }
   ],
   "source": [
    "len(fsha_data_yes)"
   ]
  },
  {
   "cell_type": "code",
   "execution_count": 261,
   "metadata": {
    "collapsed": true
   },
   "outputs": [],
   "source": [
    "fsha_data = pd.concat([fsha_data,fsha_data_yes])"
   ]
  },
  {
   "cell_type": "code",
   "execution_count": 262,
   "metadata": {},
   "outputs": [
    {
     "data": {
      "text/plain": [
       "229"
      ]
     },
     "execution_count": 262,
     "metadata": {},
     "output_type": "execute_result"
    }
   ],
   "source": [
    "len(fsha_data)"
   ]
  },
  {
   "cell_type": "code",
   "execution_count": 263,
   "metadata": {},
   "outputs": [
    {
     "data": {
      "text/html": [
       "<div>\n",
       "<style>\n",
       "    .dataframe thead tr:only-child th {\n",
       "        text-align: right;\n",
       "    }\n",
       "\n",
       "    .dataframe thead th {\n",
       "        text-align: left;\n",
       "    }\n",
       "\n",
       "    .dataframe tbody tr th {\n",
       "        vertical-align: top;\n",
       "    }\n",
       "</style>\n",
       "<table border=\"1\" class=\"dataframe\">\n",
       "  <thead>\n",
       "    <tr style=\"text-align: right;\">\n",
       "      <th></th>\n",
       "      <th>CPD-ProdName</th>\n",
       "      <th>CPD-ProdName-Desc</th>\n",
       "      <th>Current TSG Stage</th>\n",
       "      <th>FSAssessors</th>\n",
       "      <th>FSDate</th>\n",
       "      <th>File Name</th>\n",
       "      <th>PDA_projName</th>\n",
       "      <th>PlantTrial</th>\n",
       "      <th>TCG</th>\n",
       "      <th>Table1_Row1_Celery</th>\n",
       "      <th>...</th>\n",
       "      <th>prodModifications</th>\n",
       "      <th>prodStorageDist</th>\n",
       "      <th>projDesc</th>\n",
       "      <th>projName</th>\n",
       "      <th>projType</th>\n",
       "      <th>sector</th>\n",
       "      <th>shelfLife</th>\n",
       "      <th>specificStorage</th>\n",
       "      <th>targetMarket</th>\n",
       "      <th>waterActivity</th>\n",
       "    </tr>\n",
       "  </thead>\n",
       "  <tbody>\n",
       "    <tr>\n",
       "      <th>0</th>\n",
       "      <td>1SKU Star Puffs Onion\\n2 SKU Star Puffs Cheese...</td>\n",
       "      <td>Extruded and baked corn base product, flavoure...</td>\n",
       "      <td>G3</td>\n",
       "      <td>Helen Booden</td>\n",
       "      <td>21/11/2017</td>\n",
       "      <td>#46565 FSHA 5.4.1Star Project G3 v2 + FS input...</td>\n",
       "      <td>1SKU Star Puffs Onion\\n2 SKU Star Puffs Cheese...</td>\n",
       "      <td>Tomaszow plant, trial conducted on 02/11/2017</td>\n",
       "      <td>Families and Adults, value conscious consumers</td>\n",
       "      <td>0</td>\n",
       "      <td>...</td>\n",
       "      <td>No</td>\n",
       "      <td>Store in a dry, cool and away from sun place.</td>\n",
       "      <td>Star Puffs Cheese &amp; STar Hyper Cheese\\nSeasoni...</td>\n",
       "      <td>S-T3-Star-• POL Star Puff (Chrupki) quality –POL</td>\n",
       "      <td>Brand Refresh</td>\n",
       "      <td>ESSA</td>\n",
       "      <td>26 weeks</td>\n",
       "      <td>No</td>\n",
       "      <td>People with allergies to milk, lactose, peanuts.</td>\n",
       "      <td>low moisture food</td>\n",
       "    </tr>\n",
       "    <tr>\n",
       "      <th>1</th>\n",
       "      <td>Hrusteam</td>\n",
       "      <td>Crispy Bread</td>\n",
       "      <td>Gate 3, 4</td>\n",
       "      <td>Fedor Kholodov</td>\n",
       "      <td>2019-06-14 00:00:00</td>\n",
       "      <td>#53697 FSHA HT Baguette 4 Cheese UA 2.07.19.xlsm</td>\n",
       "      <td>Hrusteam Baguette</td>\n",
       "      <td>Nikolaev</td>\n",
       "      <td>Adults</td>\n",
       "      <td>0</td>\n",
       "      <td>...</td>\n",
       "      <td>No</td>\n",
       "      <td>Keep at temperature 25 °C, &lt;75% humidity</td>\n",
       "      <td>Launch new seasoning 4 Cheese NL-502-352-9 on ...</td>\n",
       "      <td>HT Baguette Four Cheese Flavor</td>\n",
       "      <td>Refresh</td>\n",
       "      <td>ESSA</td>\n",
       "      <td>140 days</td>\n",
       "      <td>Keep at temperature 25 °C, &lt;75% humidity</td>\n",
       "      <td>No</td>\n",
       "      <td>low water activity</td>\n",
       "    </tr>\n",
       "    <tr>\n",
       "      <th>2</th>\n",
       "      <td>Lay's Red Caviar</td>\n",
       "      <td>Potato chips</td>\n",
       "      <td>Development + Scale-up</td>\n",
       "      <td>Helen Booden</td>\n",
       "      <td>2019-06-27 00:00:00</td>\n",
       "      <td>#57686 FSHA 5.4.1 Red Caviar  Azov.xlsm</td>\n",
       "      <td>Lay's Red Caviar</td>\n",
       "      <td>Azov, Russia</td>\n",
       "      <td>18-45 y.o. males 50%/females 50%</td>\n",
       "      <td>0</td>\n",
       "      <td>...</td>\n",
       "      <td>No</td>\n",
       "      <td>air temperature is not higher than 25 ˚С and r...</td>\n",
       "      <td>Idea is to launch I&amp;O flavour under New Year p...</td>\n",
       "      <td>Lay's Caviar IO 2019 RUS Asov</td>\n",
       "      <td>Refresh</td>\n",
       "      <td>ESSA</td>\n",
       "      <td>20+1 week</td>\n",
       "      <td>store the product for no more than 24 hours at...</td>\n",
       "      <td>people with allergy to ingredients in the prod...</td>\n",
       "      <td>Low water activity</td>\n",
       "    </tr>\n",
       "    <tr>\n",
       "      <th>3</th>\n",
       "      <td>Lay's Red Caviar</td>\n",
       "      <td>Potato chips</td>\n",
       "      <td>Development + Scale-up</td>\n",
       "      <td>Helen Booden</td>\n",
       "      <td>2019-06-27 00:00:00</td>\n",
       "      <td>#57686 FSHA 5.4.1 Red Caviar Kashira.xlsm</td>\n",
       "      <td>Lay's Red Caviar</td>\n",
       "      <td>Kashira, Russia</td>\n",
       "      <td>18-45 y.o. males 50%/females 50%</td>\n",
       "      <td>0</td>\n",
       "      <td>...</td>\n",
       "      <td>No</td>\n",
       "      <td>air temperature is not higher than 25 ˚С and r...</td>\n",
       "      <td>Idea is to launch I&amp;O flavour under New Year p...</td>\n",
       "      <td>Lay's Caviar IO 2019 RUS Kashira</td>\n",
       "      <td>Refresh</td>\n",
       "      <td>ESSA</td>\n",
       "      <td>20+1 week</td>\n",
       "      <td>store the product for no more than 24 hours at...</td>\n",
       "      <td>people with allergy to ingredients in the prod...</td>\n",
       "      <td>Low water activity</td>\n",
       "    </tr>\n",
       "    <tr>\n",
       "      <th>4</th>\n",
       "      <td>Cheetos Palomitos</td>\n",
       "      <td>Extruded product with \"popcorn\" shape with cre...</td>\n",
       "      <td>G3 4 Combined</td>\n",
       "      <td>Helen Booden</td>\n",
       "      <td>2018-11-28 00:00:00</td>\n",
       "      <td>53354-FSHA-In Process 13.12.18.xlsm</td>\n",
       "      <td>Cheetos Palomito</td>\n",
       "      <td>Burgos, Spain</td>\n",
       "      <td>Kids and families</td>\n",
       "      <td>0</td>\n",
       "      <td>...</td>\n",
       "      <td>No</td>\n",
       "      <td>Product to be sold in Iberia, storage in ambie...</td>\n",
       "      <td>Re Launch of Cheetos Palomitos, Soft Extruded ...</td>\n",
       "      <td>Soft and Mild Iberia 2019</td>\n",
       "      <td>Re Launch</td>\n",
       "      <td>ESSA</td>\n",
       "      <td>Flavour/color loss powered by clear film windo...</td>\n",
       "      <td>Ensure the bag is closed and consumed after 2 ...</td>\n",
       "      <td>Kids from  4-10</td>\n",
       "      <td>Low water activity</td>\n",
       "    </tr>\n",
       "  </tbody>\n",
       "</table>\n",
       "<p>5 rows × 138 columns</p>\n",
       "</div>"
      ],
      "text/plain": [
       "                                        CPD-ProdName  \\\n",
       "0  1SKU Star Puffs Onion\\n2 SKU Star Puffs Cheese...   \n",
       "1                                           Hrusteam   \n",
       "2                                   Lay's Red Caviar   \n",
       "3                                   Lay's Red Caviar   \n",
       "4                                  Cheetos Palomitos   \n",
       "\n",
       "                                   CPD-ProdName-Desc       Current TSG Stage  \\\n",
       "0  Extruded and baked corn base product, flavoure...                      G3   \n",
       "1                                       Crispy Bread               Gate 3, 4   \n",
       "2                                       Potato chips  Development + Scale-up   \n",
       "3                                       Potato chips  Development + Scale-up   \n",
       "4  Extruded product with \"popcorn\" shape with cre...           G3 4 Combined   \n",
       "\n",
       "      FSAssessors               FSDate  \\\n",
       "0    Helen Booden           21/11/2017   \n",
       "1  Fedor Kholodov  2019-06-14 00:00:00   \n",
       "2  Helen Booden    2019-06-27 00:00:00   \n",
       "3  Helen Booden    2019-06-27 00:00:00   \n",
       "4    Helen Booden  2018-11-28 00:00:00   \n",
       "\n",
       "                                           File Name  \\\n",
       "0  #46565 FSHA 5.4.1Star Project G3 v2 + FS input...   \n",
       "1   #53697 FSHA HT Baguette 4 Cheese UA 2.07.19.xlsm   \n",
       "2            #57686 FSHA 5.4.1 Red Caviar  Azov.xlsm   \n",
       "3          #57686 FSHA 5.4.1 Red Caviar Kashira.xlsm   \n",
       "4                53354-FSHA-In Process 13.12.18.xlsm   \n",
       "\n",
       "                                        PDA_projName  \\\n",
       "0  1SKU Star Puffs Onion\\n2 SKU Star Puffs Cheese...   \n",
       "1                                  Hrusteam Baguette   \n",
       "2                                  Lay's Red Caviar    \n",
       "3                                  Lay's Red Caviar    \n",
       "4                                   Cheetos Palomito   \n",
       "\n",
       "                                      PlantTrial  \\\n",
       "0  Tomaszow plant, trial conducted on 02/11/2017   \n",
       "1                                       Nikolaev   \n",
       "2                                   Azov, Russia   \n",
       "3                               Kashira, Russia    \n",
       "4                                  Burgos, Spain   \n",
       "\n",
       "                                              TCG Table1_Row1_Celery  \\\n",
       "0  Families and Adults, value conscious consumers                  0   \n",
       "1                                          Adults                  0   \n",
       "2                18-45 y.o. males 50%/females 50%                  0   \n",
       "3                18-45 y.o. males 50%/females 50%                  0   \n",
       "4                               Kids and families                  0   \n",
       "\n",
       "          ...         prodModifications  \\\n",
       "0         ...                        No   \n",
       "1         ...                        No   \n",
       "2         ...                        No   \n",
       "3         ...                        No   \n",
       "4         ...                        No   \n",
       "\n",
       "                                     prodStorageDist  \\\n",
       "0      Store in a dry, cool and away from sun place.   \n",
       "1           Keep at temperature 25 °C, <75% humidity   \n",
       "2  air temperature is not higher than 25 ˚С and r...   \n",
       "3  air temperature is not higher than 25 ˚С and r...   \n",
       "4  Product to be sold in Iberia, storage in ambie...   \n",
       "\n",
       "                                            projDesc  \\\n",
       "0  Star Puffs Cheese & STar Hyper Cheese\\nSeasoni...   \n",
       "1  Launch new seasoning 4 Cheese NL-502-352-9 on ...   \n",
       "2  Idea is to launch I&O flavour under New Year p...   \n",
       "3  Idea is to launch I&O flavour under New Year p...   \n",
       "4  Re Launch of Cheetos Palomitos, Soft Extruded ...   \n",
       "\n",
       "                                            projName       projType sector  \\\n",
       "0  S-T3-Star-• POL Star Puff (Chrupki) quality –POL   Brand Refresh   ESSA   \n",
       "1                     HT Baguette Four Cheese Flavor        Refresh   ESSA   \n",
       "2                      Lay's Caviar IO 2019 RUS Asov        Refresh   ESSA   \n",
       "3                   Lay's Caviar IO 2019 RUS Kashira        Refresh   ESSA   \n",
       "4                          Soft and Mild Iberia 2019      Re Launch   ESSA   \n",
       "\n",
       "                                           shelfLife  \\\n",
       "0                                           26 weeks   \n",
       "1                                           140 days   \n",
       "2                                          20+1 week   \n",
       "3                                          20+1 week   \n",
       "4  Flavour/color loss powered by clear film windo...   \n",
       "\n",
       "                                     specificStorage  \\\n",
       "0                                                 No   \n",
       "1           Keep at temperature 25 °C, <75% humidity   \n",
       "2  store the product for no more than 24 hours at...   \n",
       "3  store the product for no more than 24 hours at...   \n",
       "4  Ensure the bag is closed and consumed after 2 ...   \n",
       "\n",
       "                                        targetMarket       waterActivity  \n",
       "0   People with allergies to milk, lactose, peanuts.   low moisture food  \n",
       "1                                                 No  low water activity  \n",
       "2  people with allergy to ingredients in the prod...  Low water activity  \n",
       "3  people with allergy to ingredients in the prod...  Low water activity  \n",
       "4                                    Kids from  4-10  Low water activity  \n",
       "\n",
       "[5 rows x 138 columns]"
      ]
     },
     "execution_count": 263,
     "metadata": {},
     "output_type": "execute_result"
    }
   ],
   "source": [
    "fsha_data.head()"
   ]
  },
  {
   "cell_type": "markdown",
   "metadata": {},
   "source": [
    "# Based on Analysis select the Features (X)"
   ]
  },
  {
   "cell_type": "code",
   "execution_count": 264,
   "metadata": {
    "collapsed": true
   },
   "outputs": [],
   "source": [
    "#selecting set of columns as Features\n",
    "fsha_data.fillna('NA', inplace=True)\n",
    "features_df=fsha_data[['projDesc','PDA_projName','packMaterial', 'CPD-ProdName','CPD-ProdName-Desc','TCG', 'labelingInstructions',\n",
    "        'mishandled', 'targetMarket']]"
   ]
  },
  {
   "cell_type": "code",
   "execution_count": 265,
   "metadata": {
    "collapsed": true
   },
   "outputs": [],
   "source": [
    "def conv_str(x):\n",
    "   \n",
    "    x=str(x)\n",
    "    x=x.lower()\n",
    "    return (x)\n",
    "\n",
    "features_df['projDesc']=features_df['projDesc'].apply(lambda x:conv_str(x))  \n",
    "features_df['PDA_projName']=features_df['PDA_projName'].apply(lambda x:conv_str(x))\n",
    "features_df['packMaterial']=features_df['packMaterial'].apply(lambda x:conv_str(x))  \n",
    "features_df['CPD-ProdName']=features_df['CPD-ProdName'].apply(lambda x:conv_str(x))  \n",
    "features_df['CPD-ProdName-Desc']=features_df['CPD-ProdName-Desc'].apply(lambda x:conv_str(x))  \n",
    "features_df['TCG']=features_df['TCG'].apply(lambda x:conv_str(x)) \n",
    "features_df['labelingInstructions']=features_df['labelingInstructions'].apply(lambda x:conv_str(x)) \n",
    "features_df['mishandled']=features_df['mishandled'].apply(lambda x:conv_str(x))  \n",
    "features_df['targetMarket']=features_df['targetMarket'].apply(lambda x:conv_str(x)) "
   ]
  },
  {
   "cell_type": "markdown",
   "metadata": {},
   "source": [
    "# Replace missing values in features with NA"
   ]
  },
  {
   "cell_type": "code",
   "execution_count": 266,
   "metadata": {
    "collapsed": true
   },
   "outputs": [],
   "source": [
    "train_df = features_df"
   ]
  },
  {
   "cell_type": "markdown",
   "metadata": {},
   "source": [
    "# Define reusable code to Vectorize Text column (ex: Project Description) using TF-IDF Vectorizer, after doing Text data normalization"
   ]
  },
  {
   "cell_type": "code",
   "execution_count": 267,
   "metadata": {
    "collapsed": true
   },
   "outputs": [],
   "source": [
    "# Vectorization of text data using TF-IDF Vectorizer\n",
    "\n",
    "# Range (inclusive) of n-gram sizes for tokenizing text.\n",
    "#NGRAM_RANGE \n",
    "\n",
    "# Limit on the number of features. We use the top 20K features.\n",
    "#TOP_K = 20000\n",
    "\n",
    "# Whether text should be split into word or character n-grams.\n",
    "# One of 'word', 'char'.\n",
    "TOKEN_MODE = 'word'\n",
    "\n",
    "# Minimum document/corpus frequency below which a token will be discarded.\n",
    "MIN_DOCUMENT_FREQUENCY = 2\n",
    "\n",
    "# Limit on the length of text sequences. Sequences longer than this\n",
    "# will be truncated.\n",
    "MAX_SEQUENCE_LENGTH = 500\n",
    "ngram_range = n_gram_range\n",
    "n_gram_range = (1,2)\n",
    "kwargs = {\n",
    "            'ngram_range': ngram_range,  # Use 1-grams + 2-grams.\n",
    "            'dtype': 'int32',\n",
    "            'strip_accents': 'unicode',\n",
    "            'decode_error': 'replace',\n",
    "            'analyzer': TOKEN_MODE,  # Split text into word tokens.\n",
    "            'min_df': MIN_DOCUMENT_FREQUENCY,\n",
    "    }\n",
    "vectorizer = TfidfVectorizer(**kwargs)\n",
    "\n",
    "def ngram_vectorize(train_texts, train_labels,ngram_range):\n",
    "    \"\"\"Vectorizes texts as ngram vectors.\n",
    "\n",
    "    1 text = 1 tf-idf vector the length of vocabulary of uni-grams + bi-grams.\n",
    "\n",
    "    # Arguments\n",
    "        train_texts: list, training text strings.\n",
    "        train_labels: np.ndarray, training labels.\n",
    "        val_texts: list, validation text strings.\n",
    "\n",
    "    # Returns\n",
    "        x_train, x_val: vectorized training and validation texts\n",
    "    \"\"\"\n",
    "    # Create keyword arguments to pass to the 'tf-idf' vectorizer.\n",
    "\n",
    "    # Learn vocabulary from training texts and vectorize training texts.\n",
    "    x_train = vectorizer.fit_transform(train_texts)\n",
    "\n",
    "    x_train = x_train.astype('float32')\n",
    "    return x_train"
   ]
  },
  {
   "cell_type": "code",
   "execution_count": 268,
   "metadata": {},
   "outputs": [
    {
     "data": {
      "text/plain": [
       "Index(['projDesc', 'PDA_projName', 'packMaterial', 'CPD-ProdName',\n",
       "       'CPD-ProdName-Desc', 'TCG', 'labelingInstructions', 'mishandled',\n",
       "       'targetMarket'],\n",
       "      dtype='object')"
      ]
     },
     "execution_count": 268,
     "metadata": {},
     "output_type": "execute_result"
    }
   ],
   "source": [
    "train_df.columns"
   ]
  },
  {
   "cell_type": "markdown",
   "metadata": {},
   "source": [
    "# Normalize each column , by cleaning the text"
   ]
  },
  {
   "cell_type": "code",
   "execution_count": 269,
   "metadata": {
    "collapsed": true
   },
   "outputs": [],
   "source": [
    "#train_df['norm_allergens'] = normalize_corpus(train_df['allergens'])\n",
    "#train_df['norm_allergens_M']=normalize_corpus(train_df['allergensLabeledIMAF'])\n",
    "\n",
    "\n",
    "\n",
    "train_df['projDesc']=normalize_corpus(train_df['projDesc'])\n",
    "train_df['PDA_projName']=normalize_corpus(train_df['PDA_projName'])\n",
    "train_df['packMaterial']=normalize_corpus(train_df['packMaterial'])  \n",
    "train_df['CPD-ProdName']=normalize_corpus(train_df['CPD-ProdName'])  \n",
    "train_df['CPD-ProdName-Desc']=normalize_corpus(train_df['CPD-ProdName-Desc'])\n",
    "train_df['TCG']=normalize_corpus(train_df['TCG']) \n",
    "train_df['labelingInstructions']=normalize_corpus(train_df['labelingInstructions']) \n",
    "train_df['mishandled']=normalize_corpus(train_df['mishandled']) \n",
    "train_df['targetMarket']=normalize_corpus(train_df['targetMarket'])"
   ]
  },
  {
   "cell_type": "code",
   "execution_count": 270,
   "metadata": {},
   "outputs": [
    {
     "data": {
      "text/plain": [
       "Index(['projDesc', 'PDA_projName', 'packMaterial', 'CPD-ProdName',\n",
       "       'CPD-ProdName-Desc', 'TCG', 'labelingInstructions', 'mishandled',\n",
       "       'targetMarket'],\n",
       "      dtype='object')"
      ]
     },
     "execution_count": 270,
     "metadata": {},
     "output_type": "execute_result"
    }
   ],
   "source": [
    "train_df.columns"
   ]
  },
  {
   "cell_type": "markdown",
   "metadata": {},
   "source": [
    "# Binarize the target (1/0 for Yes/No)"
   ]
  },
  {
   "cell_type": "code",
   "execution_count": 271,
   "metadata": {
    "collapsed": true
   },
   "outputs": [],
   "source": [
    "import statistics \n",
    "\n",
    "def impute_target(fsha_data,targetName):\n",
    "    train_y=[]\n",
    "    for i in range (len(fsha_data)):\n",
    "        if fsha_data[targetName].values[i]=='Yes':\n",
    "            train_y.append(1)\n",
    "        elif fsha_data[targetName].values[i]=='No':\n",
    "            train_y.append(0)\n",
    "        else:\n",
    "            train_y.append(-1)\n",
    "               \n",
    "    mode_y = statistics.mode(train_y)\n",
    "\n",
    "    for i in range (len(fsha_data)):\n",
    "        if train_y[i]==-1:\n",
    "            train_y[i] = mode_y\n",
    "            \n",
    "    return train_y"
   ]
  },
  {
   "cell_type": "markdown",
   "metadata": {},
   "source": [
    "# Target (Yes/No choice) in PDAF are converted to binary values"
   ]
  },
  {
   "cell_type": "code",
   "execution_count": 272,
   "metadata": {
    "collapsed": true
   },
   "outputs": [],
   "source": [
    "train_y_chokehazard = impute_target(fsha_data,\"chokeHazard\")"
   ]
  },
  {
   "cell_type": "code",
   "execution_count": 273,
   "metadata": {
    "collapsed": true
   },
   "outputs": [],
   "source": [
    "train_df['target']=train_y_chokehazard"
   ]
  },
  {
   "cell_type": "code",
   "execution_count": 274,
   "metadata": {},
   "outputs": [
    {
     "data": {
      "text/plain": [
       "0    204\n",
       "1     25\n",
       "Name: target, dtype: int64"
      ]
     },
     "execution_count": 274,
     "metadata": {},
     "output_type": "execute_result"
    }
   ],
   "source": [
    "train_df['target'].value_counts()"
   ]
  },
  {
   "cell_type": "code",
   "execution_count": 275,
   "metadata": {
    "collapsed": true
   },
   "outputs": [],
   "source": [
    "y = train_df['target']\n",
    "train_df = train_df.drop('target',axis=1)"
   ]
  },
  {
   "cell_type": "markdown",
   "metadata": {},
   "source": [
    "# Perform n-gram vectorization and PCA on text data, columnwise, and concatenate (6 components per column)"
   ]
  },
  {
   "cell_type": "code",
   "execution_count": 276,
   "metadata": {
    "collapsed": true
   },
   "outputs": [],
   "source": [
    "n_gram_range = (1,2)\n",
    "n_components = 6\n",
    "whiten = False\n",
    "random_state = 42\n",
    "svd_solver=\"full\"\n",
    "pca = PCA(n_components=n_components,svd_solver=svd_solver,whiten=whiten, random_state=42)\n",
    "scaler = StandardScaler()\n",
    "\n",
    "def preprocess_text(train_df,y):    \n",
    "    train_labels = y\n",
    "    #x_ngram_allergens = ngram_vectorize(train_df['norm_allergens'], train_labels,n_gram_range).toarray()\n",
    "    #x_ngram_allergens_m = ngram_vectorize(train_df['norm_allergens_M'], train_labels,n_gram_range).toarray()\n",
    "    x_ngram_projDesc=ngram_vectorize(train_df['projDesc'], train_labels,n_gram_range).toarray()\n",
    "    x_ngram_PDA_projName=ngram_vectorize(train_df['PDA_projName'], train_labels,n_gram_range).toarray()\n",
    "    x_ngram_packMaterial=ngram_vectorize(train_df['packMaterial'], train_labels,n_gram_range).toarray() \n",
    "    x_ngram_CPD_ProdName=ngram_vectorize(train_df['CPD-ProdName'], train_labels,n_gram_range).toarray() \n",
    "    x_ngram_CPD_ProdName_Desc=ngram_vectorize(train_df['CPD-ProdName-Desc'], train_labels,n_gram_range).toarray()\n",
    "    x_ngram_TCG=ngram_vectorize(train_df['TCG'], train_labels,n_gram_range).toarray() \n",
    "    x_ngram_labelingInstructions=ngram_vectorize(train_df['labelingInstructions'], train_labels,n_gram_range).toarray()\n",
    "    x_ngram_mishandled=ngram_vectorize(train_df['mishandled'], train_labels,n_gram_range).toarray() \n",
    "    x_ngram_targetMarket=ngram_vectorize(train_df['targetMarket'], train_labels,n_gram_range).toarray()\n",
    "    train_df = train_df.drop(['projDesc','PDA_projName','packMaterial','CPD-ProdName','TCG','labelingInstructions','mishandled','targetMarket'],axis=1)\n",
    "    \n",
    "    \n",
    "    \n",
    "    x_ngram_projDesc = scaler.fit_transform(x_ngram_projDesc)\n",
    "    x_ngram_PDA_projName = scaler.fit_transform(x_ngram_PDA_projName)\n",
    "    x_ngram_packMaterial = scaler.fit_transform(x_ngram_packMaterial)\n",
    "    x_ngram_CPD_ProdName = scaler.fit_transform(x_ngram_CPD_ProdName)\n",
    "    x_ngram_CPD_ProdName_Desc = scaler.fit_transform(x_ngram_CPD_ProdName_Desc)\n",
    "    x_ngram_TCG = scaler.fit_transform(x_ngram_TCG)\n",
    "    x_ngram_labelingInstructions = scaler.fit_transform(x_ngram_labelingInstructions)\n",
    "    x_ngram_mishandled = scaler.fit_transform(x_ngram_mishandled)\n",
    "    x_ngram_targetMarket = scaler.fit_transform(x_ngram_targetMarket)\n",
    "    \n",
    "    x_pca_projDesc = pca.fit_transform(x_ngram_projDesc)\n",
    "    x_pca_PDA_projName = pca.fit_transform(x_ngram_PDA_projName)\n",
    "    x_pca_packMaterial = pca.fit_transform(x_ngram_packMaterial)\n",
    "    x_pca_CPD_ProdName = pca.fit_transform(x_ngram_CPD_ProdName)\n",
    "    x_pca_CPD_ProdName_Desc = pca.fit_transform(x_ngram_CPD_ProdName_Desc)\n",
    "    x_pca_TCG = pca.fit_transform(x_ngram_TCG)\n",
    "    x_pca_labelingInstructions = pca.fit_transform(x_ngram_labelingInstructions)\n",
    "    x_pca_mishandled = pca.fit_transform(x_ngram_mishandled)\n",
    "    x_pca_targetMarket = pca.fit_transform(x_ngram_targetMarket)\n",
    "    #x_pca_allergens_m = pca.fit_transform(x_ngram_allergens_m)\n",
    "    #print(x_pca_allergens.shape)\n",
    "    #print(x_pca_allergens_m.shape)\n",
    "    x_train = np.concatenate((x_pca_projDesc,x_pca_PDA_projName,x_pca_packMaterial,x_pca_CPD_ProdName,x_pca_CPD_ProdName_Desc,x_pca_TCG,x_pca_labelingInstructions,x_pca_mishandled,x_pca_targetMarket),axis=1)\n",
    "    print(x_train.shape)\n",
    "    return x_train  "
   ]
  },
  {
   "cell_type": "code",
   "execution_count": 277,
   "metadata": {},
   "outputs": [
    {
     "name": "stdout",
     "output_type": "stream",
     "text": [
      "(229, 54)\n"
     ]
    },
    {
     "data": {
      "text/plain": [
       "['vectorizer_chokehazard.pkl']"
      ]
     },
     "execution_count": 277,
     "metadata": {},
     "output_type": "execute_result"
    }
   ],
   "source": [
    "from sklearn.externals import joblib\n",
    "X_features = preprocess_text(train_df,y)\n",
    "joblib.dump(scaler, \"scaler_chokehazard.pkl\")\n",
    "joblib.dump(pca, \"pca_chokehazard.pkl\")\n",
    "joblib.dump(vectorizer,\"vectorizer_chokehazard.pkl\")"
   ]
  },
  {
   "cell_type": "code",
   "execution_count": 278,
   "metadata": {},
   "outputs": [
    {
     "data": {
      "text/plain": [
       "(229,)"
      ]
     },
     "execution_count": 278,
     "metadata": {},
     "output_type": "execute_result"
    }
   ],
   "source": [
    "y.shape"
   ]
  },
  {
   "cell_type": "markdown",
   "metadata": {},
   "source": [
    "# Perform train test split"
   ]
  },
  {
   "cell_type": "code",
   "execution_count": 279,
   "metadata": {
    "collapsed": true
   },
   "outputs": [],
   "source": [
    "X_train, X_test, y_train, y_test = train_test_split(X_features, y, test_size=.2, random_state=42,stratify = y)"
   ]
  },
  {
   "cell_type": "code",
   "execution_count": 280,
   "metadata": {},
   "outputs": [
    {
     "name": "stdout",
     "output_type": "stream",
     "text": [
      "(183, 54)\n",
      "(46, 54)\n"
     ]
    }
   ],
   "source": [
    "print(X_train.shape)\n",
    "print(X_test.shape)"
   ]
  },
  {
   "cell_type": "code",
   "execution_count": 281,
   "metadata": {},
   "outputs": [
    {
     "name": "stdout",
     "output_type": "stream",
     "text": [
      "(183,)\n",
      "(46,)\n"
     ]
    }
   ],
   "source": [
    "print(y_train.shape)\n",
    "print(y_test.shape)"
   ]
  },
  {
   "cell_type": "code",
   "execution_count": 282,
   "metadata": {
    "collapsed": true
   },
   "outputs": [],
   "source": [
    "X_train = pd.DataFrame(X_train)\n",
    "y_train = pd.DataFrame(y_train)"
   ]
  },
  {
   "cell_type": "code",
   "execution_count": 283,
   "metadata": {},
   "outputs": [
    {
     "name": "stdout",
     "output_type": "stream",
     "text": [
      "(183, 1)\n",
      "(46,)\n"
     ]
    }
   ],
   "source": [
    "print(y_train.shape)\n",
    "print(y_test.shape)"
   ]
  },
  {
   "cell_type": "code",
   "execution_count": 284,
   "metadata": {
    "collapsed": true
   },
   "outputs": [],
   "source": [
    "#X_train.columns = ['PCA_allergens_1','PCA_allergens_2','PCA_allergens_3','PCA_allergens_4','PCA_allergens_5','PCA_allergens_6','PCA_allergens_M_1','PCA_allergens_M_2','PCA_allergens_M_3','PCA_allergens_M_4','PCA_allergens_M_5','PCA_allergens_M_6']"
   ]
  },
  {
   "cell_type": "code",
   "execution_count": 285,
   "metadata": {},
   "outputs": [
    {
     "data": {
      "text/html": [
       "<div>\n",
       "<style>\n",
       "    .dataframe thead tr:only-child th {\n",
       "        text-align: right;\n",
       "    }\n",
       "\n",
       "    .dataframe thead th {\n",
       "        text-align: left;\n",
       "    }\n",
       "\n",
       "    .dataframe tbody tr th {\n",
       "        vertical-align: top;\n",
       "    }\n",
       "</style>\n",
       "<table border=\"1\" class=\"dataframe\">\n",
       "  <thead>\n",
       "    <tr style=\"text-align: right;\">\n",
       "      <th></th>\n",
       "      <th>0</th>\n",
       "      <th>1</th>\n",
       "      <th>2</th>\n",
       "      <th>3</th>\n",
       "      <th>4</th>\n",
       "      <th>5</th>\n",
       "      <th>6</th>\n",
       "      <th>7</th>\n",
       "      <th>8</th>\n",
       "      <th>9</th>\n",
       "      <th>...</th>\n",
       "      <th>44</th>\n",
       "      <th>45</th>\n",
       "      <th>46</th>\n",
       "      <th>47</th>\n",
       "      <th>48</th>\n",
       "      <th>49</th>\n",
       "      <th>50</th>\n",
       "      <th>51</th>\n",
       "      <th>52</th>\n",
       "      <th>53</th>\n",
       "    </tr>\n",
       "  </thead>\n",
       "  <tbody>\n",
       "    <tr>\n",
       "      <th>0</th>\n",
       "      <td>-2.506329</td>\n",
       "      <td>-8.853518</td>\n",
       "      <td>9.399597</td>\n",
       "      <td>-0.370044</td>\n",
       "      <td>0.144751</td>\n",
       "      <td>0.476547</td>\n",
       "      <td>-0.772311</td>\n",
       "      <td>0.077167</td>\n",
       "      <td>-0.898672</td>\n",
       "      <td>2.020158</td>\n",
       "      <td>...</td>\n",
       "      <td>0.695489</td>\n",
       "      <td>0.041002</td>\n",
       "      <td>-0.037519</td>\n",
       "      <td>-0.006774</td>\n",
       "      <td>-1.300389</td>\n",
       "      <td>-0.288930</td>\n",
       "      <td>-1.291586</td>\n",
       "      <td>-1.057247</td>\n",
       "      <td>-0.565636</td>\n",
       "      <td>-0.543289</td>\n",
       "    </tr>\n",
       "    <tr>\n",
       "      <th>1</th>\n",
       "      <td>-0.492383</td>\n",
       "      <td>0.743671</td>\n",
       "      <td>-1.390057</td>\n",
       "      <td>-0.130551</td>\n",
       "      <td>-0.104248</td>\n",
       "      <td>-0.067031</td>\n",
       "      <td>-0.577119</td>\n",
       "      <td>-0.140470</td>\n",
       "      <td>-0.356033</td>\n",
       "      <td>-1.167277</td>\n",
       "      <td>...</td>\n",
       "      <td>-1.140248</td>\n",
       "      <td>-0.596368</td>\n",
       "      <td>-0.617522</td>\n",
       "      <td>-0.034883</td>\n",
       "      <td>-1.013797</td>\n",
       "      <td>-0.182434</td>\n",
       "      <td>-0.776942</td>\n",
       "      <td>-0.443193</td>\n",
       "      <td>-0.112748</td>\n",
       "      <td>-0.073559</td>\n",
       "    </tr>\n",
       "    <tr>\n",
       "      <th>2</th>\n",
       "      <td>0.076171</td>\n",
       "      <td>0.476095</td>\n",
       "      <td>-1.496893</td>\n",
       "      <td>1.283932</td>\n",
       "      <td>0.350996</td>\n",
       "      <td>-0.133070</td>\n",
       "      <td>-0.613497</td>\n",
       "      <td>-0.020490</td>\n",
       "      <td>-0.978051</td>\n",
       "      <td>-0.425247</td>\n",
       "      <td>...</td>\n",
       "      <td>-1.140248</td>\n",
       "      <td>-0.596368</td>\n",
       "      <td>-0.617521</td>\n",
       "      <td>-0.034883</td>\n",
       "      <td>3.682249</td>\n",
       "      <td>18.138680</td>\n",
       "      <td>4.667863</td>\n",
       "      <td>0.061595</td>\n",
       "      <td>0.193597</td>\n",
       "      <td>0.020548</td>\n",
       "    </tr>\n",
       "    <tr>\n",
       "      <th>3</th>\n",
       "      <td>-1.249207</td>\n",
       "      <td>3.474395</td>\n",
       "      <td>-8.984358</td>\n",
       "      <td>-4.762253</td>\n",
       "      <td>-6.193226</td>\n",
       "      <td>-9.240916</td>\n",
       "      <td>-0.376746</td>\n",
       "      <td>-0.109328</td>\n",
       "      <td>-0.973648</td>\n",
       "      <td>-0.640036</td>\n",
       "      <td>...</td>\n",
       "      <td>-1.140248</td>\n",
       "      <td>-0.596368</td>\n",
       "      <td>-0.617521</td>\n",
       "      <td>-0.034883</td>\n",
       "      <td>-1.013795</td>\n",
       "      <td>-0.182430</td>\n",
       "      <td>-0.776940</td>\n",
       "      <td>-0.443193</td>\n",
       "      <td>-0.112748</td>\n",
       "      <td>-0.073561</td>\n",
       "    </tr>\n",
       "    <tr>\n",
       "      <th>4</th>\n",
       "      <td>-0.982773</td>\n",
       "      <td>-0.731722</td>\n",
       "      <td>-0.233618</td>\n",
       "      <td>-0.117784</td>\n",
       "      <td>0.165130</td>\n",
       "      <td>-0.114089</td>\n",
       "      <td>-1.028028</td>\n",
       "      <td>-0.039941</td>\n",
       "      <td>-3.289472</td>\n",
       "      <td>3.005561</td>\n",
       "      <td>...</td>\n",
       "      <td>-0.928555</td>\n",
       "      <td>-0.106260</td>\n",
       "      <td>3.216147</td>\n",
       "      <td>-0.099056</td>\n",
       "      <td>-0.931106</td>\n",
       "      <td>-0.156761</td>\n",
       "      <td>-0.656388</td>\n",
       "      <td>-0.330121</td>\n",
       "      <td>-0.057751</td>\n",
       "      <td>-0.022628</td>\n",
       "    </tr>\n",
       "  </tbody>\n",
       "</table>\n",
       "<p>5 rows × 54 columns</p>\n",
       "</div>"
      ],
      "text/plain": [
       "         0         1         2         3         4         5         6   \\\n",
       "0 -2.506329 -8.853518  9.399597 -0.370044  0.144751  0.476547 -0.772311   \n",
       "1 -0.492383  0.743671 -1.390057 -0.130551 -0.104248 -0.067031 -0.577119   \n",
       "2  0.076171  0.476095 -1.496893  1.283932  0.350996 -0.133070 -0.613497   \n",
       "3 -1.249207  3.474395 -8.984358 -4.762253 -6.193226 -9.240916 -0.376746   \n",
       "4 -0.982773 -0.731722 -0.233618 -0.117784  0.165130 -0.114089 -1.028028   \n",
       "\n",
       "         7         8         9     ...           44        45        46  \\\n",
       "0  0.077167 -0.898672  2.020158    ...     0.695489  0.041002 -0.037519   \n",
       "1 -0.140470 -0.356033 -1.167277    ...    -1.140248 -0.596368 -0.617522   \n",
       "2 -0.020490 -0.978051 -0.425247    ...    -1.140248 -0.596368 -0.617521   \n",
       "3 -0.109328 -0.973648 -0.640036    ...    -1.140248 -0.596368 -0.617521   \n",
       "4 -0.039941 -3.289472  3.005561    ...    -0.928555 -0.106260  3.216147   \n",
       "\n",
       "         47        48         49        50        51        52        53  \n",
       "0 -0.006774 -1.300389  -0.288930 -1.291586 -1.057247 -0.565636 -0.543289  \n",
       "1 -0.034883 -1.013797  -0.182434 -0.776942 -0.443193 -0.112748 -0.073559  \n",
       "2 -0.034883  3.682249  18.138680  4.667863  0.061595  0.193597  0.020548  \n",
       "3 -0.034883 -1.013795  -0.182430 -0.776940 -0.443193 -0.112748 -0.073561  \n",
       "4 -0.099056 -0.931106  -0.156761 -0.656388 -0.330121 -0.057751 -0.022628  \n",
       "\n",
       "[5 rows x 54 columns]"
      ]
     },
     "execution_count": 285,
     "metadata": {},
     "output_type": "execute_result"
    }
   ],
   "source": [
    "X_train.head()"
   ]
  },
  {
   "cell_type": "code",
   "execution_count": 286,
   "metadata": {},
   "outputs": [
    {
     "name": "stdout",
     "output_type": "stream",
     "text": [
      "(183, 54)\n",
      "(183, 1)\n"
     ]
    }
   ],
   "source": [
    "print(X_train.shape)\n",
    "print(y_train.shape)"
   ]
  },
  {
   "cell_type": "code",
   "execution_count": 287,
   "metadata": {
    "collapsed": true
   },
   "outputs": [],
   "source": [
    "#y_train=y_train.reindex()"
   ]
  },
  {
   "cell_type": "code",
   "execution_count": 288,
   "metadata": {
    "collapsed": true
   },
   "outputs": [],
   "source": [
    "X_train.reset_index(drop=True, inplace=True)\n",
    "y_train.reset_index(drop=True, inplace=True)"
   ]
  },
  {
   "cell_type": "markdown",
   "metadata": {},
   "source": [
    "# Upsample the chokeHazard = 'Yes' data, since the data is highly imbalanced"
   ]
  },
  {
   "cell_type": "code",
   "execution_count": 289,
   "metadata": {
    "collapsed": true
   },
   "outputs": [],
   "source": [
    "from sklearn.utils import resample\n",
    "\n",
    "# concatenate our training data back together\n",
    "X = pd.concat([X_train, y_train], axis=1)\n",
    "\n",
    "# separate minority and majority classes\n",
    "not_choke = X[X.target==0]\n",
    "choke = X[X.target==1]"
   ]
  },
  {
   "cell_type": "code",
   "execution_count": 290,
   "metadata": {},
   "outputs": [
    {
     "name": "stdout",
     "output_type": "stream",
     "text": [
      "163\n",
      "20\n"
     ]
    }
   ],
   "source": [
    "print(len(not_choke))\n",
    "print(len(choke))"
   ]
  },
  {
   "cell_type": "code",
   "execution_count": 291,
   "metadata": {
    "collapsed": true
   },
   "outputs": [],
   "source": [
    "# upsample minority\n",
    "choke_upsampled = resample(choke,\n",
    "                          replace=True, # sample with replacement\n",
    "                          n_samples=len(not_choke), # match number in majority class\n",
    "                          random_state=27) # reproducible results\n",
    "\n",
    "# combine majority and upsampled minority\n",
    "upsampled = pd.concat([choke_upsampled, not_choke])"
   ]
  },
  {
   "cell_type": "code",
   "execution_count": 292,
   "metadata": {},
   "outputs": [
    {
     "data": {
      "text/plain": [
       "1    163\n",
       "0    163\n",
       "Name: target, dtype: int64"
      ]
     },
     "execution_count": 292,
     "metadata": {},
     "output_type": "execute_result"
    }
   ],
   "source": [
    "upsampled.target.value_counts()"
   ]
  },
  {
   "cell_type": "code",
   "execution_count": 293,
   "metadata": {
    "collapsed": true
   },
   "outputs": [],
   "source": [
    "y_train = upsampled.target\n",
    "X_train = upsampled.drop('target', axis=1)"
   ]
  },
  {
   "cell_type": "code",
   "execution_count": 294,
   "metadata": {},
   "outputs": [
    {
     "data": {
      "text/plain": [
       "(326, 54)"
      ]
     },
     "execution_count": 294,
     "metadata": {},
     "output_type": "execute_result"
    }
   ],
   "source": [
    "X_train.shape"
   ]
  },
  {
   "cell_type": "code",
   "execution_count": 295,
   "metadata": {},
   "outputs": [
    {
     "data": {
      "text/plain": [
       "(array([], dtype=int64), array([], dtype=int64))"
      ]
     },
     "execution_count": 295,
     "metadata": {},
     "output_type": "execute_result"
    }
   ],
   "source": [
    "np.where(np.isnan(X_train))"
   ]
  },
  {
   "cell_type": "code",
   "execution_count": 296,
   "metadata": {
    "collapsed": true
   },
   "outputs": [],
   "source": [
    "#X_train.fillna( method ='ffill', inplace = True)"
   ]
  },
  {
   "cell_type": "code",
   "execution_count": 297,
   "metadata": {},
   "outputs": [
    {
     "data": {
      "text/plain": [
       "array([[-7.34e-01,  1.74e+00, -3.22e+00, -5.39e-01, -4.34e-01, -3.93e-01,\n",
       "        -2.66e+00,  1.28e+00,  1.01e+01,  5.82e-01,  5.51e-01,  4.60e-01,\n",
       "        -5.81e-01, -1.19e+00, -9.08e-01, -7.78e-02, -3.37e-02,  8.79e-04,\n",
       "         8.40e+00,  4.23e-01,  1.85e+00,  5.62e-01, -3.22e+00, -4.30e+00,\n",
       "        -6.87e-01, -5.08e-01, -5.08e-01, -4.44e-01, -7.55e-01, -3.63e-01,\n",
       "        -1.55e-01, -1.82e-01, -8.07e-01, -4.78e-01, -2.15e-01, -1.43e-01,\n",
       "        -6.83e-01, -5.01e-01, -5.02e-01,  3.22e-02,  8.95e-01, -2.43e-01,\n",
       "        -1.66e+00,  8.14e-01, -1.14e+00, -5.96e-01, -6.18e-01, -3.49e-02,\n",
       "        -1.01e+00, -1.82e-01, -7.77e-01, -4.43e-01, -1.13e-01, -7.36e-02],\n",
       "       [-2.51e+00, -8.85e+00,  9.40e+00, -3.70e-01,  1.45e-01,  4.77e-01,\n",
       "        -1.37e+00,  2.04e-01,  2.41e-01, -7.39e-01, -1.12e-01,  2.98e-01,\n",
       "        -1.88e+00,  5.18e+00, -1.67e-01, -2.05e-02, -9.80e-03, -1.69e-02,\n",
       "         2.17e+00, -7.81e-01, -2.45e-01, -7.99e-01, -1.75e+00,  3.83e+00,\n",
       "        -8.54e-01, -6.11e-01, -6.21e-01, -5.19e-01, -1.00e+00, -3.75e-01,\n",
       "        -3.87e-01, -3.10e-01, -1.19e+00, -5.11e-01,  2.54e-01, -2.63e+00,\n",
       "        -8.20e-01, -6.65e-01, -6.77e-02, -1.95e-01, -4.82e+00,  6.85e-01,\n",
       "         2.93e+00, -5.46e+00,  6.95e-01,  4.10e-02, -3.75e-02, -6.77e-03,\n",
       "        -1.30e+00, -2.89e-01, -1.29e+00, -1.06e+00, -5.66e-01, -5.43e-01],\n",
       "       [-4.77e-01,  1.00e+00, -2.04e+00, -3.50e-01, -3.66e-01, -3.37e-01,\n",
       "        -7.03e-01, -2.82e-02, -1.70e+00, -1.66e+00, -1.39e+00, -7.58e-01,\n",
       "        -5.81e-01, -1.19e+00, -9.08e-01, -7.78e-02, -3.37e-02,  8.79e-04,\n",
       "        -2.39e+00, -1.45e+00, -2.21e+00, -2.61e+00,  1.44e+00, -5.39e+00,\n",
       "         5.33e-01, -6.47e-01, -9.03e-01, -1.99e-01, -1.18e+00, -9.43e-01,\n",
       "        -2.05e-01, -2.12e-01, -1.09e+00, -7.11e-01, -4.81e-01, -1.62e-01,\n",
       "        -6.83e-01, -5.01e-01, -5.02e-01,  3.22e-02,  8.95e-01, -2.43e-01,\n",
       "        -3.02e+00,  2.19e+00,  8.42e+00,  9.84e-02, -9.39e-02, -1.01e-02,\n",
       "        -9.29e-01, -1.56e-01, -6.53e-01, -3.28e-01, -5.72e-02, -2.24e-02],\n",
       "       [-2.51e+00, -8.85e+00,  9.40e+00, -3.70e-01,  1.45e-01,  4.77e-01,\n",
       "         2.85e+00,  5.10e+00, -1.43e+00, -8.25e-01,  2.07e-01,  2.34e-01,\n",
       "        -5.81e-01, -1.19e+00, -9.08e-01, -7.78e-02, -3.37e-02,  8.79e-04,\n",
       "        -1.28e+00, -9.34e-01, -9.28e-01, -1.36e-01, -5.70e-01,  9.13e-01,\n",
       "        -9.14e-01, -6.88e-01, -6.60e-01,  5.94e-01,  3.43e-01, -9.53e-01,\n",
       "        -1.05e+00,  4.67e+00,  2.81e+00, -2.13e-01,  1.46e+01,  3.99e+00,\n",
       "        -8.20e-01, -6.65e-01, -6.77e-02, -1.95e-01, -4.82e+00,  6.85e-01,\n",
       "         1.12e+01,  6.68e+00,  2.11e-01, -2.98e-03, -5.42e-02, -7.90e-03,\n",
       "         1.73e+01, -2.58e+00, -2.25e-01, -7.28e-02,  6.54e-01, -1.49e+00],\n",
       "       [ 7.97e-03,  1.83e-02, -1.22e+00, -3.51e-02,  8.32e-01, -1.17e-01,\n",
       "        -5.74e-01, -2.16e-02, -9.29e-01, -3.98e-01,  1.46e-01,  8.73e-02,\n",
       "        -9.55e-01,  1.34e+00,  2.97e-01,  5.71e-02,  3.24e-02,  1.41e-01,\n",
       "        -7.49e-01, -6.09e-01, -6.36e-01, -3.11e-01, -3.84e-01,  1.10e+00,\n",
       "        -1.49e+00,  5.15e-01, -1.17e+00,  1.19e+01, -2.97e+00,  3.58e+01,\n",
       "        -7.14e-01, -9.65e-01, -5.35e+00,  2.70e+01,  2.38e-01,  1.08e+00,\n",
       "        -6.74e-01, -4.93e-01, -4.83e-01,  3.01e-02,  8.30e-01, -2.24e-01,\n",
       "        -1.66e+00,  8.14e-01, -1.14e+00, -5.96e-01, -6.18e-01, -3.49e-02,\n",
       "         3.30e+00,  1.89e+01,  4.82e+00,  6.51e-02,  2.59e-01, -1.26e-01]],\n",
       "      dtype=float32)"
      ]
     },
     "execution_count": 297,
     "metadata": {},
     "output_type": "execute_result"
    }
   ],
   "source": [
    "X_test[:5]"
   ]
  },
  {
   "cell_type": "code",
   "execution_count": 298,
   "metadata": {},
   "outputs": [
    {
     "data": {
      "text/html": [
       "<div>\n",
       "<style>\n",
       "    .dataframe thead tr:only-child th {\n",
       "        text-align: right;\n",
       "    }\n",
       "\n",
       "    .dataframe thead th {\n",
       "        text-align: left;\n",
       "    }\n",
       "\n",
       "    .dataframe tbody tr th {\n",
       "        vertical-align: top;\n",
       "    }\n",
       "</style>\n",
       "<table border=\"1\" class=\"dataframe\">\n",
       "  <thead>\n",
       "    <tr style=\"text-align: right;\">\n",
       "      <th></th>\n",
       "      <th>0</th>\n",
       "      <th>1</th>\n",
       "      <th>2</th>\n",
       "      <th>3</th>\n",
       "      <th>4</th>\n",
       "      <th>5</th>\n",
       "      <th>6</th>\n",
       "      <th>7</th>\n",
       "      <th>8</th>\n",
       "      <th>9</th>\n",
       "      <th>...</th>\n",
       "      <th>44</th>\n",
       "      <th>45</th>\n",
       "      <th>46</th>\n",
       "      <th>47</th>\n",
       "      <th>48</th>\n",
       "      <th>49</th>\n",
       "      <th>50</th>\n",
       "      <th>51</th>\n",
       "      <th>52</th>\n",
       "      <th>53</th>\n",
       "    </tr>\n",
       "  </thead>\n",
       "  <tbody>\n",
       "    <tr>\n",
       "      <th>177</th>\n",
       "      <td>-1.242172</td>\n",
       "      <td>3.792236</td>\n",
       "      <td>-5.078493</td>\n",
       "      <td>67.502380</td>\n",
       "      <td>-9.387849</td>\n",
       "      <td>0.636982</td>\n",
       "      <td>-0.389853</td>\n",
       "      <td>0.131318</td>\n",
       "      <td>-1.089417</td>\n",
       "      <td>-0.477927</td>\n",
       "      <td>...</td>\n",
       "      <td>-1.140248</td>\n",
       "      <td>-0.596368</td>\n",
       "      <td>-0.617521</td>\n",
       "      <td>-0.034883</td>\n",
       "      <td>-1.013795</td>\n",
       "      <td>-0.182430</td>\n",
       "      <td>-0.776940</td>\n",
       "      <td>-0.443193</td>\n",
       "      <td>-0.112748</td>\n",
       "      <td>-0.073561</td>\n",
       "    </tr>\n",
       "    <tr>\n",
       "      <th>71</th>\n",
       "      <td>-1.902015</td>\n",
       "      <td>47.553791</td>\n",
       "      <td>32.448292</td>\n",
       "      <td>-1.626407</td>\n",
       "      <td>1.223011</td>\n",
       "      <td>1.178849</td>\n",
       "      <td>-0.408145</td>\n",
       "      <td>-0.039019</td>\n",
       "      <td>-0.842341</td>\n",
       "      <td>-0.334381</td>\n",
       "      <td>...</td>\n",
       "      <td>-1.438444</td>\n",
       "      <td>8.845029</td>\n",
       "      <td>-0.579512</td>\n",
       "      <td>-0.833872</td>\n",
       "      <td>-2.096767</td>\n",
       "      <td>-5.078238</td>\n",
       "      <td>17.058996</td>\n",
       "      <td>-2.381617</td>\n",
       "      <td>-1.707279</td>\n",
       "      <td>-1.311785</td>\n",
       "    </tr>\n",
       "    <tr>\n",
       "      <th>153</th>\n",
       "      <td>-0.198973</td>\n",
       "      <td>2.254661</td>\n",
       "      <td>-3.531561</td>\n",
       "      <td>1.409162</td>\n",
       "      <td>2.698623</td>\n",
       "      <td>-0.349411</td>\n",
       "      <td>0.969510</td>\n",
       "      <td>-1.673032</td>\n",
       "      <td>-0.787432</td>\n",
       "      <td>-0.438780</td>\n",
       "      <td>...</td>\n",
       "      <td>-1.140248</td>\n",
       "      <td>-0.596368</td>\n",
       "      <td>-0.617521</td>\n",
       "      <td>-0.034883</td>\n",
       "      <td>8.250135</td>\n",
       "      <td>-1.065094</td>\n",
       "      <td>0.024022</td>\n",
       "      <td>1.722934</td>\n",
       "      <td>-5.676510</td>\n",
       "      <td>14.904561</td>\n",
       "    </tr>\n",
       "    <tr>\n",
       "      <th>62</th>\n",
       "      <td>-0.958635</td>\n",
       "      <td>6.474957</td>\n",
       "      <td>3.097427</td>\n",
       "      <td>0.494785</td>\n",
       "      <td>1.612184</td>\n",
       "      <td>0.070223</td>\n",
       "      <td>-0.393431</td>\n",
       "      <td>-0.090166</td>\n",
       "      <td>-0.892454</td>\n",
       "      <td>-0.363396</td>\n",
       "      <td>...</td>\n",
       "      <td>-1.438444</td>\n",
       "      <td>8.845029</td>\n",
       "      <td>-0.579512</td>\n",
       "      <td>-0.833872</td>\n",
       "      <td>-2.096767</td>\n",
       "      <td>-5.078238</td>\n",
       "      <td>17.058996</td>\n",
       "      <td>-2.381617</td>\n",
       "      <td>-1.707279</td>\n",
       "      <td>-1.311785</td>\n",
       "    </tr>\n",
       "    <tr>\n",
       "      <th>144</th>\n",
       "      <td>-0.197694</td>\n",
       "      <td>-0.279491</td>\n",
       "      <td>-0.807181</td>\n",
       "      <td>1.089401</td>\n",
       "      <td>0.461626</td>\n",
       "      <td>0.342679</td>\n",
       "      <td>-0.364738</td>\n",
       "      <td>-0.028272</td>\n",
       "      <td>-0.722509</td>\n",
       "      <td>-0.297001</td>\n",
       "      <td>...</td>\n",
       "      <td>-0.928555</td>\n",
       "      <td>-0.106260</td>\n",
       "      <td>3.216147</td>\n",
       "      <td>-0.099056</td>\n",
       "      <td>-0.931106</td>\n",
       "      <td>-0.156761</td>\n",
       "      <td>-0.656388</td>\n",
       "      <td>-0.330121</td>\n",
       "      <td>-0.057751</td>\n",
       "      <td>-0.022628</td>\n",
       "    </tr>\n",
       "  </tbody>\n",
       "</table>\n",
       "<p>5 rows × 54 columns</p>\n",
       "</div>"
      ],
      "text/plain": [
       "           0          1          2          3         4         5         6   \\\n",
       "177 -1.242172   3.792236  -5.078493  67.502380 -9.387849  0.636982 -0.389853   \n",
       "71  -1.902015  47.553791  32.448292  -1.626407  1.223011  1.178849 -0.408145   \n",
       "153 -0.198973   2.254661  -3.531561   1.409162  2.698623 -0.349411  0.969510   \n",
       "62  -0.958635   6.474957   3.097427   0.494785  1.612184  0.070223 -0.393431   \n",
       "144 -0.197694  -0.279491  -0.807181   1.089401  0.461626  0.342679 -0.364738   \n",
       "\n",
       "           7         8         9     ...            44        45        46  \\\n",
       "177  0.131318 -1.089417 -0.477927    ...     -1.140248 -0.596368 -0.617521   \n",
       "71  -0.039019 -0.842341 -0.334381    ...     -1.438444  8.845029 -0.579512   \n",
       "153 -1.673032 -0.787432 -0.438780    ...     -1.140248 -0.596368 -0.617521   \n",
       "62  -0.090166 -0.892454 -0.363396    ...     -1.438444  8.845029 -0.579512   \n",
       "144 -0.028272 -0.722509 -0.297001    ...     -0.928555 -0.106260  3.216147   \n",
       "\n",
       "           47        48        49         50        51        52         53  \n",
       "177 -0.034883 -1.013795 -0.182430  -0.776940 -0.443193 -0.112748  -0.073561  \n",
       "71  -0.833872 -2.096767 -5.078238  17.058996 -2.381617 -1.707279  -1.311785  \n",
       "153 -0.034883  8.250135 -1.065094   0.024022  1.722934 -5.676510  14.904561  \n",
       "62  -0.833872 -2.096767 -5.078238  17.058996 -2.381617 -1.707279  -1.311785  \n",
       "144 -0.099056 -0.931106 -0.156761  -0.656388 -0.330121 -0.057751  -0.022628  \n",
       "\n",
       "[5 rows x 54 columns]"
      ]
     },
     "execution_count": 298,
     "metadata": {},
     "output_type": "execute_result"
    }
   ],
   "source": [
    "X_train[:5]"
   ]
  },
  {
   "cell_type": "markdown",
   "metadata": {},
   "source": [
    "# Fit the RandomForestClassifier since the benchmarking study shows this model giving best results"
   ]
  },
  {
   "cell_type": "code",
   "execution_count": 299,
   "metadata": {},
   "outputs": [
    {
     "name": "stdout",
     "output_type": "stream",
     "text": [
      "f1_score:   0.909\n",
      "f1_score_train:   1.000\n",
      "classification report:\n",
      "             precision    recall  f1-score   support\n",
      "\n",
      "          0       1.00      0.98      0.99        41\n",
      "          1       0.83      1.00      0.91         5\n",
      "\n",
      "avg / total       0.98      0.98      0.98        46\n",
      "\n",
      "confusion matrix:\n",
      "[[40  1]\n",
      " [ 0  5]]\n"
     ]
    }
   ],
   "source": [
    "selector = SelectKBest(f_classif, k='all')\n",
    "selector_clf = Pipeline([('selector', selector),('classifier', RandomForestClassifier(n_estimators=100))])\n",
    "selector_clf.fit(X_train, y_train)\n",
    "pred = selector_clf.predict(X_test)\n",
    "pred_train = selector_clf.predict(X_train)\n",
    "\n",
    "f1_score = metrics.f1_score(y_test, pred)\n",
    "print(\"f1_score:   %0.3f\" % f1_score )\n",
    "    \n",
    "f1_score_train = metrics.f1_score(y_train, pred_train)\n",
    "print(\"f1_score_train:   %0.3f\" % f1_score_train )\n",
    "    \n",
    "print(\"classification report:\")\n",
    "print(classification_report(y_test, pred))\n",
    "    \n",
    "print(\"confusion matrix:\")\n",
    "print(metrics.confusion_matrix(y_test, pred))\n",
    "y_pred = pred"
   ]
  },
  {
   "cell_type": "markdown",
   "metadata": {},
   "source": [
    "# Lets plot the confusion matrix for ChokeHazard"
   ]
  },
  {
   "cell_type": "code",
   "execution_count": 300,
   "metadata": {},
   "outputs": [
    {
     "data": {
      "image/png": "[encoded data removed]",
      "text/plain": [
       "<matplotlib.figure.Figure at 0x17e20777ba8>"
      ]
     },
     "metadata": {},
     "output_type": "display_data"
    }
   ],
   "source": [
    "from sklearn.metrics import confusion_matrix\n",
    "def plot_confusion_matrix(y_true, y_pred, classes,\n",
    "                          normalize=False,\n",
    "                          title=None,\n",
    "                          cmap=plt.cm.Blues):\n",
    "    \"\"\"\n",
    "    This function prints and plots the confusion matrix.\n",
    "    Normalization can be applied by setting `normalize=True`.\n",
    "    \"\"\"\n",
    "    if not title:\n",
    "        if normalize:\n",
    "            title = 'Normalized confusion matrix'\n",
    "        else:\n",
    "            title = 'Confusion matrix, without normalization'\n",
    "\n",
    "    # Compute confusion matrix\n",
    "    cm = confusion_matrix(y_true, y_pred)\n",
    "    # Only use the labels that appear in the data\n",
    "    #classes = classes[unique_labels(y_true, y_pred)]\n",
    "    if normalize:\n",
    "        cm = cm.astype('float') / cm.sum(axis=1)[:, np.newaxis]\n",
    "        #print(\"Normalized confusion matrix\")\n",
    "   # else:\n",
    "        #print('Confusion matrix, without normalization')\n",
    "\n",
    "    #print(cm)\n",
    "\n",
    "    fig, ax = plt.subplots()\n",
    "    im = ax.imshow(cm, interpolation='nearest', cmap=cmap)\n",
    "    ax.figure.colorbar(im, ax=ax)\n",
    "    # We want to show all ticks...\n",
    "    ax.set(xticks=np.arange(cm.shape[1]),\n",
    "           yticks=np.arange(cm.shape[0]),\n",
    "           # ... and label them with the respective list entries\n",
    "           xticklabels=classes, yticklabels=classes,\n",
    "           title=title,\n",
    "           ylabel='True label',\n",
    "           xlabel='Predicted label')\n",
    "\n",
    "    # Rotate the tick labels and set their alignment.\n",
    "    plt.setp(ax.get_xticklabels(), rotation=45, ha=\"right\",\n",
    "             rotation_mode=\"anchor\")\n",
    "\n",
    "    # Loop over data dimensions and create text annotations.\n",
    "    fmt = '.2f' if normalize else 'd'\n",
    "    thresh = cm.max() / 2.\n",
    "    for i in range(cm.shape[0]):\n",
    "        for j in range(cm.shape[1]):\n",
    "            ax.text(j, i, format(cm[i, j], fmt),\n",
    "                    ha=\"center\", va=\"center\",\n",
    "                    color=\"white\" if cm[i, j] > thresh else \"black\")\n",
    "    fig.tight_layout()\n",
    "    return ax\n",
    "\n",
    "\n",
    "np.set_printoptions(precision=2)\n",
    "\n",
    "class_names=['No','Yes']\n",
    "# Plot non-normalized confusion matrix\n",
    "plot_confusion_matrix(y_test, y_pred, classes=class_names,\n",
    "                      title='Confusion matrix, without normalization')\n",
    "\n",
    "# Plot normalized confusion matrix\n",
    "#plot_confusion_matrix(y_test, y_pred, classes=class_names, normalize=True,\n",
    "#                      title='Normalized confusion matrix')\n",
    "\n",
    "plt.show()"
   ]
  },
  {
   "cell_type": "markdown",
   "metadata": {},
   "source": [
    "# The above results show the Precision and Accuracy of the 'Yes' cases is maximum with RandomForestClassifier , after taking 6 components in PCA, with StandardScaler."
   ]
  },
  {
   "cell_type": "markdown",
   "metadata": {},
   "source": [
    "# Fit the RandomForestClassifier on full data since the benchmarking study shows this model giving best results\n",
    "# Lets do a k fold CV and verify the results"
   ]
  },
  {
   "cell_type": "code",
   "execution_count": 301,
   "metadata": {},
   "outputs": [
    {
     "name": "stdout",
     "output_type": "stream",
     "text": [
      "(229, 54)\n",
      "(229,)\n"
     ]
    }
   ],
   "source": [
    "print(X_features.shape)\n",
    "print(y.shape)"
   ]
  },
  {
   "cell_type": "code",
   "execution_count": 302,
   "metadata": {
    "collapsed": true
   },
   "outputs": [],
   "source": [
    "X_features = pd.DataFrame(X_features)\n",
    "y = pd.DataFrame(y)"
   ]
  },
  {
   "cell_type": "code",
   "execution_count": 303,
   "metadata": {
    "collapsed": true
   },
   "outputs": [],
   "source": [
    "X_features.reset_index(drop=True, inplace=True)\n",
    "y.reset_index(drop=True, inplace=True)"
   ]
  },
  {
   "cell_type": "code",
   "execution_count": 304,
   "metadata": {
    "collapsed": true
   },
   "outputs": [],
   "source": [
    "from sklearn.utils import resample\n",
    "\n",
    "# concatenate our training data back together\n",
    "X = pd.concat([X_features, y], axis=1)\n",
    "\n",
    "# separate minority and majority classes\n",
    "not_choke = X[X.target==0]\n",
    "choke = X[X.target==1]"
   ]
  },
  {
   "cell_type": "code",
   "execution_count": 305,
   "metadata": {},
   "outputs": [
    {
     "name": "stdout",
     "output_type": "stream",
     "text": [
      "204\n",
      "25\n"
     ]
    }
   ],
   "source": [
    "print(len(not_choke))\n",
    "print(len(choke))"
   ]
  },
  {
   "cell_type": "code",
   "execution_count": 306,
   "metadata": {
    "collapsed": true
   },
   "outputs": [],
   "source": [
    "# upsample minority\n",
    "choke_upsampled = resample(choke,\n",
    "                          replace=True, # sample with replacement\n",
    "                          n_samples=len(not_choke), # match number in majority class\n",
    "                          random_state=27) # reproducible results\n",
    "\n",
    "# combine majority and upsampled minority\n",
    "upsampled = pd.concat([choke_upsampled, not_choke])"
   ]
  },
  {
   "cell_type": "code",
   "execution_count": 307,
   "metadata": {},
   "outputs": [
    {
     "data": {
      "text/plain": [
       "1    204\n",
       "0    204\n",
       "Name: target, dtype: int64"
      ]
     },
     "execution_count": 307,
     "metadata": {},
     "output_type": "execute_result"
    }
   ],
   "source": [
    "upsampled.target.value_counts()"
   ]
  },
  {
   "cell_type": "code",
   "execution_count": 308,
   "metadata": {
    "collapsed": true
   },
   "outputs": [],
   "source": [
    "y_train = upsampled.target\n",
    "X_train = upsampled.drop('target', axis=1)"
   ]
  },
  {
   "cell_type": "code",
   "execution_count": 309,
   "metadata": {},
   "outputs": [
    {
     "data": {
      "text/plain": [
       "(408, 54)"
      ]
     },
     "execution_count": 309,
     "metadata": {},
     "output_type": "execute_result"
    }
   ],
   "source": [
    "X_train.shape"
   ]
  },
  {
   "cell_type": "code",
   "execution_count": 310,
   "metadata": {
    "collapsed": true
   },
   "outputs": [],
   "source": [
    "from sklearn.metrics import make_scorer\n",
    "from sklearn.model_selection import cross_validate\n",
    "from sklearn.metrics import confusion_matrix\n",
    "from sklearn.model_selection import ShuffleSplit\n",
    "#We define custom functions to return count of TP,TN,FP,FN for each fold\n",
    "def tn(y_train, pred_train): return confusion_matrix(y_train, pred_train)[0, 0]\n",
    "def fp(y_train, pred_train): return confusion_matrix(y_train, pred_train)[0, 1]\n",
    "def fn(y_train, pred_train): return confusion_matrix(y_train, pred_train)[1, 0]\n",
    "def tp(y_train, pred_train): return confusion_matrix(y_train, pred_train)[1, 1]\n",
    "\n",
    "scoring = {'tp': make_scorer(tp), 'tn': make_scorer(tn),'fp': make_scorer(fp), 'fn': make_scorer(fn)}\n",
    "cv = ShuffleSplit(n_splits=5, test_size=0.2, random_state=42)\n",
    "\n",
    "selector = SelectKBest(f_classif, k='all')\n",
    "selector_clf = Pipeline([('selector', selector),('classifier', RandomForestClassifier(n_estimators=100))])\n",
    "#selector_clf.fit(X_train, y_train)\n",
    "cv_results = cross_validate(selector_clf.fit(X_train, y_train), X_train, y_train,scoring=scoring, cv=cv)"
   ]
  },
  {
   "cell_type": "code",
   "execution_count": 311,
   "metadata": {},
   "outputs": [
    {
     "name": "stdout",
     "output_type": "stream",
     "text": [
      "Count of True Positives\n",
      "[47 43 37 32 38]\n",
      "Count of True Negatives\n",
      "[35 39 45 50 43]\n",
      "Count of False Negatives\n",
      "[0 0 0 0 0]\n",
      "Count of False Positives\n",
      "[0 0 0 0 1]\n"
     ]
    }
   ],
   "source": [
    "print(\"Count of True Positives\")\n",
    "print(cv_results['test_tp']) \n",
    "print(\"Count of True Negatives\")\n",
    "print(cv_results['test_tn']) \n",
    "# Getting the test set false negative scores\n",
    "print(\"Count of False Negatives\")\n",
    "print(cv_results['test_fn']) \n",
    "print(\"Count of False Positives\")\n",
    "print(cv_results['test_fp']) "
   ]
  },
  {
   "cell_type": "code",
   "execution_count": 312,
   "metadata": {
    "collapsed": true
   },
   "outputs": [],
   "source": [
    "from sklearn.model_selection import cross_validate\n",
    "cv_results = cross_validate(selector_clf.fit(X_train, y_train), X_train, y_train,cv=5)"
   ]
  },
  {
   "cell_type": "code",
   "execution_count": 313,
   "metadata": {},
   "outputs": [
    {
     "name": "stdout",
     "output_type": "stream",
     "text": [
      "[0.96 0.99 1.   0.95 1.  ]\n"
     ]
    }
   ],
   "source": [
    "print(cv_results['test_score'])"
   ]
  },
  {
   "cell_type": "markdown",
   "metadata": {},
   "source": [
    "# Saving the model for predictions on validation data to be provided"
   ]
  },
  {
   "cell_type": "code",
   "execution_count": 314,
   "metadata": {},
   "outputs": [
    {
     "data": {
      "text/plain": [
       "['finalized_model_ChokeHazard.sav']"
      ]
     },
     "execution_count": 314,
     "metadata": {},
     "output_type": "execute_result"
    }
   ],
   "source": [
    "import pickle\n",
    "\n",
    "filename = 'finalized_model_ChokeHazard.sav'\n",
    "joblib.dump(selector_clf,filename)"
   ]
  },
  {
   "cell_type": "markdown",
   "metadata": {},
   "source": [
    "# Loading instances"
   ]
  },
  {
   "cell_type": "code",
   "execution_count": 315,
   "metadata": {
    "collapsed": true
   },
   "outputs": [],
   "source": [
    "train_df =  train_df[:5]"
   ]
  },
  {
   "cell_type": "code",
   "execution_count": 316,
   "metadata": {
    "collapsed": true
   },
   "outputs": [],
   "source": [
    "def preprocess_text(train_df):    \n",
    "    scaler_load = joblib.load(\"scaler_chokehazard.pkl\")\n",
    "    pca_load = joblib.load(\"pca_chokehazard.pkl\")\n",
    "    vectorizer_load = joblib.load(\"vectorizer_chokehazard.pkl\")\n",
    "    #x_ngram_allergens = ngram_vectorize(train_df['norm_allergens'], train_labels,n_gram_range).toarray()\n",
    "    #x_ngram_allergens_m = ngram_vectorize(train_df['norm_allergens_M'], train_labels,n_gram_range).toarray()\n",
    "    x_ngram_projDesc=vectorizer_load.transform(train_df['projDesc']).toarray()\n",
    "    x_ngram_PDA_projName=vectorizer_load.transform(train_df['PDA_projName']).toarray()\n",
    "    x_ngram_packMaterial=vectorizer_load.transform(train_df['packMaterial']).toarray() \n",
    "    x_ngram_CPD_ProdName=vectorizer_load.transform(train_df['CPD-ProdName']).toarray() \n",
    "    x_ngram_CPD_ProdName_Desc=vectorizer_load.transform(train_df['CPD-ProdName-Desc']).toarray()\n",
    "    x_ngram_TCG=vectorizer_load.transform(train_df['TCG']).toarray() \n",
    "    x_ngram_labelingInstructions=vectorizer_load.transform(train_df['labelingInstructions']).toarray()\n",
    "    x_ngram_mishandled=vectorizer_load.transform(train_df['mishandled']).toarray() \n",
    "    x_ngram_targetMarket=vectorizer_load.transform(train_df['targetMarket']).toarray()\n",
    "    train_df = train_df.drop(['projDesc','PDA_projName','packMaterial','CPD-ProdName','TCG','labelingInstructions','mishandled','targetMarket'],axis=1)\n",
    "    \n",
    "    \n",
    "    \n",
    "    x_ngram_projDesc = scaler_load.transform(x_ngram_projDesc)\n",
    "    x_ngram_PDA_projName = scaler_load.transform(x_ngram_PDA_projName)\n",
    "    x_ngram_packMaterial = scaler_load.transform(x_ngram_packMaterial)\n",
    "    x_ngram_CPD_ProdName = scaler_load.transform(x_ngram_CPD_ProdName)\n",
    "    x_ngram_CPD_ProdName_Desc = scaler_load.transform(x_ngram_CPD_ProdName_Desc)\n",
    "    x_ngram_TCG = scaler_load.transform(x_ngram_TCG)\n",
    "    x_ngram_labelingInstructions = scaler_load.transform(x_ngram_labelingInstructions)\n",
    "    x_ngram_mishandled = scaler_load.transform(x_ngram_mishandled)\n",
    "    x_ngram_targetMarket = scaler_load.transform(x_ngram_targetMarket)\n",
    "    \n",
    "    x_pca_projDesc = pca_load.transform(x_ngram_projDesc)\n",
    "    x_pca_PDA_projName = pca_load.transform(x_ngram_PDA_projName)\n",
    "    x_pca_packMaterial = pca_load.transform(x_ngram_packMaterial)\n",
    "    x_pca_CPD_ProdName = pca_load.transform(x_ngram_CPD_ProdName)\n",
    "    x_pca_CPD_ProdName_Desc = pca_load.transform(x_ngram_CPD_ProdName_Desc)\n",
    "    x_pca_TCG = pca_load.transform(x_ngram_TCG)\n",
    "    x_pca_labelingInstructions = pca_load.transform(x_ngram_labelingInstructions)\n",
    "    x_pca_mishandled = pca_load.transform(x_ngram_mishandled)\n",
    "    x_pca_targetMarket = pca_load.transform(x_ngram_targetMarket)\n",
    "    #x_pca_allergens_m = pca.fit_transform(x_ngram_allergens_m)\n",
    "    #print(x_pca_allergens.shape)\n",
    "    #print(x_pca_allergens_m.shape)\n",
    "    x_train = np.concatenate((x_pca_projDesc,x_pca_PDA_projName,x_pca_packMaterial,x_pca_CPD_ProdName,x_pca_CPD_ProdName_Desc,x_pca_TCG,x_pca_labelingInstructions,x_pca_mishandled,x_pca_targetMarket),axis=1)\n",
    "    print(x_train.shape)\n",
    "    return x_train  "
   ]
  },
  {
   "cell_type": "code",
   "execution_count": 317,
   "metadata": {},
   "outputs": [
    {
     "name": "stdout",
     "output_type": "stream",
     "text": [
      "(5, 54)\n"
     ]
    }
   ],
   "source": [
    "X_features = preprocess_text(train_df)"
   ]
  },
  {
   "cell_type": "code",
   "execution_count": 318,
   "metadata": {},
   "outputs": [],
   "source": [
    "pca_load = joblib.load(\"pca_chokehazard.pkl\")\n",
    "means = pca_load.mean_ "
   ]
  },
  {
   "cell_type": "code",
   "execution_count": 319,
   "metadata": {},
   "outputs": [
    {
     "name": "stdout",
     "output_type": "stream",
     "text": [
      "[ 2.33e-08  2.33e-08 -1.20e-07 -1.20e-07 -5.93e-08 -1.20e-07 -3.68e-08\n",
      "  1.06e-07  4.93e-08  9.16e-08  2.33e-08 -4.62e-08  5.08e-09 -2.72e-08\n",
      " -2.72e-08 -5.93e-08 -5.93e-08  5.54e-07  5.54e-07 -3.08e-07  1.06e-07\n",
      "  5.08e-09 -5.93e-08  4.93e-08  4.93e-08  5.54e-07  5.54e-07 -8.33e-09\n",
      "  5.54e-07  5.54e-07 -3.68e-08 -3.68e-08  8.83e-08 -3.68e-08  2.33e-08\n",
      " -4.66e-08 -1.82e-07 -3.08e-07 -5.29e-07  3.24e-08 -6.25e-09  5.54e-07\n",
      "  5.54e-07 -2.34e-07  1.18e-07  1.51e-07  5.62e-08 -1.24e-07  4.93e-08\n",
      "  5.54e-07  5.08e-09  5.08e-09 -5.93e-08 -5.93e-08 -1.20e-07 -1.20e-07\n",
      "  1.91e-08 -4.62e-08  5.08e-09 -1.88e-07  1.51e-07 -5.93e-08  5.08e-09\n",
      " -8.33e-09 -3.08e-07  1.51e-07  1.51e-07  5.08e-09  5.08e-09 -5.93e-08\n",
      " -5.93e-08]\n"
     ]
    }
   ],
   "source": [
    "print(means)"
   ]
  },
  {
   "cell_type": "code",
   "execution_count": 320,
   "metadata": {},
   "outputs": [
    {
     "ename": "NameError",
     "evalue": "name 'x_ngram_projDesc' is not defined",
     "output_type": "error",
     "traceback": [
      "\u001b[1;31m---------------------------------------------------------------------------\u001b[0m",
      "\u001b[1;31mNameError\u001b[0m                                 Traceback (most recent call last)",
      "\u001b[1;32m<ipython-input-320-5cfedd4e0565>\u001b[0m in \u001b[0;36m<module>\u001b[1;34m()\u001b[0m\n\u001b[0;32m      1\u001b[0m \u001b[1;32mfrom\u001b[0m \u001b[0msklearn\u001b[0m\u001b[1;33m.\u001b[0m\u001b[0mutils\u001b[0m\u001b[1;33m.\u001b[0m\u001b[0mextmath\u001b[0m \u001b[1;32mimport\u001b[0m \u001b[0mfast_dot\u001b[0m\u001b[1;33m\u001b[0m\u001b[0m\n\u001b[1;32m----> 2\u001b[1;33m \u001b[0mtd\u001b[0m \u001b[1;33m=\u001b[0m \u001b[0mx_ngram_projDesc\u001b[0m \u001b[1;33m-\u001b[0m \u001b[0mmeans\u001b[0m\u001b[1;33m[\u001b[0m\u001b[1;33m:\u001b[0m\u001b[1;36m6\u001b[0m\u001b[1;33m]\u001b[0m\u001b[1;33m\u001b[0m\u001b[0m\n\u001b[0m\u001b[0;32m      3\u001b[0m \u001b[0mtdd\u001b[0m \u001b[1;33m=\u001b[0m \u001b[0mfast_dot\u001b[0m\u001b[1;33m(\u001b[0m\u001b[0mtd\u001b[0m\u001b[1;33m,\u001b[0m \u001b[0mpca\u001b[0m\u001b[1;33m.\u001b[0m\u001b[0mcomponents_\u001b[0m\u001b[1;33m.\u001b[0m\u001b[0mT\u001b[0m\u001b[1;33m)\u001b[0m\u001b[1;33m\u001b[0m\u001b[0m\n",
      "\u001b[1;31mNameError\u001b[0m: name 'x_ngram_projDesc' is not defined"
     ]
    }
   ],
   "source": [
    "from sklearn.utils.extmath import fast_dot\n",
    "td = x_ngram_projDesc - means[:6]\n",
    "tdd = fast_dot(td, pca.components_.T)"
   ]
  },
  {
   "cell_type": "code",
   "execution_count": null,
   "metadata": {
    "collapsed": true
   },
   "outputs": [],
   "source": []
  }
 ],
 "metadata": {
  "kernelspec": {
   "display_name": "Python 3",
   "language": "python",
   "name": "python3"
  },
  "language_info": {
   "codemirror_mode": {
    "name": "ipython",
    "version": 3
   },
   "file_extension": ".py",
   "mimetype": "text/x-python",
   "name": "python",
   "nbconvert_exporter": "python",
   "pygments_lexer": "ipython3",
   "version": "3.6.2"
  }
 },
 "nbformat": 4,
 "nbformat_minor": 2
}
