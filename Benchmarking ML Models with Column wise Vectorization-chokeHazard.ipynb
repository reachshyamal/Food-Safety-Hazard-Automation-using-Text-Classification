{
 "cells": [
  {
   "cell_type": "markdown",
   "metadata": {},
   "source": [
    "# This notebook reads text data from data extract created from FSHA Forms and runs predictive Models to predict the value 'Are there any consumer suitability or choke hazard concerns?' , based on the Input Data\n",
    "# It does vectorization of each Column and concatenates these Vectors to create a final Feature Vector and fits multiple ML Models, including Deep Learning model"
   ]
  },
  {
   "cell_type": "code",
   "execution_count": 1,
   "metadata": {},
   "outputs": [
    {
     "name": "stderr",
     "output_type": "stream",
     "text": [
      "C:\\ProgramData\\Anaconda3\\lib\\site-packages\\sklearn\\ensemble\\weight_boosting.py:29: DeprecationWarning: numpy.core.umath_tests is an internal NumPy module and should not be imported. It will be removed in a future NumPy release.\n",
      "  from numpy.core.umath_tests import inner1d\n",
      "C:\\ProgramData\\Anaconda3\\lib\\site-packages\\h5py\\__init__.py:34: FutureWarning: Conversion of the second argument of issubdtype from `float` to `np.floating` is deprecated. In future, it will be treated as `np.float64 == np.dtype(float).type`.\n",
      "  from ._conv import register_converters as _register_converters\n"
     ]
    }
   ],
   "source": [
    "#import all necessary modules\n",
    "from __future__ import print_function\n",
    "import logging\n",
    "from optparse import OptionParser\n",
    "import sys\n",
    "from time import time\n",
    "import matplotlib.pyplot as plt\n",
    "import os\n",
    "import nltk\n",
    "import string\n",
    "from nltk.stem.porter import PorterStemmer\n",
    "from nltk.tokenize import word_tokenize,sent_tokenize\n",
    "from nltk.tokenize import RegexpTokenizer\n",
    "import re\n",
    "import numpy as np\n",
    "from numpy import array\n",
    "from numpy import argmax\n",
    "from scipy import signal\n",
    "import random\n",
    "import string\n",
    "import pandas as pd\n",
    "from sklearn.model_selection import train_test_split \n",
    "from sklearn.pipeline import Pipeline\n",
    "from sklearn.feature_extraction.text import TfidfVectorizer\n",
    "from sklearn.feature_selection import SelectKBest, chi2\n",
    "from sklearn.preprocessing import LabelEncoder\n",
    "from sklearn.preprocessing import OneHotEncoder\n",
    "from sklearn.feature_selection import f_classif\n",
    "import matplotlib.pyplot as plt\n",
    "from sklearn.pipeline import Pipeline\n",
    "from sklearn.feature_extraction.text import CountVectorizer\n",
    "from sklearn.preprocessing import StandardScaler\n",
    "from sklearn.metrics import classification_report, confusion_matrix  \n",
    "from sklearn.linear_model import LogisticRegression\n",
    "from sklearn.linear_model import PassiveAggressiveClassifier\n",
    "from sklearn.svm import SVC \n",
    "from sklearn import svm\n",
    "from sklearn.svm import LinearSVC\n",
    "from sklearn.naive_bayes import MultinomialNB,BernoulliNB\n",
    "from sklearn.neighbors import KNeighborsClassifier\n",
    "from sklearn.neighbors import NearestCentroid\n",
    "from sklearn.linear_model import RidgeClassifier\n",
    "from sklearn.linear_model import SGDClassifier\n",
    "from sklearn import tree\n",
    "from sklearn.ensemble import RandomForestClassifier\n",
    "from sklearn import linear_model\n",
    "from sklearn.ensemble import AdaBoostClassifier\n",
    "from sklearn.linear_model import Perceptron\n",
    "from sklearn.neural_network import MLPClassifier\n",
    "from sklearn.utils.extmath import density\n",
    "from sklearn.decomposition import PCA\n",
    "from sklearn import metrics\n",
    "import tensorflow as tf\n",
    "from tensorflow.python.keras import models\n",
    "from tensorflow.python.keras import initializers\n",
    "from tensorflow.python.keras import regularizers\n",
    "from tensorflow.python.keras.layers import Dense\n",
    "from tensorflow.python.keras.layers import Dropout\n",
    "import warnings\n",
    "warnings.simplefilter('ignore')"
   ]
  },
  {
   "cell_type": "code",
   "execution_count": 51,
   "metadata": {},
   "outputs": [
    {
     "data": {
      "text/plain": [
       "'1.14.0'"
      ]
     },
     "execution_count": 51,
     "metadata": {},
     "output_type": "execute_result"
    }
   ],
   "source": [
    "tf.__version__"
   ]
  },
  {
   "cell_type": "code",
   "execution_count": 2,
   "metadata": {},
   "outputs": [
    {
     "name": "stdout",
     "output_type": "stream",
     "text": [
      "0.19.0\n"
     ]
    }
   ],
   "source": [
    "import sklearn\n",
    "print(sklearn.__version__)"
   ]
  },
  {
   "cell_type": "markdown",
   "metadata": {},
   "source": [
    "## File name and other important parameters like ngram_range set"
   ]
  },
  {
   "cell_type": "code",
   "execution_count": 8,
   "metadata": {
    "collapsed": true
   },
   "outputs": [],
   "source": [
    "#These parameters will be input from command line\n",
    "ngram_range_inp=(1,2)\n",
    "filename = \"C:/Pepsico/FSHA RPA - 25 July 2019 - 209Files.xlsm\""
   ]
  },
  {
   "cell_type": "code",
   "execution_count": 9,
   "metadata": {
    "collapsed": true
   },
   "outputs": [],
   "source": [
    "filename1 = \"C:/Pepsico/choke hazards_08 26.xlsm\""
   ]
  },
  {
   "cell_type": "markdown",
   "metadata": {},
   "source": [
    "# Define reusable modular method for Text Normalization (removal of stopwords, changing to lower case, removal of punctuation etc) "
   ]
  },
  {
   "cell_type": "code",
   "execution_count": 4,
   "metadata": {
    "collapsed": true
   },
   "outputs": [],
   "source": [
    "exclude = set(string.punctuation) \n",
    "wpt = nltk.WordPunctTokenizer()\n",
    "stop_words = nltk.corpus.stopwords.words('english')\n",
    "newStopWords = ['from','dtype','object']\n",
    "stop_words.extend(newStopWords)\n",
    "table = str.maketrans('', '', string.punctuation)\n",
    "\n",
    "porter = PorterStemmer()\n",
    "\n",
    "def normalize_document(doc):\n",
    "    # tokenize document\n",
    "    tokens = doc.split()\n",
    "    # remove punctuation from each word\n",
    "    tokens = [w.translate(table) for w in tokens]\n",
    "    # convert to lower case\n",
    "    lower_tokens = [w.lower() for w in tokens]\n",
    "    #remove spaces\n",
    "    stripped = [w.strip() for w in lower_tokens]\n",
    "    # remove remaining tokens that are not alphabetic\n",
    "    words = [word for word in stripped if word.isalpha()]\n",
    "    # filter stopwords out of document\n",
    "    filtered_tokens = [token for token in words if token not in stop_words]\n",
    "    # re-create document from filtered tokens\n",
    "    doc = ' '.join(filtered_tokens)\n",
    "    return doc\n",
    "\n",
    "#normalize_corpus = np.vectorize(normalize_document)"
   ]
  },
  {
   "cell_type": "code",
   "execution_count": 5,
   "metadata": {
    "collapsed": true
   },
   "outputs": [],
   "source": [
    "import pandas as pd\n",
    "import numpy as np\n",
    "import nltk\n",
    "from nltk.tokenize.toktok import ToktokTokenizer\n",
    "import re\n",
    "from bs4 import BeautifulSoup\n",
    "import unicodedata\n",
    "\n",
    "tokenizer = ToktokTokenizer()\n",
    "stopword_list = nltk.corpus.stopwords.words('english')\n",
    "stopword_list.remove('no')\n",
    "stopword_list.remove('not')\n",
    "def strip_html_tags(text):\n",
    "    soup = BeautifulSoup(text, \"html.parser\")\n",
    "    stripped_text = soup.get_text()\n",
    "    return stripped_text\n",
    "def remove_accented_chars(text):\n",
    "    text = unicodedata.normalize('NFKD', text).encode('ascii', 'ignore').decode('utf-8', 'ignore')\n",
    "    return text\n",
    "\n",
    "def remove_special_characters(text):\n",
    "    text = re.sub('[^a-zA-z0-9\\s]', '', text)\n",
    "    return text\n",
    "\n",
    "def remove_stopwords(text, is_lower_case=False):\n",
    "    tokens = tokenizer.tokenize(text)\n",
    "    tokens = [token.strip() for token in tokens]\n",
    "    if is_lower_case:\n",
    "        filtered_tokens = [token for token in tokens if token not in stopword_list]\n",
    "    else:\n",
    "        filtered_tokens = [token for token in tokens if token.lower() not in stopword_list]\n",
    "    filtered_text = ' '.join(filtered_tokens)    \n",
    "    return filtered_text\n",
    "def normalize_corpus(corpus, html_stripping=True, contraction_expansion=True,\n",
    "                     accented_char_removal=True, text_lower_case=True, \n",
    "                     text_lemmatization=True, special_char_removal=True, \n",
    "                     stopword_removal=True):\n",
    "    \n",
    "    normalized_corpus = []\n",
    "    # normalize each document in the corpus\n",
    "    #corpus = str(corpus)\n",
    "    for doc in corpus:\n",
    "        # strip HTML\n",
    "        if html_stripping:\n",
    "            doc = strip_html_tags(doc)\n",
    "        # remove accented characters\n",
    "        if accented_char_removal:\n",
    "            doc = remove_accented_chars(doc)\n",
    "\n",
    "        # lowercase the text    \n",
    "        if text_lower_case:\n",
    "            doc = doc.lower()\n",
    "        # remove extra newlines\n",
    "        doc = re.sub(r'[\\r|\\n|\\r\\n]+', ' ',doc)\n",
    "        # insert spaces between special characters to isolate them    \n",
    "        special_char_pattern = re.compile(r'([{.(-)!}])')\n",
    "        doc = special_char_pattern.sub(\" \\\\1 \", doc)\n",
    "        # remove special characters    \n",
    "        if special_char_removal:\n",
    "            doc = remove_special_characters(doc)  \n",
    "        # remove extra whitespace\n",
    "        doc = re.sub(' +', ' ', doc)\n",
    "        # remove stopwords\n",
    "        if stopword_removal:\n",
    "            doc = remove_stopwords(doc, is_lower_case=text_lower_case)\n",
    "            \n",
    "        normalized_corpus.append(doc)\n",
    "        \n",
    "    return normalized_corpus"
   ]
  },
  {
   "cell_type": "code",
   "execution_count": 6,
   "metadata": {
    "collapsed": true
   },
   "outputs": [],
   "source": [
    "def clean_doc(corpus):\n",
    "    normalized_corpus = []\n",
    "    # normalize each document in the corpus\n",
    "    #corpus = str(corpus)\n",
    "    for doc in corpus:\n",
    "\t# split into tokens by white space\n",
    "        doc=str(doc)\n",
    "        doc = doc.replace('\\n',' ')\n",
    "        tokens = doc.split()\n",
    "        # prepare regex for char filtering\n",
    "        re_punc = re.compile('[%s]' % re.escape(string.punctuation))\n",
    "        # remove punctuation from each word\n",
    "        tokens = [re_punc.sub('', w) for w in tokens]\n",
    "        # remove remaining tokens that are not alphabetic\n",
    "        tokens = [word for word in tokens if word.isalpha()]\n",
    "        # filter out stop words\n",
    "        tokens = [w for w in tokens if not w in stop_words]\n",
    "        # filter out short tokens\n",
    "        tokens = [word for word in tokens if len(word) > 1]\n",
    "        # remove nn from each word\n",
    "        tokens = [re.sub('nn',' ',word) for word in tokens]\n",
    "        tokens = ' '.join(tokens)\n",
    "        normalized_corpus.append(tokens)\n",
    "    return normalized_corpus"
   ]
  },
  {
   "cell_type": "markdown",
   "metadata": {},
   "source": [
    "# Read the data extract file (tabular format with Input data(X) and target(Y))"
   ]
  },
  {
   "cell_type": "code",
   "execution_count": 10,
   "metadata": {},
   "outputs": [],
   "source": [
    "fsha_data = pd.read_excel(filename)"
   ]
  },
  {
   "cell_type": "code",
   "execution_count": 11,
   "metadata": {},
   "outputs": [
    {
     "data": {
      "text/plain": [
       "209"
      ]
     },
     "execution_count": 11,
     "metadata": {},
     "output_type": "execute_result"
    }
   ],
   "source": [
    "len(fsha_data)"
   ]
  },
  {
   "cell_type": "code",
   "execution_count": 12,
   "metadata": {
    "collapsed": true
   },
   "outputs": [],
   "source": [
    "fsha_data = fsha_data[(fsha_data['chokeHazard']=='No')]"
   ]
  },
  {
   "cell_type": "code",
   "execution_count": 13,
   "metadata": {},
   "outputs": [
    {
     "data": {
      "text/plain": [
       "204"
      ]
     },
     "execution_count": 13,
     "metadata": {},
     "output_type": "execute_result"
    }
   ],
   "source": [
    "len(fsha_data)"
   ]
  },
  {
   "cell_type": "code",
   "execution_count": 14,
   "metadata": {
    "collapsed": true
   },
   "outputs": [],
   "source": [
    "fsha_data_yes = pd.read_excel(filename1)"
   ]
  },
  {
   "cell_type": "code",
   "execution_count": 15,
   "metadata": {},
   "outputs": [
    {
     "data": {
      "text/plain": [
       "25"
      ]
     },
     "execution_count": 15,
     "metadata": {},
     "output_type": "execute_result"
    }
   ],
   "source": [
    "len(fsha_data_yes)"
   ]
  },
  {
   "cell_type": "code",
   "execution_count": 16,
   "metadata": {
    "collapsed": true
   },
   "outputs": [],
   "source": [
    "fsha_data = pd.concat([fsha_data,fsha_data_yes])"
   ]
  },
  {
   "cell_type": "code",
   "execution_count": 17,
   "metadata": {},
   "outputs": [
    {
     "data": {
      "text/plain": [
       "229"
      ]
     },
     "execution_count": 17,
     "metadata": {},
     "output_type": "execute_result"
    }
   ],
   "source": [
    "len(fsha_data)"
   ]
  },
  {
   "cell_type": "code",
   "execution_count": 18,
   "metadata": {},
   "outputs": [
    {
     "data": {
      "text/html": [
       "<div>\n",
       "<style>\n",
       "    .dataframe thead tr:only-child th {\n",
       "        text-align: right;\n",
       "    }\n",
       "\n",
       "    .dataframe thead th {\n",
       "        text-align: left;\n",
       "    }\n",
       "\n",
       "    .dataframe tbody tr th {\n",
       "        vertical-align: top;\n",
       "    }\n",
       "</style>\n",
       "<table border=\"1\" class=\"dataframe\">\n",
       "  <thead>\n",
       "    <tr style=\"text-align: right;\">\n",
       "      <th></th>\n",
       "      <th>CPD-ProdName</th>\n",
       "      <th>CPD-ProdName-Desc</th>\n",
       "      <th>Current TSG Stage</th>\n",
       "      <th>FSAssessors</th>\n",
       "      <th>FSDate</th>\n",
       "      <th>File Name</th>\n",
       "      <th>PDA_projName</th>\n",
       "      <th>PlantTrial</th>\n",
       "      <th>TCG</th>\n",
       "      <th>Table1_Row1_Celery</th>\n",
       "      <th>...</th>\n",
       "      <th>prodModifications</th>\n",
       "      <th>prodStorageDist</th>\n",
       "      <th>projDesc</th>\n",
       "      <th>projName</th>\n",
       "      <th>projType</th>\n",
       "      <th>sector</th>\n",
       "      <th>shelfLife</th>\n",
       "      <th>specificStorage</th>\n",
       "      <th>targetMarket</th>\n",
       "      <th>waterActivity</th>\n",
       "    </tr>\n",
       "  </thead>\n",
       "  <tbody>\n",
       "    <tr>\n",
       "      <th>0</th>\n",
       "      <td>1SKU Star Puffs Onion\\n2 SKU Star Puffs Cheese...</td>\n",
       "      <td>Extruded and baked corn base product, flavoure...</td>\n",
       "      <td>G3</td>\n",
       "      <td>Helen Booden</td>\n",
       "      <td>21/11/2017</td>\n",
       "      <td>#46565 FSHA 5.4.1Star Project G3 v2 + FS input...</td>\n",
       "      <td>1SKU Star Puffs Onion\\n2 SKU Star Puffs Cheese...</td>\n",
       "      <td>Tomaszow plant, trial conducted on 02/11/2017</td>\n",
       "      <td>Families and Adults, value conscious consumers</td>\n",
       "      <td>0</td>\n",
       "      <td>...</td>\n",
       "      <td>No</td>\n",
       "      <td>Store in a dry, cool and away from sun place.</td>\n",
       "      <td>Star Puffs Cheese &amp; STar Hyper Cheese\\nSeasoni...</td>\n",
       "      <td>S-T3-Star-• POL Star Puff (Chrupki) quality –POL</td>\n",
       "      <td>Brand Refresh</td>\n",
       "      <td>ESSA</td>\n",
       "      <td>26 weeks</td>\n",
       "      <td>No</td>\n",
       "      <td>People with allergies to milk, lactose, peanuts.</td>\n",
       "      <td>low moisture food</td>\n",
       "    </tr>\n",
       "    <tr>\n",
       "      <th>1</th>\n",
       "      <td>Hrusteam</td>\n",
       "      <td>Crispy Bread</td>\n",
       "      <td>Gate 3, 4</td>\n",
       "      <td>Fedor Kholodov</td>\n",
       "      <td>2019-06-14 00:00:00</td>\n",
       "      <td>#53697 FSHA HT Baguette 4 Cheese UA 2.07.19.xlsm</td>\n",
       "      <td>Hrusteam Baguette</td>\n",
       "      <td>Nikolaev</td>\n",
       "      <td>Adults</td>\n",
       "      <td>0</td>\n",
       "      <td>...</td>\n",
       "      <td>No</td>\n",
       "      <td>Keep at temperature 25 °C, &lt;75% humidity</td>\n",
       "      <td>Launch new seasoning 4 Cheese NL-502-352-9 on ...</td>\n",
       "      <td>HT Baguette Four Cheese Flavor</td>\n",
       "      <td>Refresh</td>\n",
       "      <td>ESSA</td>\n",
       "      <td>140 days</td>\n",
       "      <td>Keep at temperature 25 °C, &lt;75% humidity</td>\n",
       "      <td>No</td>\n",
       "      <td>low water activity</td>\n",
       "    </tr>\n",
       "    <tr>\n",
       "      <th>2</th>\n",
       "      <td>Lay's Red Caviar</td>\n",
       "      <td>Potato chips</td>\n",
       "      <td>Development + Scale-up</td>\n",
       "      <td>Helen Booden</td>\n",
       "      <td>2019-06-27 00:00:00</td>\n",
       "      <td>#57686 FSHA 5.4.1 Red Caviar  Azov.xlsm</td>\n",
       "      <td>Lay's Red Caviar</td>\n",
       "      <td>Azov, Russia</td>\n",
       "      <td>18-45 y.o. males 50%/females 50%</td>\n",
       "      <td>0</td>\n",
       "      <td>...</td>\n",
       "      <td>No</td>\n",
       "      <td>air temperature is not higher than 25 ˚С and r...</td>\n",
       "      <td>Idea is to launch I&amp;O flavour under New Year p...</td>\n",
       "      <td>Lay's Caviar IO 2019 RUS Asov</td>\n",
       "      <td>Refresh</td>\n",
       "      <td>ESSA</td>\n",
       "      <td>20+1 week</td>\n",
       "      <td>store the product for no more than 24 hours at...</td>\n",
       "      <td>people with allergy to ingredients in the prod...</td>\n",
       "      <td>Low water activity</td>\n",
       "    </tr>\n",
       "    <tr>\n",
       "      <th>3</th>\n",
       "      <td>Lay's Red Caviar</td>\n",
       "      <td>Potato chips</td>\n",
       "      <td>Development + Scale-up</td>\n",
       "      <td>Helen Booden</td>\n",
       "      <td>2019-06-27 00:00:00</td>\n",
       "      <td>#57686 FSHA 5.4.1 Red Caviar Kashira.xlsm</td>\n",
       "      <td>Lay's Red Caviar</td>\n",
       "      <td>Kashira, Russia</td>\n",
       "      <td>18-45 y.o. males 50%/females 50%</td>\n",
       "      <td>0</td>\n",
       "      <td>...</td>\n",
       "      <td>No</td>\n",
       "      <td>air temperature is not higher than 25 ˚С and r...</td>\n",
       "      <td>Idea is to launch I&amp;O flavour under New Year p...</td>\n",
       "      <td>Lay's Caviar IO 2019 RUS Kashira</td>\n",
       "      <td>Refresh</td>\n",
       "      <td>ESSA</td>\n",
       "      <td>20+1 week</td>\n",
       "      <td>store the product for no more than 24 hours at...</td>\n",
       "      <td>people with allergy to ingredients in the prod...</td>\n",
       "      <td>Low water activity</td>\n",
       "    </tr>\n",
       "    <tr>\n",
       "      <th>4</th>\n",
       "      <td>Cheetos Palomitos</td>\n",
       "      <td>Extruded product with \"popcorn\" shape with cre...</td>\n",
       "      <td>G3 4 Combined</td>\n",
       "      <td>Helen Booden</td>\n",
       "      <td>2018-11-28 00:00:00</td>\n",
       "      <td>53354-FSHA-In Process 13.12.18.xlsm</td>\n",
       "      <td>Cheetos Palomito</td>\n",
       "      <td>Burgos, Spain</td>\n",
       "      <td>Kids and families</td>\n",
       "      <td>0</td>\n",
       "      <td>...</td>\n",
       "      <td>No</td>\n",
       "      <td>Product to be sold in Iberia, storage in ambie...</td>\n",
       "      <td>Re Launch of Cheetos Palomitos, Soft Extruded ...</td>\n",
       "      <td>Soft and Mild Iberia 2019</td>\n",
       "      <td>Re Launch</td>\n",
       "      <td>ESSA</td>\n",
       "      <td>Flavour/color loss powered by clear film windo...</td>\n",
       "      <td>Ensure the bag is closed and consumed after 2 ...</td>\n",
       "      <td>Kids from  4-10</td>\n",
       "      <td>Low water activity</td>\n",
       "    </tr>\n",
       "  </tbody>\n",
       "</table>\n",
       "<p>5 rows × 138 columns</p>\n",
       "</div>"
      ],
      "text/plain": [
       "                                        CPD-ProdName  \\\n",
       "0  1SKU Star Puffs Onion\\n2 SKU Star Puffs Cheese...   \n",
       "1                                           Hrusteam   \n",
       "2                                   Lay's Red Caviar   \n",
       "3                                   Lay's Red Caviar   \n",
       "4                                  Cheetos Palomitos   \n",
       "\n",
       "                                   CPD-ProdName-Desc       Current TSG Stage  \\\n",
       "0  Extruded and baked corn base product, flavoure...                      G3   \n",
       "1                                       Crispy Bread               Gate 3, 4   \n",
       "2                                       Potato chips  Development + Scale-up   \n",
       "3                                       Potato chips  Development + Scale-up   \n",
       "4  Extruded product with \"popcorn\" shape with cre...           G3 4 Combined   \n",
       "\n",
       "      FSAssessors               FSDate  \\\n",
       "0    Helen Booden           21/11/2017   \n",
       "1  Fedor Kholodov  2019-06-14 00:00:00   \n",
       "2  Helen Booden    2019-06-27 00:00:00   \n",
       "3  Helen Booden    2019-06-27 00:00:00   \n",
       "4    Helen Booden  2018-11-28 00:00:00   \n",
       "\n",
       "                                           File Name  \\\n",
       "0  #46565 FSHA 5.4.1Star Project G3 v2 + FS input...   \n",
       "1   #53697 FSHA HT Baguette 4 Cheese UA 2.07.19.xlsm   \n",
       "2            #57686 FSHA 5.4.1 Red Caviar  Azov.xlsm   \n",
       "3          #57686 FSHA 5.4.1 Red Caviar Kashira.xlsm   \n",
       "4                53354-FSHA-In Process 13.12.18.xlsm   \n",
       "\n",
       "                                        PDA_projName  \\\n",
       "0  1SKU Star Puffs Onion\\n2 SKU Star Puffs Cheese...   \n",
       "1                                  Hrusteam Baguette   \n",
       "2                                  Lay's Red Caviar    \n",
       "3                                  Lay's Red Caviar    \n",
       "4                                   Cheetos Palomito   \n",
       "\n",
       "                                      PlantTrial  \\\n",
       "0  Tomaszow plant, trial conducted on 02/11/2017   \n",
       "1                                       Nikolaev   \n",
       "2                                   Azov, Russia   \n",
       "3                               Kashira, Russia    \n",
       "4                                  Burgos, Spain   \n",
       "\n",
       "                                              TCG Table1_Row1_Celery  \\\n",
       "0  Families and Adults, value conscious consumers                  0   \n",
       "1                                          Adults                  0   \n",
       "2                18-45 y.o. males 50%/females 50%                  0   \n",
       "3                18-45 y.o. males 50%/females 50%                  0   \n",
       "4                               Kids and families                  0   \n",
       "\n",
       "          ...         prodModifications  \\\n",
       "0         ...                        No   \n",
       "1         ...                        No   \n",
       "2         ...                        No   \n",
       "3         ...                        No   \n",
       "4         ...                        No   \n",
       "\n",
       "                                     prodStorageDist  \\\n",
       "0      Store in a dry, cool and away from sun place.   \n",
       "1           Keep at temperature 25 °C, <75% humidity   \n",
       "2  air temperature is not higher than 25 ˚С and r...   \n",
       "3  air temperature is not higher than 25 ˚С and r...   \n",
       "4  Product to be sold in Iberia, storage in ambie...   \n",
       "\n",
       "                                            projDesc  \\\n",
       "0  Star Puffs Cheese & STar Hyper Cheese\\nSeasoni...   \n",
       "1  Launch new seasoning 4 Cheese NL-502-352-9 on ...   \n",
       "2  Idea is to launch I&O flavour under New Year p...   \n",
       "3  Idea is to launch I&O flavour under New Year p...   \n",
       "4  Re Launch of Cheetos Palomitos, Soft Extruded ...   \n",
       "\n",
       "                                            projName       projType sector  \\\n",
       "0  S-T3-Star-• POL Star Puff (Chrupki) quality –POL   Brand Refresh   ESSA   \n",
       "1                     HT Baguette Four Cheese Flavor        Refresh   ESSA   \n",
       "2                      Lay's Caviar IO 2019 RUS Asov        Refresh   ESSA   \n",
       "3                   Lay's Caviar IO 2019 RUS Kashira        Refresh   ESSA   \n",
       "4                          Soft and Mild Iberia 2019      Re Launch   ESSA   \n",
       "\n",
       "                                           shelfLife  \\\n",
       "0                                           26 weeks   \n",
       "1                                           140 days   \n",
       "2                                          20+1 week   \n",
       "3                                          20+1 week   \n",
       "4  Flavour/color loss powered by clear film windo...   \n",
       "\n",
       "                                     specificStorage  \\\n",
       "0                                                 No   \n",
       "1           Keep at temperature 25 °C, <75% humidity   \n",
       "2  store the product for no more than 24 hours at...   \n",
       "3  store the product for no more than 24 hours at...   \n",
       "4  Ensure the bag is closed and consumed after 2 ...   \n",
       "\n",
       "                                        targetMarket       waterActivity  \n",
       "0   People with allergies to milk, lactose, peanuts.   low moisture food  \n",
       "1                                                 No  low water activity  \n",
       "2  people with allergy to ingredients in the prod...  Low water activity  \n",
       "3  people with allergy to ingredients in the prod...  Low water activity  \n",
       "4                                    Kids from  4-10  Low water activity  \n",
       "\n",
       "[5 rows x 138 columns]"
      ]
     },
     "execution_count": 18,
     "metadata": {},
     "output_type": "execute_result"
    }
   ],
   "source": [
    "fsha_data.head()"
   ]
  },
  {
   "cell_type": "markdown",
   "metadata": {},
   "source": [
    "# Based on Analysis select the Features (X)"
   ]
  },
  {
   "cell_type": "code",
   "execution_count": 19,
   "metadata": {
    "collapsed": true
   },
   "outputs": [],
   "source": [
    "#selecting set of columns as Features\n",
    "fsha_data.fillna('NA', inplace=True)\n",
    "features_df=fsha_data[['projDesc','PDA_projName','packMaterial', 'CPD-ProdName','CPD-ProdName-Desc','TCG', 'labelingInstructions',\n",
    "        'mishandled', 'targetMarket']]"
   ]
  },
  {
   "cell_type": "code",
   "execution_count": 20,
   "metadata": {
    "collapsed": true
   },
   "outputs": [],
   "source": [
    "def conv_str(x):\n",
    "   \n",
    "    x=str(x)\n",
    "    x=x.lower()\n",
    "    return (x)\n",
    "\n",
    "features_df['projDesc']=features_df['projDesc'].apply(lambda x:conv_str(x))  \n",
    "features_df['PDA_projName']=features_df['PDA_projName'].apply(lambda x:conv_str(x))\n",
    "features_df['packMaterial']=features_df['packMaterial'].apply(lambda x:conv_str(x))  \n",
    "features_df['CPD-ProdName']=features_df['CPD-ProdName'].apply(lambda x:conv_str(x))  \n",
    "features_df['CPD-ProdName-Desc']=features_df['CPD-ProdName-Desc'].apply(lambda x:conv_str(x))  \n",
    "features_df['TCG']=features_df['TCG'].apply(lambda x:conv_str(x)) \n",
    "features_df['labelingInstructions']=features_df['labelingInstructions'].apply(lambda x:conv_str(x)) \n",
    "features_df['mishandled']=features_df['mishandled'].apply(lambda x:conv_str(x))  \n",
    "features_df['targetMarket']=features_df['targetMarket'].apply(lambda x:conv_str(x)) "
   ]
  },
  {
   "cell_type": "markdown",
   "metadata": {},
   "source": [
    "# Replace missing values in features with NA"
   ]
  },
  {
   "cell_type": "code",
   "execution_count": 21,
   "metadata": {
    "collapsed": true
   },
   "outputs": [],
   "source": [
    "train_df = features_df"
   ]
  },
  {
   "cell_type": "markdown",
   "metadata": {},
   "source": [
    "# Define reusable code to Vectorize Text column (ex: Allergens) using TF-IDF Vectorizer, after doing Text data normalization"
   ]
  },
  {
   "cell_type": "code",
   "execution_count": 22,
   "metadata": {
    "collapsed": true
   },
   "outputs": [],
   "source": [
    "# Vectorization of text data using TF-IDF Vectorizer\n",
    "\n",
    "# Range (inclusive) of n-gram sizes for tokenizing text.\n",
    "#NGRAM_RANGE \n",
    "\n",
    "# Limit on the number of features. We use the top 20K features.\n",
    "#TOP_K = 20000\n",
    "\n",
    "# Whether text should be split into word or character n-grams.\n",
    "# One of 'word', 'char'.\n",
    "TOKEN_MODE = 'word'\n",
    "\n",
    "# Minimum document/corpus frequency below which a token will be discarded.\n",
    "MIN_DOCUMENT_FREQUENCY = 2\n",
    "\n",
    "# Limit on the length of text sequences. Sequences longer than this\n",
    "# will be truncated.\n",
    "MAX_SEQUENCE_LENGTH = 500\n",
    "\n",
    "\n",
    "def ngram_vectorize(train_texts, train_labels,ngram_range):\n",
    "    \"\"\"Vectorizes texts as ngram vectors.\n",
    "\n",
    "    1 text = 1 tf-idf vector the length of vocabulary of uni-grams + bi-grams.\n",
    "\n",
    "    # Arguments\n",
    "        train_texts: list, training text strings.\n",
    "        train_labels: np.ndarray, training labels.\n",
    "        val_texts: list, validation text strings.\n",
    "\n",
    "    # Returns\n",
    "        x_train, x_val: vectorized training and validation texts\n",
    "    \"\"\"\n",
    "    # Create keyword arguments to pass to the 'tf-idf' vectorizer.\n",
    "    kwargs = {\n",
    "            'ngram_range': ngram_range,  # Use 1-grams + 2-grams.\n",
    "            'dtype': 'int32',\n",
    "            'strip_accents': 'unicode',\n",
    "            'decode_error': 'replace',\n",
    "            'analyzer': TOKEN_MODE,  # Split text into word tokens.\n",
    "            'min_df': MIN_DOCUMENT_FREQUENCY,\n",
    "    }\n",
    "    vectorizer = TfidfVectorizer(**kwargs)\n",
    "\n",
    "    # Learn vocabulary from training texts and vectorize training texts.\n",
    "    x_train = vectorizer.fit_transform(train_texts)\n",
    "\n",
    "    x_train = x_train.astype('float32')\n",
    "    return x_train"
   ]
  },
  {
   "cell_type": "code",
   "execution_count": 23,
   "metadata": {},
   "outputs": [
    {
     "data": {
      "text/plain": [
       "Index(['projDesc', 'PDA_projName', 'packMaterial', 'CPD-ProdName',\n",
       "       'CPD-ProdName-Desc', 'TCG', 'labelingInstructions', 'mishandled',\n",
       "       'targetMarket'],\n",
       "      dtype='object')"
      ]
     },
     "execution_count": 23,
     "metadata": {},
     "output_type": "execute_result"
    }
   ],
   "source": [
    "train_df.columns"
   ]
  },
  {
   "cell_type": "markdown",
   "metadata": {},
   "source": [
    "# Normalize each column , by cleaning the text"
   ]
  },
  {
   "cell_type": "code",
   "execution_count": 24,
   "metadata": {
    "collapsed": true
   },
   "outputs": [],
   "source": [
    "train_df['projDesc']=normalize_corpus(train_df['projDesc'])\n",
    "train_df['PDA_projName']=normalize_corpus(train_df['PDA_projName'])\n",
    "train_df['packMaterial']=normalize_corpus(train_df['packMaterial'])  \n",
    "train_df['CPD-ProdName']=normalize_corpus(train_df['CPD-ProdName'])  \n",
    "train_df['CPD-ProdName-Desc']=normalize_corpus(train_df['CPD-ProdName-Desc'])\n",
    "train_df['TCG']=normalize_corpus(train_df['TCG']) \n",
    "train_df['labelingInstructions']=normalize_corpus(train_df['labelingInstructions']) \n",
    "train_df['mishandled']=normalize_corpus(train_df['mishandled']) \n",
    "train_df['targetMarket']=normalize_corpus(train_df['targetMarket'])"
   ]
  },
  {
   "cell_type": "code",
   "execution_count": 25,
   "metadata": {},
   "outputs": [
    {
     "data": {
      "text/plain": [
       "Index(['projDesc', 'PDA_projName', 'packMaterial', 'CPD-ProdName',\n",
       "       'CPD-ProdName-Desc', 'TCG', 'labelingInstructions', 'mishandled',\n",
       "       'targetMarket'],\n",
       "      dtype='object')"
      ]
     },
     "execution_count": 25,
     "metadata": {},
     "output_type": "execute_result"
    }
   ],
   "source": [
    "train_df.columns"
   ]
  },
  {
   "cell_type": "markdown",
   "metadata": {},
   "source": [
    "# Binarize the target (1/0 for Yes/No)"
   ]
  },
  {
   "cell_type": "code",
   "execution_count": 26,
   "metadata": {
    "collapsed": true
   },
   "outputs": [],
   "source": [
    "import statistics \n",
    "\n",
    "def impute_target(fsha_data,targetName):\n",
    "    train_y=[]\n",
    "    for i in range (len(fsha_data)):\n",
    "        if fsha_data[targetName].values[i]=='Yes':\n",
    "            train_y.append(1)\n",
    "        elif fsha_data[targetName].values[i]=='No':\n",
    "            train_y.append(0)\n",
    "        else:\n",
    "            train_y.append(-1)\n",
    "               \n",
    "    mode_y = statistics.mode(train_y)\n",
    "\n",
    "    for i in range (len(fsha_data)):\n",
    "        if train_y[i]==-1:\n",
    "            train_y[i] = mode_y\n",
    "            \n",
    "    return train_y"
   ]
  },
  {
   "cell_type": "markdown",
   "metadata": {},
   "source": [
    "# Target (Yes/No choice) in PDAF are converted to binary values"
   ]
  },
  {
   "cell_type": "code",
   "execution_count": 27,
   "metadata": {
    "collapsed": true
   },
   "outputs": [],
   "source": [
    "train_y_chokehazard = impute_target(fsha_data,\"chokeHazard\")"
   ]
  },
  {
   "cell_type": "code",
   "execution_count": 28,
   "metadata": {
    "collapsed": true
   },
   "outputs": [],
   "source": [
    "train_df['target']=train_y_chokehazard"
   ]
  },
  {
   "cell_type": "code",
   "execution_count": 29,
   "metadata": {},
   "outputs": [
    {
     "data": {
      "text/plain": [
       "0    204\n",
       "1     25\n",
       "Name: target, dtype: int64"
      ]
     },
     "execution_count": 29,
     "metadata": {},
     "output_type": "execute_result"
    }
   ],
   "source": [
    "train_df['target'].value_counts()"
   ]
  },
  {
   "cell_type": "code",
   "execution_count": 30,
   "metadata": {
    "collapsed": true
   },
   "outputs": [],
   "source": [
    "y = train_df['target']\n",
    "train_df = train_df.drop('target',axis=1)"
   ]
  },
  {
   "cell_type": "markdown",
   "metadata": {},
   "source": [
    "# Perform n-gram vectorization and PCA on text data, columnwise, and concatenate with categorical one-hot encoded data"
   ]
  },
  {
   "cell_type": "code",
   "execution_count": 31,
   "metadata": {
    "collapsed": true
   },
   "outputs": [],
   "source": [
    "def preprocess_text(train_df,y):    \n",
    "    train_labels = y\n",
    "    x_ngram_projDesc=ngram_vectorize(train_df['projDesc'], train_labels,n_gram_range).toarray()\n",
    "    x_ngram_PDA_projName=ngram_vectorize(train_df['PDA_projName'], train_labels,n_gram_range).toarray()\n",
    "    x_ngram_packMaterial=ngram_vectorize(train_df['packMaterial'], train_labels,n_gram_range).toarray() \n",
    "    x_ngram_CPD_ProdName=ngram_vectorize(train_df['CPD-ProdName'], train_labels,n_gram_range).toarray() \n",
    "    x_ngram_CPD_ProdName_Desc=ngram_vectorize(train_df['CPD-ProdName-Desc'], train_labels,n_gram_range).toarray()\n",
    "    x_ngram_TCG=ngram_vectorize(train_df['TCG'], train_labels,n_gram_range).toarray() \n",
    "    x_ngram_labelingInstructions=ngram_vectorize(train_df['labelingInstructions'], train_labels,n_gram_range).toarray()\n",
    "    x_ngram_mishandled=ngram_vectorize(train_df['mishandled'], train_labels,n_gram_range).toarray() \n",
    "    x_ngram_targetMarket=ngram_vectorize(train_df['targetMarket'], train_labels,n_gram_range).toarray()\n",
    "    train_df = train_df.drop(['projDesc','PDA_projName','packMaterial','CPD-ProdName','TCG','labelingInstructions','mishandled','targetMarket'],axis=1)\n",
    "    pca = PCA(n_components=n_components,svd_solver=svd_solver,whiten=whiten, random_state=42)\n",
    "    \n",
    "    scaler = StandardScaler()\n",
    "    x_ngram_projDesc = scaler.fit_transform(x_ngram_projDesc)\n",
    "    x_ngram_PDA_projName = scaler.fit_transform(x_ngram_PDA_projName)\n",
    "    x_ngram_packMaterial = scaler.fit_transform(x_ngram_packMaterial)\n",
    "    x_ngram_CPD_ProdName = scaler.fit_transform(x_ngram_CPD_ProdName)\n",
    "    x_ngram_CPD_ProdName_Desc = scaler.fit_transform(x_ngram_CPD_ProdName_Desc)\n",
    "    x_ngram_TCG = scaler.fit_transform(x_ngram_TCG)\n",
    "    x_ngram_labelingInstructions = scaler.fit_transform(x_ngram_labelingInstructions)\n",
    "    x_ngram_mishandled = pca.fit_transform(x_ngram_mishandled)\n",
    "    x_ngram_targetMarket = scaler.fit_transform(x_ngram_targetMarket)\n",
    "    \n",
    "    x_pca_projDesc = pca.fit_transform(x_ngram_projDesc)\n",
    "    x_pca_PDA_projName = pca.fit_transform(x_ngram_PDA_projName)\n",
    "    x_pca_packMaterial = pca.fit_transform(x_ngram_packMaterial)\n",
    "    x_pca_CPD_ProdName = pca.fit_transform(x_ngram_CPD_ProdName)\n",
    "    x_pca_CPD_ProdName_Desc = pca.fit_transform(x_ngram_CPD_ProdName_Desc)\n",
    "    x_pca_TCG = pca.fit_transform(x_ngram_TCG)\n",
    "    x_pca_labelingInstructions = pca.fit_transform(x_ngram_labelingInstructions)\n",
    "    x_pca_mishandled = pca.fit_transform(x_ngram_mishandled)\n",
    "    x_pca_targetMarket = pca.fit_transform(x_ngram_targetMarket)\n",
    "\n",
    "    x_train = np.concatenate((x_pca_projDesc,x_pca_PDA_projName,x_pca_packMaterial,x_pca_CPD_ProdName,x_pca_CPD_ProdName_Desc,x_pca_TCG,x_pca_labelingInstructions,x_pca_mishandled,x_pca_targetMarket),axis=1)\n",
    "    print(x_train.shape)\n",
    "    return x_train  "
   ]
  },
  {
   "cell_type": "code",
   "execution_count": 32,
   "metadata": {},
   "outputs": [
    {
     "name": "stdout",
     "output_type": "stream",
     "text": [
      "(229, 27)\n"
     ]
    }
   ],
   "source": [
    "n_gram_range = (1,2)\n",
    "n_components = 3\n",
    "whiten = False\n",
    "random_state = 42\n",
    "svd_solver=\"full\"\n",
    "X_features = preprocess_text(train_df,y)"
   ]
  },
  {
   "cell_type": "code",
   "execution_count": 33,
   "metadata": {},
   "outputs": [
    {
     "data": {
      "text/plain": [
       "(229,)"
      ]
     },
     "execution_count": 33,
     "metadata": {},
     "output_type": "execute_result"
    }
   ],
   "source": [
    "y.shape"
   ]
  },
  {
   "cell_type": "markdown",
   "metadata": {},
   "source": [
    "# Perform train test split"
   ]
  },
  {
   "cell_type": "code",
   "execution_count": 34,
   "metadata": {
    "collapsed": true
   },
   "outputs": [],
   "source": [
    "X_train, X_test, y_train, y_test = train_test_split(X_features, y, test_size=.2, random_state=42,stratify = y)"
   ]
  },
  {
   "cell_type": "code",
   "execution_count": 35,
   "metadata": {},
   "outputs": [
    {
     "name": "stdout",
     "output_type": "stream",
     "text": [
      "(183, 27)\n",
      "(46, 27)\n"
     ]
    }
   ],
   "source": [
    "print(X_train.shape)\n",
    "print(X_test.shape)"
   ]
  },
  {
   "cell_type": "code",
   "execution_count": 37,
   "metadata": {
    "collapsed": true
   },
   "outputs": [],
   "source": [
    "X_train = pd.DataFrame(X_train)\n",
    "y_train = pd.DataFrame(y_train)"
   ]
  },
  {
   "cell_type": "code",
   "execution_count": 38,
   "metadata": {},
   "outputs": [
    {
     "name": "stdout",
     "output_type": "stream",
     "text": [
      "(183, 1)\n",
      "(46,)\n"
     ]
    }
   ],
   "source": [
    "print(y_train.shape)\n",
    "print(y_test.shape)"
   ]
  },
  {
   "cell_type": "code",
   "execution_count": 103,
   "metadata": {
    "collapsed": true
   },
   "outputs": [],
   "source": [
    "#X_train.columns = ['PCA_allergens_1','PCA_allergens_2','PCA_allergens_3','PCA_allergens_4','PCA_allergens_5','PCA_allergens_6','PCA_allergens_M_1','PCA_allergens_M_2','PCA_allergens_M_3','PCA_allergens_M_4','PCA_allergens_M_5','PCA_allergens_M_6']"
   ]
  },
  {
   "cell_type": "code",
   "execution_count": 39,
   "metadata": {},
   "outputs": [
    {
     "data": {
      "text/html": [
       "<div>\n",
       "<style>\n",
       "    .dataframe thead tr:only-child th {\n",
       "        text-align: right;\n",
       "    }\n",
       "\n",
       "    .dataframe thead th {\n",
       "        text-align: left;\n",
       "    }\n",
       "\n",
       "    .dataframe tbody tr th {\n",
       "        vertical-align: top;\n",
       "    }\n",
       "</style>\n",
       "<table border=\"1\" class=\"dataframe\">\n",
       "  <thead>\n",
       "    <tr style=\"text-align: right;\">\n",
       "      <th></th>\n",
       "      <th>0</th>\n",
       "      <th>1</th>\n",
       "      <th>2</th>\n",
       "      <th>3</th>\n",
       "      <th>4</th>\n",
       "      <th>5</th>\n",
       "      <th>6</th>\n",
       "      <th>7</th>\n",
       "      <th>8</th>\n",
       "      <th>9</th>\n",
       "      <th>...</th>\n",
       "      <th>17</th>\n",
       "      <th>18</th>\n",
       "      <th>19</th>\n",
       "      <th>20</th>\n",
       "      <th>21</th>\n",
       "      <th>22</th>\n",
       "      <th>23</th>\n",
       "      <th>24</th>\n",
       "      <th>25</th>\n",
       "      <th>26</th>\n",
       "    </tr>\n",
       "  </thead>\n",
       "  <tbody>\n",
       "    <tr>\n",
       "      <th>0</th>\n",
       "      <td>-2.506329</td>\n",
       "      <td>-8.853518</td>\n",
       "      <td>9.399597</td>\n",
       "      <td>-0.772311</td>\n",
       "      <td>0.077167</td>\n",
       "      <td>-0.898672</td>\n",
       "      <td>-1.880895</td>\n",
       "      <td>5.182326</td>\n",
       "      <td>-0.167279</td>\n",
       "      <td>-0.443091</td>\n",
       "      <td>...</td>\n",
       "      <td>-1.186849</td>\n",
       "      <td>-0.819833</td>\n",
       "      <td>-0.664658</td>\n",
       "      <td>-0.067670</td>\n",
       "      <td>0.688105</td>\n",
       "      <td>-0.505032</td>\n",
       "      <td>-0.118800</td>\n",
       "      <td>-1.300389</td>\n",
       "      <td>-0.288930</td>\n",
       "      <td>-1.291586</td>\n",
       "    </tr>\n",
       "    <tr>\n",
       "      <th>1</th>\n",
       "      <td>-0.492383</td>\n",
       "      <td>0.743671</td>\n",
       "      <td>-1.390057</td>\n",
       "      <td>-0.577119</td>\n",
       "      <td>-0.140470</td>\n",
       "      <td>-0.356033</td>\n",
       "      <td>-0.581103</td>\n",
       "      <td>-1.194342</td>\n",
       "      <td>-0.907903</td>\n",
       "      <td>-0.045027</td>\n",
       "      <td>...</td>\n",
       "      <td>-0.833394</td>\n",
       "      <td>-0.674255</td>\n",
       "      <td>-0.492840</td>\n",
       "      <td>-0.482959</td>\n",
       "      <td>-0.511923</td>\n",
       "      <td>-0.051763</td>\n",
       "      <td>-0.037197</td>\n",
       "      <td>-1.013797</td>\n",
       "      <td>-0.182434</td>\n",
       "      <td>-0.776942</td>\n",
       "    </tr>\n",
       "    <tr>\n",
       "      <th>2</th>\n",
       "      <td>0.076171</td>\n",
       "      <td>0.476095</td>\n",
       "      <td>-1.496893</td>\n",
       "      <td>-0.613497</td>\n",
       "      <td>-0.020490</td>\n",
       "      <td>-0.978051</td>\n",
       "      <td>-0.955439</td>\n",
       "      <td>1.337357</td>\n",
       "      <td>0.297091</td>\n",
       "      <td>-0.774588</td>\n",
       "      <td>...</td>\n",
       "      <td>-5.354721</td>\n",
       "      <td>-0.674257</td>\n",
       "      <td>-0.492840</td>\n",
       "      <td>-0.482958</td>\n",
       "      <td>-0.511923</td>\n",
       "      <td>-0.051763</td>\n",
       "      <td>-0.037197</td>\n",
       "      <td>3.682249</td>\n",
       "      <td>18.138680</td>\n",
       "      <td>4.667863</td>\n",
       "    </tr>\n",
       "    <tr>\n",
       "      <th>3</th>\n",
       "      <td>-1.249207</td>\n",
       "      <td>3.474395</td>\n",
       "      <td>-8.984358</td>\n",
       "      <td>-0.376746</td>\n",
       "      <td>-0.109328</td>\n",
       "      <td>-0.973648</td>\n",
       "      <td>-0.517155</td>\n",
       "      <td>-0.874483</td>\n",
       "      <td>1.731065</td>\n",
       "      <td>-1.035889</td>\n",
       "      <td>...</td>\n",
       "      <td>-0.643512</td>\n",
       "      <td>-0.790392</td>\n",
       "      <td>-0.618335</td>\n",
       "      <td>-0.867813</td>\n",
       "      <td>-0.511923</td>\n",
       "      <td>-0.051763</td>\n",
       "      <td>-0.037197</td>\n",
       "      <td>-1.013795</td>\n",
       "      <td>-0.182430</td>\n",
       "      <td>-0.776940</td>\n",
       "    </tr>\n",
       "    <tr>\n",
       "      <th>4</th>\n",
       "      <td>-0.982773</td>\n",
       "      <td>-0.731722</td>\n",
       "      <td>-0.233618</td>\n",
       "      <td>-1.028028</td>\n",
       "      <td>-0.039941</td>\n",
       "      <td>-3.289472</td>\n",
       "      <td>-0.523920</td>\n",
       "      <td>-0.893254</td>\n",
       "      <td>2.222820</td>\n",
       "      <td>-5.145839</td>\n",
       "      <td>...</td>\n",
       "      <td>-0.850290</td>\n",
       "      <td>-0.682604</td>\n",
       "      <td>-0.501331</td>\n",
       "      <td>-0.501755</td>\n",
       "      <td>0.498033</td>\n",
       "      <td>0.866910</td>\n",
       "      <td>-0.387149</td>\n",
       "      <td>-0.931106</td>\n",
       "      <td>-0.156761</td>\n",
       "      <td>-0.656388</td>\n",
       "    </tr>\n",
       "  </tbody>\n",
       "</table>\n",
       "<p>5 rows × 27 columns</p>\n",
       "</div>"
      ],
      "text/plain": [
       "         0         1         2         3         4         5         6   \\\n",
       "0 -2.506329 -8.853518  9.399597 -0.772311  0.077167 -0.898672 -1.880895   \n",
       "1 -0.492383  0.743671 -1.390057 -0.577119 -0.140470 -0.356033 -0.581103   \n",
       "2  0.076171  0.476095 -1.496893 -0.613497 -0.020490 -0.978051 -0.955439   \n",
       "3 -1.249207  3.474395 -8.984358 -0.376746 -0.109328 -0.973648 -0.517155   \n",
       "4 -0.982773 -0.731722 -0.233618 -1.028028 -0.039941 -3.289472 -0.523920   \n",
       "\n",
       "         7         8         9     ...           17        18        19  \\\n",
       "0  5.182326 -0.167279 -0.443091    ...    -1.186849 -0.819833 -0.664658   \n",
       "1 -1.194342 -0.907903 -0.045027    ...    -0.833394 -0.674255 -0.492840   \n",
       "2  1.337357  0.297091 -0.774588    ...    -5.354721 -0.674257 -0.492840   \n",
       "3 -0.874483  1.731065 -1.035889    ...    -0.643512 -0.790392 -0.618335   \n",
       "4 -0.893254  2.222820 -5.145839    ...    -0.850290 -0.682604 -0.501331   \n",
       "\n",
       "         20        21        22        23        24         25        26  \n",
       "0 -0.067670  0.688105 -0.505032 -0.118800 -1.300389  -0.288930 -1.291586  \n",
       "1 -0.482959 -0.511923 -0.051763 -0.037197 -1.013797  -0.182434 -0.776942  \n",
       "2 -0.482958 -0.511923 -0.051763 -0.037197  3.682249  18.138680  4.667863  \n",
       "3 -0.867813 -0.511923 -0.051763 -0.037197 -1.013795  -0.182430 -0.776940  \n",
       "4 -0.501755  0.498033  0.866910 -0.387149 -0.931106  -0.156761 -0.656388  \n",
       "\n",
       "[5 rows x 27 columns]"
      ]
     },
     "execution_count": 39,
     "metadata": {},
     "output_type": "execute_result"
    }
   ],
   "source": [
    "X_train.head()"
   ]
  },
  {
   "cell_type": "code",
   "execution_count": 40,
   "metadata": {},
   "outputs": [
    {
     "name": "stdout",
     "output_type": "stream",
     "text": [
      "(183, 27)\n",
      "(183, 1)\n"
     ]
    }
   ],
   "source": [
    "print(X_train.shape)\n",
    "print(y_train.shape)"
   ]
  },
  {
   "cell_type": "code",
   "execution_count": 41,
   "metadata": {
    "collapsed": true
   },
   "outputs": [],
   "source": [
    "X_train.reset_index(drop=True, inplace=True)\n",
    "y_train.reset_index(drop=True, inplace=True)"
   ]
  },
  {
   "cell_type": "markdown",
   "metadata": {},
   "source": [
    "# Upsample the chokeHazard data, since the data is highly imbalanced"
   ]
  },
  {
   "cell_type": "code",
   "execution_count": 42,
   "metadata": {
    "collapsed": true
   },
   "outputs": [],
   "source": [
    "from sklearn.utils import resample\n",
    "\n",
    "# concatenate our training data back together\n",
    "X = pd.concat([X_train, y_train], axis=1)\n",
    "\n",
    "# separate minority and majority classes\n",
    "not_choke = X[X.target==0]\n",
    "choke = X[X.target==1]"
   ]
  },
  {
   "cell_type": "code",
   "execution_count": 43,
   "metadata": {},
   "outputs": [
    {
     "name": "stdout",
     "output_type": "stream",
     "text": [
      "163\n",
      "20\n"
     ]
    }
   ],
   "source": [
    "print(len(not_choke))\n",
    "print(len(choke))"
   ]
  },
  {
   "cell_type": "code",
   "execution_count": 44,
   "metadata": {
    "collapsed": true
   },
   "outputs": [],
   "source": [
    "# upsample minority\n",
    "choke_upsampled = resample(choke,\n",
    "                          replace=True, # sample with replacement\n",
    "                          n_samples=len(not_choke), # match number in majority class\n",
    "                          random_state=27) # reproducible results\n",
    "\n",
    "# combine majority and upsampled minority\n",
    "upsampled = pd.concat([choke_upsampled, not_choke])"
   ]
  },
  {
   "cell_type": "code",
   "execution_count": 45,
   "metadata": {},
   "outputs": [
    {
     "data": {
      "text/plain": [
       "1    163\n",
       "0    163\n",
       "Name: target, dtype: int64"
      ]
     },
     "execution_count": 45,
     "metadata": {},
     "output_type": "execute_result"
    }
   ],
   "source": [
    "upsampled.target.value_counts()"
   ]
  },
  {
   "cell_type": "code",
   "execution_count": 46,
   "metadata": {
    "collapsed": true
   },
   "outputs": [],
   "source": [
    "y_train = upsampled.target\n",
    "X_train = upsampled.drop('target', axis=1)"
   ]
  },
  {
   "cell_type": "code",
   "execution_count": 47,
   "metadata": {},
   "outputs": [
    {
     "data": {
      "text/plain": [
       "(326, 27)"
      ]
     },
     "execution_count": 47,
     "metadata": {},
     "output_type": "execute_result"
    }
   ],
   "source": [
    "X_train.shape"
   ]
  },
  {
   "cell_type": "markdown",
   "metadata": {},
   "source": [
    "# Define method to evaluate Machine Learning models with the X and y vectors created above, and check the effectiveness of each. Also store the results in array to be plotted in graph for visualization"
   ]
  },
  {
   "cell_type": "code",
   "execution_count": 48,
   "metadata": {
    "collapsed": true
   },
   "outputs": [],
   "source": [
    "from datetime import datetime\n",
    "import time\n",
    "def benchmark(clf):\n",
    "    print('_' * 80)\n",
    "    print(\"Training: \")\n",
    "    print(len(X_train))\n",
    "    \n",
    "    clf_descr = str(clf).split('(')[0]\n",
    "    print(\"model name:\"+clf_descr)\n",
    "  \n",
    "    a = datetime.now()\n",
    "    \n",
    "    if clf_descr.__contains__('tensorflow'):\n",
    "        history = clf.fit(\n",
    "            X_train,\n",
    "            y_train,\n",
    "            epochs=epochs,\n",
    "            callbacks=callbacks,\n",
    "            validation_data=(X_test, y_test),\n",
    "            verbose=2, \n",
    "            batch_size=batch_size)\n",
    "    else:\n",
    "        clf.fit(X_train, y_train)\n",
    "    \n",
    "    b = datetime.now()\n",
    "    c = a-b\n",
    "    train_time = c.microseconds\n",
    "    print(\"train time: %0.3fs\" % train_time)\n",
    "\n",
    "    pred = clf.predict(X_test)\n",
    "\n",
    "    pred_train = clf.predict(X_train)\n",
    " \n",
    "    if clf_descr.__contains__('tensorflow'):\n",
    "        for i in range (len(pred)):\n",
    "            if (pred[i]>=0.3):\n",
    "                pred[i]=1\n",
    "            else:\n",
    "                pred[i]=0\n",
    "        for i in range (len(pred_train)):        \n",
    "            if (pred_train[i]>=0.3):\n",
    "                pred_train[i]=1\n",
    "            else:\n",
    "                pred_train[i]=0\n",
    "    \n",
    "    f1_score = metrics.f1_score(y_test, pred)\n",
    "    print(\"f1_score:   %0.3f\" % f1_score )\n",
    "    \n",
    "    f1_score_train = metrics.f1_score(y_train, pred_train)\n",
    "    print(\"f1_score_train:   %0.3f\" % f1_score_train )\n",
    "    \n",
    "    print(\"classification report:\")\n",
    "    print(classification_report(y_test, pred))\n",
    "    \n",
    "    print(\"confusion matrix:\")\n",
    "    print(metrics.confusion_matrix(y_test, pred))\n",
    "\n",
    "    if hasattr(clf, 'coef_'):\n",
    "        print(\"dimensionality: %d\" % clf.coef_.shape[1])\n",
    "        print(\"density: %f\" % density(clf.coef_))\n",
    "\n",
    "    \n",
    "    return clf_descr,f1_score_train,f1_score,train_time"
   ]
  },
  {
   "cell_type": "code",
   "execution_count": 49,
   "metadata": {},
   "outputs": [
    {
     "data": {
      "text/html": [
       "<div>\n",
       "<style>\n",
       "    .dataframe thead tr:only-child th {\n",
       "        text-align: right;\n",
       "    }\n",
       "\n",
       "    .dataframe thead th {\n",
       "        text-align: left;\n",
       "    }\n",
       "\n",
       "    .dataframe tbody tr th {\n",
       "        vertical-align: top;\n",
       "    }\n",
       "</style>\n",
       "<table border=\"1\" class=\"dataframe\">\n",
       "  <thead>\n",
       "    <tr style=\"text-align: right;\">\n",
       "      <th></th>\n",
       "      <th>0</th>\n",
       "      <th>1</th>\n",
       "      <th>2</th>\n",
       "      <th>3</th>\n",
       "      <th>4</th>\n",
       "      <th>5</th>\n",
       "      <th>6</th>\n",
       "      <th>7</th>\n",
       "      <th>8</th>\n",
       "      <th>9</th>\n",
       "      <th>...</th>\n",
       "      <th>17</th>\n",
       "      <th>18</th>\n",
       "      <th>19</th>\n",
       "      <th>20</th>\n",
       "      <th>21</th>\n",
       "      <th>22</th>\n",
       "      <th>23</th>\n",
       "      <th>24</th>\n",
       "      <th>25</th>\n",
       "      <th>26</th>\n",
       "    </tr>\n",
       "  </thead>\n",
       "  <tbody>\n",
       "    <tr>\n",
       "      <th>177</th>\n",
       "      <td>-1.242172</td>\n",
       "      <td>3.792236</td>\n",
       "      <td>-5.078493</td>\n",
       "      <td>-0.389853</td>\n",
       "      <td>0.131318</td>\n",
       "      <td>-1.089417</td>\n",
       "      <td>-0.581103</td>\n",
       "      <td>-1.194342</td>\n",
       "      <td>-0.907903</td>\n",
       "      <td>-1.758093</td>\n",
       "      <td>...</td>\n",
       "      <td>-0.638756</td>\n",
       "      <td>-0.511806</td>\n",
       "      <td>-0.110708</td>\n",
       "      <td>32.134876</td>\n",
       "      <td>-0.511923</td>\n",
       "      <td>-0.051763</td>\n",
       "      <td>-0.037197</td>\n",
       "      <td>-1.013795</td>\n",
       "      <td>-0.182430</td>\n",
       "      <td>-0.776940</td>\n",
       "    </tr>\n",
       "    <tr>\n",
       "      <th>71</th>\n",
       "      <td>-1.902015</td>\n",
       "      <td>47.553791</td>\n",
       "      <td>32.448292</td>\n",
       "      <td>-0.408145</td>\n",
       "      <td>-0.039019</td>\n",
       "      <td>-0.842341</td>\n",
       "      <td>-0.581103</td>\n",
       "      <td>-1.194342</td>\n",
       "      <td>-0.907903</td>\n",
       "      <td>-1.046373</td>\n",
       "      <td>...</td>\n",
       "      <td>-1.417060</td>\n",
       "      <td>-0.682604</td>\n",
       "      <td>-0.501331</td>\n",
       "      <td>-0.501755</td>\n",
       "      <td>0.353809</td>\n",
       "      <td>0.289212</td>\n",
       "      <td>0.258957</td>\n",
       "      <td>-2.096767</td>\n",
       "      <td>-5.078238</td>\n",
       "      <td>17.058996</td>\n",
       "    </tr>\n",
       "    <tr>\n",
       "      <th>153</th>\n",
       "      <td>-0.198973</td>\n",
       "      <td>2.254661</td>\n",
       "      <td>-3.531561</td>\n",
       "      <td>0.969510</td>\n",
       "      <td>-1.673032</td>\n",
       "      <td>-0.787432</td>\n",
       "      <td>-0.581103</td>\n",
       "      <td>-1.194342</td>\n",
       "      <td>-0.907903</td>\n",
       "      <td>-1.767947</td>\n",
       "      <td>...</td>\n",
       "      <td>-0.949459</td>\n",
       "      <td>-0.682604</td>\n",
       "      <td>-0.501331</td>\n",
       "      <td>-0.501755</td>\n",
       "      <td>-0.511923</td>\n",
       "      <td>-0.051763</td>\n",
       "      <td>-0.037197</td>\n",
       "      <td>8.250135</td>\n",
       "      <td>-1.065094</td>\n",
       "      <td>0.024022</td>\n",
       "    </tr>\n",
       "    <tr>\n",
       "      <th>62</th>\n",
       "      <td>-0.958635</td>\n",
       "      <td>6.474957</td>\n",
       "      <td>3.097427</td>\n",
       "      <td>-0.393431</td>\n",
       "      <td>-0.090166</td>\n",
       "      <td>-0.892454</td>\n",
       "      <td>-0.581103</td>\n",
       "      <td>-1.194342</td>\n",
       "      <td>-0.907903</td>\n",
       "      <td>-0.825640</td>\n",
       "      <td>...</td>\n",
       "      <td>-1.417060</td>\n",
       "      <td>-0.519530</td>\n",
       "      <td>-0.490489</td>\n",
       "      <td>-0.458934</td>\n",
       "      <td>0.353809</td>\n",
       "      <td>0.289212</td>\n",
       "      <td>0.258957</td>\n",
       "      <td>-2.096767</td>\n",
       "      <td>-5.078238</td>\n",
       "      <td>17.058996</td>\n",
       "    </tr>\n",
       "    <tr>\n",
       "      <th>144</th>\n",
       "      <td>-0.197694</td>\n",
       "      <td>-0.279491</td>\n",
       "      <td>-0.807181</td>\n",
       "      <td>-0.364738</td>\n",
       "      <td>-0.028272</td>\n",
       "      <td>-0.722509</td>\n",
       "      <td>-0.581103</td>\n",
       "      <td>-1.194342</td>\n",
       "      <td>-0.907903</td>\n",
       "      <td>-0.685282</td>\n",
       "      <td>...</td>\n",
       "      <td>-0.688346</td>\n",
       "      <td>-0.682604</td>\n",
       "      <td>-0.501331</td>\n",
       "      <td>-0.501755</td>\n",
       "      <td>0.498033</td>\n",
       "      <td>0.866910</td>\n",
       "      <td>-0.387149</td>\n",
       "      <td>-0.931106</td>\n",
       "      <td>-0.156761</td>\n",
       "      <td>-0.656388</td>\n",
       "    </tr>\n",
       "  </tbody>\n",
       "</table>\n",
       "<p>5 rows × 27 columns</p>\n",
       "</div>"
      ],
      "text/plain": [
       "           0          1          2         3         4         5         6   \\\n",
       "177 -1.242172   3.792236  -5.078493 -0.389853  0.131318 -1.089417 -0.581103   \n",
       "71  -1.902015  47.553791  32.448292 -0.408145 -0.039019 -0.842341 -0.581103   \n",
       "153 -0.198973   2.254661  -3.531561  0.969510 -1.673032 -0.787432 -0.581103   \n",
       "62  -0.958635   6.474957   3.097427 -0.393431 -0.090166 -0.892454 -0.581103   \n",
       "144 -0.197694  -0.279491  -0.807181 -0.364738 -0.028272 -0.722509 -0.581103   \n",
       "\n",
       "           7         8         9     ...            17        18        19  \\\n",
       "177 -1.194342 -0.907903 -1.758093    ...     -0.638756 -0.511806 -0.110708   \n",
       "71  -1.194342 -0.907903 -1.046373    ...     -1.417060 -0.682604 -0.501331   \n",
       "153 -1.194342 -0.907903 -1.767947    ...     -0.949459 -0.682604 -0.501331   \n",
       "62  -1.194342 -0.907903 -0.825640    ...     -1.417060 -0.519530 -0.490489   \n",
       "144 -1.194342 -0.907903 -0.685282    ...     -0.688346 -0.682604 -0.501331   \n",
       "\n",
       "            20        21        22        23        24        25         26  \n",
       "177  32.134876 -0.511923 -0.051763 -0.037197 -1.013795 -0.182430  -0.776940  \n",
       "71   -0.501755  0.353809  0.289212  0.258957 -2.096767 -5.078238  17.058996  \n",
       "153  -0.501755 -0.511923 -0.051763 -0.037197  8.250135 -1.065094   0.024022  \n",
       "62   -0.458934  0.353809  0.289212  0.258957 -2.096767 -5.078238  17.058996  \n",
       "144  -0.501755  0.498033  0.866910 -0.387149 -0.931106 -0.156761  -0.656388  \n",
       "\n",
       "[5 rows x 27 columns]"
      ]
     },
     "execution_count": 49,
     "metadata": {},
     "output_type": "execute_result"
    }
   ],
   "source": [
    "X_train[:5]"
   ]
  },
  {
   "cell_type": "markdown",
   "metadata": {},
   "source": [
    "# Evaluate Machine Learning Models from a List (using the reusable method defined above). Store the results (Accuracy score - train, accuracy score - test, and training time) in a List for data visualization"
   ]
  },
  {
   "cell_type": "code",
   "execution_count": 50,
   "metadata": {},
   "outputs": [
    {
     "name": "stdout",
     "output_type": "stream",
     "text": [
      "________________________________________________________________________________\n",
      "Training: \n",
      "326\n",
      "model name:Pipeline\n",
      "train time: 982236.000s\n",
      "f1_score:   0.556\n",
      "f1_score_train:   0.768\n",
      "classification report:\n",
      "             precision    recall  f1-score   support\n",
      "\n",
      "          0       1.00      0.80      0.89        41\n",
      "          1       0.38      1.00      0.56         5\n",
      "\n",
      "avg / total       0.93      0.83      0.86        46\n",
      "\n",
      "confusion matrix:\n",
      "[[33  8]\n",
      " [ 0  5]]\n",
      "================================================================================\n",
      "Ridge Classifier\n",
      "________________________________________________________________________________\n",
      "Training: \n",
      "326\n",
      "model name:RidgeClassifier\n",
      "train time: 990499.000s\n",
      "f1_score:   0.556\n",
      "f1_score_train:   0.768\n",
      "classification report:\n",
      "             precision    recall  f1-score   support\n",
      "\n",
      "          0       1.00      0.80      0.89        41\n",
      "          1       0.38      1.00      0.56         5\n",
      "\n",
      "avg / total       0.93      0.83      0.86        46\n",
      "\n",
      "confusion matrix:\n",
      "[[33  8]\n",
      " [ 0  5]]\n",
      "dimensionality: 27\n",
      "density: 1.000000\n",
      "________________________________________________________________________________\n",
      "Training: \n",
      "326\n",
      "model name:Pipeline\n",
      "train time: 991494.000s\n",
      "f1_score:   0.500\n",
      "f1_score_train:   0.967\n",
      "classification report:\n",
      "             precision    recall  f1-score   support\n",
      "\n",
      "          0       0.95      0.90      0.92        41\n",
      "          1       0.43      0.60      0.50         5\n",
      "\n",
      "avg / total       0.89      0.87      0.88        46\n",
      "\n",
      "confusion matrix:\n",
      "[[37  4]\n",
      " [ 2  3]]\n",
      "================================================================================\n",
      "Perceptron\n",
      "________________________________________________________________________________\n",
      "Training: \n",
      "326\n",
      "model name:Perceptron\n",
      "train time: 997998.000s\n",
      "f1_score:   0.500\n",
      "f1_score_train:   0.967\n",
      "classification report:\n",
      "             precision    recall  f1-score   support\n",
      "\n",
      "          0       0.95      0.90      0.92        41\n",
      "          1       0.43      0.60      0.50         5\n",
      "\n",
      "avg / total       0.89      0.87      0.88        46\n",
      "\n",
      "confusion matrix:\n",
      "[[37  4]\n",
      " [ 2  3]]\n",
      "dimensionality: 27\n",
      "density: 1.000000\n",
      "________________________________________________________________________________\n",
      "Training: \n",
      "326\n",
      "model name:Pipeline\n",
      "train time: 993000.000s\n",
      "f1_score:   0.600\n",
      "f1_score_train:   0.951\n",
      "classification report:\n",
      "             precision    recall  f1-score   support\n",
      "\n",
      "          0       0.95      0.95      0.95        41\n",
      "          1       0.60      0.60      0.60         5\n",
      "\n",
      "avg / total       0.91      0.91      0.91        46\n",
      "\n",
      "confusion matrix:\n",
      "[[39  2]\n",
      " [ 2  3]]\n",
      "================================================================================\n",
      "Passive-Aggressive\n",
      "________________________________________________________________________________\n",
      "Training: \n",
      "326\n",
      "model name:PassiveAggressiveClassifier\n",
      "train time: 995491.000s\n",
      "f1_score:   0.600\n",
      "f1_score_train:   0.985\n",
      "classification report:\n",
      "             precision    recall  f1-score   support\n",
      "\n",
      "          0       0.95      0.95      0.95        41\n",
      "          1       0.60      0.60      0.60         5\n",
      "\n",
      "avg / total       0.91      0.91      0.91        46\n",
      "\n",
      "confusion matrix:\n",
      "[[39  2]\n",
      " [ 2  3]]\n",
      "dimensionality: 27\n",
      "density: 1.000000\n",
      "________________________________________________________________________________\n",
      "Training: \n",
      "326\n",
      "model name:Pipeline\n",
      "train time: 992199.000s\n",
      "f1_score:   0.833\n",
      "f1_score_train:   0.956\n",
      "classification report:\n",
      "             precision    recall  f1-score   support\n",
      "\n",
      "          0       1.00      0.95      0.97        41\n",
      "          1       0.71      1.00      0.83         5\n",
      "\n",
      "avg / total       0.97      0.96      0.96        46\n",
      "\n",
      "confusion matrix:\n",
      "[[39  2]\n",
      " [ 0  5]]\n",
      "================================================================================\n",
      "kNN\n",
      "________________________________________________________________________________\n",
      "Training: \n",
      "326\n",
      "model name:KNeighborsClassifier\n",
      "train time: 998025.000s\n",
      "f1_score:   0.833\n",
      "f1_score_train:   0.956\n",
      "classification report:\n",
      "             precision    recall  f1-score   support\n",
      "\n",
      "          0       1.00      0.95      0.97        41\n",
      "          1       0.71      1.00      0.83         5\n",
      "\n",
      "avg / total       0.97      0.96      0.96        46\n",
      "\n",
      "confusion matrix:\n",
      "[[39  2]\n",
      " [ 0  5]]\n",
      "________________________________________________________________________________\n",
      "Training: \n",
      "326\n",
      "model name:Pipeline\n",
      "train time: 650996.000s\n",
      "f1_score:   0.889\n",
      "f1_score_train:   1.000\n",
      "classification report:\n",
      "             precision    recall  f1-score   support\n",
      "\n",
      "          0       0.98      1.00      0.99        41\n",
      "          1       1.00      0.80      0.89         5\n",
      "\n",
      "avg / total       0.98      0.98      0.98        46\n",
      "\n",
      "confusion matrix:\n",
      "[[41  0]\n",
      " [ 1  4]]\n",
      "================================================================================\n",
      "Random forest\n",
      "________________________________________________________________________________\n",
      "Training: \n",
      "326\n",
      "model name:RandomForestClassifier\n",
      "train time: 649058.000s\n",
      "f1_score:   1.000\n",
      "f1_score_train:   1.000\n",
      "classification report:\n",
      "             precision    recall  f1-score   support\n",
      "\n",
      "          0       1.00      1.00      1.00        41\n",
      "          1       1.00      1.00      1.00         5\n",
      "\n",
      "avg / total       1.00      1.00      1.00        46\n",
      "\n",
      "confusion matrix:\n",
      "[[41  0]\n",
      " [ 0  5]]\n",
      "================================================================================\n",
      "L2 penalty\n",
      "________________________________________________________________________________\n",
      "Training: \n",
      "326\n",
      "model name:LinearSVC\n",
      "train time: 919850.000s\n",
      "f1_score:   0.750\n",
      "f1_score_train:   0.991\n",
      "classification report:\n",
      "             precision    recall  f1-score   support\n",
      "\n",
      "          0       0.95      1.00      0.98        41\n",
      "          1       1.00      0.60      0.75         5\n",
      "\n",
      "avg / total       0.96      0.96      0.95        46\n",
      "\n",
      "confusion matrix:\n",
      "[[41  0]\n",
      " [ 2  3]]\n",
      "dimensionality: 27\n",
      "density: 1.000000\n",
      "________________________________________________________________________________\n",
      "Training: \n",
      "326\n",
      "model name:SGDClassifier\n",
      "train time: 998001.000s\n",
      "f1_score:   0.545\n",
      "f1_score_train:   0.919\n",
      "classification report:\n",
      "             precision    recall  f1-score   support\n",
      "\n",
      "          0       0.95      0.93      0.94        41\n",
      "          1       0.50      0.60      0.55         5\n",
      "\n",
      "avg / total       0.90      0.89      0.90        46\n",
      "\n",
      "confusion matrix:\n",
      "[[38  3]\n",
      " [ 2  3]]\n",
      "dimensionality: 27\n",
      "density: 1.000000\n",
      "================================================================================\n",
      "L1 penalty\n",
      "________________________________________________________________________________\n",
      "Training: \n",
      "326\n",
      "model name:LinearSVC\n",
      "train time: 921866.000s\n",
      "f1_score:   0.800\n",
      "f1_score_train:   0.994\n",
      "classification report:\n",
      "             precision    recall  f1-score   support\n",
      "\n",
      "          0       0.98      0.98      0.98        41\n",
      "          1       0.80      0.80      0.80         5\n",
      "\n",
      "avg / total       0.96      0.96      0.96        46\n",
      "\n",
      "confusion matrix:\n",
      "[[40  1]\n",
      " [ 1  4]]\n",
      "dimensionality: 27\n",
      "density: 0.888889\n",
      "________________________________________________________________________________\n",
      "Training: \n",
      "326\n",
      "model name:SGDClassifier\n",
      "train time: 0.000s\n",
      "f1_score:   0.600\n",
      "f1_score_train:   0.991\n",
      "classification report:\n",
      "             precision    recall  f1-score   support\n",
      "\n",
      "          0       0.95      0.95      0.95        41\n",
      "          1       0.60      0.60      0.60         5\n",
      "\n",
      "avg / total       0.91      0.91      0.91        46\n",
      "\n",
      "confusion matrix:\n",
      "[[39  2]\n",
      " [ 2  3]]\n",
      "dimensionality: 27\n",
      "density: 1.000000\n",
      "================================================================================\n",
      "Elastic-Net penalty\n",
      "________________________________________________________________________________\n",
      "Training: \n",
      "326\n",
      "model name:SGDClassifier\n",
      "train time: 984340.000s\n",
      "f1_score:   0.571\n",
      "f1_score_train:   0.905\n",
      "classification report:\n",
      "             precision    recall  f1-score   support\n",
      "\n",
      "          0       0.97      0.88      0.92        41\n",
      "          1       0.44      0.80      0.57         5\n",
      "\n",
      "avg / total       0.92      0.87      0.88        46\n",
      "\n",
      "confusion matrix:\n",
      "[[36  5]\n",
      " [ 1  4]]\n",
      "dimensionality: 27\n",
      "density: 0.962963\n",
      "================================================================================\n",
      "NearestCentroid (aka Rocchio classifier)\n",
      "________________________________________________________________________________\n",
      "Training: \n",
      "326\n",
      "model name:NearestCentroid\n",
      "train time: 0.000s\n",
      "f1_score:   0.333\n",
      "f1_score_train:   0.601\n",
      "classification report:\n",
      "             precision    recall  f1-score   support\n",
      "\n",
      "          0       0.91      1.00      0.95        41\n",
      "          1       1.00      0.20      0.33         5\n",
      "\n",
      "avg / total       0.92      0.91      0.89        46\n",
      "\n",
      "confusion matrix:\n",
      "[[41  0]\n",
      " [ 4  1]]\n"
     ]
    }
   ],
   "source": [
    "\n",
    "selector = SelectKBest(f_classif, k='all')\n",
    "results = []\n",
    "model_name = []\n",
    "\n",
    "for clf, name in (\n",
    "        (RidgeClassifier(tol=1e-2, solver=\"lsqr\"), \"Ridge Classifier\"),\n",
    "        (Perceptron(n_iter=50), \"Perceptron\"),\n",
    "        (PassiveAggressiveClassifier(n_iter=50), \"Passive-Aggressive\"),\n",
    "        (KNeighborsClassifier(n_neighbors=5), \"kNN\"),\n",
    "        (RandomForestClassifier(n_estimators=100), \"Random forest\")):\n",
    "    selector_clf = benchmark(Pipeline([('selector', selector),('classifier', clf)]))\n",
    "    print('=' * 80)\n",
    "    print(name)\n",
    "    results.append(benchmark(clf))\n",
    "    model_name.append(name)\n",
    "    #model.append(clf)\n",
    "    \n",
    "for penalty in [\"l2\", \"l1\"]:\n",
    "    print('=' * 80)\n",
    "    print(\"%s penalty\" % penalty.upper())\n",
    "    # Train Liblinear model\n",
    "    results.append(benchmark(LinearSVC(loss='l2', penalty=penalty,dual=False, tol=1e-3)))\n",
    "    model_name.append(\"LinearSVC\"+\" \"+penalty)\n",
    "\n",
    "    # Train SGD model\n",
    "    results.append(benchmark(SGDClassifier(alpha=.0001, n_iter=50,penalty=penalty)))\n",
    "    model_name.append(\"SGDClassifier\"+\" \"+penalty)\n",
    "\n",
    "\n",
    "# Train SGD with Elastic Net penalty\n",
    "print('=' * 80)\n",
    "print(\"Elastic-Net penalty\")\n",
    "results.append(benchmark(SGDClassifier(alpha=.0001, n_iter=50,penalty=\"elasticnet\")))\n",
    "model_name.append(\"SGD with Elastic Net penalty\")\n",
    "\n",
    "\n",
    "# Train NearestCentroid without threshold\n",
    "print('=' * 80)\n",
    "print(\"NearestCentroid (aka Rocchio classifier)\")\n",
    "results.append(benchmark(NearestCentroid()))\n",
    "model_name.append(\"NearestCentroid (aka Rocchio classifier)\")\n"
   ]
  },
  {
   "cell_type": "markdown",
   "metadata": {},
   "source": [
    "# Define Neural Network model"
   ]
  },
  {
   "cell_type": "code",
   "execution_count": 51,
   "metadata": {
    "collapsed": true
   },
   "outputs": [],
   "source": [
    "def mlp_model(layers, units, dropout_rate, input_shape):\n",
    "    \"\"\"Creates an instance of a multi-layer perceptron model.\n",
    "\n",
    "    # Arguments\n",
    "        layers: int, number of `Dense` layers in the model.\n",
    "        units: int, output dimension of the layers.\n",
    "        dropout_rate: float, percentage of input to drop at Dropout layers.\n",
    "        input_shape: tuple, shape of input to the model.\n",
    "\n",
    "    # Returns\n",
    "        An MLP model instance.\n",
    "    \"\"\"\n",
    "    model = models.Sequential()\n",
    "    model.add(Dropout(rate=dropout_rate, input_shape=input_shape))\n",
    "\n",
    "    for _ in range(layers-1):\n",
    "        model.add(Dense(units=units, activation='relu'))\n",
    "        model.add(Dropout(rate=dropout_rate))\n",
    "\n",
    "    model.add(Dense(units=1, activation='sigmoid'))\n",
    "    return model"
   ]
  },
  {
   "cell_type": "markdown",
   "metadata": {},
   "source": [
    "# Compile Model"
   ]
  },
  {
   "cell_type": "code",
   "execution_count": 52,
   "metadata": {},
   "outputs": [
    {
     "name": "stderr",
     "output_type": "stream",
     "text": [
      "WARNING: Logging before flag parsing goes to stderr.\n",
      "W0828 06:00:56.787626 11088 deprecation.py:506] From C:\\Users\\09263248\\AppData\\Roaming\\Python\\Python36\\site-packages\\tensorflow\\python\\ops\\init_ops.py:1251: calling VarianceScaling.__init__ (from tensorflow.python.ops.init_ops) with dtype is deprecated and will be removed in a future version.\n",
      "Instructions for updating:\n",
      "Call initializer instance with the dtype argument instead of passing it to the constructor\n",
      "W0828 06:00:57.025050 11088 deprecation.py:323] From C:\\Users\\09263248\\AppData\\Roaming\\Python\\Python36\\site-packages\\tensorflow\\python\\ops\\nn_impl.py:180: add_dispatch_support.<locals>.wrapper (from tensorflow.python.ops.array_ops) is deprecated and will be removed in a future version.\n",
      "Instructions for updating:\n",
      "Use tf.where in 2.0, which has the same broadcast rule as np.where\n"
     ]
    },
    {
     "name": "stdout",
     "output_type": "stream",
     "text": [
      "Model: \"sequential\"\n",
      "_________________________________________________________________\n",
      "Layer (type)                 Output Shape              Param #   \n",
      "=================================================================\n",
      "dropout (Dropout)            (None, 27)                0         \n",
      "_________________________________________________________________\n",
      "dense (Dense)                (None, 64)                1792      \n",
      "_________________________________________________________________\n",
      "dropout_1 (Dropout)          (None, 64)                0         \n",
      "_________________________________________________________________\n",
      "dense_1 (Dense)              (None, 1)                 65        \n",
      "=================================================================\n",
      "Total params: 1,857\n",
      "Trainable params: 1,857\n",
      "Non-trainable params: 0\n",
      "_________________________________________________________________\n"
     ]
    }
   ],
   "source": [
    "learning_rate=1e-3\n",
    "epochs=100\n",
    "batch_size=128\n",
    "layers=2\n",
    "units=64\n",
    "dropout_rate=0.2\n",
    "model = mlp_model(layers=layers,units=units,dropout_rate=dropout_rate,input_shape=X_train.shape[1:])\n",
    "optimizer = tf.keras.optimizers.Adam(lr=learning_rate)\n",
    "model.compile(optimizer=optimizer, loss='binary_crossentropy', metrics=['acc'])\n",
    "callbacks = [tf.keras.callbacks.EarlyStopping(monitor='val_loss', patience=3)]\n",
    "model.summary()"
   ]
  },
  {
   "cell_type": "markdown",
   "metadata": {},
   "source": [
    "# Train model and store results in array"
   ]
  },
  {
   "cell_type": "code",
   "execution_count": 53,
   "metadata": {},
   "outputs": [
    {
     "name": "stdout",
     "output_type": "stream",
     "text": [
      "================================================================================\n",
      "Keras Dense Neural Network\n",
      "________________________________________________________________________________\n",
      "Training: \n",
      "326\n",
      "model name:<tensorflow.python.keras.engine.sequential.Sequential object at 0x000001A8401A99B0>\n",
      "Train on 326 samples, validate on 46 samples\n",
      "Epoch 1/100\n",
      "326/326 - 0s - loss: 1.4179 - acc: 0.5245 - val_loss: 1.8084 - val_acc: 0.3478\n",
      "Epoch 2/100\n",
      "326/326 - 0s - loss: 1.1811 - acc: 0.5644 - val_loss: 1.6191 - val_acc: 0.3478\n",
      "Epoch 3/100\n",
      "326/326 - 0s - loss: 0.9673 - acc: 0.6135 - val_loss: 1.4402 - val_acc: 0.3696\n",
      "Epoch 4/100\n",
      "326/326 - 0s - loss: 0.9842 - acc: 0.6012 - val_loss: 1.2700 - val_acc: 0.4130\n",
      "Epoch 5/100\n",
      "326/326 - 0s - loss: 0.9281 - acc: 0.6288 - val_loss: 1.1182 - val_acc: 0.5000\n",
      "Epoch 6/100\n",
      "326/326 - 0s - loss: 0.7991 - acc: 0.6319 - val_loss: 0.9876 - val_acc: 0.5435\n",
      "Epoch 7/100\n",
      "326/326 - 0s - loss: 0.7095 - acc: 0.6503 - val_loss: 0.8745 - val_acc: 0.6304\n",
      "Epoch 8/100\n",
      "326/326 - 0s - loss: 0.6639 - acc: 0.6748 - val_loss: 0.7776 - val_acc: 0.6522\n",
      "Epoch 9/100\n",
      "326/326 - 0s - loss: 0.5825 - acc: 0.7055 - val_loss: 0.6995 - val_acc: 0.8261\n",
      "Epoch 10/100\n",
      "326/326 - 0s - loss: 0.7081 - acc: 0.7209 - val_loss: 0.6345 - val_acc: 0.8478\n",
      "Epoch 11/100\n",
      "326/326 - 0s - loss: 0.5450 - acc: 0.7546 - val_loss: 0.5728 - val_acc: 0.9130\n",
      "Epoch 12/100\n",
      "326/326 - 0s - loss: 0.5060 - acc: 0.7577 - val_loss: 0.5178 - val_acc: 0.9348\n",
      "Epoch 13/100\n",
      "326/326 - 0s - loss: 0.4792 - acc: 0.8006 - val_loss: 0.4681 - val_acc: 0.9348\n",
      "Epoch 14/100\n",
      "326/326 - 0s - loss: 0.5308 - acc: 0.7485 - val_loss: 0.4235 - val_acc: 0.9348\n",
      "Epoch 15/100\n",
      "326/326 - 0s - loss: 0.3913 - acc: 0.8098 - val_loss: 0.3937 - val_acc: 0.9565\n",
      "Epoch 16/100\n",
      "326/326 - 0s - loss: 0.4244 - acc: 0.7791 - val_loss: 0.3732 - val_acc: 0.9565\n",
      "Epoch 17/100\n",
      "326/326 - 0s - loss: 0.4533 - acc: 0.7822 - val_loss: 0.3549 - val_acc: 0.9565\n",
      "Epoch 18/100\n",
      "326/326 - 0s - loss: 0.5034 - acc: 0.7607 - val_loss: 0.3387 - val_acc: 0.9565\n",
      "Epoch 19/100\n",
      "326/326 - 0s - loss: 0.3635 - acc: 0.8221 - val_loss: 0.3263 - val_acc: 0.9565\n",
      "Epoch 20/100\n",
      "326/326 - 0s - loss: 0.3779 - acc: 0.8129 - val_loss: 0.3138 - val_acc: 0.9565\n",
      "Epoch 21/100\n",
      "326/326 - 0s - loss: 0.4171 - acc: 0.7914 - val_loss: 0.3020 - val_acc: 0.9565\n",
      "Epoch 22/100\n",
      "326/326 - 0s - loss: 0.3938 - acc: 0.8221 - val_loss: 0.2931 - val_acc: 0.9565\n",
      "Epoch 23/100\n",
      "326/326 - 0s - loss: 0.3779 - acc: 0.8098 - val_loss: 0.2843 - val_acc: 0.9565\n",
      "Epoch 24/100\n",
      "326/326 - 0s - loss: 0.3439 - acc: 0.8252 - val_loss: 0.2753 - val_acc: 0.9565\n",
      "Epoch 25/100\n",
      "326/326 - 0s - loss: 0.3112 - acc: 0.8558 - val_loss: 0.2674 - val_acc: 0.9565\n",
      "Epoch 26/100\n",
      "326/326 - 0s - loss: 0.3223 - acc: 0.8405 - val_loss: 0.2613 - val_acc: 0.9565\n",
      "Epoch 27/100\n",
      "326/326 - 0s - loss: 0.3675 - acc: 0.8221 - val_loss: 0.2548 - val_acc: 0.9565\n",
      "Epoch 28/100\n",
      "326/326 - 0s - loss: 0.3406 - acc: 0.8313 - val_loss: 0.2491 - val_acc: 0.9565\n",
      "Epoch 29/100\n",
      "326/326 - 0s - loss: 0.3245 - acc: 0.8405 - val_loss: 0.2445 - val_acc: 0.9565\n",
      "Epoch 30/100\n",
      "326/326 - 0s - loss: 0.3719 - acc: 0.8282 - val_loss: 0.2372 - val_acc: 0.9565\n",
      "Epoch 31/100\n",
      "326/326 - 0s - loss: 0.3225 - acc: 0.8681 - val_loss: 0.2317 - val_acc: 0.9565\n",
      "Epoch 32/100\n",
      "326/326 - 0s - loss: 0.3041 - acc: 0.8589 - val_loss: 0.2265 - val_acc: 0.9565\n",
      "Epoch 33/100\n",
      "326/326 - 0s - loss: 0.3042 - acc: 0.8773 - val_loss: 0.2215 - val_acc: 0.9565\n",
      "Epoch 34/100\n",
      "326/326 - 0s - loss: 0.3059 - acc: 0.8558 - val_loss: 0.2165 - val_acc: 0.9565\n",
      "Epoch 35/100\n",
      "326/326 - 0s - loss: 0.3020 - acc: 0.8865 - val_loss: 0.2129 - val_acc: 0.9565\n",
      "Epoch 36/100\n",
      "326/326 - 0s - loss: 0.3220 - acc: 0.8528 - val_loss: 0.2095 - val_acc: 0.9565\n",
      "Epoch 37/100\n",
      "326/326 - 0s - loss: 0.3289 - acc: 0.8528 - val_loss: 0.2055 - val_acc: 0.9783\n",
      "Epoch 38/100\n",
      "326/326 - 0s - loss: 0.3084 - acc: 0.8620 - val_loss: 0.2012 - val_acc: 0.9783\n",
      "Epoch 39/100\n",
      "326/326 - 0s - loss: 0.2843 - acc: 0.8742 - val_loss: 0.1978 - val_acc: 1.0000\n",
      "Epoch 40/100\n",
      "326/326 - 0s - loss: 0.2739 - acc: 0.8896 - val_loss: 0.1930 - val_acc: 1.0000\n",
      "Epoch 41/100\n",
      "326/326 - 0s - loss: 0.3192 - acc: 0.8466 - val_loss: 0.1902 - val_acc: 1.0000\n",
      "Epoch 42/100\n",
      "326/326 - 0s - loss: 0.2808 - acc: 0.8650 - val_loss: 0.1871 - val_acc: 1.0000\n",
      "Epoch 43/100\n",
      "326/326 - 0s - loss: 0.3061 - acc: 0.8528 - val_loss: 0.1840 - val_acc: 1.0000\n",
      "Epoch 44/100\n",
      "326/326 - 0s - loss: 0.2745 - acc: 0.8681 - val_loss: 0.1808 - val_acc: 1.0000\n",
      "Epoch 45/100\n",
      "326/326 - 0s - loss: 0.2959 - acc: 0.8773 - val_loss: 0.1779 - val_acc: 1.0000\n",
      "Epoch 46/100\n",
      "326/326 - 0s - loss: 0.3514 - acc: 0.8374 - val_loss: 0.1750 - val_acc: 1.0000\n",
      "Epoch 47/100\n",
      "326/326 - 0s - loss: 0.2673 - acc: 0.8804 - val_loss: 0.1722 - val_acc: 1.0000\n",
      "Epoch 48/100\n",
      "326/326 - 0s - loss: 0.2900 - acc: 0.8558 - val_loss: 0.1696 - val_acc: 1.0000\n",
      "Epoch 49/100\n",
      "326/326 - 0s - loss: 0.2564 - acc: 0.8589 - val_loss: 0.1662 - val_acc: 1.0000\n",
      "Epoch 50/100\n",
      "326/326 - 0s - loss: 0.2898 - acc: 0.8374 - val_loss: 0.1625 - val_acc: 1.0000\n",
      "Epoch 51/100\n",
      "326/326 - 0s - loss: 0.2814 - acc: 0.8804 - val_loss: 0.1589 - val_acc: 1.0000\n",
      "Epoch 52/100\n",
      "326/326 - 0s - loss: 0.2725 - acc: 0.8742 - val_loss: 0.1567 - val_acc: 1.0000\n",
      "Epoch 53/100\n",
      "326/326 - 0s - loss: 0.2614 - acc: 0.8804 - val_loss: 0.1550 - val_acc: 1.0000\n",
      "Epoch 54/100\n",
      "326/326 - 0s - loss: 0.2390 - acc: 0.9110 - val_loss: 0.1534 - val_acc: 1.0000\n",
      "Epoch 55/100\n",
      "326/326 - 0s - loss: 0.2788 - acc: 0.8773 - val_loss: 0.1512 - val_acc: 1.0000\n",
      "Epoch 56/100\n",
      "326/326 - 0s - loss: 0.3059 - acc: 0.8528 - val_loss: 0.1488 - val_acc: 1.0000\n",
      "Epoch 57/100\n",
      "326/326 - 0s - loss: 0.2688 - acc: 0.8896 - val_loss: 0.1466 - val_acc: 1.0000\n",
      "Epoch 58/100\n",
      "326/326 - 0s - loss: 0.2500 - acc: 0.8742 - val_loss: 0.1450 - val_acc: 1.0000\n",
      "Epoch 59/100\n",
      "326/326 - 0s - loss: 0.2801 - acc: 0.8712 - val_loss: 0.1426 - val_acc: 1.0000\n",
      "Epoch 60/100\n",
      "326/326 - 0s - loss: 0.2491 - acc: 0.8865 - val_loss: 0.1408 - val_acc: 1.0000\n",
      "Epoch 61/100\n",
      "326/326 - 0s - loss: 0.2841 - acc: 0.8620 - val_loss: 0.1402 - val_acc: 1.0000\n",
      "Epoch 62/100\n",
      "326/326 - 0s - loss: 0.2671 - acc: 0.8620 - val_loss: 0.1392 - val_acc: 1.0000\n",
      "Epoch 63/100\n",
      "326/326 - 0s - loss: 0.2742 - acc: 0.8650 - val_loss: 0.1377 - val_acc: 1.0000\n",
      "Epoch 64/100\n",
      "326/326 - 0s - loss: 0.2657 - acc: 0.8957 - val_loss: 0.1364 - val_acc: 1.0000\n",
      "Epoch 65/100\n",
      "326/326 - 0s - loss: 0.2464 - acc: 0.8773 - val_loss: 0.1349 - val_acc: 1.0000\n",
      "Epoch 66/100\n",
      "326/326 - 0s - loss: 0.2946 - acc: 0.8742 - val_loss: 0.1333 - val_acc: 1.0000\n",
      "Epoch 67/100\n",
      "326/326 - 0s - loss: 0.2526 - acc: 0.8865 - val_loss: 0.1330 - val_acc: 1.0000\n",
      "Epoch 68/100\n",
      "326/326 - 0s - loss: 0.2384 - acc: 0.8988 - val_loss: 0.1325 - val_acc: 1.0000\n",
      "Epoch 69/100\n",
      "326/326 - 0s - loss: 0.2835 - acc: 0.8865 - val_loss: 0.1325 - val_acc: 1.0000\n",
      "Epoch 70/100\n",
      "326/326 - 0s - loss: 0.2573 - acc: 0.8773 - val_loss: 0.1324 - val_acc: 1.0000\n",
      "Epoch 71/100\n",
      "326/326 - 0s - loss: 0.2332 - acc: 0.9141 - val_loss: 0.1330 - val_acc: 1.0000\n",
      "Epoch 72/100\n",
      "326/326 - 0s - loss: 0.2538 - acc: 0.8896 - val_loss: 0.1331 - val_acc: 1.0000\n",
      "Epoch 73/100\n",
      "326/326 - 0s - loss: 0.2544 - acc: 0.8926 - val_loss: 0.1341 - val_acc: 1.0000\n",
      "train time: 370470.000s\n",
      "f1_score:   0.556\n",
      "f1_score_train:   0.891\n",
      "classification report:\n",
      "             precision    recall  f1-score   support\n",
      "\n",
      "          0       1.00      0.80      0.89        41\n",
      "          1       0.38      1.00      0.56         5\n",
      "\n",
      "avg / total       0.93      0.83      0.86        46\n",
      "\n",
      "confusion matrix:\n",
      "[[33  8]\n",
      " [ 0  5]]\n"
     ]
    }
   ],
   "source": [
    "print('=' * 80)\n",
    "print(\"Keras Dense Neural Network\")\n",
    "results.append(benchmark(model))\n",
    "model_name.append(\"Keras Dense Neural Network\")"
   ]
  },
  {
   "cell_type": "markdown",
   "metadata": {},
   "source": [
    "# Visualize the results from multiple Machine Learning Models (accuracy - train, accuracy - test, training time)"
   ]
  },
  {
   "cell_type": "code",
   "execution_count": 54,
   "metadata": {},
   "outputs": [
    {
     "data": {
      "image/png": "[encoded data removed]",
      "text/plain": [
       "<matplotlib.figure.Figure at 0x1a84339ff98>"
      ]
     },
     "metadata": {},
     "output_type": "display_data"
    }
   ],
   "source": [
    "indices = np.arange(len(results))\n",
    "\n",
    "results = [[x[i] for x in results] for i in range(4)]\n",
    "\n",
    "clf_names, f1_score_train, f1_score_test, training_time = results\n",
    "\n",
    "training_time = np.array(training_time) / np.max(training_time)\n",
    "\n",
    "plt.figure(figsize=(12, 8))\n",
    "plt.title(\"Score\")\n",
    "plt.barh(indices, f1_score_train, .2, label=\"f1_score_train\", color='r')\n",
    "plt.barh(indices+0.3, f1_score_test, .2, label=\"f1_score_test\", color='b')\n",
    "plt.barh(indices + .6, training_time, .2, label=\"training time\", color='g')\n",
    "plt.yticks(())\n",
    "plt.legend(loc='best')\n",
    "plt.subplots_adjust(left=.25)\n",
    "plt.subplots_adjust(top=.95)\n",
    "plt.subplots_adjust(bottom=.05)\n",
    "\n",
    "for i, c in zip(indices, model_name):\n",
    "    plt.text(-.3, i, c)\n",
    "\n",
    "plt.show()"
   ]
  },
  {
   "cell_type": "markdown",
   "metadata": {},
   "source": [
    "# The above results show the Precision and Accuracy of the 'Yes' cases is maximum with RandomForestClassifier , after taking 3 components in PCA, with StandardScaler."
   ]
  }
 ],
 "metadata": {
  "kernelspec": {
   "display_name": "Python 3",
   "language": "python",
   "name": "python3"
  },
  "language_info": {
   "codemirror_mode": {
    "name": "ipython",
    "version": 3
   },
   "file_extension": ".py",
   "mimetype": "text/x-python",
   "name": "python",
   "nbconvert_exporter": "python",
   "pygments_lexer": "ipython3",
   "version": "3.7.0"
  }
 },
 "nbformat": 4,
 "nbformat_minor": 2
}
